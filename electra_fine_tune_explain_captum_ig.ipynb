{
  "nbformat": 4,
  "nbformat_minor": 0,
  "metadata": {
    "accelerator": "GPU",
    "colab": {
      "name": "electra_fine_tune_explain_captum_ig.ipynb",
      "provenance": [],
      "collapsed_sections": [],
      "toc_visible": true
    },
    "kernelspec": {
      "display_name": "Python 3",
      "name": "python3"
    },
    "widgets": {
      "application/vnd.jupyter.widget-state+json": {
        "2074d21891c4426a982d3937aabaf5df": {
          "model_module": "@jupyter-widgets/controls",
          "model_name": "HBoxModel",
          "state": {
            "_view_name": "HBoxView",
            "_dom_classes": [],
            "_model_name": "HBoxModel",
            "_view_module": "@jupyter-widgets/controls",
            "_model_module_version": "1.5.0",
            "_view_count": null,
            "_view_module_version": "1.5.0",
            "box_style": "",
            "layout": "IPY_MODEL_8b2567dea3a04df7b20686b990d2dce5",
            "_model_module": "@jupyter-widgets/controls",
            "children": [
              "IPY_MODEL_add05a22bc0243ebb0a878324fa5bd61",
              "IPY_MODEL_0ab47429ed0d4adea1b143c600670baf"
            ]
          }
        },
        "8b2567dea3a04df7b20686b990d2dce5": {
          "model_module": "@jupyter-widgets/base",
          "model_name": "LayoutModel",
          "state": {
            "_view_name": "LayoutView",
            "grid_template_rows": null,
            "right": null,
            "justify_content": null,
            "_view_module": "@jupyter-widgets/base",
            "overflow": null,
            "_model_module_version": "1.2.0",
            "_view_count": null,
            "flex_flow": null,
            "width": null,
            "min_width": null,
            "border": null,
            "align_items": null,
            "bottom": null,
            "_model_module": "@jupyter-widgets/base",
            "top": null,
            "grid_column": null,
            "overflow_y": null,
            "overflow_x": null,
            "grid_auto_flow": null,
            "grid_area": null,
            "grid_template_columns": null,
            "flex": null,
            "_model_name": "LayoutModel",
            "justify_items": null,
            "grid_row": null,
            "max_height": null,
            "align_content": null,
            "visibility": null,
            "align_self": null,
            "height": null,
            "min_height": null,
            "padding": null,
            "grid_auto_rows": null,
            "grid_gap": null,
            "max_width": null,
            "order": null,
            "_view_module_version": "1.2.0",
            "grid_template_areas": null,
            "object_position": null,
            "object_fit": null,
            "grid_auto_columns": null,
            "margin": null,
            "display": null,
            "left": null
          }
        },
        "add05a22bc0243ebb0a878324fa5bd61": {
          "model_module": "@jupyter-widgets/controls",
          "model_name": "FloatProgressModel",
          "state": {
            "_view_name": "ProgressView",
            "style": "IPY_MODEL_fee1ff4396ed4d1fbcb1e9f51d64e80c",
            "_dom_classes": [],
            "description": "Downloading: 100%",
            "_model_name": "FloatProgressModel",
            "bar_style": "success",
            "max": 466,
            "_view_module": "@jupyter-widgets/controls",
            "_model_module_version": "1.5.0",
            "value": 466,
            "_view_count": null,
            "_view_module_version": "1.5.0",
            "orientation": "horizontal",
            "min": 0,
            "description_tooltip": null,
            "_model_module": "@jupyter-widgets/controls",
            "layout": "IPY_MODEL_72af983233124f3f98b4cd063aa1c57e"
          }
        },
        "0ab47429ed0d4adea1b143c600670baf": {
          "model_module": "@jupyter-widgets/controls",
          "model_name": "HTMLModel",
          "state": {
            "_view_name": "HTMLView",
            "style": "IPY_MODEL_fb7f3703318c47c4935a4bbefe5dc512",
            "_dom_classes": [],
            "description": "",
            "_model_name": "HTMLModel",
            "placeholder": "​",
            "_view_module": "@jupyter-widgets/controls",
            "_model_module_version": "1.5.0",
            "value": " 466/466 [00:01&lt;00:00, 320B/s]",
            "_view_count": null,
            "_view_module_version": "1.5.0",
            "description_tooltip": null,
            "_model_module": "@jupyter-widgets/controls",
            "layout": "IPY_MODEL_3785a0e6b64b44b38b8745695f67b109"
          }
        },
        "fee1ff4396ed4d1fbcb1e9f51d64e80c": {
          "model_module": "@jupyter-widgets/controls",
          "model_name": "ProgressStyleModel",
          "state": {
            "_view_name": "StyleView",
            "_model_name": "ProgressStyleModel",
            "description_width": "initial",
            "_view_module": "@jupyter-widgets/base",
            "_model_module_version": "1.5.0",
            "_view_count": null,
            "_view_module_version": "1.2.0",
            "bar_color": null,
            "_model_module": "@jupyter-widgets/controls"
          }
        },
        "72af983233124f3f98b4cd063aa1c57e": {
          "model_module": "@jupyter-widgets/base",
          "model_name": "LayoutModel",
          "state": {
            "_view_name": "LayoutView",
            "grid_template_rows": null,
            "right": null,
            "justify_content": null,
            "_view_module": "@jupyter-widgets/base",
            "overflow": null,
            "_model_module_version": "1.2.0",
            "_view_count": null,
            "flex_flow": null,
            "width": null,
            "min_width": null,
            "border": null,
            "align_items": null,
            "bottom": null,
            "_model_module": "@jupyter-widgets/base",
            "top": null,
            "grid_column": null,
            "overflow_y": null,
            "overflow_x": null,
            "grid_auto_flow": null,
            "grid_area": null,
            "grid_template_columns": null,
            "flex": null,
            "_model_name": "LayoutModel",
            "justify_items": null,
            "grid_row": null,
            "max_height": null,
            "align_content": null,
            "visibility": null,
            "align_self": null,
            "height": null,
            "min_height": null,
            "padding": null,
            "grid_auto_rows": null,
            "grid_gap": null,
            "max_width": null,
            "order": null,
            "_view_module_version": "1.2.0",
            "grid_template_areas": null,
            "object_position": null,
            "object_fit": null,
            "grid_auto_columns": null,
            "margin": null,
            "display": null,
            "left": null
          }
        },
        "fb7f3703318c47c4935a4bbefe5dc512": {
          "model_module": "@jupyter-widgets/controls",
          "model_name": "DescriptionStyleModel",
          "state": {
            "_view_name": "StyleView",
            "_model_name": "DescriptionStyleModel",
            "description_width": "",
            "_view_module": "@jupyter-widgets/base",
            "_model_module_version": "1.5.0",
            "_view_count": null,
            "_view_module_version": "1.2.0",
            "_model_module": "@jupyter-widgets/controls"
          }
        },
        "3785a0e6b64b44b38b8745695f67b109": {
          "model_module": "@jupyter-widgets/base",
          "model_name": "LayoutModel",
          "state": {
            "_view_name": "LayoutView",
            "grid_template_rows": null,
            "right": null,
            "justify_content": null,
            "_view_module": "@jupyter-widgets/base",
            "overflow": null,
            "_model_module_version": "1.2.0",
            "_view_count": null,
            "flex_flow": null,
            "width": null,
            "min_width": null,
            "border": null,
            "align_items": null,
            "bottom": null,
            "_model_module": "@jupyter-widgets/base",
            "top": null,
            "grid_column": null,
            "overflow_y": null,
            "overflow_x": null,
            "grid_auto_flow": null,
            "grid_area": null,
            "grid_template_columns": null,
            "flex": null,
            "_model_name": "LayoutModel",
            "justify_items": null,
            "grid_row": null,
            "max_height": null,
            "align_content": null,
            "visibility": null,
            "align_self": null,
            "height": null,
            "min_height": null,
            "padding": null,
            "grid_auto_rows": null,
            "grid_gap": null,
            "max_width": null,
            "order": null,
            "_view_module_version": "1.2.0",
            "grid_template_areas": null,
            "object_position": null,
            "object_fit": null,
            "grid_auto_columns": null,
            "margin": null,
            "display": null,
            "left": null
          }
        },
        "44863764a1254173bedf0c0e32b898a5": {
          "model_module": "@jupyter-widgets/controls",
          "model_name": "HBoxModel",
          "state": {
            "_view_name": "HBoxView",
            "_dom_classes": [],
            "_model_name": "HBoxModel",
            "_view_module": "@jupyter-widgets/controls",
            "_model_module_version": "1.5.0",
            "_view_count": null,
            "_view_module_version": "1.5.0",
            "box_style": "",
            "layout": "IPY_MODEL_ef394000332b44c182fedc2e5975255f",
            "_model_module": "@jupyter-widgets/controls",
            "children": [
              "IPY_MODEL_c196fba151c1451aabcd3e823156baaf",
              "IPY_MODEL_03e11d3a8a7f43638efd94654beddfef"
            ]
          }
        },
        "ef394000332b44c182fedc2e5975255f": {
          "model_module": "@jupyter-widgets/base",
          "model_name": "LayoutModel",
          "state": {
            "_view_name": "LayoutView",
            "grid_template_rows": null,
            "right": null,
            "justify_content": null,
            "_view_module": "@jupyter-widgets/base",
            "overflow": null,
            "_model_module_version": "1.2.0",
            "_view_count": null,
            "flex_flow": null,
            "width": null,
            "min_width": null,
            "border": null,
            "align_items": null,
            "bottom": null,
            "_model_module": "@jupyter-widgets/base",
            "top": null,
            "grid_column": null,
            "overflow_y": null,
            "overflow_x": null,
            "grid_auto_flow": null,
            "grid_area": null,
            "grid_template_columns": null,
            "flex": null,
            "_model_name": "LayoutModel",
            "justify_items": null,
            "grid_row": null,
            "max_height": null,
            "align_content": null,
            "visibility": null,
            "align_self": null,
            "height": null,
            "min_height": null,
            "padding": null,
            "grid_auto_rows": null,
            "grid_gap": null,
            "max_width": null,
            "order": null,
            "_view_module_version": "1.2.0",
            "grid_template_areas": null,
            "object_position": null,
            "object_fit": null,
            "grid_auto_columns": null,
            "margin": null,
            "display": null,
            "left": null
          }
        },
        "c196fba151c1451aabcd3e823156baaf": {
          "model_module": "@jupyter-widgets/controls",
          "model_name": "FloatProgressModel",
          "state": {
            "_view_name": "ProgressView",
            "style": "IPY_MODEL_966a8a4e0c004530ac7b50b170ae69bd",
            "_dom_classes": [],
            "description": "Downloading: 100%",
            "_model_name": "FloatProgressModel",
            "bar_style": "success",
            "max": 54245363,
            "_view_module": "@jupyter-widgets/controls",
            "_model_module_version": "1.5.0",
            "value": 54245363,
            "_view_count": null,
            "_view_module_version": "1.5.0",
            "orientation": "horizontal",
            "min": 0,
            "description_tooltip": null,
            "_model_module": "@jupyter-widgets/controls",
            "layout": "IPY_MODEL_d4d10609c5ff4eb8aff5c475668c1b2b"
          }
        },
        "03e11d3a8a7f43638efd94654beddfef": {
          "model_module": "@jupyter-widgets/controls",
          "model_name": "HTMLModel",
          "state": {
            "_view_name": "HTMLView",
            "style": "IPY_MODEL_be509fee04bb4350a0e71ee3a1a90580",
            "_dom_classes": [],
            "description": "",
            "_model_name": "HTMLModel",
            "placeholder": "​",
            "_view_module": "@jupyter-widgets/controls",
            "_model_module_version": "1.5.0",
            "value": " 54.2M/54.2M [00:01&lt;00:00, 36.7MB/s]",
            "_view_count": null,
            "_view_module_version": "1.5.0",
            "description_tooltip": null,
            "_model_module": "@jupyter-widgets/controls",
            "layout": "IPY_MODEL_6b144357a64c4d8383d1cce08a81ed0c"
          }
        },
        "966a8a4e0c004530ac7b50b170ae69bd": {
          "model_module": "@jupyter-widgets/controls",
          "model_name": "ProgressStyleModel",
          "state": {
            "_view_name": "StyleView",
            "_model_name": "ProgressStyleModel",
            "description_width": "initial",
            "_view_module": "@jupyter-widgets/base",
            "_model_module_version": "1.5.0",
            "_view_count": null,
            "_view_module_version": "1.2.0",
            "bar_color": null,
            "_model_module": "@jupyter-widgets/controls"
          }
        },
        "d4d10609c5ff4eb8aff5c475668c1b2b": {
          "model_module": "@jupyter-widgets/base",
          "model_name": "LayoutModel",
          "state": {
            "_view_name": "LayoutView",
            "grid_template_rows": null,
            "right": null,
            "justify_content": null,
            "_view_module": "@jupyter-widgets/base",
            "overflow": null,
            "_model_module_version": "1.2.0",
            "_view_count": null,
            "flex_flow": null,
            "width": null,
            "min_width": null,
            "border": null,
            "align_items": null,
            "bottom": null,
            "_model_module": "@jupyter-widgets/base",
            "top": null,
            "grid_column": null,
            "overflow_y": null,
            "overflow_x": null,
            "grid_auto_flow": null,
            "grid_area": null,
            "grid_template_columns": null,
            "flex": null,
            "_model_name": "LayoutModel",
            "justify_items": null,
            "grid_row": null,
            "max_height": null,
            "align_content": null,
            "visibility": null,
            "align_self": null,
            "height": null,
            "min_height": null,
            "padding": null,
            "grid_auto_rows": null,
            "grid_gap": null,
            "max_width": null,
            "order": null,
            "_view_module_version": "1.2.0",
            "grid_template_areas": null,
            "object_position": null,
            "object_fit": null,
            "grid_auto_columns": null,
            "margin": null,
            "display": null,
            "left": null
          }
        },
        "be509fee04bb4350a0e71ee3a1a90580": {
          "model_module": "@jupyter-widgets/controls",
          "model_name": "DescriptionStyleModel",
          "state": {
            "_view_name": "StyleView",
            "_model_name": "DescriptionStyleModel",
            "description_width": "",
            "_view_module": "@jupyter-widgets/base",
            "_model_module_version": "1.5.0",
            "_view_count": null,
            "_view_module_version": "1.2.0",
            "_model_module": "@jupyter-widgets/controls"
          }
        },
        "6b144357a64c4d8383d1cce08a81ed0c": {
          "model_module": "@jupyter-widgets/base",
          "model_name": "LayoutModel",
          "state": {
            "_view_name": "LayoutView",
            "grid_template_rows": null,
            "right": null,
            "justify_content": null,
            "_view_module": "@jupyter-widgets/base",
            "overflow": null,
            "_model_module_version": "1.2.0",
            "_view_count": null,
            "flex_flow": null,
            "width": null,
            "min_width": null,
            "border": null,
            "align_items": null,
            "bottom": null,
            "_model_module": "@jupyter-widgets/base",
            "top": null,
            "grid_column": null,
            "overflow_y": null,
            "overflow_x": null,
            "grid_auto_flow": null,
            "grid_area": null,
            "grid_template_columns": null,
            "flex": null,
            "_model_name": "LayoutModel",
            "justify_items": null,
            "grid_row": null,
            "max_height": null,
            "align_content": null,
            "visibility": null,
            "align_self": null,
            "height": null,
            "min_height": null,
            "padding": null,
            "grid_auto_rows": null,
            "grid_gap": null,
            "max_width": null,
            "order": null,
            "_view_module_version": "1.2.0",
            "grid_template_areas": null,
            "object_position": null,
            "object_fit": null,
            "grid_auto_columns": null,
            "margin": null,
            "display": null,
            "left": null
          }
        },
        "d688c7d5fa734935b23324c47ab2d4d7": {
          "model_module": "@jupyter-widgets/controls",
          "model_name": "HBoxModel",
          "state": {
            "_view_name": "HBoxView",
            "_dom_classes": [],
            "_model_name": "HBoxModel",
            "_view_module": "@jupyter-widgets/controls",
            "_model_module_version": "1.5.0",
            "_view_count": null,
            "_view_module_version": "1.5.0",
            "box_style": "",
            "layout": "IPY_MODEL_5b7f8998243244c8b0837e49d7b914f2",
            "_model_module": "@jupyter-widgets/controls",
            "children": [
              "IPY_MODEL_37db7bca118049e6885cbb1c3dfe9cef",
              "IPY_MODEL_833c4009e20d46979eef722d44ce13d6"
            ]
          }
        },
        "5b7f8998243244c8b0837e49d7b914f2": {
          "model_module": "@jupyter-widgets/base",
          "model_name": "LayoutModel",
          "state": {
            "_view_name": "LayoutView",
            "grid_template_rows": null,
            "right": null,
            "justify_content": null,
            "_view_module": "@jupyter-widgets/base",
            "overflow": null,
            "_model_module_version": "1.2.0",
            "_view_count": null,
            "flex_flow": null,
            "width": null,
            "min_width": null,
            "border": null,
            "align_items": null,
            "bottom": null,
            "_model_module": "@jupyter-widgets/base",
            "top": null,
            "grid_column": null,
            "overflow_y": null,
            "overflow_x": null,
            "grid_auto_flow": null,
            "grid_area": null,
            "grid_template_columns": null,
            "flex": null,
            "_model_name": "LayoutModel",
            "justify_items": null,
            "grid_row": null,
            "max_height": null,
            "align_content": null,
            "visibility": null,
            "align_self": null,
            "height": null,
            "min_height": null,
            "padding": null,
            "grid_auto_rows": null,
            "grid_gap": null,
            "max_width": null,
            "order": null,
            "_view_module_version": "1.2.0",
            "grid_template_areas": null,
            "object_position": null,
            "object_fit": null,
            "grid_auto_columns": null,
            "margin": null,
            "display": null,
            "left": null
          }
        },
        "37db7bca118049e6885cbb1c3dfe9cef": {
          "model_module": "@jupyter-widgets/controls",
          "model_name": "FloatProgressModel",
          "state": {
            "_view_name": "ProgressView",
            "style": "IPY_MODEL_2a3ca82742aa43168da8ec4d061061dc",
            "_dom_classes": [],
            "description": "Downloading: 100%",
            "_model_name": "FloatProgressModel",
            "bar_style": "success",
            "max": 231508,
            "_view_module": "@jupyter-widgets/controls",
            "_model_module_version": "1.5.0",
            "value": 231508,
            "_view_count": null,
            "_view_module_version": "1.5.0",
            "orientation": "horizontal",
            "min": 0,
            "description_tooltip": null,
            "_model_module": "@jupyter-widgets/controls",
            "layout": "IPY_MODEL_073a3a67eec74237b63aace5b0aa2474"
          }
        },
        "833c4009e20d46979eef722d44ce13d6": {
          "model_module": "@jupyter-widgets/controls",
          "model_name": "HTMLModel",
          "state": {
            "_view_name": "HTMLView",
            "style": "IPY_MODEL_af9a6d9e603943909602ce9fc82ea4a1",
            "_dom_classes": [],
            "description": "",
            "_model_name": "HTMLModel",
            "placeholder": "​",
            "_view_module": "@jupyter-widgets/controls",
            "_model_module_version": "1.5.0",
            "value": " 232k/232k [00:02&lt;00:00, 92.5kB/s]",
            "_view_count": null,
            "_view_module_version": "1.5.0",
            "description_tooltip": null,
            "_model_module": "@jupyter-widgets/controls",
            "layout": "IPY_MODEL_4661a317960148969176130bcd5cf40e"
          }
        },
        "2a3ca82742aa43168da8ec4d061061dc": {
          "model_module": "@jupyter-widgets/controls",
          "model_name": "ProgressStyleModel",
          "state": {
            "_view_name": "StyleView",
            "_model_name": "ProgressStyleModel",
            "description_width": "initial",
            "_view_module": "@jupyter-widgets/base",
            "_model_module_version": "1.5.0",
            "_view_count": null,
            "_view_module_version": "1.2.0",
            "bar_color": null,
            "_model_module": "@jupyter-widgets/controls"
          }
        },
        "073a3a67eec74237b63aace5b0aa2474": {
          "model_module": "@jupyter-widgets/base",
          "model_name": "LayoutModel",
          "state": {
            "_view_name": "LayoutView",
            "grid_template_rows": null,
            "right": null,
            "justify_content": null,
            "_view_module": "@jupyter-widgets/base",
            "overflow": null,
            "_model_module_version": "1.2.0",
            "_view_count": null,
            "flex_flow": null,
            "width": null,
            "min_width": null,
            "border": null,
            "align_items": null,
            "bottom": null,
            "_model_module": "@jupyter-widgets/base",
            "top": null,
            "grid_column": null,
            "overflow_y": null,
            "overflow_x": null,
            "grid_auto_flow": null,
            "grid_area": null,
            "grid_template_columns": null,
            "flex": null,
            "_model_name": "LayoutModel",
            "justify_items": null,
            "grid_row": null,
            "max_height": null,
            "align_content": null,
            "visibility": null,
            "align_self": null,
            "height": null,
            "min_height": null,
            "padding": null,
            "grid_auto_rows": null,
            "grid_gap": null,
            "max_width": null,
            "order": null,
            "_view_module_version": "1.2.0",
            "grid_template_areas": null,
            "object_position": null,
            "object_fit": null,
            "grid_auto_columns": null,
            "margin": null,
            "display": null,
            "left": null
          }
        },
        "af9a6d9e603943909602ce9fc82ea4a1": {
          "model_module": "@jupyter-widgets/controls",
          "model_name": "DescriptionStyleModel",
          "state": {
            "_view_name": "StyleView",
            "_model_name": "DescriptionStyleModel",
            "description_width": "",
            "_view_module": "@jupyter-widgets/base",
            "_model_module_version": "1.5.0",
            "_view_count": null,
            "_view_module_version": "1.2.0",
            "_model_module": "@jupyter-widgets/controls"
          }
        },
        "4661a317960148969176130bcd5cf40e": {
          "model_module": "@jupyter-widgets/base",
          "model_name": "LayoutModel",
          "state": {
            "_view_name": "LayoutView",
            "grid_template_rows": null,
            "right": null,
            "justify_content": null,
            "_view_module": "@jupyter-widgets/base",
            "overflow": null,
            "_model_module_version": "1.2.0",
            "_view_count": null,
            "flex_flow": null,
            "width": null,
            "min_width": null,
            "border": null,
            "align_items": null,
            "bottom": null,
            "_model_module": "@jupyter-widgets/base",
            "top": null,
            "grid_column": null,
            "overflow_y": null,
            "overflow_x": null,
            "grid_auto_flow": null,
            "grid_area": null,
            "grid_template_columns": null,
            "flex": null,
            "_model_name": "LayoutModel",
            "justify_items": null,
            "grid_row": null,
            "max_height": null,
            "align_content": null,
            "visibility": null,
            "align_self": null,
            "height": null,
            "min_height": null,
            "padding": null,
            "grid_auto_rows": null,
            "grid_gap": null,
            "max_width": null,
            "order": null,
            "_view_module_version": "1.2.0",
            "grid_template_areas": null,
            "object_position": null,
            "object_fit": null,
            "grid_auto_columns": null,
            "margin": null,
            "display": null,
            "left": null
          }
        },
        "601f5dc247ea4c25912e41ad91e24d4e": {
          "model_module": "@jupyter-widgets/controls",
          "model_name": "HBoxModel",
          "state": {
            "_view_name": "HBoxView",
            "_dom_classes": [],
            "_model_name": "HBoxModel",
            "_view_module": "@jupyter-widgets/controls",
            "_model_module_version": "1.5.0",
            "_view_count": null,
            "_view_module_version": "1.5.0",
            "box_style": "",
            "layout": "IPY_MODEL_31b4d22d88bd49f39e4a472f29d5444c",
            "_model_module": "@jupyter-widgets/controls",
            "children": [
              "IPY_MODEL_d3b036667c9a492dba7c88fad9363b5e",
              "IPY_MODEL_8bef6d81b5c7465cb17694b61ee84afa"
            ]
          }
        },
        "31b4d22d88bd49f39e4a472f29d5444c": {
          "model_module": "@jupyter-widgets/base",
          "model_name": "LayoutModel",
          "state": {
            "_view_name": "LayoutView",
            "grid_template_rows": null,
            "right": null,
            "justify_content": null,
            "_view_module": "@jupyter-widgets/base",
            "overflow": null,
            "_model_module_version": "1.2.0",
            "_view_count": null,
            "flex_flow": null,
            "width": null,
            "min_width": null,
            "border": null,
            "align_items": null,
            "bottom": null,
            "_model_module": "@jupyter-widgets/base",
            "top": null,
            "grid_column": null,
            "overflow_y": null,
            "overflow_x": null,
            "grid_auto_flow": null,
            "grid_area": null,
            "grid_template_columns": null,
            "flex": null,
            "_model_name": "LayoutModel",
            "justify_items": null,
            "grid_row": null,
            "max_height": null,
            "align_content": null,
            "visibility": null,
            "align_self": null,
            "height": null,
            "min_height": null,
            "padding": null,
            "grid_auto_rows": null,
            "grid_gap": null,
            "max_width": null,
            "order": null,
            "_view_module_version": "1.2.0",
            "grid_template_areas": null,
            "object_position": null,
            "object_fit": null,
            "grid_auto_columns": null,
            "margin": null,
            "display": null,
            "left": null
          }
        },
        "d3b036667c9a492dba7c88fad9363b5e": {
          "model_module": "@jupyter-widgets/controls",
          "model_name": "FloatProgressModel",
          "state": {
            "_view_name": "ProgressView",
            "style": "IPY_MODEL_a744098a724e497ab3643f3e2b66cf42",
            "_dom_classes": [],
            "description": "Downloading: 100%",
            "_model_name": "FloatProgressModel",
            "bar_style": "success",
            "max": 29068,
            "_view_module": "@jupyter-widgets/controls",
            "_model_module_version": "1.5.0",
            "value": 29068,
            "_view_count": null,
            "_view_module_version": "1.5.0",
            "orientation": "horizontal",
            "min": 0,
            "description_tooltip": null,
            "_model_module": "@jupyter-widgets/controls",
            "layout": "IPY_MODEL_c8191e480e6f47c2a208b7dc3c42909b"
          }
        },
        "8bef6d81b5c7465cb17694b61ee84afa": {
          "model_module": "@jupyter-widgets/controls",
          "model_name": "HTMLModel",
          "state": {
            "_view_name": "HTMLView",
            "style": "IPY_MODEL_6b4e6f9ef36f48a3bf4d80288c88eb88",
            "_dom_classes": [],
            "description": "",
            "_model_name": "HTMLModel",
            "placeholder": "​",
            "_view_module": "@jupyter-widgets/controls",
            "_model_module_version": "1.5.0",
            "value": " 29.1k/29.1k [00:03&lt;00:00, 7.75kB/s]",
            "_view_count": null,
            "_view_module_version": "1.5.0",
            "description_tooltip": null,
            "_model_module": "@jupyter-widgets/controls",
            "layout": "IPY_MODEL_65fa1215ffc6452291939548dbd4d289"
          }
        },
        "a744098a724e497ab3643f3e2b66cf42": {
          "model_module": "@jupyter-widgets/controls",
          "model_name": "ProgressStyleModel",
          "state": {
            "_view_name": "StyleView",
            "_model_name": "ProgressStyleModel",
            "description_width": "initial",
            "_view_module": "@jupyter-widgets/base",
            "_model_module_version": "1.5.0",
            "_view_count": null,
            "_view_module_version": "1.2.0",
            "bar_color": null,
            "_model_module": "@jupyter-widgets/controls"
          }
        },
        "c8191e480e6f47c2a208b7dc3c42909b": {
          "model_module": "@jupyter-widgets/base",
          "model_name": "LayoutModel",
          "state": {
            "_view_name": "LayoutView",
            "grid_template_rows": null,
            "right": null,
            "justify_content": null,
            "_view_module": "@jupyter-widgets/base",
            "overflow": null,
            "_model_module_version": "1.2.0",
            "_view_count": null,
            "flex_flow": null,
            "width": null,
            "min_width": null,
            "border": null,
            "align_items": null,
            "bottom": null,
            "_model_module": "@jupyter-widgets/base",
            "top": null,
            "grid_column": null,
            "overflow_y": null,
            "overflow_x": null,
            "grid_auto_flow": null,
            "grid_area": null,
            "grid_template_columns": null,
            "flex": null,
            "_model_name": "LayoutModel",
            "justify_items": null,
            "grid_row": null,
            "max_height": null,
            "align_content": null,
            "visibility": null,
            "align_self": null,
            "height": null,
            "min_height": null,
            "padding": null,
            "grid_auto_rows": null,
            "grid_gap": null,
            "max_width": null,
            "order": null,
            "_view_module_version": "1.2.0",
            "grid_template_areas": null,
            "object_position": null,
            "object_fit": null,
            "grid_auto_columns": null,
            "margin": null,
            "display": null,
            "left": null
          }
        },
        "6b4e6f9ef36f48a3bf4d80288c88eb88": {
          "model_module": "@jupyter-widgets/controls",
          "model_name": "DescriptionStyleModel",
          "state": {
            "_view_name": "StyleView",
            "_model_name": "DescriptionStyleModel",
            "description_width": "",
            "_view_module": "@jupyter-widgets/base",
            "_model_module_version": "1.5.0",
            "_view_count": null,
            "_view_module_version": "1.2.0",
            "_model_module": "@jupyter-widgets/controls"
          }
        },
        "65fa1215ffc6452291939548dbd4d289": {
          "model_module": "@jupyter-widgets/base",
          "model_name": "LayoutModel",
          "state": {
            "_view_name": "LayoutView",
            "grid_template_rows": null,
            "right": null,
            "justify_content": null,
            "_view_module": "@jupyter-widgets/base",
            "overflow": null,
            "_model_module_version": "1.2.0",
            "_view_count": null,
            "flex_flow": null,
            "width": null,
            "min_width": null,
            "border": null,
            "align_items": null,
            "bottom": null,
            "_model_module": "@jupyter-widgets/base",
            "top": null,
            "grid_column": null,
            "overflow_y": null,
            "overflow_x": null,
            "grid_auto_flow": null,
            "grid_area": null,
            "grid_template_columns": null,
            "flex": null,
            "_model_name": "LayoutModel",
            "justify_items": null,
            "grid_row": null,
            "max_height": null,
            "align_content": null,
            "visibility": null,
            "align_self": null,
            "height": null,
            "min_height": null,
            "padding": null,
            "grid_auto_rows": null,
            "grid_gap": null,
            "max_width": null,
            "order": null,
            "_view_module_version": "1.2.0",
            "grid_template_areas": null,
            "object_position": null,
            "object_fit": null,
            "grid_auto_columns": null,
            "margin": null,
            "display": null,
            "left": null
          }
        },
        "2a4819ce99764542a426bfcd73a110c8": {
          "model_module": "@jupyter-widgets/controls",
          "model_name": "HBoxModel",
          "state": {
            "_view_name": "HBoxView",
            "_dom_classes": [],
            "_model_name": "HBoxModel",
            "_view_module": "@jupyter-widgets/controls",
            "_model_module_version": "1.5.0",
            "_view_count": null,
            "_view_module_version": "1.5.0",
            "box_style": "",
            "layout": "IPY_MODEL_48b674fc67a04e13bd84be01dcb1abb5",
            "_model_module": "@jupyter-widgets/controls",
            "children": [
              "IPY_MODEL_2ec3e22290a9445f899b7f89d565e956",
              "IPY_MODEL_8bfee7d3e58849ccb9787561eb294787"
            ]
          }
        },
        "48b674fc67a04e13bd84be01dcb1abb5": {
          "model_module": "@jupyter-widgets/base",
          "model_name": "LayoutModel",
          "state": {
            "_view_name": "LayoutView",
            "grid_template_rows": null,
            "right": null,
            "justify_content": null,
            "_view_module": "@jupyter-widgets/base",
            "overflow": null,
            "_model_module_version": "1.2.0",
            "_view_count": null,
            "flex_flow": null,
            "width": null,
            "min_width": null,
            "border": null,
            "align_items": null,
            "bottom": null,
            "_model_module": "@jupyter-widgets/base",
            "top": null,
            "grid_column": null,
            "overflow_y": null,
            "overflow_x": null,
            "grid_auto_flow": null,
            "grid_area": null,
            "grid_template_columns": null,
            "flex": null,
            "_model_name": "LayoutModel",
            "justify_items": null,
            "grid_row": null,
            "max_height": null,
            "align_content": null,
            "visibility": null,
            "align_self": null,
            "height": null,
            "min_height": null,
            "padding": null,
            "grid_auto_rows": null,
            "grid_gap": null,
            "max_width": null,
            "order": null,
            "_view_module_version": "1.2.0",
            "grid_template_areas": null,
            "object_position": null,
            "object_fit": null,
            "grid_auto_columns": null,
            "margin": null,
            "display": null,
            "left": null
          }
        },
        "2ec3e22290a9445f899b7f89d565e956": {
          "model_module": "@jupyter-widgets/controls",
          "model_name": "FloatProgressModel",
          "state": {
            "_view_name": "ProgressView",
            "style": "IPY_MODEL_9efc1fa0606940d99e0675c1828c5a41",
            "_dom_classes": [],
            "description": "Downloading: 100%",
            "_model_name": "FloatProgressModel",
            "bar_style": "success",
            "max": 30329,
            "_view_module": "@jupyter-widgets/controls",
            "_model_module_version": "1.5.0",
            "value": 30329,
            "_view_count": null,
            "_view_module_version": "1.5.0",
            "orientation": "horizontal",
            "min": 0,
            "description_tooltip": null,
            "_model_module": "@jupyter-widgets/controls",
            "layout": "IPY_MODEL_e1e695ca89714516877b4d7496823555"
          }
        },
        "8bfee7d3e58849ccb9787561eb294787": {
          "model_module": "@jupyter-widgets/controls",
          "model_name": "HTMLModel",
          "state": {
            "_view_name": "HTMLView",
            "style": "IPY_MODEL_83622e7851074a038fada8d57bdac2d5",
            "_dom_classes": [],
            "description": "",
            "_model_name": "HTMLModel",
            "placeholder": "​",
            "_view_module": "@jupyter-widgets/controls",
            "_model_module_version": "1.5.0",
            "value": " 30.3k/30.3k [00:00&lt;00:00, 142kB/s]",
            "_view_count": null,
            "_view_module_version": "1.5.0",
            "description_tooltip": null,
            "_model_module": "@jupyter-widgets/controls",
            "layout": "IPY_MODEL_011c01ce6bd0443db715fe0fe66394ec"
          }
        },
        "9efc1fa0606940d99e0675c1828c5a41": {
          "model_module": "@jupyter-widgets/controls",
          "model_name": "ProgressStyleModel",
          "state": {
            "_view_name": "StyleView",
            "_model_name": "ProgressStyleModel",
            "description_width": "initial",
            "_view_module": "@jupyter-widgets/base",
            "_model_module_version": "1.5.0",
            "_view_count": null,
            "_view_module_version": "1.2.0",
            "bar_color": null,
            "_model_module": "@jupyter-widgets/controls"
          }
        },
        "e1e695ca89714516877b4d7496823555": {
          "model_module": "@jupyter-widgets/base",
          "model_name": "LayoutModel",
          "state": {
            "_view_name": "LayoutView",
            "grid_template_rows": null,
            "right": null,
            "justify_content": null,
            "_view_module": "@jupyter-widgets/base",
            "overflow": null,
            "_model_module_version": "1.2.0",
            "_view_count": null,
            "flex_flow": null,
            "width": null,
            "min_width": null,
            "border": null,
            "align_items": null,
            "bottom": null,
            "_model_module": "@jupyter-widgets/base",
            "top": null,
            "grid_column": null,
            "overflow_y": null,
            "overflow_x": null,
            "grid_auto_flow": null,
            "grid_area": null,
            "grid_template_columns": null,
            "flex": null,
            "_model_name": "LayoutModel",
            "justify_items": null,
            "grid_row": null,
            "max_height": null,
            "align_content": null,
            "visibility": null,
            "align_self": null,
            "height": null,
            "min_height": null,
            "padding": null,
            "grid_auto_rows": null,
            "grid_gap": null,
            "max_width": null,
            "order": null,
            "_view_module_version": "1.2.0",
            "grid_template_areas": null,
            "object_position": null,
            "object_fit": null,
            "grid_auto_columns": null,
            "margin": null,
            "display": null,
            "left": null
          }
        },
        "83622e7851074a038fada8d57bdac2d5": {
          "model_module": "@jupyter-widgets/controls",
          "model_name": "DescriptionStyleModel",
          "state": {
            "_view_name": "StyleView",
            "_model_name": "DescriptionStyleModel",
            "description_width": "",
            "_view_module": "@jupyter-widgets/base",
            "_model_module_version": "1.5.0",
            "_view_count": null,
            "_view_module_version": "1.2.0",
            "_model_module": "@jupyter-widgets/controls"
          }
        },
        "011c01ce6bd0443db715fe0fe66394ec": {
          "model_module": "@jupyter-widgets/base",
          "model_name": "LayoutModel",
          "state": {
            "_view_name": "LayoutView",
            "grid_template_rows": null,
            "right": null,
            "justify_content": null,
            "_view_module": "@jupyter-widgets/base",
            "overflow": null,
            "_model_module_version": "1.2.0",
            "_view_count": null,
            "flex_flow": null,
            "width": null,
            "min_width": null,
            "border": null,
            "align_items": null,
            "bottom": null,
            "_model_module": "@jupyter-widgets/base",
            "top": null,
            "grid_column": null,
            "overflow_y": null,
            "overflow_x": null,
            "grid_auto_flow": null,
            "grid_area": null,
            "grid_template_columns": null,
            "flex": null,
            "_model_name": "LayoutModel",
            "justify_items": null,
            "grid_row": null,
            "max_height": null,
            "align_content": null,
            "visibility": null,
            "align_self": null,
            "height": null,
            "min_height": null,
            "padding": null,
            "grid_auto_rows": null,
            "grid_gap": null,
            "max_width": null,
            "order": null,
            "_view_module_version": "1.2.0",
            "grid_template_areas": null,
            "object_position": null,
            "object_fit": null,
            "grid_auto_columns": null,
            "margin": null,
            "display": null,
            "left": null
          }
        },
        "89d2bb96594f4ebfad44116ec1f0de5a": {
          "model_module": "@jupyter-widgets/controls",
          "model_name": "HBoxModel",
          "state": {
            "_view_name": "HBoxView",
            "_dom_classes": [],
            "_model_name": "HBoxModel",
            "_view_module": "@jupyter-widgets/controls",
            "_model_module_version": "1.5.0",
            "_view_count": null,
            "_view_module_version": "1.5.0",
            "box_style": "",
            "layout": "IPY_MODEL_ac4ea64955d74689a4825b5db7600a10",
            "_model_module": "@jupyter-widgets/controls",
            "children": [
              "IPY_MODEL_08b84804fc7c434391bf5bd2e52d030e",
              "IPY_MODEL_b7769330e40a4c40b14687d56e326576"
            ]
          }
        },
        "ac4ea64955d74689a4825b5db7600a10": {
          "model_module": "@jupyter-widgets/base",
          "model_name": "LayoutModel",
          "state": {
            "_view_name": "LayoutView",
            "grid_template_rows": null,
            "right": null,
            "justify_content": null,
            "_view_module": "@jupyter-widgets/base",
            "overflow": null,
            "_model_module_version": "1.2.0",
            "_view_count": null,
            "flex_flow": null,
            "width": null,
            "min_width": null,
            "border": null,
            "align_items": null,
            "bottom": null,
            "_model_module": "@jupyter-widgets/base",
            "top": null,
            "grid_column": null,
            "overflow_y": null,
            "overflow_x": null,
            "grid_auto_flow": null,
            "grid_area": null,
            "grid_template_columns": null,
            "flex": null,
            "_model_name": "LayoutModel",
            "justify_items": null,
            "grid_row": null,
            "max_height": null,
            "align_content": null,
            "visibility": null,
            "align_self": null,
            "height": null,
            "min_height": null,
            "padding": null,
            "grid_auto_rows": null,
            "grid_gap": null,
            "max_width": null,
            "order": null,
            "_view_module_version": "1.2.0",
            "grid_template_areas": null,
            "object_position": null,
            "object_fit": null,
            "grid_auto_columns": null,
            "margin": null,
            "display": null,
            "left": null
          }
        },
        "08b84804fc7c434391bf5bd2e52d030e": {
          "model_module": "@jupyter-widgets/controls",
          "model_name": "FloatProgressModel",
          "state": {
            "_view_name": "ProgressView",
            "style": "IPY_MODEL_dba649807215409b97239d832bb5286a",
            "_dom_classes": [],
            "description": "Downloading: 100%",
            "_model_name": "FloatProgressModel",
            "bar_style": "success",
            "max": 7439277,
            "_view_module": "@jupyter-widgets/controls",
            "_model_module_version": "1.5.0",
            "value": 7439277,
            "_view_count": null,
            "_view_module_version": "1.5.0",
            "orientation": "horizontal",
            "min": 0,
            "description_tooltip": null,
            "_model_module": "@jupyter-widgets/controls",
            "layout": "IPY_MODEL_d6b084e7a99e468987513ab489ddd395"
          }
        },
        "b7769330e40a4c40b14687d56e326576": {
          "model_module": "@jupyter-widgets/controls",
          "model_name": "HTMLModel",
          "state": {
            "_view_name": "HTMLView",
            "style": "IPY_MODEL_48fc9436d7144e06a0dd024b6e853e3d",
            "_dom_classes": [],
            "description": "",
            "_model_name": "HTMLModel",
            "placeholder": "​",
            "_view_module": "@jupyter-widgets/controls",
            "_model_module_version": "1.5.0",
            "value": " 7.44M/7.44M [00:00&lt;00:00, 14.0MB/s]",
            "_view_count": null,
            "_view_module_version": "1.5.0",
            "description_tooltip": null,
            "_model_module": "@jupyter-widgets/controls",
            "layout": "IPY_MODEL_832210c2e35544a29ea40a34d708ade6"
          }
        },
        "dba649807215409b97239d832bb5286a": {
          "model_module": "@jupyter-widgets/controls",
          "model_name": "ProgressStyleModel",
          "state": {
            "_view_name": "StyleView",
            "_model_name": "ProgressStyleModel",
            "description_width": "initial",
            "_view_module": "@jupyter-widgets/base",
            "_model_module_version": "1.5.0",
            "_view_count": null,
            "_view_module_version": "1.2.0",
            "bar_color": null,
            "_model_module": "@jupyter-widgets/controls"
          }
        },
        "d6b084e7a99e468987513ab489ddd395": {
          "model_module": "@jupyter-widgets/base",
          "model_name": "LayoutModel",
          "state": {
            "_view_name": "LayoutView",
            "grid_template_rows": null,
            "right": null,
            "justify_content": null,
            "_view_module": "@jupyter-widgets/base",
            "overflow": null,
            "_model_module_version": "1.2.0",
            "_view_count": null,
            "flex_flow": null,
            "width": null,
            "min_width": null,
            "border": null,
            "align_items": null,
            "bottom": null,
            "_model_module": "@jupyter-widgets/base",
            "top": null,
            "grid_column": null,
            "overflow_y": null,
            "overflow_x": null,
            "grid_auto_flow": null,
            "grid_area": null,
            "grid_template_columns": null,
            "flex": null,
            "_model_name": "LayoutModel",
            "justify_items": null,
            "grid_row": null,
            "max_height": null,
            "align_content": null,
            "visibility": null,
            "align_self": null,
            "height": null,
            "min_height": null,
            "padding": null,
            "grid_auto_rows": null,
            "grid_gap": null,
            "max_width": null,
            "order": null,
            "_view_module_version": "1.2.0",
            "grid_template_areas": null,
            "object_position": null,
            "object_fit": null,
            "grid_auto_columns": null,
            "margin": null,
            "display": null,
            "left": null
          }
        },
        "48fc9436d7144e06a0dd024b6e853e3d": {
          "model_module": "@jupyter-widgets/controls",
          "model_name": "DescriptionStyleModel",
          "state": {
            "_view_name": "StyleView",
            "_model_name": "DescriptionStyleModel",
            "description_width": "",
            "_view_module": "@jupyter-widgets/base",
            "_model_module_version": "1.5.0",
            "_view_count": null,
            "_view_module_version": "1.2.0",
            "_model_module": "@jupyter-widgets/controls"
          }
        },
        "832210c2e35544a29ea40a34d708ade6": {
          "model_module": "@jupyter-widgets/base",
          "model_name": "LayoutModel",
          "state": {
            "_view_name": "LayoutView",
            "grid_template_rows": null,
            "right": null,
            "justify_content": null,
            "_view_module": "@jupyter-widgets/base",
            "overflow": null,
            "_model_module_version": "1.2.0",
            "_view_count": null,
            "flex_flow": null,
            "width": null,
            "min_width": null,
            "border": null,
            "align_items": null,
            "bottom": null,
            "_model_module": "@jupyter-widgets/base",
            "top": null,
            "grid_column": null,
            "overflow_y": null,
            "overflow_x": null,
            "grid_auto_flow": null,
            "grid_area": null,
            "grid_template_columns": null,
            "flex": null,
            "_model_name": "LayoutModel",
            "justify_items": null,
            "grid_row": null,
            "max_height": null,
            "align_content": null,
            "visibility": null,
            "align_self": null,
            "height": null,
            "min_height": null,
            "padding": null,
            "grid_auto_rows": null,
            "grid_gap": null,
            "max_width": null,
            "order": null,
            "_view_module_version": "1.2.0",
            "grid_template_areas": null,
            "object_position": null,
            "object_fit": null,
            "grid_auto_columns": null,
            "margin": null,
            "display": null,
            "left": null
          }
        },
        "18170d85a5744f09a4fa6b8f436ff60e": {
          "model_module": "@jupyter-widgets/controls",
          "model_name": "HBoxModel",
          "state": {
            "_view_name": "HBoxView",
            "_dom_classes": [],
            "_model_name": "HBoxModel",
            "_view_module": "@jupyter-widgets/controls",
            "_model_module_version": "1.5.0",
            "_view_count": null,
            "_view_module_version": "1.5.0",
            "box_style": "",
            "layout": "IPY_MODEL_b60cbc344a4140bb837511782af95b1a",
            "_model_module": "@jupyter-widgets/controls",
            "children": [
              "IPY_MODEL_997794f9090b4e54819e5c71311fecf1",
              "IPY_MODEL_ae191b5071cb483c85b7efe1bb136c39"
            ]
          }
        },
        "b60cbc344a4140bb837511782af95b1a": {
          "model_module": "@jupyter-widgets/base",
          "model_name": "LayoutModel",
          "state": {
            "_view_name": "LayoutView",
            "grid_template_rows": null,
            "right": null,
            "justify_content": null,
            "_view_module": "@jupyter-widgets/base",
            "overflow": null,
            "_model_module_version": "1.2.0",
            "_view_count": null,
            "flex_flow": null,
            "width": null,
            "min_width": null,
            "border": null,
            "align_items": null,
            "bottom": null,
            "_model_module": "@jupyter-widgets/base",
            "top": null,
            "grid_column": null,
            "overflow_y": null,
            "overflow_x": null,
            "grid_auto_flow": null,
            "grid_area": null,
            "grid_template_columns": null,
            "flex": null,
            "_model_name": "LayoutModel",
            "justify_items": null,
            "grid_row": null,
            "max_height": null,
            "align_content": null,
            "visibility": null,
            "align_self": null,
            "height": null,
            "min_height": null,
            "padding": null,
            "grid_auto_rows": null,
            "grid_gap": null,
            "max_width": null,
            "order": null,
            "_view_module_version": "1.2.0",
            "grid_template_areas": null,
            "object_position": null,
            "object_fit": null,
            "grid_auto_columns": null,
            "margin": null,
            "display": null,
            "left": null
          }
        },
        "997794f9090b4e54819e5c71311fecf1": {
          "model_module": "@jupyter-widgets/controls",
          "model_name": "FloatProgressModel",
          "state": {
            "_view_name": "ProgressView",
            "style": "IPY_MODEL_4a421635b68347789b36c8f16256d3a4",
            "_dom_classes": [],
            "description": "",
            "_model_name": "FloatProgressModel",
            "bar_style": "info",
            "max": 1,
            "_view_module": "@jupyter-widgets/controls",
            "_model_module_version": "1.5.0",
            "value": 1,
            "_view_count": null,
            "_view_module_version": "1.5.0",
            "orientation": "horizontal",
            "min": 0,
            "description_tooltip": null,
            "_model_module": "@jupyter-widgets/controls",
            "layout": "IPY_MODEL_b0771c9c9f6043e5a4c8e36139a09e78"
          }
        },
        "ae191b5071cb483c85b7efe1bb136c39": {
          "model_module": "@jupyter-widgets/controls",
          "model_name": "HTMLModel",
          "state": {
            "_view_name": "HTMLView",
            "style": "IPY_MODEL_1ec535dbdce342d0a624c5917e31263f",
            "_dom_classes": [],
            "description": "",
            "_model_name": "HTMLModel",
            "placeholder": "​",
            "_view_module": "@jupyter-widgets/controls",
            "_model_module_version": "1.5.0",
            "value": " 67349/0 [00:02&lt;00:00, 34386.14 examples/s]",
            "_view_count": null,
            "_view_module_version": "1.5.0",
            "description_tooltip": null,
            "_model_module": "@jupyter-widgets/controls",
            "layout": "IPY_MODEL_07f23e37c7ef4448bd6c06195cd19775"
          }
        },
        "4a421635b68347789b36c8f16256d3a4": {
          "model_module": "@jupyter-widgets/controls",
          "model_name": "ProgressStyleModel",
          "state": {
            "_view_name": "StyleView",
            "_model_name": "ProgressStyleModel",
            "description_width": "initial",
            "_view_module": "@jupyter-widgets/base",
            "_model_module_version": "1.5.0",
            "_view_count": null,
            "_view_module_version": "1.2.0",
            "bar_color": null,
            "_model_module": "@jupyter-widgets/controls"
          }
        },
        "b0771c9c9f6043e5a4c8e36139a09e78": {
          "model_module": "@jupyter-widgets/base",
          "model_name": "LayoutModel",
          "state": {
            "_view_name": "LayoutView",
            "grid_template_rows": null,
            "right": null,
            "justify_content": null,
            "_view_module": "@jupyter-widgets/base",
            "overflow": null,
            "_model_module_version": "1.2.0",
            "_view_count": null,
            "flex_flow": null,
            "width": null,
            "min_width": null,
            "border": null,
            "align_items": null,
            "bottom": null,
            "_model_module": "@jupyter-widgets/base",
            "top": null,
            "grid_column": null,
            "overflow_y": null,
            "overflow_x": null,
            "grid_auto_flow": null,
            "grid_area": null,
            "grid_template_columns": null,
            "flex": null,
            "_model_name": "LayoutModel",
            "justify_items": null,
            "grid_row": null,
            "max_height": null,
            "align_content": null,
            "visibility": null,
            "align_self": null,
            "height": null,
            "min_height": null,
            "padding": null,
            "grid_auto_rows": null,
            "grid_gap": null,
            "max_width": null,
            "order": null,
            "_view_module_version": "1.2.0",
            "grid_template_areas": null,
            "object_position": null,
            "object_fit": null,
            "grid_auto_columns": null,
            "margin": null,
            "display": null,
            "left": null
          }
        },
        "1ec535dbdce342d0a624c5917e31263f": {
          "model_module": "@jupyter-widgets/controls",
          "model_name": "DescriptionStyleModel",
          "state": {
            "_view_name": "StyleView",
            "_model_name": "DescriptionStyleModel",
            "description_width": "",
            "_view_module": "@jupyter-widgets/base",
            "_model_module_version": "1.5.0",
            "_view_count": null,
            "_view_module_version": "1.2.0",
            "_model_module": "@jupyter-widgets/controls"
          }
        },
        "07f23e37c7ef4448bd6c06195cd19775": {
          "model_module": "@jupyter-widgets/base",
          "model_name": "LayoutModel",
          "state": {
            "_view_name": "LayoutView",
            "grid_template_rows": null,
            "right": null,
            "justify_content": null,
            "_view_module": "@jupyter-widgets/base",
            "overflow": null,
            "_model_module_version": "1.2.0",
            "_view_count": null,
            "flex_flow": null,
            "width": null,
            "min_width": null,
            "border": null,
            "align_items": null,
            "bottom": null,
            "_model_module": "@jupyter-widgets/base",
            "top": null,
            "grid_column": null,
            "overflow_y": null,
            "overflow_x": null,
            "grid_auto_flow": null,
            "grid_area": null,
            "grid_template_columns": null,
            "flex": null,
            "_model_name": "LayoutModel",
            "justify_items": null,
            "grid_row": null,
            "max_height": null,
            "align_content": null,
            "visibility": null,
            "align_self": null,
            "height": null,
            "min_height": null,
            "padding": null,
            "grid_auto_rows": null,
            "grid_gap": null,
            "max_width": null,
            "order": null,
            "_view_module_version": "1.2.0",
            "grid_template_areas": null,
            "object_position": null,
            "object_fit": null,
            "grid_auto_columns": null,
            "margin": null,
            "display": null,
            "left": null
          }
        },
        "c8f0b57fb93c4e47b07237360620f834": {
          "model_module": "@jupyter-widgets/controls",
          "model_name": "HBoxModel",
          "state": {
            "_view_name": "HBoxView",
            "_dom_classes": [],
            "_model_name": "HBoxModel",
            "_view_module": "@jupyter-widgets/controls",
            "_model_module_version": "1.5.0",
            "_view_count": null,
            "_view_module_version": "1.5.0",
            "box_style": "",
            "layout": "IPY_MODEL_6f7fd8fa80a840c5b15933b8ffb1fa88",
            "_model_module": "@jupyter-widgets/controls",
            "children": [
              "IPY_MODEL_81bbc8bf16324adaaa7d5571058ff39e",
              "IPY_MODEL_c11bf0175f934cdfa611bba0e633c574"
            ]
          }
        },
        "6f7fd8fa80a840c5b15933b8ffb1fa88": {
          "model_module": "@jupyter-widgets/base",
          "model_name": "LayoutModel",
          "state": {
            "_view_name": "LayoutView",
            "grid_template_rows": null,
            "right": null,
            "justify_content": null,
            "_view_module": "@jupyter-widgets/base",
            "overflow": null,
            "_model_module_version": "1.2.0",
            "_view_count": null,
            "flex_flow": null,
            "width": null,
            "min_width": null,
            "border": null,
            "align_items": null,
            "bottom": null,
            "_model_module": "@jupyter-widgets/base",
            "top": null,
            "grid_column": null,
            "overflow_y": null,
            "overflow_x": null,
            "grid_auto_flow": null,
            "grid_area": null,
            "grid_template_columns": null,
            "flex": null,
            "_model_name": "LayoutModel",
            "justify_items": null,
            "grid_row": null,
            "max_height": null,
            "align_content": null,
            "visibility": null,
            "align_self": null,
            "height": null,
            "min_height": null,
            "padding": null,
            "grid_auto_rows": null,
            "grid_gap": null,
            "max_width": null,
            "order": null,
            "_view_module_version": "1.2.0",
            "grid_template_areas": null,
            "object_position": null,
            "object_fit": null,
            "grid_auto_columns": null,
            "margin": null,
            "display": null,
            "left": null
          }
        },
        "81bbc8bf16324adaaa7d5571058ff39e": {
          "model_module": "@jupyter-widgets/controls",
          "model_name": "FloatProgressModel",
          "state": {
            "_view_name": "ProgressView",
            "style": "IPY_MODEL_c3c6a33d0005401abe784aa7923a4706",
            "_dom_classes": [],
            "description": "",
            "_model_name": "FloatProgressModel",
            "bar_style": "info",
            "max": 1,
            "_view_module": "@jupyter-widgets/controls",
            "_model_module_version": "1.5.0",
            "value": 1,
            "_view_count": null,
            "_view_module_version": "1.5.0",
            "orientation": "horizontal",
            "min": 0,
            "description_tooltip": null,
            "_model_module": "@jupyter-widgets/controls",
            "layout": "IPY_MODEL_ffe742b739994f6b973156766950fcab"
          }
        },
        "c11bf0175f934cdfa611bba0e633c574": {
          "model_module": "@jupyter-widgets/controls",
          "model_name": "HTMLModel",
          "state": {
            "_view_name": "HTMLView",
            "style": "IPY_MODEL_8488b3fd38904ecba0352be8fbc03a0d",
            "_dom_classes": [],
            "description": "",
            "_model_name": "HTMLModel",
            "placeholder": "​",
            "_view_module": "@jupyter-widgets/controls",
            "_model_module_version": "1.5.0",
            "value": " 872/0 [00:00&lt;00:00, 10337.37 examples/s]",
            "_view_count": null,
            "_view_module_version": "1.5.0",
            "description_tooltip": null,
            "_model_module": "@jupyter-widgets/controls",
            "layout": "IPY_MODEL_3313b08cc9554657a32d681e595e3cf7"
          }
        },
        "c3c6a33d0005401abe784aa7923a4706": {
          "model_module": "@jupyter-widgets/controls",
          "model_name": "ProgressStyleModel",
          "state": {
            "_view_name": "StyleView",
            "_model_name": "ProgressStyleModel",
            "description_width": "initial",
            "_view_module": "@jupyter-widgets/base",
            "_model_module_version": "1.5.0",
            "_view_count": null,
            "_view_module_version": "1.2.0",
            "bar_color": null,
            "_model_module": "@jupyter-widgets/controls"
          }
        },
        "ffe742b739994f6b973156766950fcab": {
          "model_module": "@jupyter-widgets/base",
          "model_name": "LayoutModel",
          "state": {
            "_view_name": "LayoutView",
            "grid_template_rows": null,
            "right": null,
            "justify_content": null,
            "_view_module": "@jupyter-widgets/base",
            "overflow": null,
            "_model_module_version": "1.2.0",
            "_view_count": null,
            "flex_flow": null,
            "width": null,
            "min_width": null,
            "border": null,
            "align_items": null,
            "bottom": null,
            "_model_module": "@jupyter-widgets/base",
            "top": null,
            "grid_column": null,
            "overflow_y": null,
            "overflow_x": null,
            "grid_auto_flow": null,
            "grid_area": null,
            "grid_template_columns": null,
            "flex": null,
            "_model_name": "LayoutModel",
            "justify_items": null,
            "grid_row": null,
            "max_height": null,
            "align_content": null,
            "visibility": null,
            "align_self": null,
            "height": null,
            "min_height": null,
            "padding": null,
            "grid_auto_rows": null,
            "grid_gap": null,
            "max_width": null,
            "order": null,
            "_view_module_version": "1.2.0",
            "grid_template_areas": null,
            "object_position": null,
            "object_fit": null,
            "grid_auto_columns": null,
            "margin": null,
            "display": null,
            "left": null
          }
        },
        "8488b3fd38904ecba0352be8fbc03a0d": {
          "model_module": "@jupyter-widgets/controls",
          "model_name": "DescriptionStyleModel",
          "state": {
            "_view_name": "StyleView",
            "_model_name": "DescriptionStyleModel",
            "description_width": "",
            "_view_module": "@jupyter-widgets/base",
            "_model_module_version": "1.5.0",
            "_view_count": null,
            "_view_module_version": "1.2.0",
            "_model_module": "@jupyter-widgets/controls"
          }
        },
        "3313b08cc9554657a32d681e595e3cf7": {
          "model_module": "@jupyter-widgets/base",
          "model_name": "LayoutModel",
          "state": {
            "_view_name": "LayoutView",
            "grid_template_rows": null,
            "right": null,
            "justify_content": null,
            "_view_module": "@jupyter-widgets/base",
            "overflow": null,
            "_model_module_version": "1.2.0",
            "_view_count": null,
            "flex_flow": null,
            "width": null,
            "min_width": null,
            "border": null,
            "align_items": null,
            "bottom": null,
            "_model_module": "@jupyter-widgets/base",
            "top": null,
            "grid_column": null,
            "overflow_y": null,
            "overflow_x": null,
            "grid_auto_flow": null,
            "grid_area": null,
            "grid_template_columns": null,
            "flex": null,
            "_model_name": "LayoutModel",
            "justify_items": null,
            "grid_row": null,
            "max_height": null,
            "align_content": null,
            "visibility": null,
            "align_self": null,
            "height": null,
            "min_height": null,
            "padding": null,
            "grid_auto_rows": null,
            "grid_gap": null,
            "max_width": null,
            "order": null,
            "_view_module_version": "1.2.0",
            "grid_template_areas": null,
            "object_position": null,
            "object_fit": null,
            "grid_auto_columns": null,
            "margin": null,
            "display": null,
            "left": null
          }
        },
        "8734bc5b28b34de7b340e5f1b65adf42": {
          "model_module": "@jupyter-widgets/controls",
          "model_name": "HBoxModel",
          "state": {
            "_view_name": "HBoxView",
            "_dom_classes": [],
            "_model_name": "HBoxModel",
            "_view_module": "@jupyter-widgets/controls",
            "_model_module_version": "1.5.0",
            "_view_count": null,
            "_view_module_version": "1.5.0",
            "box_style": "",
            "layout": "IPY_MODEL_346d0385f8904213bc1d5b0a86ba5988",
            "_model_module": "@jupyter-widgets/controls",
            "children": [
              "IPY_MODEL_de3a7614ca934adc8803f8938079697e",
              "IPY_MODEL_3c017198d0d04f0ba0e23c1377acde19"
            ]
          }
        },
        "346d0385f8904213bc1d5b0a86ba5988": {
          "model_module": "@jupyter-widgets/base",
          "model_name": "LayoutModel",
          "state": {
            "_view_name": "LayoutView",
            "grid_template_rows": null,
            "right": null,
            "justify_content": null,
            "_view_module": "@jupyter-widgets/base",
            "overflow": null,
            "_model_module_version": "1.2.0",
            "_view_count": null,
            "flex_flow": null,
            "width": null,
            "min_width": null,
            "border": null,
            "align_items": null,
            "bottom": null,
            "_model_module": "@jupyter-widgets/base",
            "top": null,
            "grid_column": null,
            "overflow_y": null,
            "overflow_x": null,
            "grid_auto_flow": null,
            "grid_area": null,
            "grid_template_columns": null,
            "flex": null,
            "_model_name": "LayoutModel",
            "justify_items": null,
            "grid_row": null,
            "max_height": null,
            "align_content": null,
            "visibility": null,
            "align_self": null,
            "height": null,
            "min_height": null,
            "padding": null,
            "grid_auto_rows": null,
            "grid_gap": null,
            "max_width": null,
            "order": null,
            "_view_module_version": "1.2.0",
            "grid_template_areas": null,
            "object_position": null,
            "object_fit": null,
            "grid_auto_columns": null,
            "margin": null,
            "display": null,
            "left": null
          }
        },
        "de3a7614ca934adc8803f8938079697e": {
          "model_module": "@jupyter-widgets/controls",
          "model_name": "FloatProgressModel",
          "state": {
            "_view_name": "ProgressView",
            "style": "IPY_MODEL_09bcba8f5f0246c9bd58164546f898a1",
            "_dom_classes": [],
            "description": "",
            "_model_name": "FloatProgressModel",
            "bar_style": "info",
            "max": 1,
            "_view_module": "@jupyter-widgets/controls",
            "_model_module_version": "1.5.0",
            "value": 1,
            "_view_count": null,
            "_view_module_version": "1.5.0",
            "orientation": "horizontal",
            "min": 0,
            "description_tooltip": null,
            "_model_module": "@jupyter-widgets/controls",
            "layout": "IPY_MODEL_a7759ae975054016856be1fc31ea1228"
          }
        },
        "3c017198d0d04f0ba0e23c1377acde19": {
          "model_module": "@jupyter-widgets/controls",
          "model_name": "HTMLModel",
          "state": {
            "_view_name": "HTMLView",
            "style": "IPY_MODEL_d7913de11d3644cb80d8b527d89b49a1",
            "_dom_classes": [],
            "description": "",
            "_model_name": "HTMLModel",
            "placeholder": "​",
            "_view_module": "@jupyter-widgets/controls",
            "_model_module_version": "1.5.0",
            "value": " 1821/0 [00:00&lt;00:00, 11126.54 examples/s]",
            "_view_count": null,
            "_view_module_version": "1.5.0",
            "description_tooltip": null,
            "_model_module": "@jupyter-widgets/controls",
            "layout": "IPY_MODEL_d16d15f2d08e4a3eb2987321566530f3"
          }
        },
        "09bcba8f5f0246c9bd58164546f898a1": {
          "model_module": "@jupyter-widgets/controls",
          "model_name": "ProgressStyleModel",
          "state": {
            "_view_name": "StyleView",
            "_model_name": "ProgressStyleModel",
            "description_width": "initial",
            "_view_module": "@jupyter-widgets/base",
            "_model_module_version": "1.5.0",
            "_view_count": null,
            "_view_module_version": "1.2.0",
            "bar_color": null,
            "_model_module": "@jupyter-widgets/controls"
          }
        },
        "a7759ae975054016856be1fc31ea1228": {
          "model_module": "@jupyter-widgets/base",
          "model_name": "LayoutModel",
          "state": {
            "_view_name": "LayoutView",
            "grid_template_rows": null,
            "right": null,
            "justify_content": null,
            "_view_module": "@jupyter-widgets/base",
            "overflow": null,
            "_model_module_version": "1.2.0",
            "_view_count": null,
            "flex_flow": null,
            "width": null,
            "min_width": null,
            "border": null,
            "align_items": null,
            "bottom": null,
            "_model_module": "@jupyter-widgets/base",
            "top": null,
            "grid_column": null,
            "overflow_y": null,
            "overflow_x": null,
            "grid_auto_flow": null,
            "grid_area": null,
            "grid_template_columns": null,
            "flex": null,
            "_model_name": "LayoutModel",
            "justify_items": null,
            "grid_row": null,
            "max_height": null,
            "align_content": null,
            "visibility": null,
            "align_self": null,
            "height": null,
            "min_height": null,
            "padding": null,
            "grid_auto_rows": null,
            "grid_gap": null,
            "max_width": null,
            "order": null,
            "_view_module_version": "1.2.0",
            "grid_template_areas": null,
            "object_position": null,
            "object_fit": null,
            "grid_auto_columns": null,
            "margin": null,
            "display": null,
            "left": null
          }
        },
        "d7913de11d3644cb80d8b527d89b49a1": {
          "model_module": "@jupyter-widgets/controls",
          "model_name": "DescriptionStyleModel",
          "state": {
            "_view_name": "StyleView",
            "_model_name": "DescriptionStyleModel",
            "description_width": "",
            "_view_module": "@jupyter-widgets/base",
            "_model_module_version": "1.5.0",
            "_view_count": null,
            "_view_module_version": "1.2.0",
            "_model_module": "@jupyter-widgets/controls"
          }
        },
        "d16d15f2d08e4a3eb2987321566530f3": {
          "model_module": "@jupyter-widgets/base",
          "model_name": "LayoutModel",
          "state": {
            "_view_name": "LayoutView",
            "grid_template_rows": null,
            "right": null,
            "justify_content": null,
            "_view_module": "@jupyter-widgets/base",
            "overflow": null,
            "_model_module_version": "1.2.0",
            "_view_count": null,
            "flex_flow": null,
            "width": null,
            "min_width": null,
            "border": null,
            "align_items": null,
            "bottom": null,
            "_model_module": "@jupyter-widgets/base",
            "top": null,
            "grid_column": null,
            "overflow_y": null,
            "overflow_x": null,
            "grid_auto_flow": null,
            "grid_area": null,
            "grid_template_columns": null,
            "flex": null,
            "_model_name": "LayoutModel",
            "justify_items": null,
            "grid_row": null,
            "max_height": null,
            "align_content": null,
            "visibility": null,
            "align_self": null,
            "height": null,
            "min_height": null,
            "padding": null,
            "grid_auto_rows": null,
            "grid_gap": null,
            "max_width": null,
            "order": null,
            "_view_module_version": "1.2.0",
            "grid_template_areas": null,
            "object_position": null,
            "object_fit": null,
            "grid_auto_columns": null,
            "margin": null,
            "display": null,
            "left": null
          }
        },
        "73db12f9ea644dd2afe0b05432fdfa96": {
          "model_module": "@jupyter-widgets/controls",
          "model_name": "HBoxModel",
          "state": {
            "_view_name": "HBoxView",
            "_dom_classes": [],
            "_model_name": "HBoxModel",
            "_view_module": "@jupyter-widgets/controls",
            "_model_module_version": "1.5.0",
            "_view_count": null,
            "_view_module_version": "1.5.0",
            "box_style": "",
            "layout": "IPY_MODEL_4dd56b5ff3084a949b155bdad2ec2d31",
            "_model_module": "@jupyter-widgets/controls",
            "children": [
              "IPY_MODEL_0759f61cd398489f8848f27de58b5e16",
              "IPY_MODEL_048616eedb1c425aa1cb398e41098128"
            ]
          }
        },
        "4dd56b5ff3084a949b155bdad2ec2d31": {
          "model_module": "@jupyter-widgets/base",
          "model_name": "LayoutModel",
          "state": {
            "_view_name": "LayoutView",
            "grid_template_rows": null,
            "right": null,
            "justify_content": null,
            "_view_module": "@jupyter-widgets/base",
            "overflow": null,
            "_model_module_version": "1.2.0",
            "_view_count": null,
            "flex_flow": null,
            "width": null,
            "min_width": null,
            "border": null,
            "align_items": null,
            "bottom": null,
            "_model_module": "@jupyter-widgets/base",
            "top": null,
            "grid_column": null,
            "overflow_y": null,
            "overflow_x": null,
            "grid_auto_flow": null,
            "grid_area": null,
            "grid_template_columns": null,
            "flex": null,
            "_model_name": "LayoutModel",
            "justify_items": null,
            "grid_row": null,
            "max_height": null,
            "align_content": null,
            "visibility": null,
            "align_self": null,
            "height": null,
            "min_height": null,
            "padding": null,
            "grid_auto_rows": null,
            "grid_gap": null,
            "max_width": null,
            "order": null,
            "_view_module_version": "1.2.0",
            "grid_template_areas": null,
            "object_position": null,
            "object_fit": null,
            "grid_auto_columns": null,
            "margin": null,
            "display": null,
            "left": null
          }
        },
        "0759f61cd398489f8848f27de58b5e16": {
          "model_module": "@jupyter-widgets/controls",
          "model_name": "FloatProgressModel",
          "state": {
            "_view_name": "ProgressView",
            "style": "IPY_MODEL_a524d05579044d4f8ed3b9ae5fe871e8",
            "_dom_classes": [],
            "description": "Epoch: 100%",
            "_model_name": "FloatProgressModel",
            "bar_style": "success",
            "max": 3,
            "_view_module": "@jupyter-widgets/controls",
            "_model_module_version": "1.5.0",
            "value": 3,
            "_view_count": null,
            "_view_module_version": "1.5.0",
            "orientation": "horizontal",
            "min": 0,
            "description_tooltip": null,
            "_model_module": "@jupyter-widgets/controls",
            "layout": "IPY_MODEL_22a64a1e1c004d5fadf019c385c82869"
          }
        },
        "048616eedb1c425aa1cb398e41098128": {
          "model_module": "@jupyter-widgets/controls",
          "model_name": "HTMLModel",
          "state": {
            "_view_name": "HTMLView",
            "style": "IPY_MODEL_848ce627f25145008c271e40cb597288",
            "_dom_classes": [],
            "description": "",
            "_model_name": "HTMLModel",
            "placeholder": "​",
            "_view_module": "@jupyter-widgets/controls",
            "_model_module_version": "1.5.0",
            "value": " 3/3 [18:44&lt;00:00, 374.99s/it]",
            "_view_count": null,
            "_view_module_version": "1.5.0",
            "description_tooltip": null,
            "_model_module": "@jupyter-widgets/controls",
            "layout": "IPY_MODEL_b358c03058da4589ade544bb25ada9b6"
          }
        },
        "a524d05579044d4f8ed3b9ae5fe871e8": {
          "model_module": "@jupyter-widgets/controls",
          "model_name": "ProgressStyleModel",
          "state": {
            "_view_name": "StyleView",
            "_model_name": "ProgressStyleModel",
            "description_width": "initial",
            "_view_module": "@jupyter-widgets/base",
            "_model_module_version": "1.5.0",
            "_view_count": null,
            "_view_module_version": "1.2.0",
            "bar_color": null,
            "_model_module": "@jupyter-widgets/controls"
          }
        },
        "22a64a1e1c004d5fadf019c385c82869": {
          "model_module": "@jupyter-widgets/base",
          "model_name": "LayoutModel",
          "state": {
            "_view_name": "LayoutView",
            "grid_template_rows": null,
            "right": null,
            "justify_content": null,
            "_view_module": "@jupyter-widgets/base",
            "overflow": null,
            "_model_module_version": "1.2.0",
            "_view_count": null,
            "flex_flow": null,
            "width": null,
            "min_width": null,
            "border": null,
            "align_items": null,
            "bottom": null,
            "_model_module": "@jupyter-widgets/base",
            "top": null,
            "grid_column": null,
            "overflow_y": null,
            "overflow_x": null,
            "grid_auto_flow": null,
            "grid_area": null,
            "grid_template_columns": null,
            "flex": null,
            "_model_name": "LayoutModel",
            "justify_items": null,
            "grid_row": null,
            "max_height": null,
            "align_content": null,
            "visibility": null,
            "align_self": null,
            "height": null,
            "min_height": null,
            "padding": null,
            "grid_auto_rows": null,
            "grid_gap": null,
            "max_width": null,
            "order": null,
            "_view_module_version": "1.2.0",
            "grid_template_areas": null,
            "object_position": null,
            "object_fit": null,
            "grid_auto_columns": null,
            "margin": null,
            "display": null,
            "left": null
          }
        },
        "848ce627f25145008c271e40cb597288": {
          "model_module": "@jupyter-widgets/controls",
          "model_name": "DescriptionStyleModel",
          "state": {
            "_view_name": "StyleView",
            "_model_name": "DescriptionStyleModel",
            "description_width": "",
            "_view_module": "@jupyter-widgets/base",
            "_model_module_version": "1.5.0",
            "_view_count": null,
            "_view_module_version": "1.2.0",
            "_model_module": "@jupyter-widgets/controls"
          }
        },
        "b358c03058da4589ade544bb25ada9b6": {
          "model_module": "@jupyter-widgets/base",
          "model_name": "LayoutModel",
          "state": {
            "_view_name": "LayoutView",
            "grid_template_rows": null,
            "right": null,
            "justify_content": null,
            "_view_module": "@jupyter-widgets/base",
            "overflow": null,
            "_model_module_version": "1.2.0",
            "_view_count": null,
            "flex_flow": null,
            "width": null,
            "min_width": null,
            "border": null,
            "align_items": null,
            "bottom": null,
            "_model_module": "@jupyter-widgets/base",
            "top": null,
            "grid_column": null,
            "overflow_y": null,
            "overflow_x": null,
            "grid_auto_flow": null,
            "grid_area": null,
            "grid_template_columns": null,
            "flex": null,
            "_model_name": "LayoutModel",
            "justify_items": null,
            "grid_row": null,
            "max_height": null,
            "align_content": null,
            "visibility": null,
            "align_self": null,
            "height": null,
            "min_height": null,
            "padding": null,
            "grid_auto_rows": null,
            "grid_gap": null,
            "max_width": null,
            "order": null,
            "_view_module_version": "1.2.0",
            "grid_template_areas": null,
            "object_position": null,
            "object_fit": null,
            "grid_auto_columns": null,
            "margin": null,
            "display": null,
            "left": null
          }
        },
        "c4f94b3d88874a5b9ea0468dab65336a": {
          "model_module": "@jupyter-widgets/controls",
          "model_name": "HBoxModel",
          "state": {
            "_view_name": "HBoxView",
            "_dom_classes": [],
            "_model_name": "HBoxModel",
            "_view_module": "@jupyter-widgets/controls",
            "_model_module_version": "1.5.0",
            "_view_count": null,
            "_view_module_version": "1.5.0",
            "box_style": "",
            "layout": "IPY_MODEL_95c94732f9c34a71b19ca8526b230781",
            "_model_module": "@jupyter-widgets/controls",
            "children": [
              "IPY_MODEL_f3ddf67fdc8046a19d6d792d8e4b6a1f",
              "IPY_MODEL_762a36e174d541d4b829492114218297"
            ]
          }
        },
        "95c94732f9c34a71b19ca8526b230781": {
          "model_module": "@jupyter-widgets/base",
          "model_name": "LayoutModel",
          "state": {
            "_view_name": "LayoutView",
            "grid_template_rows": null,
            "right": null,
            "justify_content": null,
            "_view_module": "@jupyter-widgets/base",
            "overflow": null,
            "_model_module_version": "1.2.0",
            "_view_count": null,
            "flex_flow": null,
            "width": null,
            "min_width": null,
            "border": null,
            "align_items": null,
            "bottom": null,
            "_model_module": "@jupyter-widgets/base",
            "top": null,
            "grid_column": null,
            "overflow_y": null,
            "overflow_x": null,
            "grid_auto_flow": null,
            "grid_area": null,
            "grid_template_columns": null,
            "flex": null,
            "_model_name": "LayoutModel",
            "justify_items": null,
            "grid_row": null,
            "max_height": null,
            "align_content": null,
            "visibility": null,
            "align_self": null,
            "height": null,
            "min_height": null,
            "padding": null,
            "grid_auto_rows": null,
            "grid_gap": null,
            "max_width": null,
            "order": null,
            "_view_module_version": "1.2.0",
            "grid_template_areas": null,
            "object_position": null,
            "object_fit": null,
            "grid_auto_columns": null,
            "margin": null,
            "display": null,
            "left": null
          }
        },
        "f3ddf67fdc8046a19d6d792d8e4b6a1f": {
          "model_module": "@jupyter-widgets/controls",
          "model_name": "FloatProgressModel",
          "state": {
            "_view_name": "ProgressView",
            "style": "IPY_MODEL_123ab01cd89f4969a1687a905885ff11",
            "_dom_classes": [],
            "description": "Iteration: 100%",
            "_model_name": "FloatProgressModel",
            "bar_style": "success",
            "max": 2104,
            "_view_module": "@jupyter-widgets/controls",
            "_model_module_version": "1.5.0",
            "value": 2104,
            "_view_count": null,
            "_view_module_version": "1.5.0",
            "orientation": "horizontal",
            "min": 0,
            "description_tooltip": null,
            "_model_module": "@jupyter-widgets/controls",
            "layout": "IPY_MODEL_283bc9aeea7f45169be85e603b9dd94d"
          }
        },
        "762a36e174d541d4b829492114218297": {
          "model_module": "@jupyter-widgets/controls",
          "model_name": "HTMLModel",
          "state": {
            "_view_name": "HTMLView",
            "style": "IPY_MODEL_092155d9846844558b71cb940a66221a",
            "_dom_classes": [],
            "description": "",
            "_model_name": "HTMLModel",
            "placeholder": "​",
            "_view_module": "@jupyter-widgets/controls",
            "_model_module_version": "1.5.0",
            "value": " 2104/2104 [06:16&lt;00:00,  5.59it/s]",
            "_view_count": null,
            "_view_module_version": "1.5.0",
            "description_tooltip": null,
            "_model_module": "@jupyter-widgets/controls",
            "layout": "IPY_MODEL_d499724fc0734ff599f5c2bf7dd7f430"
          }
        },
        "123ab01cd89f4969a1687a905885ff11": {
          "model_module": "@jupyter-widgets/controls",
          "model_name": "ProgressStyleModel",
          "state": {
            "_view_name": "StyleView",
            "_model_name": "ProgressStyleModel",
            "description_width": "initial",
            "_view_module": "@jupyter-widgets/base",
            "_model_module_version": "1.5.0",
            "_view_count": null,
            "_view_module_version": "1.2.0",
            "bar_color": null,
            "_model_module": "@jupyter-widgets/controls"
          }
        },
        "283bc9aeea7f45169be85e603b9dd94d": {
          "model_module": "@jupyter-widgets/base",
          "model_name": "LayoutModel",
          "state": {
            "_view_name": "LayoutView",
            "grid_template_rows": null,
            "right": null,
            "justify_content": null,
            "_view_module": "@jupyter-widgets/base",
            "overflow": null,
            "_model_module_version": "1.2.0",
            "_view_count": null,
            "flex_flow": null,
            "width": null,
            "min_width": null,
            "border": null,
            "align_items": null,
            "bottom": null,
            "_model_module": "@jupyter-widgets/base",
            "top": null,
            "grid_column": null,
            "overflow_y": null,
            "overflow_x": null,
            "grid_auto_flow": null,
            "grid_area": null,
            "grid_template_columns": null,
            "flex": null,
            "_model_name": "LayoutModel",
            "justify_items": null,
            "grid_row": null,
            "max_height": null,
            "align_content": null,
            "visibility": null,
            "align_self": null,
            "height": null,
            "min_height": null,
            "padding": null,
            "grid_auto_rows": null,
            "grid_gap": null,
            "max_width": null,
            "order": null,
            "_view_module_version": "1.2.0",
            "grid_template_areas": null,
            "object_position": null,
            "object_fit": null,
            "grid_auto_columns": null,
            "margin": null,
            "display": null,
            "left": null
          }
        },
        "092155d9846844558b71cb940a66221a": {
          "model_module": "@jupyter-widgets/controls",
          "model_name": "DescriptionStyleModel",
          "state": {
            "_view_name": "StyleView",
            "_model_name": "DescriptionStyleModel",
            "description_width": "",
            "_view_module": "@jupyter-widgets/base",
            "_model_module_version": "1.5.0",
            "_view_count": null,
            "_view_module_version": "1.2.0",
            "_model_module": "@jupyter-widgets/controls"
          }
        },
        "d499724fc0734ff599f5c2bf7dd7f430": {
          "model_module": "@jupyter-widgets/base",
          "model_name": "LayoutModel",
          "state": {
            "_view_name": "LayoutView",
            "grid_template_rows": null,
            "right": null,
            "justify_content": null,
            "_view_module": "@jupyter-widgets/base",
            "overflow": null,
            "_model_module_version": "1.2.0",
            "_view_count": null,
            "flex_flow": null,
            "width": null,
            "min_width": null,
            "border": null,
            "align_items": null,
            "bottom": null,
            "_model_module": "@jupyter-widgets/base",
            "top": null,
            "grid_column": null,
            "overflow_y": null,
            "overflow_x": null,
            "grid_auto_flow": null,
            "grid_area": null,
            "grid_template_columns": null,
            "flex": null,
            "_model_name": "LayoutModel",
            "justify_items": null,
            "grid_row": null,
            "max_height": null,
            "align_content": null,
            "visibility": null,
            "align_self": null,
            "height": null,
            "min_height": null,
            "padding": null,
            "grid_auto_rows": null,
            "grid_gap": null,
            "max_width": null,
            "order": null,
            "_view_module_version": "1.2.0",
            "grid_template_areas": null,
            "object_position": null,
            "object_fit": null,
            "grid_auto_columns": null,
            "margin": null,
            "display": null,
            "left": null
          }
        },
        "3317d601f87440c2a3716f5be3956c2d": {
          "model_module": "@jupyter-widgets/controls",
          "model_name": "HBoxModel",
          "state": {
            "_view_name": "HBoxView",
            "_dom_classes": [],
            "_model_name": "HBoxModel",
            "_view_module": "@jupyter-widgets/controls",
            "_model_module_version": "1.5.0",
            "_view_count": null,
            "_view_module_version": "1.5.0",
            "box_style": "",
            "layout": "IPY_MODEL_61141893a46646adaf53414d57c04ed0",
            "_model_module": "@jupyter-widgets/controls",
            "children": [
              "IPY_MODEL_aa3e0187a0ca449aae13d14273c667f9",
              "IPY_MODEL_8744ba575d0647eaa08e4a1e60ed8906"
            ]
          }
        },
        "61141893a46646adaf53414d57c04ed0": {
          "model_module": "@jupyter-widgets/base",
          "model_name": "LayoutModel",
          "state": {
            "_view_name": "LayoutView",
            "grid_template_rows": null,
            "right": null,
            "justify_content": null,
            "_view_module": "@jupyter-widgets/base",
            "overflow": null,
            "_model_module_version": "1.2.0",
            "_view_count": null,
            "flex_flow": null,
            "width": null,
            "min_width": null,
            "border": null,
            "align_items": null,
            "bottom": null,
            "_model_module": "@jupyter-widgets/base",
            "top": null,
            "grid_column": null,
            "overflow_y": null,
            "overflow_x": null,
            "grid_auto_flow": null,
            "grid_area": null,
            "grid_template_columns": null,
            "flex": null,
            "_model_name": "LayoutModel",
            "justify_items": null,
            "grid_row": null,
            "max_height": null,
            "align_content": null,
            "visibility": null,
            "align_self": null,
            "height": null,
            "min_height": null,
            "padding": null,
            "grid_auto_rows": null,
            "grid_gap": null,
            "max_width": null,
            "order": null,
            "_view_module_version": "1.2.0",
            "grid_template_areas": null,
            "object_position": null,
            "object_fit": null,
            "grid_auto_columns": null,
            "margin": null,
            "display": null,
            "left": null
          }
        },
        "aa3e0187a0ca449aae13d14273c667f9": {
          "model_module": "@jupyter-widgets/controls",
          "model_name": "FloatProgressModel",
          "state": {
            "_view_name": "ProgressView",
            "style": "IPY_MODEL_9715a43ab73e407eb9e2c3bf8a9df50c",
            "_dom_classes": [],
            "description": "Iteration: 100%",
            "_model_name": "FloatProgressModel",
            "bar_style": "success",
            "max": 2104,
            "_view_module": "@jupyter-widgets/controls",
            "_model_module_version": "1.5.0",
            "value": 2104,
            "_view_count": null,
            "_view_module_version": "1.5.0",
            "orientation": "horizontal",
            "min": 0,
            "description_tooltip": null,
            "_model_module": "@jupyter-widgets/controls",
            "layout": "IPY_MODEL_36920a5e285e494f97aa1fa361df80b7"
          }
        },
        "8744ba575d0647eaa08e4a1e60ed8906": {
          "model_module": "@jupyter-widgets/controls",
          "model_name": "HTMLModel",
          "state": {
            "_view_name": "HTMLView",
            "style": "IPY_MODEL_980dca264ecd4ebb8b34665d8ccd2289",
            "_dom_classes": [],
            "description": "",
            "_model_name": "HTMLModel",
            "placeholder": "​",
            "_view_module": "@jupyter-widgets/controls",
            "_model_module_version": "1.5.0",
            "value": " 2104/2104 [06:13&lt;00:00,  5.63it/s]",
            "_view_count": null,
            "_view_module_version": "1.5.0",
            "description_tooltip": null,
            "_model_module": "@jupyter-widgets/controls",
            "layout": "IPY_MODEL_6dc99ec1cd2848e6a9b7b242f1ac9bb4"
          }
        },
        "9715a43ab73e407eb9e2c3bf8a9df50c": {
          "model_module": "@jupyter-widgets/controls",
          "model_name": "ProgressStyleModel",
          "state": {
            "_view_name": "StyleView",
            "_model_name": "ProgressStyleModel",
            "description_width": "initial",
            "_view_module": "@jupyter-widgets/base",
            "_model_module_version": "1.5.0",
            "_view_count": null,
            "_view_module_version": "1.2.0",
            "bar_color": null,
            "_model_module": "@jupyter-widgets/controls"
          }
        },
        "36920a5e285e494f97aa1fa361df80b7": {
          "model_module": "@jupyter-widgets/base",
          "model_name": "LayoutModel",
          "state": {
            "_view_name": "LayoutView",
            "grid_template_rows": null,
            "right": null,
            "justify_content": null,
            "_view_module": "@jupyter-widgets/base",
            "overflow": null,
            "_model_module_version": "1.2.0",
            "_view_count": null,
            "flex_flow": null,
            "width": null,
            "min_width": null,
            "border": null,
            "align_items": null,
            "bottom": null,
            "_model_module": "@jupyter-widgets/base",
            "top": null,
            "grid_column": null,
            "overflow_y": null,
            "overflow_x": null,
            "grid_auto_flow": null,
            "grid_area": null,
            "grid_template_columns": null,
            "flex": null,
            "_model_name": "LayoutModel",
            "justify_items": null,
            "grid_row": null,
            "max_height": null,
            "align_content": null,
            "visibility": null,
            "align_self": null,
            "height": null,
            "min_height": null,
            "padding": null,
            "grid_auto_rows": null,
            "grid_gap": null,
            "max_width": null,
            "order": null,
            "_view_module_version": "1.2.0",
            "grid_template_areas": null,
            "object_position": null,
            "object_fit": null,
            "grid_auto_columns": null,
            "margin": null,
            "display": null,
            "left": null
          }
        },
        "980dca264ecd4ebb8b34665d8ccd2289": {
          "model_module": "@jupyter-widgets/controls",
          "model_name": "DescriptionStyleModel",
          "state": {
            "_view_name": "StyleView",
            "_model_name": "DescriptionStyleModel",
            "description_width": "",
            "_view_module": "@jupyter-widgets/base",
            "_model_module_version": "1.5.0",
            "_view_count": null,
            "_view_module_version": "1.2.0",
            "_model_module": "@jupyter-widgets/controls"
          }
        },
        "6dc99ec1cd2848e6a9b7b242f1ac9bb4": {
          "model_module": "@jupyter-widgets/base",
          "model_name": "LayoutModel",
          "state": {
            "_view_name": "LayoutView",
            "grid_template_rows": null,
            "right": null,
            "justify_content": null,
            "_view_module": "@jupyter-widgets/base",
            "overflow": null,
            "_model_module_version": "1.2.0",
            "_view_count": null,
            "flex_flow": null,
            "width": null,
            "min_width": null,
            "border": null,
            "align_items": null,
            "bottom": null,
            "_model_module": "@jupyter-widgets/base",
            "top": null,
            "grid_column": null,
            "overflow_y": null,
            "overflow_x": null,
            "grid_auto_flow": null,
            "grid_area": null,
            "grid_template_columns": null,
            "flex": null,
            "_model_name": "LayoutModel",
            "justify_items": null,
            "grid_row": null,
            "max_height": null,
            "align_content": null,
            "visibility": null,
            "align_self": null,
            "height": null,
            "min_height": null,
            "padding": null,
            "grid_auto_rows": null,
            "grid_gap": null,
            "max_width": null,
            "order": null,
            "_view_module_version": "1.2.0",
            "grid_template_areas": null,
            "object_position": null,
            "object_fit": null,
            "grid_auto_columns": null,
            "margin": null,
            "display": null,
            "left": null
          }
        },
        "3c34d77c809c4cc3b0cabe5ba5bdbbd9": {
          "model_module": "@jupyter-widgets/controls",
          "model_name": "HBoxModel",
          "state": {
            "_view_name": "HBoxView",
            "_dom_classes": [],
            "_model_name": "HBoxModel",
            "_view_module": "@jupyter-widgets/controls",
            "_model_module_version": "1.5.0",
            "_view_count": null,
            "_view_module_version": "1.5.0",
            "box_style": "",
            "layout": "IPY_MODEL_8bcece38cfdf4ec4b52187591d80c112",
            "_model_module": "@jupyter-widgets/controls",
            "children": [
              "IPY_MODEL_5d8f526a1eac463f83ee06c4034a4055",
              "IPY_MODEL_5ac404bab3b34069899f912a6b677734"
            ]
          }
        },
        "8bcece38cfdf4ec4b52187591d80c112": {
          "model_module": "@jupyter-widgets/base",
          "model_name": "LayoutModel",
          "state": {
            "_view_name": "LayoutView",
            "grid_template_rows": null,
            "right": null,
            "justify_content": null,
            "_view_module": "@jupyter-widgets/base",
            "overflow": null,
            "_model_module_version": "1.2.0",
            "_view_count": null,
            "flex_flow": null,
            "width": null,
            "min_width": null,
            "border": null,
            "align_items": null,
            "bottom": null,
            "_model_module": "@jupyter-widgets/base",
            "top": null,
            "grid_column": null,
            "overflow_y": null,
            "overflow_x": null,
            "grid_auto_flow": null,
            "grid_area": null,
            "grid_template_columns": null,
            "flex": null,
            "_model_name": "LayoutModel",
            "justify_items": null,
            "grid_row": null,
            "max_height": null,
            "align_content": null,
            "visibility": null,
            "align_self": null,
            "height": null,
            "min_height": null,
            "padding": null,
            "grid_auto_rows": null,
            "grid_gap": null,
            "max_width": null,
            "order": null,
            "_view_module_version": "1.2.0",
            "grid_template_areas": null,
            "object_position": null,
            "object_fit": null,
            "grid_auto_columns": null,
            "margin": null,
            "display": null,
            "left": null
          }
        },
        "5d8f526a1eac463f83ee06c4034a4055": {
          "model_module": "@jupyter-widgets/controls",
          "model_name": "FloatProgressModel",
          "state": {
            "_view_name": "ProgressView",
            "style": "IPY_MODEL_35e1287b80374b08914d4066989d96b5",
            "_dom_classes": [],
            "description": "Iteration: 100%",
            "_model_name": "FloatProgressModel",
            "bar_style": "success",
            "max": 2104,
            "_view_module": "@jupyter-widgets/controls",
            "_model_module_version": "1.5.0",
            "value": 2104,
            "_view_count": null,
            "_view_module_version": "1.5.0",
            "orientation": "horizontal",
            "min": 0,
            "description_tooltip": null,
            "_model_module": "@jupyter-widgets/controls",
            "layout": "IPY_MODEL_febaa7aa40134e0a9db4e9b9085d2577"
          }
        },
        "5ac404bab3b34069899f912a6b677734": {
          "model_module": "@jupyter-widgets/controls",
          "model_name": "HTMLModel",
          "state": {
            "_view_name": "HTMLView",
            "style": "IPY_MODEL_61327b03fb6c4f50a87cd87eb8a67847",
            "_dom_classes": [],
            "description": "",
            "_model_name": "HTMLModel",
            "placeholder": "​",
            "_view_module": "@jupyter-widgets/controls",
            "_model_module_version": "1.5.0",
            "value": " 2104/2104 [06:15&lt;00:00,  5.61it/s]",
            "_view_count": null,
            "_view_module_version": "1.5.0",
            "description_tooltip": null,
            "_model_module": "@jupyter-widgets/controls",
            "layout": "IPY_MODEL_34d9f16005a24ba4bf92d43bf5b163ea"
          }
        },
        "35e1287b80374b08914d4066989d96b5": {
          "model_module": "@jupyter-widgets/controls",
          "model_name": "ProgressStyleModel",
          "state": {
            "_view_name": "StyleView",
            "_model_name": "ProgressStyleModel",
            "description_width": "initial",
            "_view_module": "@jupyter-widgets/base",
            "_model_module_version": "1.5.0",
            "_view_count": null,
            "_view_module_version": "1.2.0",
            "bar_color": null,
            "_model_module": "@jupyter-widgets/controls"
          }
        },
        "febaa7aa40134e0a9db4e9b9085d2577": {
          "model_module": "@jupyter-widgets/base",
          "model_name": "LayoutModel",
          "state": {
            "_view_name": "LayoutView",
            "grid_template_rows": null,
            "right": null,
            "justify_content": null,
            "_view_module": "@jupyter-widgets/base",
            "overflow": null,
            "_model_module_version": "1.2.0",
            "_view_count": null,
            "flex_flow": null,
            "width": null,
            "min_width": null,
            "border": null,
            "align_items": null,
            "bottom": null,
            "_model_module": "@jupyter-widgets/base",
            "top": null,
            "grid_column": null,
            "overflow_y": null,
            "overflow_x": null,
            "grid_auto_flow": null,
            "grid_area": null,
            "grid_template_columns": null,
            "flex": null,
            "_model_name": "LayoutModel",
            "justify_items": null,
            "grid_row": null,
            "max_height": null,
            "align_content": null,
            "visibility": null,
            "align_self": null,
            "height": null,
            "min_height": null,
            "padding": null,
            "grid_auto_rows": null,
            "grid_gap": null,
            "max_width": null,
            "order": null,
            "_view_module_version": "1.2.0",
            "grid_template_areas": null,
            "object_position": null,
            "object_fit": null,
            "grid_auto_columns": null,
            "margin": null,
            "display": null,
            "left": null
          }
        },
        "61327b03fb6c4f50a87cd87eb8a67847": {
          "model_module": "@jupyter-widgets/controls",
          "model_name": "DescriptionStyleModel",
          "state": {
            "_view_name": "StyleView",
            "_model_name": "DescriptionStyleModel",
            "description_width": "",
            "_view_module": "@jupyter-widgets/base",
            "_model_module_version": "1.5.0",
            "_view_count": null,
            "_view_module_version": "1.2.0",
            "_model_module": "@jupyter-widgets/controls"
          }
        },
        "34d9f16005a24ba4bf92d43bf5b163ea": {
          "model_module": "@jupyter-widgets/base",
          "model_name": "LayoutModel",
          "state": {
            "_view_name": "LayoutView",
            "grid_template_rows": null,
            "right": null,
            "justify_content": null,
            "_view_module": "@jupyter-widgets/base",
            "overflow": null,
            "_model_module_version": "1.2.0",
            "_view_count": null,
            "flex_flow": null,
            "width": null,
            "min_width": null,
            "border": null,
            "align_items": null,
            "bottom": null,
            "_model_module": "@jupyter-widgets/base",
            "top": null,
            "grid_column": null,
            "overflow_y": null,
            "overflow_x": null,
            "grid_auto_flow": null,
            "grid_area": null,
            "grid_template_columns": null,
            "flex": null,
            "_model_name": "LayoutModel",
            "justify_items": null,
            "grid_row": null,
            "max_height": null,
            "align_content": null,
            "visibility": null,
            "align_self": null,
            "height": null,
            "min_height": null,
            "padding": null,
            "grid_auto_rows": null,
            "grid_gap": null,
            "max_width": null,
            "order": null,
            "_view_module_version": "1.2.0",
            "grid_template_areas": null,
            "object_position": null,
            "object_fit": null,
            "grid_auto_columns": null,
            "margin": null,
            "display": null,
            "left": null
          }
        }
      }
    }
  },
  "cells": [
    {
      "cell_type": "markdown",
      "metadata": {
        "id": "6FD5B2B7Kq-V",
        "colab_type": "text"
      },
      "source": [
        "[GitHub](https://github.com/elsanns/xai-nlp-notebooks/blob/master/electra_fine_tune_explain_captum_ig.ipynb)\n",
        "\n",
        "# Content\n",
        "---\n",
        "\n",
        "\n",
        "This notebook contains an example of [fine-tuning](https://huggingface.co/transformers/training.html) an [Electra](https://huggingface.co/transformers/model_doc/electra.html) model on the [GLUE SST-2](https://nlp.stanford.edu/sentiment/index.html) dataset. After fine-tuning, the [Integrated Gradients](https://arxiv.org/pdf/1703.01365.pdf) **interpretability** method is applied to compute tokens' attributions for each target class. \n",
        "* We will instantiate a pre-trained Electra model from the [Transformers](https://huggingface.co/transformers/) library. \n",
        "* The data is downloaded from the [nlp](https://huggingface.co/nlp/) library. The input text is tokenized with [ElectraTokenizerFast](https://huggingface.co/transformers/model_doc/electra.html#electratokenizerfast) tokenizer backed by HF [tokenizers](https://huggingface.co/transformers/main_classes/tokenizer.html) library.\n",
        "* **Fine-tuning** for sentiment analysis is handled by the [Trainer](https://huggingface.co/transformers/main_classes/trainer.html) class. \n",
        "* After fine-tuning, the [Integrated Gradients](https://captum.ai/api/integrated_gradients.html) interpretability algorithm will assign importance scores to\n",
        "input tokens. We will use a **PyTorch** implementation from the [Captum](https://captum.ai/) library. \n",
        "  - The algorithm requires providing a reference sample (a baseline) since importance attribution is performed based on the model's output, as inputs change from reference values to the actual sample. \n",
        "  - The Integrated Gradients method satisfies the [completeness](http://theory.stanford.edu/~ataly/Talks/sri_attribution_talk_jun_2017.pdf) property. We will look at the sum of attributions for a sample and show that the sum approximates (explains) prediction's shift from the baseline value. \n",
        "* The final sections of this notebook contain a colour-coded **visualization** of attribution results made with *captum.attr.visualization* library.\n",
        "\n",
        "The notebook is based on the [Hugging Face documentation](https://huggingface.co/) and the implementation of Integrated Gradients attribution methods is adapted from the Captum.ai\n",
        "[Interpreting BERT Models (Part 1)](https://captum.ai/tutorials/Bert_SQUAD_Interpret)."
      ]
    },
    {
      "cell_type": "markdown",
      "metadata": {
        "id": "Qi5nKLqupSt_",
        "colab_type": "text"
      },
      "source": [
        "# Installation & imports\n",
        "\n",
        "---"
      ]
    },
    {
      "cell_type": "code",
      "metadata": {
        "id": "n23Rko2YVSLQ",
        "colab_type": "code",
        "colab": {}
      },
      "source": [
        "!pip install transformers\n",
        "# pyarrow version as required by nlp v 0.3.0 (runtime restart in Colab)\n",
        "!pip install \"pyarrow==0.16.0\"  \n",
        "!pip install nlp\n",
        "!pip install captum"
      ],
      "execution_count": null,
      "outputs": []
    },
    {
      "cell_type": "code",
      "metadata": {
        "id": "FctqAnsgVcQP",
        "colab_type": "code",
        "colab": {}
      },
      "source": [
        "from typing import Dict\n",
        "\n",
        "import matplotlib.pyplot as plt\n",
        "import nlp\n",
        "import numpy as np\n",
        "import pandas as pd\n",
        "import torch\n",
        "import transformers\n",
        "from captum.attr import (IntegratedGradients, LayerIntegratedGradients,\n",
        "                         configure_interpretable_embedding_layer,\n",
        "                         remove_interpretable_embedding_layer)\n",
        "from captum.attr import visualization as viz\n",
        "from torch.utils.data import Dataset\n",
        "from transformers import (ElectraForSequenceClassification,\n",
        "                          ElectraTokenizerFast, EvalPrediction, InputFeatures,\n",
        "                          Trainer, TrainingArguments, glue_compute_metrics)\n",
        "\n",
        "transformers.__version__"
      ],
      "execution_count": null,
      "outputs": []
    },
    {
      "cell_type": "markdown",
      "metadata": {
        "id": "wHa2VomPVf9r",
        "colab_type": "text"
      },
      "source": [
        "# Model\n",
        "\n",
        "---"
      ]
    },
    {
      "cell_type": "markdown",
      "metadata": {
        "id": "j3po0cgEvypP",
        "colab_type": "text"
      },
      "source": [
        "Sentiment analysis is a classification task that requires assigning a label to an entire sentence (sequence). We will use a PyTorch implementation of [ElectraForSequenceClassification](https://huggingface.co/transformers/model_doc/electra.html#electraforsequenceclassification) from the Hugging Face library. A matching tokenizer implemented in the [ElectraTokenizerFast](https://huggingface.co/transformers/model_doc/electra.html#electratokenizerfast) class will handle tokenization."
      ]
    },
    {
      "cell_type": "code",
      "metadata": {
        "id": "_TioBrt5VhIr",
        "colab_type": "code",
        "colab": {
          "base_uri": "https://localhost:8080/",
          "height": 281,
          "referenced_widgets": [
            "2074d21891c4426a982d3937aabaf5df",
            "8b2567dea3a04df7b20686b990d2dce5",
            "add05a22bc0243ebb0a878324fa5bd61",
            "0ab47429ed0d4adea1b143c600670baf",
            "fee1ff4396ed4d1fbcb1e9f51d64e80c",
            "72af983233124f3f98b4cd063aa1c57e",
            "fb7f3703318c47c4935a4bbefe5dc512",
            "3785a0e6b64b44b38b8745695f67b109",
            "44863764a1254173bedf0c0e32b898a5",
            "ef394000332b44c182fedc2e5975255f",
            "c196fba151c1451aabcd3e823156baaf",
            "03e11d3a8a7f43638efd94654beddfef",
            "966a8a4e0c004530ac7b50b170ae69bd",
            "d4d10609c5ff4eb8aff5c475668c1b2b",
            "be509fee04bb4350a0e71ee3a1a90580",
            "6b144357a64c4d8383d1cce08a81ed0c",
            "d688c7d5fa734935b23324c47ab2d4d7",
            "5b7f8998243244c8b0837e49d7b914f2",
            "37db7bca118049e6885cbb1c3dfe9cef",
            "833c4009e20d46979eef722d44ce13d6",
            "2a3ca82742aa43168da8ec4d061061dc",
            "073a3a67eec74237b63aace5b0aa2474",
            "af9a6d9e603943909602ce9fc82ea4a1",
            "4661a317960148969176130bcd5cf40e"
          ]
        },
        "outputId": "44a699ea-af99-4088-ff00-3b9e23f24e15"
      },
      "source": [
        "model = ElectraForSequenceClassification.from_pretrained(\n",
        "    \"google/electra-small-discriminator\", num_labels = 2)\n",
        "\n",
        "tokenizer = ElectraTokenizerFast.from_pretrained(\n",
        "    \"google/electra-small-discriminator\", do_lower_case=True)                      "
      ],
      "execution_count": 4,
      "outputs": [
        {
          "output_type": "display_data",
          "data": {
            "application/vnd.jupyter.widget-view+json": {
              "model_id": "2074d21891c4426a982d3937aabaf5df",
              "version_minor": 0,
              "version_major": 2
            },
            "text/plain": [
              "HBox(children=(FloatProgress(value=0.0, description='Downloading', max=466.0, style=ProgressStyle(description_…"
            ]
          },
          "metadata": {
            "tags": []
          }
        },
        {
          "output_type": "stream",
          "text": [
            "\n"
          ],
          "name": "stdout"
        },
        {
          "output_type": "display_data",
          "data": {
            "application/vnd.jupyter.widget-view+json": {
              "model_id": "44863764a1254173bedf0c0e32b898a5",
              "version_minor": 0,
              "version_major": 2
            },
            "text/plain": [
              "HBox(children=(FloatProgress(value=0.0, description='Downloading', max=54245363.0, style=ProgressStyle(descrip…"
            ]
          },
          "metadata": {
            "tags": []
          }
        },
        {
          "output_type": "stream",
          "text": [
            "\n"
          ],
          "name": "stdout"
        },
        {
          "output_type": "stream",
          "text": [
            "Some weights of the model checkpoint at google/electra-small-discriminator were not used when initializing ElectraForSequenceClassification: ['discriminator_predictions.dense.weight', 'discriminator_predictions.dense.bias', 'discriminator_predictions.dense_prediction.weight', 'discriminator_predictions.dense_prediction.bias']\n",
            "- This IS expected if you are initializing ElectraForSequenceClassification from the checkpoint of a model trained on another task or with another architecture (e.g. initializing a BertForSequenceClassification model from a BertForPretraining model).\n",
            "- This IS NOT expected if you are initializing ElectraForSequenceClassification from the checkpoint of a model that you expect to be exactly identical (initializing a BertForSequenceClassification model from a BertForSequenceClassification model).\n",
            "Some weights of ElectraForSequenceClassification were not initialized from the model checkpoint at google/electra-small-discriminator and are newly initialized: ['classifier.dense.weight', 'classifier.dense.bias', 'classifier.out_proj.weight', 'classifier.out_proj.bias']\n",
            "You should probably TRAIN this model on a down-stream task to be able to use it for predictions and inference.\n"
          ],
          "name": "stderr"
        },
        {
          "output_type": "display_data",
          "data": {
            "application/vnd.jupyter.widget-view+json": {
              "model_id": "d688c7d5fa734935b23324c47ab2d4d7",
              "version_minor": 0,
              "version_major": 2
            },
            "text/plain": [
              "HBox(children=(FloatProgress(value=0.0, description='Downloading', max=231508.0, style=ProgressStyle(descripti…"
            ]
          },
          "metadata": {
            "tags": []
          }
        },
        {
          "output_type": "stream",
          "text": [
            "\n"
          ],
          "name": "stdout"
        }
      ]
    },
    {
      "cell_type": "markdown",
      "metadata": {
        "id": "7SdUQg2ntJYj",
        "colab_type": "text"
      },
      "source": [
        "# Data\n",
        "\n",
        "---"
      ]
    },
    {
      "cell_type": "markdown",
      "metadata": {
        "id": "--54_ugqalQb",
        "colab_type": "text"
      },
      "source": [
        "\n",
        "**Download**\n",
        "\n",
        "Let's now download the SST-2 dataset from the nlp library and take a brief look at it. It contains short movie reviews labelled for sentiment: 0 for negative and 1 for a positive review. The data is split into training, validation and test set. The labels for the test set are kept undisclosed."
      ]
    },
    {
      "cell_type": "code",
      "metadata": {
        "id": "SEn6pshAVkmw",
        "colab_type": "code",
        "colab": {
          "base_uri": "https://localhost:8080/",
          "height": 470,
          "referenced_widgets": [
            "601f5dc247ea4c25912e41ad91e24d4e",
            "31b4d22d88bd49f39e4a472f29d5444c",
            "d3b036667c9a492dba7c88fad9363b5e",
            "8bef6d81b5c7465cb17694b61ee84afa",
            "a744098a724e497ab3643f3e2b66cf42",
            "c8191e480e6f47c2a208b7dc3c42909b",
            "6b4e6f9ef36f48a3bf4d80288c88eb88",
            "65fa1215ffc6452291939548dbd4d289",
            "2a4819ce99764542a426bfcd73a110c8",
            "48b674fc67a04e13bd84be01dcb1abb5",
            "2ec3e22290a9445f899b7f89d565e956",
            "8bfee7d3e58849ccb9787561eb294787",
            "9efc1fa0606940d99e0675c1828c5a41",
            "e1e695ca89714516877b4d7496823555",
            "83622e7851074a038fada8d57bdac2d5",
            "011c01ce6bd0443db715fe0fe66394ec",
            "89d2bb96594f4ebfad44116ec1f0de5a",
            "ac4ea64955d74689a4825b5db7600a10",
            "08b84804fc7c434391bf5bd2e52d030e",
            "b7769330e40a4c40b14687d56e326576",
            "dba649807215409b97239d832bb5286a",
            "d6b084e7a99e468987513ab489ddd395",
            "48fc9436d7144e06a0dd024b6e853e3d",
            "832210c2e35544a29ea40a34d708ade6",
            "18170d85a5744f09a4fa6b8f436ff60e",
            "b60cbc344a4140bb837511782af95b1a",
            "997794f9090b4e54819e5c71311fecf1",
            "ae191b5071cb483c85b7efe1bb136c39",
            "4a421635b68347789b36c8f16256d3a4",
            "b0771c9c9f6043e5a4c8e36139a09e78",
            "1ec535dbdce342d0a624c5917e31263f",
            "07f23e37c7ef4448bd6c06195cd19775",
            "c8f0b57fb93c4e47b07237360620f834",
            "6f7fd8fa80a840c5b15933b8ffb1fa88",
            "81bbc8bf16324adaaa7d5571058ff39e",
            "c11bf0175f934cdfa611bba0e633c574",
            "c3c6a33d0005401abe784aa7923a4706",
            "ffe742b739994f6b973156766950fcab",
            "8488b3fd38904ecba0352be8fbc03a0d",
            "3313b08cc9554657a32d681e595e3cf7",
            "8734bc5b28b34de7b340e5f1b65adf42",
            "346d0385f8904213bc1d5b0a86ba5988",
            "de3a7614ca934adc8803f8938079697e",
            "3c017198d0d04f0ba0e23c1377acde19",
            "09bcba8f5f0246c9bd58164546f898a1",
            "a7759ae975054016856be1fc31ea1228",
            "d7913de11d3644cb80d8b527d89b49a1",
            "d16d15f2d08e4a3eb2987321566530f3"
          ]
        },
        "outputId": "7d721786-ddb1-4e77-940e-7363e82e8983"
      },
      "source": [
        "# Load the SST2 dataset from the nlp library\n",
        "dataset = nlp.load_dataset('glue', 'sst2')\n",
        "\n",
        "# Look at the labels\n",
        "print(\"Training set labels: {}\".format(set(dataset['train']['label'])))\n",
        "print(\"Validation set labels: {}\".format(set(dataset['validation']['label'])))\n",
        "print(\"Test set labels: {}\".format(set(dataset['test']['label'])))\n",
        "\n",
        "# Explore the dataset\n",
        "df = pd.DataFrame({\"senence\": dataset[\"train\"][\"sentence\"],\n",
        "                   \"label\": dataset[\"train\"][\"label\"]})\n",
        "pd.options.display.max_colwidth = 0\n",
        "df.head()"
      ],
      "execution_count": 5,
      "outputs": [
        {
          "output_type": "display_data",
          "data": {
            "application/vnd.jupyter.widget-view+json": {
              "model_id": "601f5dc247ea4c25912e41ad91e24d4e",
              "version_minor": 0,
              "version_major": 2
            },
            "text/plain": [
              "HBox(children=(FloatProgress(value=0.0, description='Downloading', max=29068.0, style=ProgressStyle(descriptio…"
            ]
          },
          "metadata": {
            "tags": []
          }
        },
        {
          "output_type": "stream",
          "text": [
            "\n"
          ],
          "name": "stdout"
        },
        {
          "output_type": "display_data",
          "data": {
            "application/vnd.jupyter.widget-view+json": {
              "model_id": "2a4819ce99764542a426bfcd73a110c8",
              "version_minor": 0,
              "version_major": 2
            },
            "text/plain": [
              "HBox(children=(FloatProgress(value=0.0, description='Downloading', max=30329.0, style=ProgressStyle(descriptio…"
            ]
          },
          "metadata": {
            "tags": []
          }
        },
        {
          "output_type": "stream",
          "text": [
            "\n",
            "Downloading and preparing dataset glue/sst2 (download: 7.09 MiB, generated: 4.81 MiB, post-processed: Unknown sizetotal: 11.90 MiB) to /root/.cache/huggingface/datasets/glue/sst2/1.0.0/005857b1e5a6280d8f1a9b9537d44a08ba30cb6be958e81fac98e625a0d487a7...\n"
          ],
          "name": "stdout"
        },
        {
          "output_type": "display_data",
          "data": {
            "application/vnd.jupyter.widget-view+json": {
              "model_id": "89d2bb96594f4ebfad44116ec1f0de5a",
              "version_minor": 0,
              "version_major": 2
            },
            "text/plain": [
              "HBox(children=(FloatProgress(value=0.0, description='Downloading', max=7439277.0, style=ProgressStyle(descript…"
            ]
          },
          "metadata": {
            "tags": []
          }
        },
        {
          "output_type": "stream",
          "text": [
            "\n"
          ],
          "name": "stdout"
        },
        {
          "output_type": "display_data",
          "data": {
            "application/vnd.jupyter.widget-view+json": {
              "model_id": "18170d85a5744f09a4fa6b8f436ff60e",
              "version_minor": 0,
              "version_major": 2
            },
            "text/plain": [
              "HBox(children=(FloatProgress(value=1.0, bar_style='info', max=1.0), HTML(value='')))"
            ]
          },
          "metadata": {
            "tags": []
          }
        },
        {
          "output_type": "stream",
          "text": [
            "\r"
          ],
          "name": "stdout"
        },
        {
          "output_type": "display_data",
          "data": {
            "application/vnd.jupyter.widget-view+json": {
              "model_id": "c8f0b57fb93c4e47b07237360620f834",
              "version_minor": 0,
              "version_major": 2
            },
            "text/plain": [
              "HBox(children=(FloatProgress(value=1.0, bar_style='info', max=1.0), HTML(value='')))"
            ]
          },
          "metadata": {
            "tags": []
          }
        },
        {
          "output_type": "stream",
          "text": [
            "\r"
          ],
          "name": "stdout"
        },
        {
          "output_type": "display_data",
          "data": {
            "application/vnd.jupyter.widget-view+json": {
              "model_id": "8734bc5b28b34de7b340e5f1b65adf42",
              "version_minor": 0,
              "version_major": 2
            },
            "text/plain": [
              "HBox(children=(FloatProgress(value=1.0, bar_style='info', max=1.0), HTML(value='')))"
            ]
          },
          "metadata": {
            "tags": []
          }
        },
        {
          "output_type": "stream",
          "text": [
            "\rDataset glue downloaded and prepared to /root/.cache/huggingface/datasets/glue/sst2/1.0.0/005857b1e5a6280d8f1a9b9537d44a08ba30cb6be958e81fac98e625a0d487a7. Subsequent calls will reuse this data.\n",
            "Training set labels: {0, 1}\n",
            "Validation set labels: {0, 1}\n",
            "Test set labels: {-1}\n"
          ],
          "name": "stdout"
        },
        {
          "output_type": "execute_result",
          "data": {
            "text/html": [
              "<div>\n",
              "<style scoped>\n",
              "    .dataframe tbody tr th:only-of-type {\n",
              "        vertical-align: middle;\n",
              "    }\n",
              "\n",
              "    .dataframe tbody tr th {\n",
              "        vertical-align: top;\n",
              "    }\n",
              "\n",
              "    .dataframe thead th {\n",
              "        text-align: right;\n",
              "    }\n",
              "</style>\n",
              "<table border=\"1\" class=\"dataframe\">\n",
              "  <thead>\n",
              "    <tr style=\"text-align: right;\">\n",
              "      <th></th>\n",
              "      <th>senence</th>\n",
              "      <th>label</th>\n",
              "    </tr>\n",
              "  </thead>\n",
              "  <tbody>\n",
              "    <tr>\n",
              "      <th>0</th>\n",
              "      <td>hide new secretions from the parental units</td>\n",
              "      <td>0</td>\n",
              "    </tr>\n",
              "    <tr>\n",
              "      <th>1</th>\n",
              "      <td>contains no wit , only labored gags</td>\n",
              "      <td>0</td>\n",
              "    </tr>\n",
              "    <tr>\n",
              "      <th>2</th>\n",
              "      <td>that loves its characters and communicates something rather beautiful about human nature</td>\n",
              "      <td>1</td>\n",
              "    </tr>\n",
              "    <tr>\n",
              "      <th>3</th>\n",
              "      <td>remains utterly satisfied to remain the same throughout</td>\n",
              "      <td>0</td>\n",
              "    </tr>\n",
              "    <tr>\n",
              "      <th>4</th>\n",
              "      <td>on the worst revenge-of-the-nerds clichés the filmmakers could dredge up</td>\n",
              "      <td>0</td>\n",
              "    </tr>\n",
              "  </tbody>\n",
              "</table>\n",
              "</div>"
            ],
            "text/plain": [
              "                                                                                     senence  label\n",
              "0  hide new secretions from the parental units                                                0    \n",
              "1  contains no wit , only labored gags                                                        0    \n",
              "2  that loves its characters and communicates something rather beautiful about human nature   1    \n",
              "3  remains utterly satisfied to remain the same throughout                                    0    \n",
              "4  on the worst revenge-of-the-nerds clichés the filmmakers could dredge up                   0    "
            ]
          },
          "metadata": {
            "tags": []
          },
          "execution_count": 5
        }
      ]
    },
    {
      "cell_type": "markdown",
      "metadata": {
        "id": "8E-1tg1jyAjJ",
        "colab_type": "text"
      },
      "source": [
        "**Create dataset**\n",
        "\n",
        "We will now create a custom [map-style PyTorch dataset](https://pytorch.org/docs/stable/data.html#map-style-datasets) to serve model's key-value parameters in a seamless manner. \n",
        "\n",
        "The `TrainerDataset` class is derived from `torch.utils.data.Dataset`. The overridden `__getitem__` method yields a Python *Object* \n",
        "for compatibility with the [DefaultDataCollator](https://github.com/huggingface/transformers/blob/master/src/transformers/data/data_collator.py), in this example, the `InputFeatures` class is used. \n",
        "\n",
        "Conversion to torch tensors and placing on cuda/cpu is handled by the trainer object used for fine-tuning."
      ]
    },
    {
      "cell_type": "code",
      "metadata": {
        "id": "Hg9gClv2VtGI",
        "colab_type": "code",
        "colab": {}
      },
      "source": [
        "class TrainerDataset(Dataset):\n",
        "    def __init__(self, inputs, targets, tokenizer):\n",
        "        self.inputs = inputs\n",
        "        self.targets = targets\n",
        "        self.tokenizer = tokenizer\n",
        "\n",
        "        # Tokenize the input\n",
        "        self.tokenized_inputs = tokenizer(inputs, padding=True)   \n",
        "\n",
        "    def __len__(self):\n",
        "        return len(self.inputs)\n",
        "\n",
        "    def __getitem__(self, idx):\n",
        "        return InputFeatures(\n",
        "            input_ids=self.tokenized_inputs['input_ids'][idx],\n",
        "            token_type_ids=self.tokenized_inputs['token_type_ids'][idx],\n",
        "            attention_mask=self.tokenized_inputs['attention_mask'][idx],\n",
        "            label=self.targets[idx])         "
      ],
      "execution_count": 6,
      "outputs": []
    },
    {
      "cell_type": "markdown",
      "metadata": {
        "id": "-Ncdro4DEcf4",
        "colab_type": "text"
      },
      "source": [
        "We need to create the training and validation datasets. As GLUE SST-2 dataset does not disclose labels for the test set, we will be using validation data for testing."
      ]
    },
    {
      "cell_type": "code",
      "metadata": {
        "id": "BIjHu-eMVu3e",
        "colab_type": "code",
        "colab": {}
      },
      "source": [
        "train_dataset = TrainerDataset(dataset[\"train\"][\"sentence\"],\n",
        "                               dataset[\"train\"][\"label\"], tokenizer)\n",
        "eval_dataset = TrainerDataset(dataset[\"validation\"][\"sentence\"],\n",
        "                              dataset[\"validation\"][\"label\"], tokenizer)"
      ],
      "execution_count": 7,
      "outputs": []
    },
    {
      "cell_type": "markdown",
      "metadata": {
        "id": "Hki37gxJVxTX",
        "colab_type": "text"
      },
      "source": [
        "# Fine-tuning\n",
        "\n",
        "---"
      ]
    },
    {
      "cell_type": "markdown",
      "metadata": {
        "id": "CK6lfc6Hidmt",
        "colab_type": "text"
      },
      "source": [
        "Fine-tuning with a `Trainer` class instance requires setting training arguments and creating a trainer object. The model, as well as training and validation datasets, are passed to the trainer's constructor, along with training arguments. The `Trainer` class takes care of conversion to tensor format and placement on a cpu/gpu device."
      ]
    },
    {
      "cell_type": "markdown",
      "metadata": {
        "id": "lRZJsqMRwixQ",
        "colab_type": "text"
      },
      "source": [
        "## Set parameters"
      ]
    },
    {
      "cell_type": "markdown",
      "metadata": {
        "id": "y0F-0xBBwoSO",
        "colab_type": "text"
      },
      "source": [
        "Training parameters have been taken from the [Electra Github](https://github.com/google-research/electra/blob/master/configure_finetuning.py) repository or are default values. "
      ]
    },
    {
      "cell_type": "code",
      "metadata": {
        "id": "o2aR1A8LVzLH",
        "colab_type": "code",
        "colab": {}
      },
      "source": [
        "# Set seed for reproducibility\n",
        "np.random.seed(123)\n",
        "torch.manual_seed(123)\n",
        "\n",
        "training_args = TrainingArguments(\n",
        "    output_dir=\"./models/model_electra\",\n",
        "    num_train_epochs=3,\n",
        "    overwrite_output_dir=True,\n",
        "    do_train=True,\n",
        "    per_device_train_batch_size=32,\n",
        "    dataloader_drop_last=True,  # Make sure all batches are of equal size\n",
        ")\n",
        "\n",
        "\n",
        "def compute_metrics(p: EvalPrediction) -> Dict:\n",
        "    preds = np.argmax(p.predictions, axis=1)\n",
        "    # The choice of a dataset (task_name) implies metric\n",
        "    return glue_compute_metrics(\n",
        "        task_name=\"sst-2\",\n",
        "        preds=preds,\n",
        "        labels=p.label_ids)\n",
        "\n",
        "\n",
        "# Instantiane the Trainer class\n",
        "trainer = Trainer(\n",
        "    model=model,\n",
        "    args=training_args,\n",
        "    train_dataset=train_dataset,\n",
        "    eval_dataset=eval_dataset,\n",
        "    compute_metrics=compute_metrics)"
      ],
      "execution_count": 8,
      "outputs": []
    },
    {
      "cell_type": "markdown",
      "metadata": {
        "id": "AXTyBstWV1LM",
        "colab_type": "text"
      },
      "source": [
        "## Run fine-tuning"
      ]
    },
    {
      "cell_type": "markdown",
      "metadata": {
        "id": "Xr9UZ4PqiHo0",
        "colab_type": "text"
      },
      "source": [
        "Run the `train` method of the trainer object to fine-tune the model on the SST-2 dataset."
      ]
    },
    {
      "cell_type": "code",
      "metadata": {
        "id": "7lVhSg4IV23Y",
        "colab_type": "code",
        "colab": {
          "base_uri": "https://localhost:8080/",
          "height": 295,
          "referenced_widgets": [
            "73db12f9ea644dd2afe0b05432fdfa96",
            "4dd56b5ff3084a949b155bdad2ec2d31",
            "0759f61cd398489f8848f27de58b5e16",
            "048616eedb1c425aa1cb398e41098128",
            "a524d05579044d4f8ed3b9ae5fe871e8",
            "22a64a1e1c004d5fadf019c385c82869",
            "848ce627f25145008c271e40cb597288",
            "b358c03058da4589ade544bb25ada9b6",
            "c4f94b3d88874a5b9ea0468dab65336a",
            "95c94732f9c34a71b19ca8526b230781",
            "f3ddf67fdc8046a19d6d792d8e4b6a1f",
            "762a36e174d541d4b829492114218297",
            "123ab01cd89f4969a1687a905885ff11",
            "283bc9aeea7f45169be85e603b9dd94d",
            "092155d9846844558b71cb940a66221a",
            "d499724fc0734ff599f5c2bf7dd7f430",
            "3317d601f87440c2a3716f5be3956c2d",
            "61141893a46646adaf53414d57c04ed0",
            "aa3e0187a0ca449aae13d14273c667f9",
            "8744ba575d0647eaa08e4a1e60ed8906",
            "9715a43ab73e407eb9e2c3bf8a9df50c",
            "36920a5e285e494f97aa1fa361df80b7",
            "980dca264ecd4ebb8b34665d8ccd2289",
            "6dc99ec1cd2848e6a9b7b242f1ac9bb4",
            "3c34d77c809c4cc3b0cabe5ba5bdbbd9",
            "8bcece38cfdf4ec4b52187591d80c112",
            "5d8f526a1eac463f83ee06c4034a4055",
            "5ac404bab3b34069899f912a6b677734",
            "35e1287b80374b08914d4066989d96b5",
            "febaa7aa40134e0a9db4e9b9085d2577",
            "61327b03fb6c4f50a87cd87eb8a67847",
            "34d9f16005a24ba4bf92d43bf5b163ea"
          ]
        },
        "outputId": "050321b9-b9f6-491c-ffad-cebcabc6ca65"
      },
      "source": [
        "trainer.train()"
      ],
      "execution_count": 9,
      "outputs": [
        {
          "output_type": "display_data",
          "data": {
            "application/vnd.jupyter.widget-view+json": {
              "model_id": "73db12f9ea644dd2afe0b05432fdfa96",
              "version_minor": 0,
              "version_major": 2
            },
            "text/plain": [
              "HBox(children=(FloatProgress(value=0.0, description='Epoch', max=3.0, style=ProgressStyle(description_width='i…"
            ]
          },
          "metadata": {
            "tags": []
          }
        },
        {
          "output_type": "display_data",
          "data": {
            "application/vnd.jupyter.widget-view+json": {
              "model_id": "c4f94b3d88874a5b9ea0468dab65336a",
              "version_minor": 0,
              "version_major": 2
            },
            "text/plain": [
              "HBox(children=(FloatProgress(value=0.0, description='Iteration', max=2104.0, style=ProgressStyle(description_w…"
            ]
          },
          "metadata": {
            "tags": []
          }
        },
        {
          "output_type": "stream",
          "text": [
            "/usr/local/lib/python3.6/dist-packages/torch/optim/lr_scheduler.py:200: UserWarning: Please also save or load the state of the optimzer when saving or loading the scheduler.\n",
            "  warnings.warn(SAVE_STATE_WARNING, UserWarning)\n"
          ],
          "name": "stderr"
        },
        {
          "output_type": "stream",
          "text": [
            "\n"
          ],
          "name": "stdout"
        },
        {
          "output_type": "display_data",
          "data": {
            "application/vnd.jupyter.widget-view+json": {
              "model_id": "3317d601f87440c2a3716f5be3956c2d",
              "version_minor": 0,
              "version_major": 2
            },
            "text/plain": [
              "HBox(children=(FloatProgress(value=0.0, description='Iteration', max=2104.0, style=ProgressStyle(description_w…"
            ]
          },
          "metadata": {
            "tags": []
          }
        },
        {
          "output_type": "stream",
          "text": [
            "\n"
          ],
          "name": "stdout"
        },
        {
          "output_type": "display_data",
          "data": {
            "application/vnd.jupyter.widget-view+json": {
              "model_id": "3c34d77c809c4cc3b0cabe5ba5bdbbd9",
              "version_minor": 0,
              "version_major": 2
            },
            "text/plain": [
              "HBox(children=(FloatProgress(value=0.0, description='Iteration', max=2104.0, style=ProgressStyle(description_w…"
            ]
          },
          "metadata": {
            "tags": []
          }
        },
        {
          "output_type": "stream",
          "text": [
            "\n",
            "\n"
          ],
          "name": "stdout"
        },
        {
          "output_type": "execute_result",
          "data": {
            "text/plain": [
              "TrainOutput(global_step=6312, training_loss=0.18736900893911715)"
            ]
          },
          "metadata": {
            "tags": []
          },
          "execution_count": 9
        }
      ]
    },
    {
      "cell_type": "markdown",
      "metadata": {
        "id": "3-3V-0yv_r_L",
        "colab_type": "text"
      },
      "source": [
        "## Evaluate "
      ]
    },
    {
      "cell_type": "markdown",
      "metadata": {
        "id": "75MYAZtG1K-N",
        "colab_type": "text"
      },
      "source": [
        "The metric used for evaluation of the Stanford Sentiment Treebank (SST) data is *Accuracy*. The result is returned by the `Trainer` class object used for fine-tuning. "
      ]
    },
    {
      "cell_type": "code",
      "metadata": {
        "id": "kGz07rX7_lsJ",
        "colab_type": "code",
        "colab": {}
      },
      "source": [
        "model_result = trainer.evaluate()\n",
        "print(\"Accuracy: {}\".format(model_result[\"eval_acc\"]))"
      ],
      "execution_count": null,
      "outputs": []
    },
    {
      "cell_type": "markdown",
      "metadata": {
        "id": "M-V2TAFppOuz",
        "colab_type": "text"
      },
      "source": [
        "# Interpretability with Captum\n",
        "\n",
        "---"
      ]
    },
    {
      "cell_type": "markdown",
      "metadata": {
        "id": "wwaRQy2LrnQd",
        "colab_type": "text"
      },
      "source": [
        "The examples below use two attribution methods from the Captum library:\n",
        "- **Integrated Gradients** - the method requires configuring interpretation hooks to perform attribution for all three embedding layers in one step, and\n",
        "- **Layer Integrated Gradients**, computed separately with respect to each of the three layers:\n",
        "    - `model.electra.embeddings.word_embeddings`\n",
        "    - `model.electra.embeddings.token_type_embeddings`\n",
        "    - `model.electra.embeddings.position_embeddings`\n",
        "\n",
        "We will try to find out to what extent, according to these methods, each token has contributed to the model's prediction, or, more precisely, to its shift from the baseline output. \n",
        "Each method requires setting a target class index: 0 for negative or 1 for a positive sentiment. Attribution is performed for each target class separately. Scores will be assigned with regard to the model's output for the selected class.\n",
        "\n",
        "The shape of attributions is the same as the shape of the *inputs* parameter of the `attribute` method."
      ]
    },
    {
      "cell_type": "markdown",
      "metadata": {
        "id": "ly7k0ryjp1C-",
        "colab_type": "text"
      },
      "source": [
        "Let's pick an example:"
      ]
    },
    {
      "cell_type": "code",
      "metadata": {
        "id": "c0uMvVUnzR4m",
        "colab_type": "code",
        "colab": {}
      },
      "source": [
        "text = \"visually imaginative , thematically instructive and thoroughly \\\n",
        "delightful , it takes us on a roller-coaster ride from innocence to experience \\\n",
        "without even a hint of that typical kiddie-flick sentimentality . \"\n",
        "true_label = 1\n",
        "\n",
        "[x for x in dataset[\"validation\"] if x[\"sentence\"] == text]"
      ],
      "execution_count": null,
      "outputs": []
    },
    {
      "cell_type": "markdown",
      "metadata": {
        "id": "SOQOBd8Hitie",
        "colab_type": "text"
      },
      "source": [
        "## Prepare input "
      ]
    },
    {
      "cell_type": "markdown",
      "metadata": {
        "id": "CHJo7nNBiPjV",
        "colab_type": "text"
      },
      "source": [
        "Set a cpu/gpu device according to availability. "
      ]
    },
    {
      "cell_type": "code",
      "metadata": {
        "id": "uw0e2qtajCrG",
        "colab_type": "code",
        "colab": {}
      },
      "source": [
        "device = torch.device('cuda:0' if torch.cuda.is_available() else 'cpu')"
      ],
      "execution_count": null,
      "outputs": []
    },
    {
      "cell_type": "markdown",
      "metadata": {
        "id": "5rlkMmJmiQg8",
        "colab_type": "text"
      },
      "source": [
        "**Helper functions**"
      ]
    },
    {
      "cell_type": "markdown",
      "metadata": {
        "id": "zxZg4TvKqPAH",
        "colab_type": "text"
      },
      "source": [
        "\n",
        "The functions below **construct input tensors** for our sample and for a sequence of [PAD] tokens serving as a baseline. We also need to define a **forward function** running inference on the model. The function will be passed on to objects handling attribution. \n",
        "\n",
        "Computation with **IntegratedGradients** requires altering the model by **configuring additional layers**. For this purpose, the Captum library provides the `configure_interpretable_embedding_layer` and `remove_interpretable_embedding_layer` methods. Configuring an interpretable embedding layer modifies the model. A model with interpretable layers requires input of a different shape. "
      ]
    },
    {
      "cell_type": "code",
      "metadata": {
        "id": "J89L8HhDB1JM",
        "colab_type": "code",
        "colab": {}
      },
      "source": [
        "def predict_forward_func(input_ids, token_type_ids=None, \n",
        "                         position_ids=None, attention_mask=None):\n",
        "    \"\"\"Function passed to ig constructors\"\"\"\n",
        "    return model(input_ids=input_ids, \n",
        "                 token_type_ids=token_type_ids, \n",
        "                 position_ids=position_ids, \n",
        "                 attention_mask=attention_mask)[0]  \n",
        "\n",
        "\n",
        "def prepare_input(text):\n",
        "    \"\"\"Prepare input ig attribution: tokenize sample and baseline text. \"\"\"\n",
        "    tokenized_text = tokenizer(text, return_tensors=\"pt\", \n",
        "                               return_attention_mask=True)\n",
        "    seq_len = tokenized_text[\"input_ids\"].shape[1]\n",
        "    position_ids = torch.arange(seq_len, dtype=torch.long).unsqueeze(0)\n",
        "\n",
        "    # Construct the baseline (a reference sample).\n",
        "    # Sequence of [PAD] tokens of length equal to that of the processed samples\n",
        "    ref_text = tokenizer.pad_token * (seq_len - 2) # special tokens\n",
        "    tokenized_ref_text = tokenizer(ref_text, return_tensors=\"pt\") \n",
        "    ref_position_ids = torch.arange(seq_len, dtype=torch.long).unsqueeze(0)\n",
        "\n",
        "    return (tokenized_text[\"input_ids\"],\n",
        "            tokenized_text[\"token_type_ids\"], \n",
        "            position_ids,\n",
        "            tokenized_ref_text[\"input_ids\"],\n",
        "            tokenized_ref_text[\"token_type_ids\"], \n",
        "            ref_position_ids,\n",
        "            tokenized_text[\"attention_mask\"])   \n",
        "\n",
        "\n",
        "def configure_interpretable_embeddings():\n",
        "    \"\"\"Configure interpretable embedding layer\"\"\"\n",
        "    interpretable_embedding1 = \\\n",
        "    configure_interpretable_embedding_layer(\n",
        "        model,\n",
        "        'electra.embeddings.word_embeddings')\n",
        "    interpretable_embedding2 = \\\n",
        "    configure_interpretable_embedding_layer(\n",
        "        model,\n",
        "        'electra.embeddings.token_type_embeddings')\n",
        "    interpretable_embedding3 = \\\n",
        "    configure_interpretable_embedding_layer(\n",
        "        model,\n",
        "        'electra.embeddings.position_embeddings')\n",
        "    return (interpretable_embedding1,\\\n",
        "            interpretable_embedding2,\\\n",
        "            interpretable_embedding3)\n",
        "\n",
        "\n",
        "def remove_interpretable_embeddings(interpretable_embedding1, \n",
        "                                    interpretable_embedding2, \n",
        "                                    interpretable_embedding3):\n",
        "    '''Remove interpretable layer to restore oryginal model structure'''\n",
        "    if not type(model.get_input_embeddings()).__name__ == \"InterpretableEmbeddingBase\":\n",
        "        return\n",
        "    remove_interpretable_embedding_layer(model, interpretable_embedding1)\n",
        "    remove_interpretable_embedding_layer(model, interpretable_embedding2)\n",
        "    remove_interpretable_embedding_layer(model, interpretable_embedding3)    \n",
        "\n",
        "\n",
        "def prepare_input_embed(input_ids, token_type_ids, position_ids,\n",
        "                        ref_input_ids, ref_token_type_ids, ref_position_ids,\n",
        "                        attention_mask):\n",
        "    \"\"\"Construct input for the modified model\"\"\"\n",
        "    input_ids_embed = interpretable_embedding1.indices_to_embeddings(input_ids)\n",
        "    ref_input_ids_embed = interpretable_embedding1.indices_to_embeddings(\n",
        "        ref_input_ids)\n",
        "    token_type_ids_embed = interpretable_embedding2.indices_to_embeddings(\n",
        "        token_type_ids)\n",
        "    ref_token_type_ids_embed = interpretable_embedding2.indices_to_embeddings(\n",
        "        ref_token_type_ids)\n",
        "    position_ids_embed = interpretable_embedding3.indices_to_embeddings(\n",
        "        position_ids)\n",
        "    ref_position_ids_embed = interpretable_embedding3.indices_to_embeddings(\n",
        "        ref_position_ids)\n",
        "    \n",
        "    return (input_ids_embed, token_type_ids_embed, position_ids_embed,\\\n",
        "    ref_input_ids_embed, ref_token_type_ids_embed, ref_position_ids_embed, \\\n",
        "    attention_mask)\n",
        "\n",
        "\n",
        "def place_on_device(*tensors):\n",
        "    tensors_device = []\n",
        "    for t in tensors:\n",
        "        tensors_device.append(t.to(device))\n",
        "    return tuple(tensors_device)  "
      ],
      "execution_count": null,
      "outputs": []
    },
    {
      "cell_type": "markdown",
      "metadata": {
        "id": "4BN3x0ISIazV",
        "colab_type": "text"
      },
      "source": [
        "## Integrated Gradients"
      ]
    },
    {
      "cell_type": "markdown",
      "metadata": {
        "id": "asVO1IpJyt8r",
        "colab_type": "text"
      },
      "source": [
        "To compute attributions with Integrated Gradients we will:\n",
        "- instantiate the `IntegratedGradients` class passing the `predict_forward_func` function as parameter,\n",
        "- configure interpretable embeddings layer,\n",
        "- prepare input tensors,\n",
        "- compute attributions,\n",
        "- remove interpratable embeddings layer."
      ]
    },
    {
      "cell_type": "markdown",
      "metadata": {
        "id": "LMQKjnurz9qz",
        "colab_type": "text"
      },
      "source": [
        "### Compute attributions"
      ]
    },
    {
      "cell_type": "code",
      "metadata": {
        "id": "g8ZNDXGZIhW_",
        "colab_type": "code",
        "colab": {}
      },
      "source": [
        "# Instantiate the IntegratedGradients class\n",
        "ig = IntegratedGradients(predict_forward_func)"
      ],
      "execution_count": null,
      "outputs": []
    },
    {
      "cell_type": "code",
      "metadata": {
        "id": "q0ifAYT8Ij_T",
        "colab_type": "code",
        "colab": {}
      },
      "source": [
        "# Configure interpretable embeddings layer \n",
        "print(\"Oryginal model input embeddings:\\n {}\\n\".\n",
        "      format(model.get_input_embeddings()))\n",
        "if not type(model.get_input_embeddings()).__name__ == \"InterpretableEmbeddingBase\":\n",
        "    interpretable_embedding1, interpretable_embedding2, interpretable_embedding3 =\\\n",
        "    configure_interpretable_embeddings()\n",
        "print(\"Input embeddings with interpretable layer:\\n {}\\n\".\n",
        "      format(model.get_input_embeddings()))\n",
        "\n",
        "# Prepare input \n",
        "input_data = prepare_input(text)\n",
        "input_data = place_on_device(*input_data) \n",
        "input_data_embed = prepare_input_embed(*input_data) \n",
        "input_ids_embed, token_type_ids_embed, position_ids_embed = input_data_embed[0:3]\n",
        "ref_input_ids_embed, ref_token_type_ids_embed, \\\n",
        "ref_position_ids_embed = input_data_embed[3:6]\n",
        "attention_mask = input_data_embed[-1]\n",
        "\n",
        "# Compute attributions for both target classes\n",
        "# class 0 (negative)\n",
        "attributions_0, approximation_error_0 = ig.attribute(\n",
        "    inputs=(input_ids_embed, token_type_ids_embed, position_ids_embed),\n",
        "    baselines=(ref_input_ids_embed, \n",
        "               ref_token_type_ids_embed, \n",
        "               ref_position_ids_embed),\n",
        "               additional_forward_args=(attention_mask),\n",
        "               target = 0, # Set target class here\n",
        "               return_convergence_delta=True, \n",
        "               n_steps=200)\n",
        "# class 1 (positive)\n",
        "attributions_1, approximation_error_1 = ig.attribute(\n",
        "    inputs=(input_ids_embed, token_type_ids_embed, position_ids_embed),\n",
        "    baselines=(ref_input_ids_embed, \n",
        "               ref_token_type_ids_embed, \n",
        "               ref_position_ids_embed),\n",
        "               additional_forward_args=(attention_mask),\n",
        "               target = 1, # Set target class here\n",
        "               return_convergence_delta=True, \n",
        "               n_steps=200)\n",
        "\n",
        "# Remove interpratable embeddings layer used by ig attribution\n",
        "remove_interpretable_embeddings(interpretable_embedding1, \n",
        "                                interpretable_embedding2, \n",
        "                                interpretable_embedding3)\n",
        "print(\"\\nInput embeddings with interpretable layer removed:\\n {}\\n\"\n",
        ".format(model.get_input_embeddings()))"
      ],
      "execution_count": null,
      "outputs": []
    },
    {
      "cell_type": "markdown",
      "metadata": {
        "id": "turkFMM8Ng6n",
        "colab_type": "text"
      },
      "source": [
        "### Completeness"
      ]
    },
    {
      "cell_type": "markdown",
      "metadata": {
        "id": "Kpltx2dbvNfa",
        "colab_type": "text"
      },
      "source": [
        "The Integrated Gradients method satisfies the completeness property. The sum of attributions should be equal, with certain accuracy, to the difference between the model's output for the sample and its output for the selected baseline (in this case a sequence of [PAD] tokens). Increase the parameter `n_steps` parameter of the `ig.attribute` method to obtain better accuracy."
      ]
    },
    {
      "cell_type": "code",
      "metadata": {
        "id": "raXBOcBN2up6",
        "colab_type": "code",
        "colab": {}
      },
      "source": [
        "def check_completeness(attributions_0, attributions_1):\n",
        "    input_ids, token_type_ids, position_ids, \\\n",
        "    ref_input_ids, ref_token_type_ids, ref_position_ids, attention_mask = input_data\n",
        "\n",
        "    # Prediction for the sample\n",
        "    scores = predict_forward_func(input_ids, token_type_ids,\n",
        "                                position_ids, attention_mask) \n",
        "\n",
        "    # Prediction for the baseline\n",
        "    ref_scores = predict_forward_func(ref_input_ids, ref_token_type_ids,\n",
        "                                    ref_position_ids, attention_mask)\n",
        "\n",
        "    # How prediction for the sample differs from baseline prediction  \n",
        "    diff_from_baseline = scores - ref_scores\n",
        "    diff_from_baseline = diff_from_baseline.clone().detach().to('cpu').numpy()[0]\n",
        "\n",
        "    # Put on cpu\n",
        "    if torch.is_tensor(attributions_0[0]):\n",
        "        attributions_0 = [x.clone().detach().to('cpu').numpy() for x in attributions_0]\n",
        "    if torch.is_tensor(attributions_1[0]):\n",
        "        attributions_1 = [x.clone().detach().to('cpu').numpy() for x in attributions_1]\n",
        "\n",
        "    # Sum of attributions\n",
        "    attributions_sum0 = [x.sum() for x in attributions_0]\n",
        "    attributions_sum1 = [x.sum() for x in attributions_1]\n",
        "    attributions_sum = [sum(attributions_sum0), sum(attributions_sum1)]\n",
        "    diff = diff_from_baseline - attributions_sum\n",
        "\n",
        "    # Find out which layers contribute to the score (order: order of inputs)\n",
        "    print(\"Class 0: input_ids sum: {}\".format(attributions_sum0[0]))\n",
        "    print(\"Classs 0: token_type sum: {}\".format(attributions_0[1].sum()))\n",
        "    print(\"Class 0: position_ids sum: {}\".format(attributions_0[2].sum()))\n",
        "    print(\"Class 1: input_ids sum: {}\".format(attributions_1[0].sum()))\n",
        "    print(\"Classs 1: token_type sum: {}\".format(attributions_1[1].sum()))\n",
        "    print(\"Class 1: position_ids sum: {}\".format(attributions_1[2].sum()))\n",
        "\n",
        "    # Compare sum of attributions and baseline prediction - prediction\n",
        "    print(\"\\nPrediction for sample: {}\".format(scores))\n",
        "    print(\"Prediction for baseline: {}\".format(ref_scores))\n",
        "    print(\"Difference from baseline: {}\".format(diff_from_baseline))\n",
        "    print(\"Sum of attributions: {}\".format(attributions_sum))\n",
        "    print(\"\\nClass 0:\\n score: {}\\n reference score: {}\\\n",
        "    \\n difference from ref.:{}\\n attributions: {}\\\n",
        "    \\n difference from reference - attributions: {}\".\\\n",
        "    format(scores[0][0], ref_scores[0][0], diff_from_baseline[0], \n",
        "            attributions_sum[0], diff[0]))\n",
        "    print(\"\\nClass 1:\\n score: {}\\n reference score: {}\\\n",
        "    \\n difference from ref.:{}\\n attributions: {}\\\n",
        "    \\n difference from reference - attributions: {}\".\\\n",
        "    format(scores[0][1], ref_scores[0][1], diff_from_baseline[1], \n",
        "            attributions_sum[1], diff[1]))\n",
        "    \n",
        "    return attributions_0, attributions_1\n",
        "    \n",
        "    \n",
        "attributions_0, attributions_1 = check_completeness(attributions_0, \n",
        "                                                    attributions_1)    "
      ],
      "execution_count": null,
      "outputs": []
    },
    {
      "cell_type": "markdown",
      "metadata": {
        "id": "GGv8Z_rPWpxs",
        "colab_type": "text"
      },
      "source": [
        "## Layer Integrated Gradients"
      ]
    },
    {
      "cell_type": "markdown",
      "metadata": {
        "id": "-g85-8mizbf4",
        "colab_type": "text"
      },
      "source": [
        "With Layer Integrated Gradients, attributions are computed with respect to a certain layer. We'll run the algorithm for three [layers](https://github.com/huggingface/transformers/blob/d5b0a0e235cc6fccba4f9013cdb54cee01e90a91/src/transformers/modeling_electra.py#L131) separately: \n",
        "- `model.electra.embeddings.word_embeddings`\n",
        "- `model.electra.embeddings.token_type_embeddings`\n",
        "- `model.electra.embeddings.position_embeddings`\n",
        "\n"
      ]
    },
    {
      "cell_type": "markdown",
      "metadata": {
        "id": "VtkHVIz80pmG",
        "colab_type": "text"
      },
      "source": [
        "### Compute attributions"
      ]
    },
    {
      "cell_type": "markdown",
      "metadata": {
        "id": "48x070y7El1n",
        "colab_type": "text"
      },
      "source": [
        "Assigning attributions with Layer Integrated Gradients requires:\n",
        "- instantiating the `IntegratedGradients` class and passing the `predict_forward_func` function along with a selected layer as parameters,\n",
        "- calling `lig.attribute` to assign values to each token."
      ]
    },
    {
      "cell_type": "code",
      "metadata": {
        "id": "AhxxF_rIXDqr",
        "colab_type": "code",
        "colab": {}
      },
      "source": [
        "# 1. model.electra.embeddings.word_embeddings\n",
        "lig_word_we = LayerIntegratedGradients(\n",
        "    predict_forward_func, \n",
        "    model.electra.embeddings.word_embeddings)\n",
        "\n",
        "layer_attributions_we_0, _ = lig_word_we.attribute(\n",
        "    inputs=input_ids, baselines=ref_input_ids,\n",
        "    additional_forward_args=(token_type_ids, position_ids, attention_mask),\n",
        "    return_convergence_delta=True, target=0, n_steps=200)\n",
        "\n",
        "layer_attributions_we_1, _ = lig_word_we.attribute(\n",
        "    inputs=input_ids, baselines=ref_input_ids,\n",
        "    additional_forward_args=(token_type_ids, position_ids, attention_mask),\n",
        "    return_convergence_delta=True, target=1, n_steps=200)\n",
        "\n",
        "# 2. model.electra.embeddings.token_type_embeddings\n",
        "lig_word_tte = LayerIntegratedGradients(\n",
        "    predict_forward_func, \n",
        "    model.electra.embeddings.token_type_embeddings)\n",
        "\n",
        "layer_attributions_tte_0, _ = lig_word_tte.attribute(\n",
        "    inputs=input_ids, baselines=ref_input_ids,\n",
        "    additional_forward_args=(token_type_ids, position_ids, attention_mask),\n",
        "    return_convergence_delta=True, target=0, n_steps=200)\n",
        "\n",
        "layer_attributions_tte_1, _ = lig_word_tte.attribute(\n",
        "    inputs=input_ids, baselines=ref_input_ids,\n",
        "    additional_forward_args=(token_type_ids, position_ids, attention_mask),\n",
        "    return_convergence_delta=True, target=1, n_steps=200)\n",
        "\n",
        "# 3. model.electra.embeddings.position_embeddings\n",
        "lig_word_pe = LayerIntegratedGradients(\n",
        "    predict_forward_func, \n",
        "    model.electra.embeddings.position_embeddings)\n",
        "\n",
        "layer_attributions_pe_0, _ = lig_word_pe.attribute(\n",
        "    inputs=input_ids, baselines=ref_input_ids,\n",
        "    additional_forward_args=(token_type_ids, position_ids, attention_mask),\n",
        "    return_convergence_delta=True, target=0, n_steps=200)\n",
        "\n",
        "layer_attributions_pe_1, _ = lig_word_pe.attribute(\n",
        "    inputs=input_ids, baselines=ref_input_ids,\n",
        "    additional_forward_args=(token_type_ids, position_ids, attention_mask),\n",
        "    return_convergence_delta=True, target=1, n_steps=200)"
      ],
      "execution_count": null,
      "outputs": []
    },
    {
      "cell_type": "markdown",
      "metadata": {
        "id": "mH00-uGolgX9",
        "colab_type": "text"
      },
      "source": [
        "**Plot**\n",
        "\n",
        "Attributions assigned to tokens may take opposite values when computed with regard to class 0 and class 1."
      ]
    },
    {
      "cell_type": "code",
      "metadata": {
        "id": "ofWTZUq-ljFY",
        "colab_type": "code",
        "colab": {}
      },
      "source": [
        "# word_embeddings: index 0\n",
        "lig_0 = layer_attributions_0[0].squeeze().sum(1)\n",
        "lig_1 = layer_attributions_1[0].squeeze().sum(1)\n",
        "\n",
        "tokens = tokenizer.convert_ids_to_tokens(tokenizer(text)[\"input_ids\"])\n",
        "\n",
        "plt.rcParams[\"figure.figsize\"] = [12, 6]\n",
        "plt.bar(list(range(len(lig_0))), lig_0, color='r', alpha=0.5)\n",
        "plt.bar(list(range(len(lig_1))), lig_1, color='g', alpha=0.5)\n",
        "plt.xticks(list(range(len(lig_0))), tokens, rotation='vertical')\n",
        "plt.legend(labels=[\"Target: negative\", \"Target: positive\"])\n",
        "plt.xlabel('Token', fontweight='bold')\n",
        "plt.title(\"Token attributions for positive and negative target class\")\n",
        "plt.show()"
      ],
      "execution_count": null,
      "outputs": []
    },
    {
      "cell_type": "markdown",
      "metadata": {
        "id": "ofIDYnUr994Y",
        "colab_type": "text"
      },
      "source": [
        "### Completeness"
      ]
    },
    {
      "cell_type": "markdown",
      "metadata": {
        "id": "L9uTWg6O-NuF",
        "colab_type": "text"
      },
      "source": [
        "Completeness for attributions found for each layer separately"
      ]
    },
    {
      "cell_type": "code",
      "metadata": {
        "id": "15G8-Qg69_0O",
        "colab_type": "code",
        "colab": {}
      },
      "source": [
        "layer_attributions_0, layer_attributions_1 = check_completeness(\n",
        "    (layer_attributions_we_0, layer_attributions_tte_0, layer_attributions_pe_0),\n",
        "    (layer_attributions_we_1, layer_attributions_tte_1, layer_attributions_pe_1)\n",
        ")"
      ],
      "execution_count": null,
      "outputs": []
    },
    {
      "cell_type": "markdown",
      "metadata": {
        "id": "0HnTBKcFAjy5",
        "colab_type": "text"
      },
      "source": [
        "### Compare with IG"
      ]
    },
    {
      "cell_type": "code",
      "metadata": {
        "id": "W5iurfLHIpJ0",
        "colab_type": "code",
        "colab": {}
      },
      "source": [
        "# Attributions for input_ids\n",
        "ig_1 = attributions_1[0].squeeze().sum(1)\n",
        "lig_1 = layer_attributions_1[0].squeeze().sum(1)\n",
        "\n",
        "range_ig = [x + 0.5 for x in np.arange(len(ig_1))]\n",
        "range_lig = [x + 0.5 for x in range_ig]\n",
        " \n",
        "plt.bar(range_ig, ig_1, width=0.5, label='ig')\n",
        "plt.bar(range_lig, lig_1, width=0.5, label='lig')\n",
        "plt.xlabel('Token', fontweight='bold')\n",
        "plt.xticks(list(range(len(lig_1))), tokens, rotation='vertical')\n",
        "plt.legend()\n",
        "plt.title(\"Attributions with IG and LIG for the positive target class.\")\n",
        "plt.show()"
      ],
      "execution_count": null,
      "outputs": []
    },
    {
      "cell_type": "markdown",
      "metadata": {
        "id": "T9WIp8XJXrZc",
        "colab_type": "text"
      },
      "source": [
        "## Visualization"
      ]
    },
    {
      "cell_type": "markdown",
      "metadata": {
        "id": "tryuEZ0LbNNO",
        "colab_type": "text"
      },
      "source": [
        "### Helper functions"
      ]
    },
    {
      "cell_type": "code",
      "metadata": {
        "id": "5eNIcNg4-aFZ",
        "colab_type": "code",
        "colab": {}
      },
      "source": [
        "def get_input_data(text):\n",
        "    input_data = place_on_device(*prepare_input(text))\n",
        "    input_data_embed = prepare_input_embed(*input_data)   \n",
        "    return input_data, input_data_embed \n",
        "\n",
        "\n",
        "def ig_attribute(class_index, input_data_embed):\n",
        "    return ig.attribute(inputs=input_data_embed[0:3],\n",
        "                        baselines=input_data_embed[3:6],\n",
        "                        additional_forward_args=(input_data_embed[6]),\n",
        "                        target = class_index,\n",
        "                        return_convergence_delta=True,\n",
        "                        n_steps=200)\n",
        "    \n",
        "\n",
        "def lig_attribute(class_index, input_data):\n",
        "    return lig.attribute(\n",
        "        inputs=input_data[0], baselines=input_data[3],\n",
        "        additional_forward_args=(input_data[1], input_data[2], input_data[6]),\n",
        "        return_convergence_delta=True, target=class_index)\n",
        "\n",
        "\n",
        "def summarize_attributions(attributions):\n",
        "    attributions = attributions.sum(dim=-1).squeeze(0)\n",
        "    attributions = attributions / torch.norm(attributions)\n",
        "    return attributions\n",
        "\n",
        "\n",
        "def compute_attributions_ig(input_data_embed):\n",
        "    # Create interpretable layer\n",
        "    if not type(\n",
        "        model.get_input_embeddings()).__name__ == \"InterpretableEmbeddingBase\":    \n",
        "        interpretable_embedding1, interpretable_embedding2,\\\n",
        "        interpretable_embedding3 = configure_interpretable_embeddings()\n",
        "    # Compute attributions for positive and nagative samples (class 1 and 0)\n",
        "    attr_0, delta_0 = ig_attribute(0, input_data_embed)\n",
        "    attr_1, delta_1 = ig_attribute(1, input_data_embed)\n",
        "    # Remove interprateble layer used by ig attribution\n",
        "    remove_interpretable_embeddings(interpretable_embedding1, \n",
        "                                    interpretable_embedding2, \n",
        "                                    interpretable_embedding3)\n",
        "    # Return attributions for 'input_ids' (element 0) for 0 and 1 class indices\n",
        "    return (attr_0[0], delta_0), (attr_1[0], delta_1)    \n",
        "\n",
        "\n",
        "def compute_attributions_lig(input_data):  \n",
        "    # Compute attributions for positive and nagative samples (class 1 and 0)\n",
        "    return lig_attribute(0, input_data), lig_attribute(1, input_data)\n",
        "\n",
        "\n",
        "def get_visualization_record(text, attributions, scores, true_label,\n",
        "                             all_tokens, approximation_error):\n",
        "    attributions_sum = summarize_attributions(attributions)\n",
        "    return viz.VisualizationDataRecord(\n",
        "        attributions_sum,\n",
        "        torch.max(torch.softmax(scores[0], dim=0)),\n",
        "        torch.argmax(scores),\n",
        "        true_label,\n",
        "        text,\n",
        "        attributions_sum.sum(),\n",
        "        all_tokens,\n",
        "        approximation_error)\n",
        "    \n",
        "\n",
        "def visualize_attributions(text, true_label, method):\n",
        "    # Prepare input\n",
        "    input_data = place_on_device(*prepare_input(text))\n",
        "    input_data_embed = prepare_input_embed(*input_data)\n",
        "    # Compute attributions\n",
        "    attr_0, attr_1, delta_0, delta_1 = None, None, None, None\n",
        "    if method == \"ig\":\n",
        "        (attr_0, delta_0), (attr_1, delta_1) = \\\n",
        "        compute_attributions_ig(input_data_embed)\n",
        "    elif method == \"lig\":    \n",
        "        (attr_0, delta_0), (attr_1, delta_1) = \\\n",
        "        compute_attributions_lig(input_data)\n",
        "    else:\n",
        "        return \"method: ig or lig\"    \n",
        "    # Run inference\n",
        "    scores = predict_forward_func(*input_data[0:3], input_data[-1])\n",
        "    # Prepare visualization \n",
        "    indices = input_data[0][0].detach().tolist()\n",
        "    all_tokens = tokenizer.convert_ids_to_tokens(indices)\n",
        "    data_vis_0 = get_visualization_record(text, attr_0, scores, \n",
        "                                          true_label, all_tokens, delta_0)  \n",
        "    data_vis_1 = get_visualization_record(text, attr_1, scores, \n",
        "                                          true_label, all_tokens, delta_1) \n",
        "    # Visualize\n",
        "    print(\"\\nAttribution method: {},\".\n",
        "          format(method), \"class index: 0 (negative)\")\n",
        "    viz.visualize_text([data_vis_0])\n",
        "    print(\"Attribution method: {},\".\n",
        "          format(method), \"Class index: 1 (positive)\")\n",
        "    viz.visualize_text([data_vis_1]) \n",
        "    return attr_0, attr_1    "
      ],
      "execution_count": null,
      "outputs": []
    },
    {
      "cell_type": "markdown",
      "metadata": {
        "id": "D8m9IAb2Z-vn",
        "colab_type": "text"
      },
      "source": [
        "### Examples"
      ]
    },
    {
      "cell_type": "markdown",
      "metadata": {
        "id": "kGn3780AmD_Z",
        "colab_type": "text"
      },
      "source": [
        "Captum visualization library shows in green tokens that push the prediction towards the target class. Those driving the score towards the reference value are marked in red. As a result, words perceived as positive will appear in green if attribution is performed against class 1 (positive) but will be highlighted in red with an attribution targeting class 0 (negative).\n",
        "\n",
        "Because importance scores ar assigned to tokens, not words, some examples may show that attribution is highly dependent on tokenization. Classification result may vary between runs.\n"
      ]
    },
    {
      "cell_type": "markdown",
      "metadata": {
        "id": "UHyNJIc39rUr",
        "colab_type": "text"
      },
      "source": [
        "Browse examples:"
      ]
    },
    {
      "cell_type": "code",
      "metadata": {
        "id": "ka-dgLIEgYPA",
        "colab_type": "code",
        "colab": {}
      },
      "source": [
        "# Run predictions\n",
        "eval_pred_result = trainer.predict(eval_dataset)\n",
        "predictions = np.argmax(eval_pred_result.predictions, axis=1)\n",
        "\n",
        "# Find misclassifed samples\n",
        "eval_samples = [tokenizer.decode(x.input_ids, skip_special_tokens=True) \\\n",
        "                for x in eval_dataset]\n",
        "eval_preds = list(zip(eval_pred_result.label_ids, predictions))\n",
        "positive_pred_as_positive = [sample for sample, (real_label, pred_label) \\\n",
        "                             in zip(eval_samples, eval_preds) \\\n",
        "                             if real_label == pred_label and real_label == 1]  \n",
        "negative_pred_as_negative = [sample for sample, (real_label, pred_label) \\\n",
        "                             in zip(eval_samples, eval_preds) \\\n",
        "                             if real_label == pred_label and real_label == 0]                               \n",
        "negative_pred_as_positive = [sample for sample, (real_label, pred_label) \\\n",
        "                             in zip(eval_samples, eval_preds) \\\n",
        "                             if real_label != pred_label and real_label == 0]\n",
        "positive_pred_as_negative = [sample for sample, (real_label, pred_label) \\\n",
        "                             in zip(eval_samples, eval_preds) \\\n",
        "                             if real_label != pred_label and real_label == 1]\n",
        "\n",
        "# Browse\n",
        "# print('\\n'.join(positive_pred_as_positive))   \n",
        "# print('\\n'.join(negative_pred_as_negative))    \n",
        "# print('\\n'.join(negative_pred_as_positive))     \n",
        "# print('\\n'.join(positive_pred_as_negative))                                          "
      ],
      "execution_count": null,
      "outputs": []
    },
    {
      "cell_type": "markdown",
      "metadata": {
        "id": "j6FcN8liZyda",
        "colab_type": "text"
      },
      "source": [
        "#### Positive"
      ]
    },
    {
      "cell_type": "markdown",
      "metadata": {
        "id": "IHHxBoJ7oMOM",
        "colab_type": "text"
      },
      "source": [
        "A correctly classified positive sample\n",
        "\n",
        "Use our example or pick your own by setting `text_vis` and `true_label_vis` variables."
      ]
    },
    {
      "cell_type": "code",
      "metadata": {
        "id": "AGrav0a8oecG",
        "colab_type": "code",
        "colab": {}
      },
      "source": [
        "text_vis = text\n",
        "true_label_vis = true_label\n",
        "\n",
        "ig_0, ig_1 = visualize_attributions(text_vis, true_label_vis, \"ig\")\n",
        "# lig_0, lig_1 = visualize_attributions(text_vis, true_label_vis, \"lig\")"
      ],
      "execution_count": null,
      "outputs": []
    },
    {
      "cell_type": "markdown",
      "metadata": {
        "id": "YJUKqnKJaBDo",
        "colab_type": "text"
      },
      "source": [
        "#### Negative"
      ]
    },
    {
      "cell_type": "markdown",
      "metadata": {
        "id": "VVf89iWsECJp",
        "colab_type": "text"
      },
      "source": [
        "A correctly classified negative sample\n",
        "\n",
        "Use our example or pick your own by setting `text_vis` and `true_label_vis` variables."
      ]
    },
    {
      "cell_type": "code",
      "metadata": {
        "id": "Ku4Jq-9zf-K8",
        "colab_type": "code",
        "colab": {}
      },
      "source": [
        "text_vis = 'the film makes a fatal mistake : it asks us to care about a young \\\n",
        "man whose only apparent virtue is that he is not quite as unpleasant as some \\\n",
        "of the people in his life.'\n",
        "true_label_vis = 0\n",
        "\n",
        "ig_0, ig_1 = visualize_attributions(text_vis, true_label_vis, \"ig\")\n",
        "# lig_0, lig_1 = visualize_attributions(text_vis, true_label_vis, \"lig\")"
      ],
      "execution_count": null,
      "outputs": []
    },
    {
      "cell_type": "markdown",
      "metadata": {
        "id": "gzZhcUMKn3My",
        "colab_type": "text"
      },
      "source": [
        "#### Misclassified"
      ]
    },
    {
      "cell_type": "markdown",
      "metadata": {
        "id": "VCHm7T-ih-zZ",
        "colab_type": "text"
      },
      "source": [
        "Negative examples misclassified as positive"
      ]
    },
    {
      "cell_type": "code",
      "metadata": {
        "id": "_8sGOEfHNtQl",
        "colab_type": "code",
        "colab": {}
      },
      "source": [
        "print('\\n'.join(negative_pred_as_positive)) "
      ],
      "execution_count": null,
      "outputs": []
    },
    {
      "cell_type": "markdown",
      "metadata": {
        "id": "WkAmTeq6u3oI",
        "colab_type": "text"
      },
      "source": [
        "Pick an example"
      ]
    },
    {
      "cell_type": "code",
      "metadata": {
        "id": "W9GoAAQROGDq",
        "colab_type": "code",
        "colab": {}
      },
      "source": [
        "#text_vis = \"...\"\n",
        "#true_label_vis = 0\n",
        "\n",
        "#ig_0, ig_1 = visualize_attributions(text_vis, true_label_vis, \"ig\")\n",
        "#lig_0, lig_1 = visualize_attributions(text_vis, true_label_vis, \"lig\")"
      ],
      "execution_count": null,
      "outputs": []
    },
    {
      "cell_type": "markdown",
      "metadata": {
        "id": "eTNNTfVdiEXk",
        "colab_type": "text"
      },
      "source": [
        "Positive examples misclassified as negative"
      ]
    },
    {
      "cell_type": "code",
      "metadata": {
        "id": "q9f9G-gdN1_8",
        "colab_type": "code",
        "colab": {}
      },
      "source": [
        "print('\\n'.join(positive_pred_as_negative)) "
      ],
      "execution_count": null,
      "outputs": []
    },
    {
      "cell_type": "markdown",
      "metadata": {
        "id": "NiLOTdTGu2Kf",
        "colab_type": "text"
      },
      "source": [
        "Pick an example"
      ]
    },
    {
      "cell_type": "code",
      "metadata": {
        "id": "IyKdJ2sEV0OE",
        "colab_type": "code",
        "colab": {}
      },
      "source": [
        "#text_vis = \"...\"\n",
        "#true_label_vis = 1\n",
        "\n",
        "#ig_0, ig_1 = visualize_attributions(text_vis, true_label_vis, \"ig\")\n",
        "# lig_0, lig_1 = visualize_attributions(text_vis, true_label_vis, \"lig\")"
      ],
      "execution_count": null,
      "outputs": []
    },
    {
      "cell_type": "markdown",
      "metadata": {
        "id": "D23Ejoku1P4b",
        "colab_type": "text"
      },
      "source": [
        "# References\n",
        "\n",
        "---"
      ]
    },
    {
      "cell_type": "markdown",
      "metadata": {
        "id": "u6GWu4mq1URt",
        "colab_type": "text"
      },
      "source": [
        "https://captum.ai/tutorials/Bert_SQUAD_Interpret\n",
        "\n",
        "https://captum.ai/docs/algorithms\n",
        "\n",
        "https://captum.ai/api/integrated_gradients.html\n",
        "\n",
        "https://github.com/google-research/electra/\n",
        "\n",
        "https://github.com/google-research/electra/blob/master/configure_finetuning.py\n",
        "\n",
        "https://github.com/huggingface/nlp/blob/master/notebooks/Overview.ipynb\n",
        "\n",
        "https://huggingface.co/transformers/main_classes/trainer.html"
      ]
    }
  ]
}