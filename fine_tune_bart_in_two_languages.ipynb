{
  "nbformat": 4,
  "nbformat_minor": 0,
  "metadata": {
    "accelerator": "GPU",
    "colab": {
      "name": "fine-tune-bart-in-two-langs-5.ipynb",
      "provenance": [],
      "collapsed_sections": [],
      "toc_visible": true
    },
    "kernelspec": {
      "display_name": "Python 3",
      "name": "python3"
    },
    "widgets": {
      "application/vnd.jupyter.widget-state+json": {
        "3ee22bffb3504146b7facaf6b6afd260": {
          "model_module": "@jupyter-widgets/controls",
          "model_name": "HBoxModel",
          "state": {
            "_view_name": "HBoxView",
            "_dom_classes": [],
            "_model_name": "HBoxModel",
            "_view_module": "@jupyter-widgets/controls",
            "_model_module_version": "1.5.0",
            "_view_count": null,
            "_view_module_version": "1.5.0",
            "box_style": "",
            "layout": "IPY_MODEL_772ff3789bce45b68d793d9c7dff2f23",
            "_model_module": "@jupyter-widgets/controls",
            "children": [
              "IPY_MODEL_2c07c394665e4b0189ee8cd6a42f2291",
              "IPY_MODEL_6cf15076a45d465d8f6c76552f883be4"
            ]
          }
        },
        "772ff3789bce45b68d793d9c7dff2f23": {
          "model_module": "@jupyter-widgets/base",
          "model_name": "LayoutModel",
          "state": {
            "_view_name": "LayoutView",
            "grid_template_rows": null,
            "right": null,
            "justify_content": null,
            "_view_module": "@jupyter-widgets/base",
            "overflow": null,
            "_model_module_version": "1.2.0",
            "_view_count": null,
            "flex_flow": null,
            "width": null,
            "min_width": null,
            "border": null,
            "align_items": null,
            "bottom": null,
            "_model_module": "@jupyter-widgets/base",
            "top": null,
            "grid_column": null,
            "overflow_y": null,
            "overflow_x": null,
            "grid_auto_flow": null,
            "grid_area": null,
            "grid_template_columns": null,
            "flex": null,
            "_model_name": "LayoutModel",
            "justify_items": null,
            "grid_row": null,
            "max_height": null,
            "align_content": null,
            "visibility": null,
            "align_self": null,
            "height": null,
            "min_height": null,
            "padding": null,
            "grid_auto_rows": null,
            "grid_gap": null,
            "max_width": null,
            "order": null,
            "_view_module_version": "1.2.0",
            "grid_template_areas": null,
            "object_position": null,
            "object_fit": null,
            "grid_auto_columns": null,
            "margin": null,
            "display": null,
            "left": null
          }
        },
        "2c07c394665e4b0189ee8cd6a42f2291": {
          "model_module": "@jupyter-widgets/controls",
          "model_name": "FloatProgressModel",
          "state": {
            "_view_name": "ProgressView",
            "style": "IPY_MODEL_dec938367576449b90774f2aa613aacd",
            "_dom_classes": [],
            "description": "Downloading: 100%",
            "_model_name": "FloatProgressModel",
            "bar_style": "success",
            "max": 1465,
            "_view_module": "@jupyter-widgets/controls",
            "_model_module_version": "1.5.0",
            "value": 1465,
            "_view_count": null,
            "_view_module_version": "1.5.0",
            "orientation": "horizontal",
            "min": 0,
            "description_tooltip": null,
            "_model_module": "@jupyter-widgets/controls",
            "layout": "IPY_MODEL_52957f0d89d64ac1837d8ebd07237663"
          }
        },
        "6cf15076a45d465d8f6c76552f883be4": {
          "model_module": "@jupyter-widgets/controls",
          "model_name": "HTMLModel",
          "state": {
            "_view_name": "HTMLView",
            "style": "IPY_MODEL_9f606f011d664626ae17e0824096ec8b",
            "_dom_classes": [],
            "description": "",
            "_model_name": "HTMLModel",
            "placeholder": "​",
            "_view_module": "@jupyter-widgets/controls",
            "_model_module_version": "1.5.0",
            "value": " 1.47k/1.47k [00:19&lt;00:00, 77.0B/s]",
            "_view_count": null,
            "_view_module_version": "1.5.0",
            "description_tooltip": null,
            "_model_module": "@jupyter-widgets/controls",
            "layout": "IPY_MODEL_f72630f59b1442dd9e72d20c20fefcb7"
          }
        },
        "dec938367576449b90774f2aa613aacd": {
          "model_module": "@jupyter-widgets/controls",
          "model_name": "ProgressStyleModel",
          "state": {
            "_view_name": "StyleView",
            "_model_name": "ProgressStyleModel",
            "description_width": "initial",
            "_view_module": "@jupyter-widgets/base",
            "_model_module_version": "1.5.0",
            "_view_count": null,
            "_view_module_version": "1.2.0",
            "bar_color": null,
            "_model_module": "@jupyter-widgets/controls"
          }
        },
        "52957f0d89d64ac1837d8ebd07237663": {
          "model_module": "@jupyter-widgets/base",
          "model_name": "LayoutModel",
          "state": {
            "_view_name": "LayoutView",
            "grid_template_rows": null,
            "right": null,
            "justify_content": null,
            "_view_module": "@jupyter-widgets/base",
            "overflow": null,
            "_model_module_version": "1.2.0",
            "_view_count": null,
            "flex_flow": null,
            "width": null,
            "min_width": null,
            "border": null,
            "align_items": null,
            "bottom": null,
            "_model_module": "@jupyter-widgets/base",
            "top": null,
            "grid_column": null,
            "overflow_y": null,
            "overflow_x": null,
            "grid_auto_flow": null,
            "grid_area": null,
            "grid_template_columns": null,
            "flex": null,
            "_model_name": "LayoutModel",
            "justify_items": null,
            "grid_row": null,
            "max_height": null,
            "align_content": null,
            "visibility": null,
            "align_self": null,
            "height": null,
            "min_height": null,
            "padding": null,
            "grid_auto_rows": null,
            "grid_gap": null,
            "max_width": null,
            "order": null,
            "_view_module_version": "1.2.0",
            "grid_template_areas": null,
            "object_position": null,
            "object_fit": null,
            "grid_auto_columns": null,
            "margin": null,
            "display": null,
            "left": null
          }
        },
        "9f606f011d664626ae17e0824096ec8b": {
          "model_module": "@jupyter-widgets/controls",
          "model_name": "DescriptionStyleModel",
          "state": {
            "_view_name": "StyleView",
            "_model_name": "DescriptionStyleModel",
            "description_width": "",
            "_view_module": "@jupyter-widgets/base",
            "_model_module_version": "1.5.0",
            "_view_count": null,
            "_view_module_version": "1.2.0",
            "_model_module": "@jupyter-widgets/controls"
          }
        },
        "f72630f59b1442dd9e72d20c20fefcb7": {
          "model_module": "@jupyter-widgets/base",
          "model_name": "LayoutModel",
          "state": {
            "_view_name": "LayoutView",
            "grid_template_rows": null,
            "right": null,
            "justify_content": null,
            "_view_module": "@jupyter-widgets/base",
            "overflow": null,
            "_model_module_version": "1.2.0",
            "_view_count": null,
            "flex_flow": null,
            "width": null,
            "min_width": null,
            "border": null,
            "align_items": null,
            "bottom": null,
            "_model_module": "@jupyter-widgets/base",
            "top": null,
            "grid_column": null,
            "overflow_y": null,
            "overflow_x": null,
            "grid_auto_flow": null,
            "grid_area": null,
            "grid_template_columns": null,
            "flex": null,
            "_model_name": "LayoutModel",
            "justify_items": null,
            "grid_row": null,
            "max_height": null,
            "align_content": null,
            "visibility": null,
            "align_self": null,
            "height": null,
            "min_height": null,
            "padding": null,
            "grid_auto_rows": null,
            "grid_gap": null,
            "max_width": null,
            "order": null,
            "_view_module_version": "1.2.0",
            "grid_template_areas": null,
            "object_position": null,
            "object_fit": null,
            "grid_auto_columns": null,
            "margin": null,
            "display": null,
            "left": null
          }
        },
        "86c922986365428f96ea50fae79e8e03": {
          "model_module": "@jupyter-widgets/controls",
          "model_name": "HBoxModel",
          "state": {
            "_view_name": "HBoxView",
            "_dom_classes": [],
            "_model_name": "HBoxModel",
            "_view_module": "@jupyter-widgets/controls",
            "_model_module_version": "1.5.0",
            "_view_count": null,
            "_view_module_version": "1.5.0",
            "box_style": "",
            "layout": "IPY_MODEL_32e8651950c744d7933ddff9165d1ce9",
            "_model_module": "@jupyter-widgets/controls",
            "children": [
              "IPY_MODEL_0d852f1fb5bf4134a51b4b869d62ad06",
              "IPY_MODEL_946311e7298549468a4e9a57ce4dd17c"
            ]
          }
        },
        "32e8651950c744d7933ddff9165d1ce9": {
          "model_module": "@jupyter-widgets/base",
          "model_name": "LayoutModel",
          "state": {
            "_view_name": "LayoutView",
            "grid_template_rows": null,
            "right": null,
            "justify_content": null,
            "_view_module": "@jupyter-widgets/base",
            "overflow": null,
            "_model_module_version": "1.2.0",
            "_view_count": null,
            "flex_flow": null,
            "width": null,
            "min_width": null,
            "border": null,
            "align_items": null,
            "bottom": null,
            "_model_module": "@jupyter-widgets/base",
            "top": null,
            "grid_column": null,
            "overflow_y": null,
            "overflow_x": null,
            "grid_auto_flow": null,
            "grid_area": null,
            "grid_template_columns": null,
            "flex": null,
            "_model_name": "LayoutModel",
            "justify_items": null,
            "grid_row": null,
            "max_height": null,
            "align_content": null,
            "visibility": null,
            "align_self": null,
            "height": null,
            "min_height": null,
            "padding": null,
            "grid_auto_rows": null,
            "grid_gap": null,
            "max_width": null,
            "order": null,
            "_view_module_version": "1.2.0",
            "grid_template_areas": null,
            "object_position": null,
            "object_fit": null,
            "grid_auto_columns": null,
            "margin": null,
            "display": null,
            "left": null
          }
        },
        "0d852f1fb5bf4134a51b4b869d62ad06": {
          "model_module": "@jupyter-widgets/controls",
          "model_name": "FloatProgressModel",
          "state": {
            "_view_name": "ProgressView",
            "style": "IPY_MODEL_ead9cb29371d4dd1a696fb97fdfac7a6",
            "_dom_classes": [],
            "description": "Downloading: 100%",
            "_model_name": "FloatProgressModel",
            "bar_style": "success",
            "max": 557190519,
            "_view_module": "@jupyter-widgets/controls",
            "_model_module_version": "1.5.0",
            "value": 557190519,
            "_view_count": null,
            "_view_module_version": "1.5.0",
            "orientation": "horizontal",
            "min": 0,
            "description_tooltip": null,
            "_model_module": "@jupyter-widgets/controls",
            "layout": "IPY_MODEL_44c60bdbb3724e8a90c6de01f81a688a"
          }
        },
        "946311e7298549468a4e9a57ce4dd17c": {
          "model_module": "@jupyter-widgets/controls",
          "model_name": "HTMLModel",
          "state": {
            "_view_name": "HTMLView",
            "style": "IPY_MODEL_e0acb08987684c0c89e3625f56d1e21e",
            "_dom_classes": [],
            "description": "",
            "_model_name": "HTMLModel",
            "placeholder": "​",
            "_view_module": "@jupyter-widgets/controls",
            "_model_module_version": "1.5.0",
            "value": " 557M/557M [00:18&lt;00:00, 30.9MB/s]",
            "_view_count": null,
            "_view_module_version": "1.5.0",
            "description_tooltip": null,
            "_model_module": "@jupyter-widgets/controls",
            "layout": "IPY_MODEL_626226549c944323b98654bed96f7a15"
          }
        },
        "ead9cb29371d4dd1a696fb97fdfac7a6": {
          "model_module": "@jupyter-widgets/controls",
          "model_name": "ProgressStyleModel",
          "state": {
            "_view_name": "StyleView",
            "_model_name": "ProgressStyleModel",
            "description_width": "initial",
            "_view_module": "@jupyter-widgets/base",
            "_model_module_version": "1.5.0",
            "_view_count": null,
            "_view_module_version": "1.2.0",
            "bar_color": null,
            "_model_module": "@jupyter-widgets/controls"
          }
        },
        "44c60bdbb3724e8a90c6de01f81a688a": {
          "model_module": "@jupyter-widgets/base",
          "model_name": "LayoutModel",
          "state": {
            "_view_name": "LayoutView",
            "grid_template_rows": null,
            "right": null,
            "justify_content": null,
            "_view_module": "@jupyter-widgets/base",
            "overflow": null,
            "_model_module_version": "1.2.0",
            "_view_count": null,
            "flex_flow": null,
            "width": null,
            "min_width": null,
            "border": null,
            "align_items": null,
            "bottom": null,
            "_model_module": "@jupyter-widgets/base",
            "top": null,
            "grid_column": null,
            "overflow_y": null,
            "overflow_x": null,
            "grid_auto_flow": null,
            "grid_area": null,
            "grid_template_columns": null,
            "flex": null,
            "_model_name": "LayoutModel",
            "justify_items": null,
            "grid_row": null,
            "max_height": null,
            "align_content": null,
            "visibility": null,
            "align_self": null,
            "height": null,
            "min_height": null,
            "padding": null,
            "grid_auto_rows": null,
            "grid_gap": null,
            "max_width": null,
            "order": null,
            "_view_module_version": "1.2.0",
            "grid_template_areas": null,
            "object_position": null,
            "object_fit": null,
            "grid_auto_columns": null,
            "margin": null,
            "display": null,
            "left": null
          }
        },
        "e0acb08987684c0c89e3625f56d1e21e": {
          "model_module": "@jupyter-widgets/controls",
          "model_name": "DescriptionStyleModel",
          "state": {
            "_view_name": "StyleView",
            "_model_name": "DescriptionStyleModel",
            "description_width": "",
            "_view_module": "@jupyter-widgets/base",
            "_model_module_version": "1.5.0",
            "_view_count": null,
            "_view_module_version": "1.2.0",
            "_model_module": "@jupyter-widgets/controls"
          }
        },
        "626226549c944323b98654bed96f7a15": {
          "model_module": "@jupyter-widgets/base",
          "model_name": "LayoutModel",
          "state": {
            "_view_name": "LayoutView",
            "grid_template_rows": null,
            "right": null,
            "justify_content": null,
            "_view_module": "@jupyter-widgets/base",
            "overflow": null,
            "_model_module_version": "1.2.0",
            "_view_count": null,
            "flex_flow": null,
            "width": null,
            "min_width": null,
            "border": null,
            "align_items": null,
            "bottom": null,
            "_model_module": "@jupyter-widgets/base",
            "top": null,
            "grid_column": null,
            "overflow_y": null,
            "overflow_x": null,
            "grid_auto_flow": null,
            "grid_area": null,
            "grid_template_columns": null,
            "flex": null,
            "_model_name": "LayoutModel",
            "justify_items": null,
            "grid_row": null,
            "max_height": null,
            "align_content": null,
            "visibility": null,
            "align_self": null,
            "height": null,
            "min_height": null,
            "padding": null,
            "grid_auto_rows": null,
            "grid_gap": null,
            "max_width": null,
            "order": null,
            "_view_module_version": "1.2.0",
            "grid_template_areas": null,
            "object_position": null,
            "object_fit": null,
            "grid_auto_columns": null,
            "margin": null,
            "display": null,
            "left": null
          }
        },
        "8b02258ea5a6473c901f2a06d912ad19": {
          "model_module": "@jupyter-widgets/controls",
          "model_name": "HBoxModel",
          "state": {
            "_view_name": "HBoxView",
            "_dom_classes": [],
            "_model_name": "HBoxModel",
            "_view_module": "@jupyter-widgets/controls",
            "_model_module_version": "1.5.0",
            "_view_count": null,
            "_view_module_version": "1.5.0",
            "box_style": "",
            "layout": "IPY_MODEL_e8e18dce5d21487aa43b3bf2044352ce",
            "_model_module": "@jupyter-widgets/controls",
            "children": [
              "IPY_MODEL_993a574e97f649639c545eb0e2d064ca",
              "IPY_MODEL_692e1ba4601c4b94b38faaebff0885a2"
            ]
          }
        },
        "e8e18dce5d21487aa43b3bf2044352ce": {
          "model_module": "@jupyter-widgets/base",
          "model_name": "LayoutModel",
          "state": {
            "_view_name": "LayoutView",
            "grid_template_rows": null,
            "right": null,
            "justify_content": null,
            "_view_module": "@jupyter-widgets/base",
            "overflow": null,
            "_model_module_version": "1.2.0",
            "_view_count": null,
            "flex_flow": null,
            "width": null,
            "min_width": null,
            "border": null,
            "align_items": null,
            "bottom": null,
            "_model_module": "@jupyter-widgets/base",
            "top": null,
            "grid_column": null,
            "overflow_y": null,
            "overflow_x": null,
            "grid_auto_flow": null,
            "grid_area": null,
            "grid_template_columns": null,
            "flex": null,
            "_model_name": "LayoutModel",
            "justify_items": null,
            "grid_row": null,
            "max_height": null,
            "align_content": null,
            "visibility": null,
            "align_self": null,
            "height": null,
            "min_height": null,
            "padding": null,
            "grid_auto_rows": null,
            "grid_gap": null,
            "max_width": null,
            "order": null,
            "_view_module_version": "1.2.0",
            "grid_template_areas": null,
            "object_position": null,
            "object_fit": null,
            "grid_auto_columns": null,
            "margin": null,
            "display": null,
            "left": null
          }
        },
        "993a574e97f649639c545eb0e2d064ca": {
          "model_module": "@jupyter-widgets/controls",
          "model_name": "FloatProgressModel",
          "state": {
            "_view_name": "ProgressView",
            "style": "IPY_MODEL_aa1efae10b944ca080fc0bc1d48c4846",
            "_dom_classes": [],
            "description": "Downloading: 100%",
            "_model_name": "FloatProgressModel",
            "bar_style": "success",
            "max": 1115393,
            "_view_module": "@jupyter-widgets/controls",
            "_model_module_version": "1.5.0",
            "value": 1115393,
            "_view_count": null,
            "_view_module_version": "1.5.0",
            "orientation": "horizontal",
            "min": 0,
            "description_tooltip": null,
            "_model_module": "@jupyter-widgets/controls",
            "layout": "IPY_MODEL_3a6d7463476f4d22ad6bbaee3dfd02ec"
          }
        },
        "692e1ba4601c4b94b38faaebff0885a2": {
          "model_module": "@jupyter-widgets/controls",
          "model_name": "HTMLModel",
          "state": {
            "_view_name": "HTMLView",
            "style": "IPY_MODEL_874aa914805a4461bfbd81bc96dfc891",
            "_dom_classes": [],
            "description": "",
            "_model_name": "HTMLModel",
            "placeholder": "​",
            "_view_module": "@jupyter-widgets/controls",
            "_model_module_version": "1.5.0",
            "value": " 1.12M/1.12M [00:02&lt;00:00, 426kB/s]",
            "_view_count": null,
            "_view_module_version": "1.5.0",
            "description_tooltip": null,
            "_model_module": "@jupyter-widgets/controls",
            "layout": "IPY_MODEL_2cfaeb5a83a04ca4a6459aac1256b85e"
          }
        },
        "aa1efae10b944ca080fc0bc1d48c4846": {
          "model_module": "@jupyter-widgets/controls",
          "model_name": "ProgressStyleModel",
          "state": {
            "_view_name": "StyleView",
            "_model_name": "ProgressStyleModel",
            "description_width": "initial",
            "_view_module": "@jupyter-widgets/base",
            "_model_module_version": "1.5.0",
            "_view_count": null,
            "_view_module_version": "1.2.0",
            "bar_color": null,
            "_model_module": "@jupyter-widgets/controls"
          }
        },
        "3a6d7463476f4d22ad6bbaee3dfd02ec": {
          "model_module": "@jupyter-widgets/base",
          "model_name": "LayoutModel",
          "state": {
            "_view_name": "LayoutView",
            "grid_template_rows": null,
            "right": null,
            "justify_content": null,
            "_view_module": "@jupyter-widgets/base",
            "overflow": null,
            "_model_module_version": "1.2.0",
            "_view_count": null,
            "flex_flow": null,
            "width": null,
            "min_width": null,
            "border": null,
            "align_items": null,
            "bottom": null,
            "_model_module": "@jupyter-widgets/base",
            "top": null,
            "grid_column": null,
            "overflow_y": null,
            "overflow_x": null,
            "grid_auto_flow": null,
            "grid_area": null,
            "grid_template_columns": null,
            "flex": null,
            "_model_name": "LayoutModel",
            "justify_items": null,
            "grid_row": null,
            "max_height": null,
            "align_content": null,
            "visibility": null,
            "align_self": null,
            "height": null,
            "min_height": null,
            "padding": null,
            "grid_auto_rows": null,
            "grid_gap": null,
            "max_width": null,
            "order": null,
            "_view_module_version": "1.2.0",
            "grid_template_areas": null,
            "object_position": null,
            "object_fit": null,
            "grid_auto_columns": null,
            "margin": null,
            "display": null,
            "left": null
          }
        },
        "874aa914805a4461bfbd81bc96dfc891": {
          "model_module": "@jupyter-widgets/controls",
          "model_name": "DescriptionStyleModel",
          "state": {
            "_view_name": "StyleView",
            "_model_name": "DescriptionStyleModel",
            "description_width": "",
            "_view_module": "@jupyter-widgets/base",
            "_model_module_version": "1.5.0",
            "_view_count": null,
            "_view_module_version": "1.2.0",
            "_model_module": "@jupyter-widgets/controls"
          }
        },
        "2cfaeb5a83a04ca4a6459aac1256b85e": {
          "model_module": "@jupyter-widgets/base",
          "model_name": "LayoutModel",
          "state": {
            "_view_name": "LayoutView",
            "grid_template_rows": null,
            "right": null,
            "justify_content": null,
            "_view_module": "@jupyter-widgets/base",
            "overflow": null,
            "_model_module_version": "1.2.0",
            "_view_count": null,
            "flex_flow": null,
            "width": null,
            "min_width": null,
            "border": null,
            "align_items": null,
            "bottom": null,
            "_model_module": "@jupyter-widgets/base",
            "top": null,
            "grid_column": null,
            "overflow_y": null,
            "overflow_x": null,
            "grid_auto_flow": null,
            "grid_area": null,
            "grid_template_columns": null,
            "flex": null,
            "_model_name": "LayoutModel",
            "justify_items": null,
            "grid_row": null,
            "max_height": null,
            "align_content": null,
            "visibility": null,
            "align_self": null,
            "height": null,
            "min_height": null,
            "padding": null,
            "grid_auto_rows": null,
            "grid_gap": null,
            "max_width": null,
            "order": null,
            "_view_module_version": "1.2.0",
            "grid_template_areas": null,
            "object_position": null,
            "object_fit": null,
            "grid_auto_columns": null,
            "margin": null,
            "display": null,
            "left": null
          }
        },
        "c6f9d937548a4e1b825d74c6d659fe05": {
          "model_module": "@jupyter-widgets/controls",
          "model_name": "HBoxModel",
          "state": {
            "_view_name": "HBoxView",
            "_dom_classes": [],
            "_model_name": "HBoxModel",
            "_view_module": "@jupyter-widgets/controls",
            "_model_module_version": "1.5.0",
            "_view_count": null,
            "_view_module_version": "1.5.0",
            "box_style": "",
            "layout": "IPY_MODEL_ad5b44a764a34bf39d0bcbafe10ff7bb",
            "_model_module": "@jupyter-widgets/controls",
            "children": [
              "IPY_MODEL_863fb484a4c24ddda407c9f7a19b3fee",
              "IPY_MODEL_1f69d46f88cd48c587c07e3bf953b653"
            ]
          }
        },
        "ad5b44a764a34bf39d0bcbafe10ff7bb": {
          "model_module": "@jupyter-widgets/base",
          "model_name": "LayoutModel",
          "state": {
            "_view_name": "LayoutView",
            "grid_template_rows": null,
            "right": null,
            "justify_content": null,
            "_view_module": "@jupyter-widgets/base",
            "overflow": null,
            "_model_module_version": "1.2.0",
            "_view_count": null,
            "flex_flow": null,
            "width": null,
            "min_width": null,
            "border": null,
            "align_items": null,
            "bottom": null,
            "_model_module": "@jupyter-widgets/base",
            "top": null,
            "grid_column": null,
            "overflow_y": null,
            "overflow_x": null,
            "grid_auto_flow": null,
            "grid_area": null,
            "grid_template_columns": null,
            "flex": null,
            "_model_name": "LayoutModel",
            "justify_items": null,
            "grid_row": null,
            "max_height": null,
            "align_content": null,
            "visibility": null,
            "align_self": null,
            "height": null,
            "min_height": null,
            "padding": null,
            "grid_auto_rows": null,
            "grid_gap": null,
            "max_width": null,
            "order": null,
            "_view_module_version": "1.2.0",
            "grid_template_areas": null,
            "object_position": null,
            "object_fit": null,
            "grid_auto_columns": null,
            "margin": null,
            "display": null,
            "left": null
          }
        },
        "863fb484a4c24ddda407c9f7a19b3fee": {
          "model_module": "@jupyter-widgets/controls",
          "model_name": "FloatProgressModel",
          "state": {
            "_view_name": "ProgressView",
            "style": "IPY_MODEL_5ffb2f18977b4b40be05c047a3eabf7e",
            "_dom_classes": [],
            "description": "Downloading: 100%",
            "_model_name": "FloatProgressModel",
            "bar_style": "success",
            "max": 2630980,
            "_view_module": "@jupyter-widgets/controls",
            "_model_module_version": "1.5.0",
            "value": 2630980,
            "_view_count": null,
            "_view_module_version": "1.5.0",
            "orientation": "horizontal",
            "min": 0,
            "description_tooltip": null,
            "_model_module": "@jupyter-widgets/controls",
            "layout": "IPY_MODEL_13952500fdae4c8c9645b9b92b4e654f"
          }
        },
        "1f69d46f88cd48c587c07e3bf953b653": {
          "model_module": "@jupyter-widgets/controls",
          "model_name": "HTMLModel",
          "state": {
            "_view_name": "HTMLView",
            "style": "IPY_MODEL_231e1e6767de45e796a3086713019deb",
            "_dom_classes": [],
            "description": "",
            "_model_name": "HTMLModel",
            "placeholder": "​",
            "_view_module": "@jupyter-widgets/controls",
            "_model_module_version": "1.5.0",
            "value": " 2.63M/2.63M [00:01&lt;00:00, 1.55MB/s]",
            "_view_count": null,
            "_view_module_version": "1.5.0",
            "description_tooltip": null,
            "_model_module": "@jupyter-widgets/controls",
            "layout": "IPY_MODEL_1c631fa9d4774092bd17e23b32c9dfbe"
          }
        },
        "5ffb2f18977b4b40be05c047a3eabf7e": {
          "model_module": "@jupyter-widgets/controls",
          "model_name": "ProgressStyleModel",
          "state": {
            "_view_name": "StyleView",
            "_model_name": "ProgressStyleModel",
            "description_width": "initial",
            "_view_module": "@jupyter-widgets/base",
            "_model_module_version": "1.5.0",
            "_view_count": null,
            "_view_module_version": "1.2.0",
            "bar_color": null,
            "_model_module": "@jupyter-widgets/controls"
          }
        },
        "13952500fdae4c8c9645b9b92b4e654f": {
          "model_module": "@jupyter-widgets/base",
          "model_name": "LayoutModel",
          "state": {
            "_view_name": "LayoutView",
            "grid_template_rows": null,
            "right": null,
            "justify_content": null,
            "_view_module": "@jupyter-widgets/base",
            "overflow": null,
            "_model_module_version": "1.2.0",
            "_view_count": null,
            "flex_flow": null,
            "width": null,
            "min_width": null,
            "border": null,
            "align_items": null,
            "bottom": null,
            "_model_module": "@jupyter-widgets/base",
            "top": null,
            "grid_column": null,
            "overflow_y": null,
            "overflow_x": null,
            "grid_auto_flow": null,
            "grid_area": null,
            "grid_template_columns": null,
            "flex": null,
            "_model_name": "LayoutModel",
            "justify_items": null,
            "grid_row": null,
            "max_height": null,
            "align_content": null,
            "visibility": null,
            "align_self": null,
            "height": null,
            "min_height": null,
            "padding": null,
            "grid_auto_rows": null,
            "grid_gap": null,
            "max_width": null,
            "order": null,
            "_view_module_version": "1.2.0",
            "grid_template_areas": null,
            "object_position": null,
            "object_fit": null,
            "grid_auto_columns": null,
            "margin": null,
            "display": null,
            "left": null
          }
        },
        "231e1e6767de45e796a3086713019deb": {
          "model_module": "@jupyter-widgets/controls",
          "model_name": "DescriptionStyleModel",
          "state": {
            "_view_name": "StyleView",
            "_model_name": "DescriptionStyleModel",
            "description_width": "",
            "_view_module": "@jupyter-widgets/base",
            "_model_module_version": "1.5.0",
            "_view_count": null,
            "_view_module_version": "1.2.0",
            "_model_module": "@jupyter-widgets/controls"
          }
        },
        "1c631fa9d4774092bd17e23b32c9dfbe": {
          "model_module": "@jupyter-widgets/base",
          "model_name": "LayoutModel",
          "state": {
            "_view_name": "LayoutView",
            "grid_template_rows": null,
            "right": null,
            "justify_content": null,
            "_view_module": "@jupyter-widgets/base",
            "overflow": null,
            "_model_module_version": "1.2.0",
            "_view_count": null,
            "flex_flow": null,
            "width": null,
            "min_width": null,
            "border": null,
            "align_items": null,
            "bottom": null,
            "_model_module": "@jupyter-widgets/base",
            "top": null,
            "grid_column": null,
            "overflow_y": null,
            "overflow_x": null,
            "grid_auto_flow": null,
            "grid_area": null,
            "grid_template_columns": null,
            "flex": null,
            "_model_name": "LayoutModel",
            "justify_items": null,
            "grid_row": null,
            "max_height": null,
            "align_content": null,
            "visibility": null,
            "align_self": null,
            "height": null,
            "min_height": null,
            "padding": null,
            "grid_auto_rows": null,
            "grid_gap": null,
            "max_width": null,
            "order": null,
            "_view_module_version": "1.2.0",
            "grid_template_areas": null,
            "object_position": null,
            "object_fit": null,
            "grid_auto_columns": null,
            "margin": null,
            "display": null,
            "left": null
          }
        },
        "6b77d89b7e754573b14129f5fc95e7d5": {
          "model_module": "@jupyter-widgets/controls",
          "model_name": "HBoxModel",
          "state": {
            "_view_name": "HBoxView",
            "_dom_classes": [],
            "_model_name": "HBoxModel",
            "_view_module": "@jupyter-widgets/controls",
            "_model_module_version": "1.5.0",
            "_view_count": null,
            "_view_module_version": "1.5.0",
            "box_style": "",
            "layout": "IPY_MODEL_894e0a477c314944ae940c23c4d44e9c",
            "_model_module": "@jupyter-widgets/controls",
            "children": [
              "IPY_MODEL_2230f4b061fb48c1ad95957023bdadd1",
              "IPY_MODEL_71b63a12466e4bd2a4d5faac8d383628"
            ]
          }
        },
        "894e0a477c314944ae940c23c4d44e9c": {
          "model_module": "@jupyter-widgets/base",
          "model_name": "LayoutModel",
          "state": {
            "_view_name": "LayoutView",
            "grid_template_rows": null,
            "right": null,
            "justify_content": null,
            "_view_module": "@jupyter-widgets/base",
            "overflow": null,
            "_model_module_version": "1.2.0",
            "_view_count": null,
            "flex_flow": null,
            "width": null,
            "min_width": null,
            "border": null,
            "align_items": null,
            "bottom": null,
            "_model_module": "@jupyter-widgets/base",
            "top": null,
            "grid_column": null,
            "overflow_y": null,
            "overflow_x": null,
            "grid_auto_flow": null,
            "grid_area": null,
            "grid_template_columns": null,
            "flex": null,
            "_model_name": "LayoutModel",
            "justify_items": null,
            "grid_row": null,
            "max_height": null,
            "align_content": null,
            "visibility": null,
            "align_self": null,
            "height": null,
            "min_height": null,
            "padding": null,
            "grid_auto_rows": null,
            "grid_gap": null,
            "max_width": null,
            "order": null,
            "_view_module_version": "1.2.0",
            "grid_template_areas": null,
            "object_position": null,
            "object_fit": null,
            "grid_auto_columns": null,
            "margin": null,
            "display": null,
            "left": null
          }
        },
        "2230f4b061fb48c1ad95957023bdadd1": {
          "model_module": "@jupyter-widgets/controls",
          "model_name": "FloatProgressModel",
          "state": {
            "_view_name": "ProgressView",
            "style": "IPY_MODEL_9e02d3e68b314071a3506e2f6183b137",
            "_dom_classes": [],
            "description": "Downloading: ",
            "_model_name": "FloatProgressModel",
            "bar_style": "success",
            "max": 1,
            "_view_module": "@jupyter-widgets/controls",
            "_model_module_version": "1.5.0",
            "value": 1,
            "_view_count": null,
            "_view_module_version": "1.5.0",
            "orientation": "horizontal",
            "min": 0,
            "description_tooltip": null,
            "_model_module": "@jupyter-widgets/controls",
            "layout": "IPY_MODEL_2d9dc3def6864b3c85d114506f3044f6"
          }
        },
        "71b63a12466e4bd2a4d5faac8d383628": {
          "model_module": "@jupyter-widgets/controls",
          "model_name": "HTMLModel",
          "state": {
            "_view_name": "HTMLView",
            "style": "IPY_MODEL_c8b1e3ff3aac414ea422ea22f09f66a7",
            "_dom_classes": [],
            "description": "",
            "_model_name": "HTMLModel",
            "placeholder": "​",
            "_view_module": "@jupyter-widgets/controls",
            "_model_module_version": "1.5.0",
            "value": " 198M/? [00:02&lt;00:00, 86.4MB/s]",
            "_view_count": null,
            "_view_module_version": "1.5.0",
            "description_tooltip": null,
            "_model_module": "@jupyter-widgets/controls",
            "layout": "IPY_MODEL_28d33e5ef8674ef38f0420a0bd57cbcc"
          }
        },
        "9e02d3e68b314071a3506e2f6183b137": {
          "model_module": "@jupyter-widgets/controls",
          "model_name": "ProgressStyleModel",
          "state": {
            "_view_name": "StyleView",
            "_model_name": "ProgressStyleModel",
            "description_width": "initial",
            "_view_module": "@jupyter-widgets/base",
            "_model_module_version": "1.5.0",
            "_view_count": null,
            "_view_module_version": "1.2.0",
            "bar_color": null,
            "_model_module": "@jupyter-widgets/controls"
          }
        },
        "2d9dc3def6864b3c85d114506f3044f6": {
          "model_module": "@jupyter-widgets/base",
          "model_name": "LayoutModel",
          "state": {
            "_view_name": "LayoutView",
            "grid_template_rows": null,
            "right": null,
            "justify_content": null,
            "_view_module": "@jupyter-widgets/base",
            "overflow": null,
            "_model_module_version": "1.2.0",
            "_view_count": null,
            "flex_flow": null,
            "width": null,
            "min_width": null,
            "border": null,
            "align_items": null,
            "bottom": null,
            "_model_module": "@jupyter-widgets/base",
            "top": null,
            "grid_column": null,
            "overflow_y": null,
            "overflow_x": null,
            "grid_auto_flow": null,
            "grid_area": null,
            "grid_template_columns": null,
            "flex": null,
            "_model_name": "LayoutModel",
            "justify_items": null,
            "grid_row": null,
            "max_height": null,
            "align_content": null,
            "visibility": null,
            "align_self": null,
            "height": null,
            "min_height": null,
            "padding": null,
            "grid_auto_rows": null,
            "grid_gap": null,
            "max_width": null,
            "order": null,
            "_view_module_version": "1.2.0",
            "grid_template_areas": null,
            "object_position": null,
            "object_fit": null,
            "grid_auto_columns": null,
            "margin": null,
            "display": null,
            "left": null
          }
        },
        "c8b1e3ff3aac414ea422ea22f09f66a7": {
          "model_module": "@jupyter-widgets/controls",
          "model_name": "DescriptionStyleModel",
          "state": {
            "_view_name": "StyleView",
            "_model_name": "DescriptionStyleModel",
            "description_width": "",
            "_view_module": "@jupyter-widgets/base",
            "_model_module_version": "1.5.0",
            "_view_count": null,
            "_view_module_version": "1.2.0",
            "_model_module": "@jupyter-widgets/controls"
          }
        },
        "28d33e5ef8674ef38f0420a0bd57cbcc": {
          "model_module": "@jupyter-widgets/base",
          "model_name": "LayoutModel",
          "state": {
            "_view_name": "LayoutView",
            "grid_template_rows": null,
            "right": null,
            "justify_content": null,
            "_view_module": "@jupyter-widgets/base",
            "overflow": null,
            "_model_module_version": "1.2.0",
            "_view_count": null,
            "flex_flow": null,
            "width": null,
            "min_width": null,
            "border": null,
            "align_items": null,
            "bottom": null,
            "_model_module": "@jupyter-widgets/base",
            "top": null,
            "grid_column": null,
            "overflow_y": null,
            "overflow_x": null,
            "grid_auto_flow": null,
            "grid_area": null,
            "grid_template_columns": null,
            "flex": null,
            "_model_name": "LayoutModel",
            "justify_items": null,
            "grid_row": null,
            "max_height": null,
            "align_content": null,
            "visibility": null,
            "align_self": null,
            "height": null,
            "min_height": null,
            "padding": null,
            "grid_auto_rows": null,
            "grid_gap": null,
            "max_width": null,
            "order": null,
            "_view_module_version": "1.2.0",
            "grid_template_areas": null,
            "object_position": null,
            "object_fit": null,
            "grid_auto_columns": null,
            "margin": null,
            "display": null,
            "left": null
          }
        },
        "7ebfae3ba39d4d0681f0a4c43cc0cd15": {
          "model_module": "@jupyter-widgets/controls",
          "model_name": "HBoxModel",
          "state": {
            "_view_name": "HBoxView",
            "_dom_classes": [],
            "_model_name": "HBoxModel",
            "_view_module": "@jupyter-widgets/controls",
            "_model_module_version": "1.5.0",
            "_view_count": null,
            "_view_module_version": "1.5.0",
            "box_style": "",
            "layout": "IPY_MODEL_fd3e98f6e83e493da6ca18dac66f9b40",
            "_model_module": "@jupyter-widgets/controls",
            "children": [
              "IPY_MODEL_04d2a4b62ad24c15819e3c358c7bc050",
              "IPY_MODEL_786086820894486393451c15ee5f3454"
            ]
          }
        },
        "fd3e98f6e83e493da6ca18dac66f9b40": {
          "model_module": "@jupyter-widgets/base",
          "model_name": "LayoutModel",
          "state": {
            "_view_name": "LayoutView",
            "grid_template_rows": null,
            "right": null,
            "justify_content": null,
            "_view_module": "@jupyter-widgets/base",
            "overflow": null,
            "_model_module_version": "1.2.0",
            "_view_count": null,
            "flex_flow": null,
            "width": null,
            "min_width": null,
            "border": null,
            "align_items": null,
            "bottom": null,
            "_model_module": "@jupyter-widgets/base",
            "top": null,
            "grid_column": null,
            "overflow_y": null,
            "overflow_x": null,
            "grid_auto_flow": null,
            "grid_area": null,
            "grid_template_columns": null,
            "flex": null,
            "_model_name": "LayoutModel",
            "justify_items": null,
            "grid_row": null,
            "max_height": null,
            "align_content": null,
            "visibility": null,
            "align_self": null,
            "height": null,
            "min_height": null,
            "padding": null,
            "grid_auto_rows": null,
            "grid_gap": null,
            "max_width": null,
            "order": null,
            "_view_module_version": "1.2.0",
            "grid_template_areas": null,
            "object_position": null,
            "object_fit": null,
            "grid_auto_columns": null,
            "margin": null,
            "display": null,
            "left": null
          }
        },
        "04d2a4b62ad24c15819e3c358c7bc050": {
          "model_module": "@jupyter-widgets/controls",
          "model_name": "FloatProgressModel",
          "state": {
            "_view_name": "ProgressView",
            "style": "IPY_MODEL_1a81908fd8b84ccda9641a14a8060d8d",
            "_dom_classes": [],
            "description": "",
            "_model_name": "FloatProgressModel",
            "bar_style": "info",
            "max": 1,
            "_view_module": "@jupyter-widgets/controls",
            "_model_module_version": "1.5.0",
            "value": 1,
            "_view_count": null,
            "_view_module_version": "1.5.0",
            "orientation": "horizontal",
            "min": 0,
            "description_tooltip": null,
            "_model_module": "@jupyter-widgets/controls",
            "layout": "IPY_MODEL_acc2c756133f4e5d8fe9a30011578812"
          }
        },
        "786086820894486393451c15ee5f3454": {
          "model_module": "@jupyter-widgets/controls",
          "model_name": "HTMLModel",
          "state": {
            "_view_name": "HTMLView",
            "style": "IPY_MODEL_e6e5e49457b549d89e7bb7087530ced9",
            "_dom_classes": [],
            "description": "",
            "_model_name": "HTMLModel",
            "placeholder": "​",
            "_view_module": "@jupyter-widgets/controls",
            "_model_module_version": "1.5.0",
            "value": " 21690/0 [00:03&lt;00:00, 252.76 examples/s]",
            "_view_count": null,
            "_view_module_version": "1.5.0",
            "description_tooltip": null,
            "_model_module": "@jupyter-widgets/controls",
            "layout": "IPY_MODEL_c796a15a879040c29afd03b79aaf0b7d"
          }
        },
        "1a81908fd8b84ccda9641a14a8060d8d": {
          "model_module": "@jupyter-widgets/controls",
          "model_name": "ProgressStyleModel",
          "state": {
            "_view_name": "StyleView",
            "_model_name": "ProgressStyleModel",
            "description_width": "initial",
            "_view_module": "@jupyter-widgets/base",
            "_model_module_version": "1.5.0",
            "_view_count": null,
            "_view_module_version": "1.2.0",
            "bar_color": null,
            "_model_module": "@jupyter-widgets/controls"
          }
        },
        "acc2c756133f4e5d8fe9a30011578812": {
          "model_module": "@jupyter-widgets/base",
          "model_name": "LayoutModel",
          "state": {
            "_view_name": "LayoutView",
            "grid_template_rows": null,
            "right": null,
            "justify_content": null,
            "_view_module": "@jupyter-widgets/base",
            "overflow": null,
            "_model_module_version": "1.2.0",
            "_view_count": null,
            "flex_flow": null,
            "width": null,
            "min_width": null,
            "border": null,
            "align_items": null,
            "bottom": null,
            "_model_module": "@jupyter-widgets/base",
            "top": null,
            "grid_column": null,
            "overflow_y": null,
            "overflow_x": null,
            "grid_auto_flow": null,
            "grid_area": null,
            "grid_template_columns": null,
            "flex": null,
            "_model_name": "LayoutModel",
            "justify_items": null,
            "grid_row": null,
            "max_height": null,
            "align_content": null,
            "visibility": null,
            "align_self": null,
            "height": null,
            "min_height": null,
            "padding": null,
            "grid_auto_rows": null,
            "grid_gap": null,
            "max_width": null,
            "order": null,
            "_view_module_version": "1.2.0",
            "grid_template_areas": null,
            "object_position": null,
            "object_fit": null,
            "grid_auto_columns": null,
            "margin": null,
            "display": null,
            "left": null
          }
        },
        "e6e5e49457b549d89e7bb7087530ced9": {
          "model_module": "@jupyter-widgets/controls",
          "model_name": "DescriptionStyleModel",
          "state": {
            "_view_name": "StyleView",
            "_model_name": "DescriptionStyleModel",
            "description_width": "",
            "_view_module": "@jupyter-widgets/base",
            "_model_module_version": "1.5.0",
            "_view_count": null,
            "_view_module_version": "1.2.0",
            "_model_module": "@jupyter-widgets/controls"
          }
        },
        "c796a15a879040c29afd03b79aaf0b7d": {
          "model_module": "@jupyter-widgets/base",
          "model_name": "LayoutModel",
          "state": {
            "_view_name": "LayoutView",
            "grid_template_rows": null,
            "right": null,
            "justify_content": null,
            "_view_module": "@jupyter-widgets/base",
            "overflow": null,
            "_model_module_version": "1.2.0",
            "_view_count": null,
            "flex_flow": null,
            "width": null,
            "min_width": null,
            "border": null,
            "align_items": null,
            "bottom": null,
            "_model_module": "@jupyter-widgets/base",
            "top": null,
            "grid_column": null,
            "overflow_y": null,
            "overflow_x": null,
            "grid_auto_flow": null,
            "grid_area": null,
            "grid_template_columns": null,
            "flex": null,
            "_model_name": "LayoutModel",
            "justify_items": null,
            "grid_row": null,
            "max_height": null,
            "align_content": null,
            "visibility": null,
            "align_self": null,
            "height": null,
            "min_height": null,
            "padding": null,
            "grid_auto_rows": null,
            "grid_gap": null,
            "max_width": null,
            "order": null,
            "_view_module_version": "1.2.0",
            "grid_template_areas": null,
            "object_position": null,
            "object_fit": null,
            "grid_auto_columns": null,
            "margin": null,
            "display": null,
            "left": null
          }
        },
        "3da944bc22be4408ba4c2cecc1443ce2": {
          "model_module": "@jupyter-widgets/controls",
          "model_name": "HBoxModel",
          "state": {
            "_view_name": "HBoxView",
            "_dom_classes": [],
            "_model_name": "HBoxModel",
            "_view_module": "@jupyter-widgets/controls",
            "_model_module_version": "1.5.0",
            "_view_count": null,
            "_view_module_version": "1.5.0",
            "box_style": "",
            "layout": "IPY_MODEL_c20dac2ae589402289732de176cf9d49",
            "_model_module": "@jupyter-widgets/controls",
            "children": [
              "IPY_MODEL_410aa8db006442009da4d4d28bb6a948",
              "IPY_MODEL_4759307dc6e448888799a840b31c8713"
            ]
          }
        },
        "c20dac2ae589402289732de176cf9d49": {
          "model_module": "@jupyter-widgets/base",
          "model_name": "LayoutModel",
          "state": {
            "_view_name": "LayoutView",
            "grid_template_rows": null,
            "right": null,
            "justify_content": null,
            "_view_module": "@jupyter-widgets/base",
            "overflow": null,
            "_model_module_version": "1.2.0",
            "_view_count": null,
            "flex_flow": null,
            "width": null,
            "min_width": null,
            "border": null,
            "align_items": null,
            "bottom": null,
            "_model_module": "@jupyter-widgets/base",
            "top": null,
            "grid_column": null,
            "overflow_y": null,
            "overflow_x": null,
            "grid_auto_flow": null,
            "grid_area": null,
            "grid_template_columns": null,
            "flex": null,
            "_model_name": "LayoutModel",
            "justify_items": null,
            "grid_row": null,
            "max_height": null,
            "align_content": null,
            "visibility": null,
            "align_self": null,
            "height": null,
            "min_height": null,
            "padding": null,
            "grid_auto_rows": null,
            "grid_gap": null,
            "max_width": null,
            "order": null,
            "_view_module_version": "1.2.0",
            "grid_template_areas": null,
            "object_position": null,
            "object_fit": null,
            "grid_auto_columns": null,
            "margin": null,
            "display": null,
            "left": null
          }
        },
        "410aa8db006442009da4d4d28bb6a948": {
          "model_module": "@jupyter-widgets/controls",
          "model_name": "FloatProgressModel",
          "state": {
            "_view_name": "ProgressView",
            "style": "IPY_MODEL_62c85c92d72b4e1898198f595b5e1524",
            "_dom_classes": [],
            "description": "100%",
            "_model_name": "FloatProgressModel",
            "bar_style": "success",
            "max": 217,
            "_view_module": "@jupyter-widgets/controls",
            "_model_module_version": "1.5.0",
            "value": 217,
            "_view_count": null,
            "_view_module_version": "1.5.0",
            "orientation": "horizontal",
            "min": 0,
            "description_tooltip": null,
            "_model_module": "@jupyter-widgets/controls",
            "layout": "IPY_MODEL_8d9c5d1348e346d783d71cd6097871b9"
          }
        },
        "4759307dc6e448888799a840b31c8713": {
          "model_module": "@jupyter-widgets/controls",
          "model_name": "HTMLModel",
          "state": {
            "_view_name": "HTMLView",
            "style": "IPY_MODEL_c65141b19a48400fa40dcb85a84de47c",
            "_dom_classes": [],
            "description": "",
            "_model_name": "HTMLModel",
            "placeholder": "​",
            "_view_module": "@jupyter-widgets/controls",
            "_model_module_version": "1.5.0",
            "value": " 217/217 [00:01&lt;00:00, 190.79ex/s]",
            "_view_count": null,
            "_view_module_version": "1.5.0",
            "description_tooltip": null,
            "_model_module": "@jupyter-widgets/controls",
            "layout": "IPY_MODEL_dc163e9a363d40029c1c3b44f9987cbe"
          }
        },
        "62c85c92d72b4e1898198f595b5e1524": {
          "model_module": "@jupyter-widgets/controls",
          "model_name": "ProgressStyleModel",
          "state": {
            "_view_name": "StyleView",
            "_model_name": "ProgressStyleModel",
            "description_width": "initial",
            "_view_module": "@jupyter-widgets/base",
            "_model_module_version": "1.5.0",
            "_view_count": null,
            "_view_module_version": "1.2.0",
            "bar_color": null,
            "_model_module": "@jupyter-widgets/controls"
          }
        },
        "8d9c5d1348e346d783d71cd6097871b9": {
          "model_module": "@jupyter-widgets/base",
          "model_name": "LayoutModel",
          "state": {
            "_view_name": "LayoutView",
            "grid_template_rows": null,
            "right": null,
            "justify_content": null,
            "_view_module": "@jupyter-widgets/base",
            "overflow": null,
            "_model_module_version": "1.2.0",
            "_view_count": null,
            "flex_flow": null,
            "width": null,
            "min_width": null,
            "border": null,
            "align_items": null,
            "bottom": null,
            "_model_module": "@jupyter-widgets/base",
            "top": null,
            "grid_column": null,
            "overflow_y": null,
            "overflow_x": null,
            "grid_auto_flow": null,
            "grid_area": null,
            "grid_template_columns": null,
            "flex": null,
            "_model_name": "LayoutModel",
            "justify_items": null,
            "grid_row": null,
            "max_height": null,
            "align_content": null,
            "visibility": null,
            "align_self": null,
            "height": null,
            "min_height": null,
            "padding": null,
            "grid_auto_rows": null,
            "grid_gap": null,
            "max_width": null,
            "order": null,
            "_view_module_version": "1.2.0",
            "grid_template_areas": null,
            "object_position": null,
            "object_fit": null,
            "grid_auto_columns": null,
            "margin": null,
            "display": null,
            "left": null
          }
        },
        "c65141b19a48400fa40dcb85a84de47c": {
          "model_module": "@jupyter-widgets/controls",
          "model_name": "DescriptionStyleModel",
          "state": {
            "_view_name": "StyleView",
            "_model_name": "DescriptionStyleModel",
            "description_width": "",
            "_view_module": "@jupyter-widgets/base",
            "_model_module_version": "1.5.0",
            "_view_count": null,
            "_view_module_version": "1.2.0",
            "_model_module": "@jupyter-widgets/controls"
          }
        },
        "dc163e9a363d40029c1c3b44f9987cbe": {
          "model_module": "@jupyter-widgets/base",
          "model_name": "LayoutModel",
          "state": {
            "_view_name": "LayoutView",
            "grid_template_rows": null,
            "right": null,
            "justify_content": null,
            "_view_module": "@jupyter-widgets/base",
            "overflow": null,
            "_model_module_version": "1.2.0",
            "_view_count": null,
            "flex_flow": null,
            "width": null,
            "min_width": null,
            "border": null,
            "align_items": null,
            "bottom": null,
            "_model_module": "@jupyter-widgets/base",
            "top": null,
            "grid_column": null,
            "overflow_y": null,
            "overflow_x": null,
            "grid_auto_flow": null,
            "grid_area": null,
            "grid_template_columns": null,
            "flex": null,
            "_model_name": "LayoutModel",
            "justify_items": null,
            "grid_row": null,
            "max_height": null,
            "align_content": null,
            "visibility": null,
            "align_self": null,
            "height": null,
            "min_height": null,
            "padding": null,
            "grid_auto_rows": null,
            "grid_gap": null,
            "max_width": null,
            "order": null,
            "_view_module_version": "1.2.0",
            "grid_template_areas": null,
            "object_position": null,
            "object_fit": null,
            "grid_auto_columns": null,
            "margin": null,
            "display": null,
            "left": null
          }
        },
        "1361a8924b954423b31c0517d5a945bd": {
          "model_module": "@jupyter-widgets/controls",
          "model_name": "HBoxModel",
          "state": {
            "_view_name": "HBoxView",
            "_dom_classes": [],
            "_model_name": "HBoxModel",
            "_view_module": "@jupyter-widgets/controls",
            "_model_module_version": "1.5.0",
            "_view_count": null,
            "_view_module_version": "1.5.0",
            "box_style": "",
            "layout": "IPY_MODEL_6447e0040b5748adad8cb3213eb6e914",
            "_model_module": "@jupyter-widgets/controls",
            "children": [
              "IPY_MODEL_caa1324b05304c3c946a92c8fe5228af",
              "IPY_MODEL_190ccfbf94284d588fa0289a10f2a01f"
            ]
          }
        },
        "6447e0040b5748adad8cb3213eb6e914": {
          "model_module": "@jupyter-widgets/base",
          "model_name": "LayoutModel",
          "state": {
            "_view_name": "LayoutView",
            "grid_template_rows": null,
            "right": null,
            "justify_content": null,
            "_view_module": "@jupyter-widgets/base",
            "overflow": null,
            "_model_module_version": "1.2.0",
            "_view_count": null,
            "flex_flow": null,
            "width": null,
            "min_width": null,
            "border": null,
            "align_items": null,
            "bottom": null,
            "_model_module": "@jupyter-widgets/base",
            "top": null,
            "grid_column": null,
            "overflow_y": null,
            "overflow_x": null,
            "grid_auto_flow": null,
            "grid_area": null,
            "grid_template_columns": null,
            "flex": null,
            "_model_name": "LayoutModel",
            "justify_items": null,
            "grid_row": null,
            "max_height": null,
            "align_content": null,
            "visibility": null,
            "align_self": null,
            "height": null,
            "min_height": null,
            "padding": null,
            "grid_auto_rows": null,
            "grid_gap": null,
            "max_width": null,
            "order": null,
            "_view_module_version": "1.2.0",
            "grid_template_areas": null,
            "object_position": null,
            "object_fit": null,
            "grid_auto_columns": null,
            "margin": null,
            "display": null,
            "left": null
          }
        },
        "caa1324b05304c3c946a92c8fe5228af": {
          "model_module": "@jupyter-widgets/controls",
          "model_name": "FloatProgressModel",
          "state": {
            "_view_name": "ProgressView",
            "style": "IPY_MODEL_63e7882db361432fb26e324e972626cd",
            "_dom_classes": [],
            "description": "100%",
            "_model_name": "FloatProgressModel",
            "bar_style": "success",
            "max": 1,
            "_view_module": "@jupyter-widgets/controls",
            "_model_module_version": "1.5.0",
            "value": 1,
            "_view_count": null,
            "_view_module_version": "1.5.0",
            "orientation": "horizontal",
            "min": 0,
            "description_tooltip": null,
            "_model_module": "@jupyter-widgets/controls",
            "layout": "IPY_MODEL_ebe9244dd2bb4f108d48100fcfe03ece"
          }
        },
        "190ccfbf94284d588fa0289a10f2a01f": {
          "model_module": "@jupyter-widgets/controls",
          "model_name": "HTMLModel",
          "state": {
            "_view_name": "HTMLView",
            "style": "IPY_MODEL_daa3556384314df08ac28857a964ff5c",
            "_dom_classes": [],
            "description": "",
            "_model_name": "HTMLModel",
            "placeholder": "​",
            "_view_module": "@jupyter-widgets/controls",
            "_model_module_version": "1.5.0",
            "value": " 1/1 [00:00&lt;00:00,  1.05ba/s]",
            "_view_count": null,
            "_view_module_version": "1.5.0",
            "description_tooltip": null,
            "_model_module": "@jupyter-widgets/controls",
            "layout": "IPY_MODEL_615cc76853b040108281df70d7545f8c"
          }
        },
        "63e7882db361432fb26e324e972626cd": {
          "model_module": "@jupyter-widgets/controls",
          "model_name": "ProgressStyleModel",
          "state": {
            "_view_name": "StyleView",
            "_model_name": "ProgressStyleModel",
            "description_width": "initial",
            "_view_module": "@jupyter-widgets/base",
            "_model_module_version": "1.5.0",
            "_view_count": null,
            "_view_module_version": "1.2.0",
            "bar_color": null,
            "_model_module": "@jupyter-widgets/controls"
          }
        },
        "ebe9244dd2bb4f108d48100fcfe03ece": {
          "model_module": "@jupyter-widgets/base",
          "model_name": "LayoutModel",
          "state": {
            "_view_name": "LayoutView",
            "grid_template_rows": null,
            "right": null,
            "justify_content": null,
            "_view_module": "@jupyter-widgets/base",
            "overflow": null,
            "_model_module_version": "1.2.0",
            "_view_count": null,
            "flex_flow": null,
            "width": null,
            "min_width": null,
            "border": null,
            "align_items": null,
            "bottom": null,
            "_model_module": "@jupyter-widgets/base",
            "top": null,
            "grid_column": null,
            "overflow_y": null,
            "overflow_x": null,
            "grid_auto_flow": null,
            "grid_area": null,
            "grid_template_columns": null,
            "flex": null,
            "_model_name": "LayoutModel",
            "justify_items": null,
            "grid_row": null,
            "max_height": null,
            "align_content": null,
            "visibility": null,
            "align_self": null,
            "height": null,
            "min_height": null,
            "padding": null,
            "grid_auto_rows": null,
            "grid_gap": null,
            "max_width": null,
            "order": null,
            "_view_module_version": "1.2.0",
            "grid_template_areas": null,
            "object_position": null,
            "object_fit": null,
            "grid_auto_columns": null,
            "margin": null,
            "display": null,
            "left": null
          }
        },
        "daa3556384314df08ac28857a964ff5c": {
          "model_module": "@jupyter-widgets/controls",
          "model_name": "DescriptionStyleModel",
          "state": {
            "_view_name": "StyleView",
            "_model_name": "DescriptionStyleModel",
            "description_width": "",
            "_view_module": "@jupyter-widgets/base",
            "_model_module_version": "1.5.0",
            "_view_count": null,
            "_view_module_version": "1.2.0",
            "_model_module": "@jupyter-widgets/controls"
          }
        },
        "615cc76853b040108281df70d7545f8c": {
          "model_module": "@jupyter-widgets/base",
          "model_name": "LayoutModel",
          "state": {
            "_view_name": "LayoutView",
            "grid_template_rows": null,
            "right": null,
            "justify_content": null,
            "_view_module": "@jupyter-widgets/base",
            "overflow": null,
            "_model_module_version": "1.2.0",
            "_view_count": null,
            "flex_flow": null,
            "width": null,
            "min_width": null,
            "border": null,
            "align_items": null,
            "bottom": null,
            "_model_module": "@jupyter-widgets/base",
            "top": null,
            "grid_column": null,
            "overflow_y": null,
            "overflow_x": null,
            "grid_auto_flow": null,
            "grid_area": null,
            "grid_template_columns": null,
            "flex": null,
            "_model_name": "LayoutModel",
            "justify_items": null,
            "grid_row": null,
            "max_height": null,
            "align_content": null,
            "visibility": null,
            "align_self": null,
            "height": null,
            "min_height": null,
            "padding": null,
            "grid_auto_rows": null,
            "grid_gap": null,
            "max_width": null,
            "order": null,
            "_view_module_version": "1.2.0",
            "grid_template_areas": null,
            "object_position": null,
            "object_fit": null,
            "grid_auto_columns": null,
            "margin": null,
            "display": null,
            "left": null
          }
        },
        "40fc738272c54f8ab10c267a2021b54e": {
          "model_module": "@jupyter-widgets/controls",
          "model_name": "HBoxModel",
          "state": {
            "_view_name": "HBoxView",
            "_dom_classes": [],
            "_model_name": "HBoxModel",
            "_view_module": "@jupyter-widgets/controls",
            "_model_module_version": "1.5.0",
            "_view_count": null,
            "_view_module_version": "1.5.0",
            "box_style": "",
            "layout": "IPY_MODEL_a062973281554f0fbec4de6ac443f9cb",
            "_model_module": "@jupyter-widgets/controls",
            "children": [
              "IPY_MODEL_e00e805c7d7b40c7b3d70e7b8fd39a35",
              "IPY_MODEL_3ecb6ea92b8d4e21865e1f4344cdb0cc"
            ]
          }
        },
        "a062973281554f0fbec4de6ac443f9cb": {
          "model_module": "@jupyter-widgets/base",
          "model_name": "LayoutModel",
          "state": {
            "_view_name": "LayoutView",
            "grid_template_rows": null,
            "right": null,
            "justify_content": null,
            "_view_module": "@jupyter-widgets/base",
            "overflow": null,
            "_model_module_version": "1.2.0",
            "_view_count": null,
            "flex_flow": null,
            "width": null,
            "min_width": null,
            "border": null,
            "align_items": null,
            "bottom": null,
            "_model_module": "@jupyter-widgets/base",
            "top": null,
            "grid_column": null,
            "overflow_y": null,
            "overflow_x": null,
            "grid_auto_flow": null,
            "grid_area": null,
            "grid_template_columns": null,
            "flex": null,
            "_model_name": "LayoutModel",
            "justify_items": null,
            "grid_row": null,
            "max_height": null,
            "align_content": null,
            "visibility": null,
            "align_self": null,
            "height": null,
            "min_height": null,
            "padding": null,
            "grid_auto_rows": null,
            "grid_gap": null,
            "max_width": null,
            "order": null,
            "_view_module_version": "1.2.0",
            "grid_template_areas": null,
            "object_position": null,
            "object_fit": null,
            "grid_auto_columns": null,
            "margin": null,
            "display": null,
            "left": null
          }
        },
        "e00e805c7d7b40c7b3d70e7b8fd39a35": {
          "model_module": "@jupyter-widgets/controls",
          "model_name": "FloatProgressModel",
          "state": {
            "_view_name": "ProgressView",
            "style": "IPY_MODEL_02b503a27906433e89f30de7471c62c2",
            "_dom_classes": [],
            "description": "100%",
            "_model_name": "FloatProgressModel",
            "bar_style": "success",
            "max": 1,
            "_view_module": "@jupyter-widgets/controls",
            "_model_module_version": "1.5.0",
            "value": 1,
            "_view_count": null,
            "_view_module_version": "1.5.0",
            "orientation": "horizontal",
            "min": 0,
            "description_tooltip": null,
            "_model_module": "@jupyter-widgets/controls",
            "layout": "IPY_MODEL_1fbf058c28d648f494c934c6a16e5acd"
          }
        },
        "3ecb6ea92b8d4e21865e1f4344cdb0cc": {
          "model_module": "@jupyter-widgets/controls",
          "model_name": "HTMLModel",
          "state": {
            "_view_name": "HTMLView",
            "style": "IPY_MODEL_e4dbac6a45f14d9c8c7daabd8440689c",
            "_dom_classes": [],
            "description": "",
            "_model_name": "HTMLModel",
            "placeholder": "​",
            "_view_module": "@jupyter-widgets/controls",
            "_model_module_version": "1.5.0",
            "value": " 1/1 [00:01&lt;00:00,  2.00s/ba]",
            "_view_count": null,
            "_view_module_version": "1.5.0",
            "description_tooltip": null,
            "_model_module": "@jupyter-widgets/controls",
            "layout": "IPY_MODEL_36e0eb584dec441cbde909565cd8e681"
          }
        },
        "02b503a27906433e89f30de7471c62c2": {
          "model_module": "@jupyter-widgets/controls",
          "model_name": "ProgressStyleModel",
          "state": {
            "_view_name": "StyleView",
            "_model_name": "ProgressStyleModel",
            "description_width": "initial",
            "_view_module": "@jupyter-widgets/base",
            "_model_module_version": "1.5.0",
            "_view_count": null,
            "_view_module_version": "1.2.0",
            "bar_color": null,
            "_model_module": "@jupyter-widgets/controls"
          }
        },
        "1fbf058c28d648f494c934c6a16e5acd": {
          "model_module": "@jupyter-widgets/base",
          "model_name": "LayoutModel",
          "state": {
            "_view_name": "LayoutView",
            "grid_template_rows": null,
            "right": null,
            "justify_content": null,
            "_view_module": "@jupyter-widgets/base",
            "overflow": null,
            "_model_module_version": "1.2.0",
            "_view_count": null,
            "flex_flow": null,
            "width": null,
            "min_width": null,
            "border": null,
            "align_items": null,
            "bottom": null,
            "_model_module": "@jupyter-widgets/base",
            "top": null,
            "grid_column": null,
            "overflow_y": null,
            "overflow_x": null,
            "grid_auto_flow": null,
            "grid_area": null,
            "grid_template_columns": null,
            "flex": null,
            "_model_name": "LayoutModel",
            "justify_items": null,
            "grid_row": null,
            "max_height": null,
            "align_content": null,
            "visibility": null,
            "align_self": null,
            "height": null,
            "min_height": null,
            "padding": null,
            "grid_auto_rows": null,
            "grid_gap": null,
            "max_width": null,
            "order": null,
            "_view_module_version": "1.2.0",
            "grid_template_areas": null,
            "object_position": null,
            "object_fit": null,
            "grid_auto_columns": null,
            "margin": null,
            "display": null,
            "left": null
          }
        },
        "e4dbac6a45f14d9c8c7daabd8440689c": {
          "model_module": "@jupyter-widgets/controls",
          "model_name": "DescriptionStyleModel",
          "state": {
            "_view_name": "StyleView",
            "_model_name": "DescriptionStyleModel",
            "description_width": "",
            "_view_module": "@jupyter-widgets/base",
            "_model_module_version": "1.5.0",
            "_view_count": null,
            "_view_module_version": "1.2.0",
            "_model_module": "@jupyter-widgets/controls"
          }
        },
        "36e0eb584dec441cbde909565cd8e681": {
          "model_module": "@jupyter-widgets/base",
          "model_name": "LayoutModel",
          "state": {
            "_view_name": "LayoutView",
            "grid_template_rows": null,
            "right": null,
            "justify_content": null,
            "_view_module": "@jupyter-widgets/base",
            "overflow": null,
            "_model_module_version": "1.2.0",
            "_view_count": null,
            "flex_flow": null,
            "width": null,
            "min_width": null,
            "border": null,
            "align_items": null,
            "bottom": null,
            "_model_module": "@jupyter-widgets/base",
            "top": null,
            "grid_column": null,
            "overflow_y": null,
            "overflow_x": null,
            "grid_auto_flow": null,
            "grid_area": null,
            "grid_template_columns": null,
            "flex": null,
            "_model_name": "LayoutModel",
            "justify_items": null,
            "grid_row": null,
            "max_height": null,
            "align_content": null,
            "visibility": null,
            "align_self": null,
            "height": null,
            "min_height": null,
            "padding": null,
            "grid_auto_rows": null,
            "grid_gap": null,
            "max_width": null,
            "order": null,
            "_view_module_version": "1.2.0",
            "grid_template_areas": null,
            "object_position": null,
            "object_fit": null,
            "grid_auto_columns": null,
            "margin": null,
            "display": null,
            "left": null
          }
        },
        "e5169107941d4002b2876dd7537cc15b": {
          "model_module": "@jupyter-widgets/controls",
          "model_name": "HBoxModel",
          "state": {
            "_view_name": "HBoxView",
            "_dom_classes": [],
            "_model_name": "HBoxModel",
            "_view_module": "@jupyter-widgets/controls",
            "_model_module_version": "1.5.0",
            "_view_count": null,
            "_view_module_version": "1.5.0",
            "box_style": "",
            "layout": "IPY_MODEL_9e8e44f4b9ee4258b25548f184b88ae1",
            "_model_module": "@jupyter-widgets/controls",
            "children": [
              "IPY_MODEL_93aa321a47c74d31946ed513ced03a1f",
              "IPY_MODEL_f11b3c656d474e8a9ea350651ce24c4a"
            ]
          }
        },
        "9e8e44f4b9ee4258b25548f184b88ae1": {
          "model_module": "@jupyter-widgets/base",
          "model_name": "LayoutModel",
          "state": {
            "_view_name": "LayoutView",
            "grid_template_rows": null,
            "right": null,
            "justify_content": null,
            "_view_module": "@jupyter-widgets/base",
            "overflow": null,
            "_model_module_version": "1.2.0",
            "_view_count": null,
            "flex_flow": null,
            "width": null,
            "min_width": null,
            "border": null,
            "align_items": null,
            "bottom": null,
            "_model_module": "@jupyter-widgets/base",
            "top": null,
            "grid_column": null,
            "overflow_y": null,
            "overflow_x": null,
            "grid_auto_flow": null,
            "grid_area": null,
            "grid_template_columns": null,
            "flex": null,
            "_model_name": "LayoutModel",
            "justify_items": null,
            "grid_row": null,
            "max_height": null,
            "align_content": null,
            "visibility": null,
            "align_self": null,
            "height": null,
            "min_height": null,
            "padding": null,
            "grid_auto_rows": null,
            "grid_gap": null,
            "max_width": null,
            "order": null,
            "_view_module_version": "1.2.0",
            "grid_template_areas": null,
            "object_position": null,
            "object_fit": null,
            "grid_auto_columns": null,
            "margin": null,
            "display": null,
            "left": null
          }
        },
        "93aa321a47c74d31946ed513ced03a1f": {
          "model_module": "@jupyter-widgets/controls",
          "model_name": "FloatProgressModel",
          "state": {
            "_view_name": "ProgressView",
            "style": "IPY_MODEL_4838a697f5e543278f3636541345bb08",
            "_dom_classes": [],
            "description": "100%",
            "_model_name": "FloatProgressModel",
            "bar_style": "success",
            "max": 1,
            "_view_module": "@jupyter-widgets/controls",
            "_model_module_version": "1.5.0",
            "value": 1,
            "_view_count": null,
            "_view_module_version": "1.5.0",
            "orientation": "horizontal",
            "min": 0,
            "description_tooltip": null,
            "_model_module": "@jupyter-widgets/controls",
            "layout": "IPY_MODEL_bc9648acf33643729108af2eca28dc2c"
          }
        },
        "f11b3c656d474e8a9ea350651ce24c4a": {
          "model_module": "@jupyter-widgets/controls",
          "model_name": "HTMLModel",
          "state": {
            "_view_name": "HTMLView",
            "style": "IPY_MODEL_4578f11912d64272beb90ecc1546c5cd",
            "_dom_classes": [],
            "description": "",
            "_model_name": "HTMLModel",
            "placeholder": "​",
            "_view_module": "@jupyter-widgets/controls",
            "_model_module_version": "1.5.0",
            "value": " 1/1 [00:01&lt;00:00,  1.06s/ba]",
            "_view_count": null,
            "_view_module_version": "1.5.0",
            "description_tooltip": null,
            "_model_module": "@jupyter-widgets/controls",
            "layout": "IPY_MODEL_f2d7da50d6ff460aaade5e7f3ab13348"
          }
        },
        "4838a697f5e543278f3636541345bb08": {
          "model_module": "@jupyter-widgets/controls",
          "model_name": "ProgressStyleModel",
          "state": {
            "_view_name": "StyleView",
            "_model_name": "ProgressStyleModel",
            "description_width": "initial",
            "_view_module": "@jupyter-widgets/base",
            "_model_module_version": "1.5.0",
            "_view_count": null,
            "_view_module_version": "1.2.0",
            "bar_color": null,
            "_model_module": "@jupyter-widgets/controls"
          }
        },
        "bc9648acf33643729108af2eca28dc2c": {
          "model_module": "@jupyter-widgets/base",
          "model_name": "LayoutModel",
          "state": {
            "_view_name": "LayoutView",
            "grid_template_rows": null,
            "right": null,
            "justify_content": null,
            "_view_module": "@jupyter-widgets/base",
            "overflow": null,
            "_model_module_version": "1.2.0",
            "_view_count": null,
            "flex_flow": null,
            "width": null,
            "min_width": null,
            "border": null,
            "align_items": null,
            "bottom": null,
            "_model_module": "@jupyter-widgets/base",
            "top": null,
            "grid_column": null,
            "overflow_y": null,
            "overflow_x": null,
            "grid_auto_flow": null,
            "grid_area": null,
            "grid_template_columns": null,
            "flex": null,
            "_model_name": "LayoutModel",
            "justify_items": null,
            "grid_row": null,
            "max_height": null,
            "align_content": null,
            "visibility": null,
            "align_self": null,
            "height": null,
            "min_height": null,
            "padding": null,
            "grid_auto_rows": null,
            "grid_gap": null,
            "max_width": null,
            "order": null,
            "_view_module_version": "1.2.0",
            "grid_template_areas": null,
            "object_position": null,
            "object_fit": null,
            "grid_auto_columns": null,
            "margin": null,
            "display": null,
            "left": null
          }
        },
        "4578f11912d64272beb90ecc1546c5cd": {
          "model_module": "@jupyter-widgets/controls",
          "model_name": "DescriptionStyleModel",
          "state": {
            "_view_name": "StyleView",
            "_model_name": "DescriptionStyleModel",
            "description_width": "",
            "_view_module": "@jupyter-widgets/base",
            "_model_module_version": "1.5.0",
            "_view_count": null,
            "_view_module_version": "1.2.0",
            "_model_module": "@jupyter-widgets/controls"
          }
        },
        "f2d7da50d6ff460aaade5e7f3ab13348": {
          "model_module": "@jupyter-widgets/base",
          "model_name": "LayoutModel",
          "state": {
            "_view_name": "LayoutView",
            "grid_template_rows": null,
            "right": null,
            "justify_content": null,
            "_view_module": "@jupyter-widgets/base",
            "overflow": null,
            "_model_module_version": "1.2.0",
            "_view_count": null,
            "flex_flow": null,
            "width": null,
            "min_width": null,
            "border": null,
            "align_items": null,
            "bottom": null,
            "_model_module": "@jupyter-widgets/base",
            "top": null,
            "grid_column": null,
            "overflow_y": null,
            "overflow_x": null,
            "grid_auto_flow": null,
            "grid_area": null,
            "grid_template_columns": null,
            "flex": null,
            "_model_name": "LayoutModel",
            "justify_items": null,
            "grid_row": null,
            "max_height": null,
            "align_content": null,
            "visibility": null,
            "align_self": null,
            "height": null,
            "min_height": null,
            "padding": null,
            "grid_auto_rows": null,
            "grid_gap": null,
            "max_width": null,
            "order": null,
            "_view_module_version": "1.2.0",
            "grid_template_areas": null,
            "object_position": null,
            "object_fit": null,
            "grid_auto_columns": null,
            "margin": null,
            "display": null,
            "left": null
          }
        }
      }
    }
  },
  "cells": [
    {
      "cell_type": "markdown",
      "metadata": {
        "id": "X8VR8kd4ipPN"
      },
      "source": [
        "# Fine-tuning BART for summarization in two languages\r\n",
        "\r\n",
        "---"
      ]
    },
    {
      "cell_type": "markdown",
      "metadata": {
        "id": "sB0R6z3Wd_-0"
      },
      "source": [
        "In a world of ever-growing amount of data, the task of automatically creating a coherent and fluent summary is gaining importance. Presenting texts in a shorter concise form, can help to derive value from large volumes of text.\r\n",
        "\r\n",
        "This notebook contains an example of fine-tuning [Bart](https://huggingface.co/transformers/model_doc/bart.html) for generating summaries of article sections from the [WikiLingua](https://huggingface.co/datasets/wiki_lingua) dataset. WikiLingua is a multilingual set of articles. We will run the same code for two Bart checkpoints, including a non-English model from the [Hugging Face Model Hub](https://huggingface.co/models). We will be using:\r\n",
        "- the **English** portion of WikiLingua with [sshleifer/distilbart-xsum-12-3](https://huggingface.co/sshleifer/distilbart-xsum-12-3) Bart checkpoint, and\r\n",
        "- **French** articles from the WikiLingua with the [moussaKam/barthez-orangesum-abstract](https://huggingface.co/moussaKam/barthez-orangesum-abstract) model."
      ]
    },
    {
      "cell_type": "markdown",
      "metadata": {
        "id": "yUn2OqI9oPQb"
      },
      "source": [
        "## Setup\r\n",
        "\r\n",
        "---"
      ]
    },
    {
      "cell_type": "code",
      "metadata": {
        "id": "_gaaojSBoQ5f"
      },
      "source": [
        "! pip install transformers\r\n",
        "! pip install datasets\r\n",
        "! pip install sentencepiece\r\n",
        "! pip install rouge_score"
      ],
      "execution_count": null,
      "outputs": []
    },
    {
      "cell_type": "code",
      "metadata": {
        "id": "rimUDCQGoTAJ"
      },
      "source": [
        "import torch\r\n",
        "import numpy as np\r\n",
        "import datasets\r\n",
        "\r\n",
        "from transformers import (\r\n",
        "    AutoModelForSeq2SeqLM, AutoTokenizer,\r\n",
        "    Seq2SeqTrainingArguments, Seq2SeqTrainer,\r\n",
        "    DataCollatorForSeq2Seq\r\n",
        "  )\r\n",
        "\r\n",
        "from tabulate import tabulate\r\n",
        "import nltk"
      ],
      "execution_count": null,
      "outputs": []
    },
    {
      "cell_type": "markdown",
      "metadata": {
        "id": "_YhMwWmW3sHZ"
      },
      "source": [
        "## Set language\r\n",
        "\r\n",
        "---"
      ]
    },
    {
      "cell_type": "markdown",
      "metadata": {
        "id": "_KWjbDU4olJd"
      },
      "source": [
        "Pick a language. In our example, there is a choice of English and French."
      ]
    },
    {
      "cell_type": "markdown",
      "metadata": {
        "id": "Fj1Qr2rESpNf"
      },
      "source": [
        "French"
      ]
    },
    {
      "cell_type": "code",
      "metadata": {
        "id": "6GYAc7V13trN"
      },
      "source": [
        "language = \"french\""
      ],
      "execution_count": null,
      "outputs": []
    },
    {
      "cell_type": "markdown",
      "metadata": {
        "id": "5lI5-uEUSnyO"
      },
      "source": [
        "English"
      ]
    },
    {
      "cell_type": "code",
      "metadata": {
        "id": "Z_QkvK4DSp9a"
      },
      "source": [
        "language = \"english\""
      ],
      "execution_count": null,
      "outputs": []
    },
    {
      "cell_type": "markdown",
      "metadata": {
        "id": "aX-q_O-hoe3g"
      },
      "source": [
        "## Model and tokenizer\r\n",
        "\r\n",
        "---"
      ]
    },
    {
      "cell_type": "markdown",
      "metadata": {
        "id": "yb21WY-9mavn"
      },
      "source": [
        "Download model and tokenizer. Use default parameters or try custom values (see [HF Bart configuration](https://huggingface.co/transformers/_modules/transformers/configuration_bart.html) and [Fairseq Bart](https://github.com/pytorch/fairseq/tree/master/examples/bart))."
      ]
    },
    {
      "cell_type": "code",
      "metadata": {
        "id": "7vMhyyIPobyx",
        "colab": {
          "base_uri": "https://localhost:8080/",
          "height": 219,
          "referenced_widgets": [
            "3ee22bffb3504146b7facaf6b6afd260",
            "772ff3789bce45b68d793d9c7dff2f23",
            "2c07c394665e4b0189ee8cd6a42f2291",
            "6cf15076a45d465d8f6c76552f883be4",
            "dec938367576449b90774f2aa613aacd",
            "52957f0d89d64ac1837d8ebd07237663",
            "9f606f011d664626ae17e0824096ec8b",
            "f72630f59b1442dd9e72d20c20fefcb7",
            "86c922986365428f96ea50fae79e8e03",
            "32e8651950c744d7933ddff9165d1ce9",
            "0d852f1fb5bf4134a51b4b869d62ad06",
            "946311e7298549468a4e9a57ce4dd17c",
            "ead9cb29371d4dd1a696fb97fdfac7a6",
            "44c60bdbb3724e8a90c6de01f81a688a",
            "e0acb08987684c0c89e3625f56d1e21e",
            "626226549c944323b98654bed96f7a15",
            "8b02258ea5a6473c901f2a06d912ad19",
            "e8e18dce5d21487aa43b3bf2044352ce",
            "993a574e97f649639c545eb0e2d064ca",
            "692e1ba4601c4b94b38faaebff0885a2",
            "aa1efae10b944ca080fc0bc1d48c4846",
            "3a6d7463476f4d22ad6bbaee3dfd02ec",
            "874aa914805a4461bfbd81bc96dfc891",
            "2cfaeb5a83a04ca4a6459aac1256b85e",
            "c6f9d937548a4e1b825d74c6d659fe05",
            "ad5b44a764a34bf39d0bcbafe10ff7bb",
            "863fb484a4c24ddda407c9f7a19b3fee",
            "1f69d46f88cd48c587c07e3bf953b653",
            "5ffb2f18977b4b40be05c047a3eabf7e",
            "13952500fdae4c8c9645b9b92b4e654f",
            "231e1e6767de45e796a3086713019deb",
            "1c631fa9d4774092bd17e23b32c9dfbe"
          ]
        },
        "outputId": "1707bbae-2563-46ff-d3a7-faeb25b52550"
      },
      "source": [
        "model_name = \"sshleifer/distilbart-xsum-12-3\"\r\n",
        "if language == \"french\":\r\n",
        "    model_name = \"moussaKam/barthez-orangesum-abstract\"\r\n",
        "\r\n",
        "model = AutoModelForSeq2SeqLM.from_pretrained(model_name)\r\n",
        "tokenizer = AutoTokenizer.from_pretrained(model_name)\r\n",
        "\r\n",
        "# Set model parameters or use the default\r\n",
        "#num_beams = model.config.num_beams\r\n",
        "#max_length = model.config.max_length\r\n",
        "#print(model.config)\r\n",
        "\r\n",
        "# tokenization\r\n",
        "encoder_max_length = 256  # demo\r\n",
        "decoder_max_length = 64"
      ],
      "execution_count": null,
      "outputs": [
        {
          "output_type": "display_data",
          "data": {
            "application/vnd.jupyter.widget-view+json": {
              "model_id": "3ee22bffb3504146b7facaf6b6afd260",
              "version_minor": 0,
              "version_major": 2
            },
            "text/plain": [
              "HBox(children=(FloatProgress(value=0.0, description='Downloading', max=1465.0, style=ProgressStyle(description…"
            ]
          },
          "metadata": {
            "tags": []
          }
        },
        {
          "output_type": "stream",
          "text": [
            "\n"
          ],
          "name": "stdout"
        },
        {
          "output_type": "display_data",
          "data": {
            "application/vnd.jupyter.widget-view+json": {
              "model_id": "86c922986365428f96ea50fae79e8e03",
              "version_minor": 0,
              "version_major": 2
            },
            "text/plain": [
              "HBox(children=(FloatProgress(value=0.0, description='Downloading', max=557190519.0, style=ProgressStyle(descri…"
            ]
          },
          "metadata": {
            "tags": []
          }
        },
        {
          "output_type": "stream",
          "text": [
            "\n"
          ],
          "name": "stdout"
        },
        {
          "output_type": "display_data",
          "data": {
            "application/vnd.jupyter.widget-view+json": {
              "model_id": "8b02258ea5a6473c901f2a06d912ad19",
              "version_minor": 0,
              "version_major": 2
            },
            "text/plain": [
              "HBox(children=(FloatProgress(value=0.0, description='Downloading', max=1115393.0, style=ProgressStyle(descript…"
            ]
          },
          "metadata": {
            "tags": []
          }
        },
        {
          "output_type": "stream",
          "text": [
            "\n"
          ],
          "name": "stdout"
        },
        {
          "output_type": "display_data",
          "data": {
            "application/vnd.jupyter.widget-view+json": {
              "model_id": "c6f9d937548a4e1b825d74c6d659fe05",
              "version_minor": 0,
              "version_major": 2
            },
            "text/plain": [
              "HBox(children=(FloatProgress(value=0.0, description='Downloading', max=2630980.0, style=ProgressStyle(descript…"
            ]
          },
          "metadata": {
            "tags": []
          }
        },
        {
          "output_type": "stream",
          "text": [
            "\n"
          ],
          "name": "stdout"
        }
      ]
    },
    {
      "cell_type": "markdown",
      "metadata": {
        "id": "wwtSPRJgomBS"
      },
      "source": [
        "## Data\r\n",
        "\r\n",
        "---"
      ]
    },
    {
      "cell_type": "markdown",
      "metadata": {
        "id": "OZfrIK8fW9DU"
      },
      "source": [
        "### Download"
      ]
    },
    {
      "cell_type": "markdown",
      "metadata": {
        "id": "kV9bhaJw1dbA"
      },
      "source": [
        "For demonstration, we are using a small portion of the data."
      ]
    },
    {
      "cell_type": "code",
      "metadata": {
        "colab": {
          "base_uri": "https://localhost:8080/",
          "height": 310,
          "referenced_widgets": [
            "6b77d89b7e754573b14129f5fc95e7d5",
            "894e0a477c314944ae940c23c4d44e9c",
            "2230f4b061fb48c1ad95957023bdadd1",
            "71b63a12466e4bd2a4d5faac8d383628",
            "9e02d3e68b314071a3506e2f6183b137",
            "2d9dc3def6864b3c85d114506f3044f6",
            "c8b1e3ff3aac414ea422ea22f09f66a7",
            "28d33e5ef8674ef38f0420a0bd57cbcc",
            "7ebfae3ba39d4d0681f0a4c43cc0cd15",
            "fd3e98f6e83e493da6ca18dac66f9b40",
            "04d2a4b62ad24c15819e3c358c7bc050",
            "786086820894486393451c15ee5f3454",
            "1a81908fd8b84ccda9641a14a8060d8d",
            "acc2c756133f4e5d8fe9a30011578812",
            "e6e5e49457b549d89e7bb7087530ced9",
            "c796a15a879040c29afd03b79aaf0b7d"
          ]
        },
        "id": "zA0gynyNom7B",
        "outputId": "e9b87925-4208-4b90-8cc0-be7bedf6aa9d"
      },
      "source": [
        "data = datasets.load_dataset(\"wiki_lingua\", name=language, split=\"train[:1%]\")\r\n",
        "# 5%\r\n",
        "\r\n",
        "# Take a look at the data\r\n",
        "for k, v in data[\"article\"][0].items():\r\n",
        "    print(k)\r\n",
        "    print(v)"
      ],
      "execution_count": null,
      "outputs": [
        {
          "output_type": "stream",
          "text": [
            "Downloading and preparing dataset wiki_lingua/french (download: 188.94 MiB, generated: 188.40 MiB, post-processed: Unknown size, total: 377.34 MiB) to /root/.cache/huggingface/datasets/wiki_lingua/french/1.1.0/509b460a43985c7edb6a75914eef7ba589f758babac3f3301bdcbe966c280a19...\n"
          ],
          "name": "stdout"
        },
        {
          "output_type": "display_data",
          "data": {
            "application/vnd.jupyter.widget-view+json": {
              "model_id": "6b77d89b7e754573b14129f5fc95e7d5",
              "version_minor": 0,
              "version_major": 2
            },
            "text/plain": [
              "HBox(children=(FloatProgress(value=1.0, bar_style='info', description='Downloading', max=1.0, style=ProgressSt…"
            ]
          },
          "metadata": {
            "tags": []
          }
        },
        {
          "output_type": "stream",
          "text": [
            "\n"
          ],
          "name": "stdout"
        },
        {
          "output_type": "display_data",
          "data": {
            "application/vnd.jupyter.widget-view+json": {
              "model_id": "7ebfae3ba39d4d0681f0a4c43cc0cd15",
              "version_minor": 0,
              "version_major": 2
            },
            "text/plain": [
              "HBox(children=(FloatProgress(value=1.0, bar_style='info', max=1.0), HTML(value='')))"
            ]
          },
          "metadata": {
            "tags": []
          }
        },
        {
          "output_type": "stream",
          "text": [
            "\rDataset wiki_lingua downloaded and prepared to /root/.cache/huggingface/datasets/wiki_lingua/french/1.1.0/509b460a43985c7edb6a75914eef7ba589f758babac3f3301bdcbe966c280a19. Subsequent calls will reuse this data.\n",
            "document\n",
            "[\"Une fois que vous avez calculé le rendement total (ci-dessus), remplacez le résultat dans l'équation\\xa0: rendement annualisé = (1+ rendement)1/N-1. Le résultat de cette équation sera un montant correspondant au rendement de chaque année durant toute la durée de temps.  L'exposant (le petit nombre en dehors des parenthèses), le 1, représente l'unité que nous mesurons, qui est 1 an. Si vous souhaitez être plus spécifique, vous pouvez utiliser 365 pour calculer un rendement quotidien. Le N représente le nombre de périodes que nous mesurons.  Donc, si vous mesurez votre rendement sur 7 ans, vous utiliserez le nombre 7 à la place de N. Par exemple, supposons que sur une période de 7 ans, la valeur du  portefeuille est passée de 1 000 € à 2 500 €. Premièrement, calculez le rendement global\\xa0: (2 500 - 1 000)/1 000 = 1,50 (un rendement de 150\\xa0%). Ensuite, calculez le rendement annualisé\\xa0: (1 + 1,50)1/7 - 1 = 0,1399 = 13,99\\xa0% de rendement annuel. C'est tout ce qu'on peut en dire. Utilisez l'ordre mathématique ordinaire des opérations\\xa0: faites d'abord les opérations à l'intérieur des parenthèses et ensuite appliquez l'exposant, et faites la soustraction. Maintenant, supposons que vous souhaitez calculer la performance semestrielle (le rendement chaque six mois) sur une durée de temps de 7 ans. La formule est la même, vous devez juste ajuster le nombre de périodes que vous mesurez. Votre résultat final sera le rendement semestriel.  Dans ce cas, vous aurez 14 périodes semestrielles, deux semestres par an durant les 7 ans. Premièrement, calculez le rendement global\\xa0: (2 500 - 1 000)/1 000 = 1,50 (un rendement de 150\\xa0%). Ensuite, calculez la performance annualisée\\xa0: (1 + 1,50)1/14 - 1 = 6,76\\xa0%. Vous pouvez convertir le résultat en un rendement annuel en le multipliant simplement par 2\\xa0: 6,76\\xa0% x 2 = 13,52\\xa0%. Vous pouvez aussi calculer l'équivalent annualisé des rendements des périodes plus courtes. Par exemple, imaginons que vous avez seulement un rendement semestriel et souhaitez connaitre son équivalent annualisé. Dans ce cas, la formule reste aussi la même.  Supposons que sur une période de six mois, votre portefeuille augmente et passe de 1 000 € à 1 050 €. Commencez en calculant le rendement global\\xa0:  (1 050 - 1 000)/1 000 = 0,05 (un rendement de 5\\xa0% sur six mois). Maintenant, si vous souhaitez connaitre l'équivalent annualisé (en supposant une continuation de ce taux de rendement et des rendements composés), vous devez faire les calculs suivants\\xa0: (1 + 0,05)1/0,50 - 1 = 10,25\\xa0% de rendement annuel. Peu importe à quel point la période est longue ou courte, si vous suivez et utilisez la formule ci-dessus, vous serez toujours en mesure de convertir votre performance en rendement annualisé.\", \"Lors du calcul de la performance annualisée d'un portefeuille, plusieurs termes-clés apparaissent très souvent, et il est très important que vous compreniez ces termes. Ci-dessous les termes-clés en question.  Performance annuelle\\xa0: le rendement total d'un investissement sur une période d'une année civile, y compris les dividendes, intérêts, et gains en capital. Performance annualisée\\xa0: taux de rendement annuel qui est déduit par extrapolation du rendement mesuré sur une période plus ou moins longue qu'une année civile. Performance moyenne\\xa0: rendement typique obtenu par période de temps et dont le calcul se fait en considérant le rendement total obtenu sur une longue période puis en le propageant uniformément sur les périodes les plus courtes. Performance composée ou rendement composé\\xa0: un rendement comprenant les résultats issus du réinvestissement des intérêts, dividendes, et gains en capital. Période\\xa0: une durée de temps spécifique choisie pour mesurer et calculer le rendement. La période peut être journalière, mensuelle, trimestrielle ou annuelle. Rendement périodique\\xa0: le rendement total d'un investissement mesuré sur une durée de temps spécifique. Les rendements composés représentent l'augmentation ou la croissance sur les gains que vous avez déjà obtenus. Plus longtemps votre argent est capitalisé, plus il va croitre, et plus élevé sera votre rendement annualisé (pensez à une boule de neige en descente qui devient plus grosse au fur et à mesure qu'elle roule).  Supposons que vous investissez 100 € et obtenez 100\\xa0% de gain au cours de la première année, vous avez donc 200 € à la fin de la première année. Si vous gagnez juste 10\\xa0% au cours de la deuxième année, cela vous fera 20 € de gain obtenu sur les 200 € à la fin de la deuxième année. Cependant, supposons que votre taux de rendement au cours de la première année est de 50\\xa0%, vous aurez donc au total 150 € au début de la deuxième année. Si le taux de rendement au cours de la seconde année est de 10\\xa0%, vous obtiendrez un gain de 15 € et non de 20 €, à la fin de la deuxième année. Cela fait 33\\xa0% de moins que les 20 € obtenus dans le premier exemple. Pour illustrer davantage, supposons que vous avez perdu 50\\xa0% lors de la première année, et qu'il vous reste donc 50 €. Pour revenir au capital initial, vous devrez  obtenir 100\\xa0% de gain au cours de la deuxième année (50 € x 100\\xa0% = 50 €, et 50 € + 50 € = 100 €). La quantité et la chronologie des gains jouent un grand rôle dans la comptabilisation des rendements composés et  leur effet sur les rendements annualisés. En d'autres mots, le rendement annualisé n'est pas une mesure fiable des gains ou des pertes réelles.  Le rendement annualisé est cependant un bon outil à utiliser lors de la comparaison de divers investissements les uns par rapport aux autres. Pour trouver la moyenne de plusieurs choses, telles que les précipitations quotidiennes ou la perte de poids sur plusieurs mois, vous pouvez utiliser une simple moyenne ou la moyenne arithmétique. C'est une technique qui vous a probablement été enseignée à l'école. Cependant, la moyenne arithmétique ne prend pas en compte l'effet que chaque rendement périodique a sur les autres, ou la chronologie de chaque rendement. Pour  prendre en compte cela, vous devez utiliser le rendement géométrique pondéré en fonction du temps. Mais, ne vous inquiétez pas, nous vous enseignerons la formule permettant de faire ce calcul.  La moyenne arithmétique n'est pas appropriée dans ce cas, car tous les rendements périodiques dépendent les uns des autres. Par exemple, supposons que vous souhaitez tabuler dans Excel votre rendement moyen des 100 € sur une durée de temps de 2 ans. Vous avez obtenu 100\\xa0% lors de la première année, ce qui veut dire que vous avez 200 € à la fin de la première (100\\xa0% de 100 = 100). Vous avez perdu 50\\xa0% au cours de la deuxième année, ce qui veut dire que vous avez 100 € à la fin de la deuxième année (50% de 200 = 100). C'est le montant initial avec lequel vous avez commencé au début de la première année. La moyenne arithmétique sommera les deux rendements, et divisera le résultat par le nombre de périodes, qui dans ce cas est de deux ans. Le résultat montrera que vous avez obtenu un rendement moyen de 25\\xa0% par an. Cependant, si vous liez les deux rendements, vous verrez que vous n'avez réellement rien gagné. Les années se neutralisent mutuellement. Pour commencer, vous devez calculer le rendement global sur la durée de temps totale que vous évaluez. Pour mieux comprendre, nous allons utiliser un exemple où il n'y a pas eu de dépôt ni de retrait. Pour calculer le rendement total, vous n'avez besoin que de deux nombres\\xa0: la valeur du portefeuille au début et à la fin.  Soustrayez la valeur initiale de la valeur finale. Divisez ce nombre par la valeur initiale. Le résultat serait le montant du rendement . En cas de perte au cours de la période évaluée, soustrayez le solde final du solde initial. Puis, divisez par le solde initial, et considérez le résultat comme une valeur négative (cette dernière opération est un substitut au besoin d'ajouter algébriquement un nombre négatif). Faites premièrement la soustraction, et ensuite la division. Cela vous donnera le pourcentage global du rendement. La formule pour le taux de rendement total est\\xa0: (valeur finale du portefeuille – valeur initiale du portefeuille)/valeur initiale du portefeuille. La formule pour le taux du rendement composé est\\xa0: (1 + taux de rendement global)(1/nombre d'années)-1. Par exemple, si la valeur initiale du portefeuille était de 1 000 €, et sa valeur finale de 2 500 € sept ans plus tard, le calcul se ferait de la manière suivante\\xa0:  taux de rendement total = (2 500 - 1 000)/1 000 = 1,5 taux de rendement composé = (1 + 1,5)(1/7)-1 = 0,1398 = 13,98\\xa0%.\"]\n",
            "english_section_name\n",
            "['Calculating Your Annualized Return', 'Laying the Groundwork']\n",
            "english_url\n",
            "['https://www.wikihow.com/Calculate-Annualized-Portfolio-Return', 'https://www.wikihow.com/Calculate-Annualized-Portfolio-Return']\n",
            "section_name\n",
            "['Calculer la performance annualisée (rendement annualisé)', 'Connaitre les bases']\n",
            "summary\n",
            "[\"Calculez le rendement annualisé. Calculez la performance semestrielle. Calculez l'équivalent annualisé.\", \"Apprenez les termes-clés. Sachez comment fonctionnent les rendements composés. Utilisez un rendement pondéré en fonction du temps pour calculer le taux de rendement composé. Calculez le rendement global. Apprenez les formules d'Excel pour ces calculs.\"]\n"
          ],
          "name": "stdout"
        }
      ]
    },
    {
      "cell_type": "markdown",
      "metadata": {
        "id": "sjGvlbT6XBe6"
      },
      "source": [
        "### Prepare"
      ]
    },
    {
      "cell_type": "markdown",
      "metadata": {
        "id": "BD7uaok9474K"
      },
      "source": [
        "**Format and split into train and validation sets**"
      ]
    },
    {
      "cell_type": "code",
      "metadata": {
        "colab": {
          "base_uri": "https://localhost:8080/",
          "height": 118,
          "referenced_widgets": [
            "3da944bc22be4408ba4c2cecc1443ce2",
            "c20dac2ae589402289732de176cf9d49",
            "410aa8db006442009da4d4d28bb6a948",
            "4759307dc6e448888799a840b31c8713",
            "62c85c92d72b4e1898198f595b5e1524",
            "8d9c5d1348e346d783d71cd6097871b9",
            "c65141b19a48400fa40dcb85a84de47c",
            "dc163e9a363d40029c1c3b44f9987cbe",
            "1361a8924b954423b31c0517d5a945bd",
            "6447e0040b5748adad8cb3213eb6e914",
            "caa1324b05304c3c946a92c8fe5228af",
            "190ccfbf94284d588fa0289a10f2a01f",
            "63e7882db361432fb26e324e972626cd",
            "ebe9244dd2bb4f108d48100fcfe03ece",
            "daa3556384314df08ac28857a964ff5c",
            "615cc76853b040108281df70d7545f8c"
          ]
        },
        "id": "M3TeTKzQ49CO",
        "outputId": "35223c17-209e-40ef-f877-dfa4a45acc57"
      },
      "source": [
        "def flatten(example):\r\n",
        "    return {'document': example['article']['document'],\r\n",
        "            'summary': example['article']['summary']}          \r\n",
        "\r\n",
        "def list2samples(example):\r\n",
        "    documents = []\r\n",
        "    summaries = []\r\n",
        "    for sample in zip(example[\"document\"], example[\"summary\"]):\r\n",
        "        if len(sample[0]) > 0:\r\n",
        "            documents += sample[0]\r\n",
        "            summaries += sample[1]\r\n",
        "    return {\"document\": documents, \"summary\": summaries}\r\n",
        "\r\n",
        "dataset = data.map(flatten, remove_columns=['article', 'url'])     \r\n",
        "dataset = dataset.map(list2samples, batched=True) \r\n",
        "\r\n",
        "train_data_txt, validation_data_txt = dataset.train_test_split(test_size=0.1).values()"
      ],
      "execution_count": null,
      "outputs": [
        {
          "output_type": "display_data",
          "data": {
            "application/vnd.jupyter.widget-view+json": {
              "model_id": "3da944bc22be4408ba4c2cecc1443ce2",
              "version_minor": 0,
              "version_major": 2
            },
            "text/plain": [
              "HBox(children=(FloatProgress(value=0.0, max=217.0), HTML(value='')))"
            ]
          },
          "metadata": {
            "tags": []
          }
        },
        {
          "output_type": "stream",
          "text": [
            "\n"
          ],
          "name": "stdout"
        },
        {
          "output_type": "display_data",
          "data": {
            "application/vnd.jupyter.widget-view+json": {
              "model_id": "1361a8924b954423b31c0517d5a945bd",
              "version_minor": 0,
              "version_major": 2
            },
            "text/plain": [
              "HBox(children=(FloatProgress(value=0.0, max=1.0), HTML(value='')))"
            ]
          },
          "metadata": {
            "tags": []
          }
        },
        {
          "output_type": "stream",
          "text": [
            "\n"
          ],
          "name": "stdout"
        }
      ]
    },
    {
      "cell_type": "markdown",
      "metadata": {
        "id": "5pbe750YpMfD"
      },
      "source": [
        "**Preprocess and tokenize**"
      ]
    },
    {
      "cell_type": "code",
      "metadata": {
        "id": "PyksYNwxA4OM",
        "colab": {
          "base_uri": "https://localhost:8080/",
          "height": 118,
          "referenced_widgets": [
            "40fc738272c54f8ab10c267a2021b54e",
            "a062973281554f0fbec4de6ac443f9cb",
            "e00e805c7d7b40c7b3d70e7b8fd39a35",
            "3ecb6ea92b8d4e21865e1f4344cdb0cc",
            "02b503a27906433e89f30de7471c62c2",
            "1fbf058c28d648f494c934c6a16e5acd",
            "e4dbac6a45f14d9c8c7daabd8440689c",
            "36e0eb584dec441cbde909565cd8e681",
            "e5169107941d4002b2876dd7537cc15b",
            "9e8e44f4b9ee4258b25548f184b88ae1",
            "93aa321a47c74d31946ed513ced03a1f",
            "f11b3c656d474e8a9ea350651ce24c4a",
            "4838a697f5e543278f3636541345bb08",
            "bc9648acf33643729108af2eca28dc2c",
            "4578f11912d64272beb90ecc1546c5cd",
            "f2d7da50d6ff460aaade5e7f3ab13348"
          ]
        },
        "outputId": "34bd602e-53f9-4ac4-a404-a72a69c49054"
      },
      "source": [
        "def batch_tokenize_preprocess(batch, tokenizer, max_source_length, max_target_length):\r\n",
        "    \"\"\"\r\n",
        "    Adapted from https://github.com/huggingface/transformers/blob/master/examples/seq2seq/run_summarization.py\r\n",
        "    \"\"\"\r\n",
        "    source, target = batch[\"document\"], batch[\"summary\"]\r\n",
        "    source_tokenized = tokenizer(source, padding='max_length',\r\n",
        "                                 truncation=True, max_length=max_source_length)\r\n",
        "    target_tokenized = tokenizer(target, padding='max_length',\r\n",
        "                                 truncation=True, max_length=max_target_length)\r\n",
        "    \r\n",
        "    # Ignore padding in the loss\r\n",
        "    labels100 = [[-100 if token == tokenizer.pad_token_id else token \r\n",
        "                  for token in l] for l in target_tokenized[\"input_ids\"] ]      \r\n",
        "\r\n",
        "    batch = {k: v for k, v in source_tokenized.items()}\r\n",
        "    batch[\"labels\"] = labels100\r\n",
        "    return batch\r\n",
        "\r\n",
        "train_data = train_data_txt.map(\r\n",
        "  lambda batch: batch_tokenize_preprocess(batch, tokenizer, \r\n",
        "                                          encoder_max_length, \r\n",
        "                                          decoder_max_length),\r\n",
        "  batched=True, remove_columns=train_data_txt.column_names\r\n",
        ")\r\n",
        "\r\n",
        "validation_data = validation_data_txt.map(\r\n",
        "  lambda batch: batch_tokenize_preprocess(batch, tokenizer, \r\n",
        "                                          encoder_max_length, \r\n",
        "                                          decoder_max_length),\r\n",
        "  batched=True, remove_columns=validation_data_txt.column_names\r\n",
        ")    "
      ],
      "execution_count": null,
      "outputs": [
        {
          "output_type": "display_data",
          "data": {
            "application/vnd.jupyter.widget-view+json": {
              "model_id": "40fc738272c54f8ab10c267a2021b54e",
              "version_minor": 0,
              "version_major": 2
            },
            "text/plain": [
              "HBox(children=(FloatProgress(value=0.0, max=1.0), HTML(value='')))"
            ]
          },
          "metadata": {
            "tags": []
          }
        },
        {
          "output_type": "stream",
          "text": [
            "\n"
          ],
          "name": "stdout"
        },
        {
          "output_type": "display_data",
          "data": {
            "application/vnd.jupyter.widget-view+json": {
              "model_id": "e5169107941d4002b2876dd7537cc15b",
              "version_minor": 0,
              "version_major": 2
            },
            "text/plain": [
              "HBox(children=(FloatProgress(value=0.0, max=1.0), HTML(value='')))"
            ]
          },
          "metadata": {
            "tags": []
          }
        },
        {
          "output_type": "stream",
          "text": [
            "\n"
          ],
          "name": "stdout"
        }
      ]
    },
    {
      "cell_type": "markdown",
      "metadata": {
        "id": "h7ViBmMopWfb"
      },
      "source": [
        "## Training\r\n",
        "\r\n",
        "---"
      ]
    },
    {
      "cell_type": "markdown",
      "metadata": {
        "id": "9EfTztMPv2vG"
      },
      "source": [
        "### Metrics"
      ]
    },
    {
      "cell_type": "code",
      "metadata": {
        "id": "rpNCGl2sYl2p"
      },
      "source": [
        "# Borrowed from https://github.com/huggingface/transformers/blob/master/examples/seq2seq/run_summarization.py\r\n",
        "\r\n",
        "nltk.download(\"punkt\", quiet=True)\r\n",
        "\r\n",
        "metric = datasets.load_metric(\"rouge\")\r\n",
        "\r\n",
        "def postprocess_text(preds, labels):\r\n",
        "    preds = [pred.strip() for pred in preds]\r\n",
        "    labels = [label.strip() for label in labels]\r\n",
        "\r\n",
        "    # rougeLSum expects newline after each sentence\r\n",
        "    preds = [\"\\n\".join(nltk.sent_tokenize(pred)) for pred in preds]\r\n",
        "    labels = [\"\\n\".join(nltk.sent_tokenize(label)) for label in labels]\r\n",
        "\r\n",
        "    return preds, labels\r\n",
        "\r\n",
        "def compute_metrics(eval_preds):\r\n",
        "    preds, labels = eval_preds\r\n",
        "    if isinstance(preds, tuple):\r\n",
        "        preds = preds[0]\r\n",
        "    decoded_preds = tokenizer.batch_decode(preds, skip_special_tokens=True)\r\n",
        "    # Replace -100 in the labels as we can't decode them.\r\n",
        "    labels = np.where(labels != -100, labels, tokenizer.pad_token_id)\r\n",
        "    decoded_labels = tokenizer.batch_decode(labels, skip_special_tokens=True)\r\n",
        "\r\n",
        "    # Some simple post-processing\r\n",
        "    decoded_preds, decoded_labels = postprocess_text(decoded_preds, decoded_labels)\r\n",
        "\r\n",
        "    result = metric.compute(predictions=decoded_preds, references=decoded_labels, \r\n",
        "                            use_stemmer=True)\r\n",
        "    # Extract a few results from ROUGE\r\n",
        "    result = {key: value.mid.fmeasure * 100 for key, value in result.items()}\r\n",
        "\r\n",
        "    prediction_lens = [np.count_nonzero(pred != tokenizer.pad_token_id) for pred in preds]\r\n",
        "    result[\"gen_len\"] = np.mean(prediction_lens)\r\n",
        "    result = {k: round(v, 4) for k, v in result.items()}\r\n",
        "    return result"
      ],
      "execution_count": null,
      "outputs": []
    },
    {
      "cell_type": "markdown",
      "metadata": {
        "id": "8O1EeUi-pbPA"
      },
      "source": [
        "### Training arguments"
      ]
    },
    {
      "cell_type": "code",
      "metadata": {
        "id": "6R9d7ELIpX9F"
      },
      "source": [
        "training_args = Seq2SeqTrainingArguments(\r\n",
        "    output_dir='results',          \r\n",
        "    num_train_epochs=1,  # demo  \r\n",
        "    do_train=True,\r\n",
        "    do_eval=True,\r\n",
        "    per_device_train_batch_size=4, # demo\r\n",
        "    per_device_eval_batch_size=4,\r\n",
        "    warmup_steps=500, \r\n",
        "    weight_decay=0.1, # 0.01 \r\n",
        "    label_smoothing_factor=0.1,\r\n",
        "    predict_with_generate=True,\r\n",
        "    logging_dir='logs',\r\n",
        "    logging_steps=100,\r\n",
        "    save_total_limit=3\r\n",
        ")\r\n",
        "\r\n",
        "data_collator = DataCollatorForSeq2Seq(tokenizer, model=model)\r\n",
        "\r\n",
        "trainer = Seq2SeqTrainer(\r\n",
        "    model=model,                \r\n",
        "    args=training_args,     \r\n",
        "    data_collator=data_collator,       \r\n",
        "    train_dataset=train_data,\r\n",
        "    eval_dataset=validation_data,\r\n",
        "    tokenizer=tokenizer,    \r\n",
        "    compute_metrics=compute_metrics  \r\n",
        ")"
      ],
      "execution_count": null,
      "outputs": []
    },
    {
      "cell_type": "markdown",
      "metadata": {
        "id": "Qzcsz3gKplPO"
      },
      "source": [
        "### Train and evaluate"
      ]
    },
    {
      "cell_type": "markdown",
      "metadata": {
        "id": "kEtd_a7TPpkd"
      },
      "source": [
        "Evaluate before fine-tuning"
      ]
    },
    {
      "cell_type": "code",
      "metadata": {
        "colab": {
          "base_uri": "https://localhost:8080/",
          "height": 334
        },
        "id": "5yveDiz7pm3i",
        "outputId": "9cd531ab-381c-4505-e153-4ef3293e861b"
      },
      "source": [
        "trainer.evaluate() "
      ],
      "execution_count": null,
      "outputs": [
        {
          "output_type": "display_data",
          "data": {
            "text/html": [
              "\n",
              "    <div>\n",
              "        <style>\n",
              "            /* Turns off some styling */\n",
              "            progress {\n",
              "                /* gets rid of default border in Firefox and Opera. */\n",
              "                border: none;\n",
              "                /* Needs to be in here for Safari polyfill so background images work as expected. */\n",
              "                background-size: auto;\n",
              "            }\n",
              "        </style>\n",
              "      \n",
              "      <progress value='17' max='17' style='width:300px; height:20px; vertical-align: middle;'></progress>\n",
              "      [17/17 00:02]\n",
              "    </div>\n",
              "    "
            ],
            "text/plain": [
              "<IPython.core.display.HTML object>"
            ]
          },
          "metadata": {
            "tags": []
          }
        },
        {
          "output_type": "execute_result",
          "data": {
            "text/plain": [
              "{'eval_gen_len': 19.9077,\n",
              " 'eval_loss': 6.286588191986084,\n",
              " 'eval_mem_cpu_alloc_delta': 173132,\n",
              " 'eval_mem_cpu_peaked_delta': 1832282,\n",
              " 'eval_mem_gpu_alloc_delta': 0,\n",
              " 'eval_mem_gpu_peaked_delta': 204021248,\n",
              " 'eval_rouge1': 16.4189,\n",
              " 'eval_rouge2': 3.8984,\n",
              " 'eval_rougeL': 12.9775,\n",
              " 'eval_rougeLsum': 15.3553,\n",
              " 'eval_runtime': 3.5096,\n",
              " 'eval_samples_per_second': 18.521,\n",
              " 'init_mem_cpu_alloc_delta': 48859,\n",
              " 'init_mem_cpu_peaked_delta': 18306,\n",
              " 'init_mem_gpu_alloc_delta': 558104064,\n",
              " 'init_mem_gpu_peaked_delta': 0}"
            ]
          },
          "metadata": {
            "tags": []
          },
          "execution_count": 27
        }
      ]
    },
    {
      "cell_type": "markdown",
      "metadata": {
        "id": "nkRb7hvgPrf2"
      },
      "source": [
        "Train the model"
      ]
    },
    {
      "cell_type": "code",
      "metadata": {
        "colab": {
          "base_uri": "https://localhost:8080/",
          "height": 145
        },
        "id": "qYcYcbkr7ZZD",
        "outputId": "90ef5abe-ccc1-4d3e-d97f-96d2ad353108"
      },
      "source": [
        "trainer.train()"
      ],
      "execution_count": null,
      "outputs": [
        {
          "output_type": "display_data",
          "data": {
            "text/html": [
              "\n",
              "    <div>\n",
              "        <style>\n",
              "            /* Turns off some styling */\n",
              "            progress {\n",
              "                /* gets rid of default border in Firefox and Opera. */\n",
              "                border: none;\n",
              "                /* Needs to be in here for Safari polyfill so background images work as expected. */\n",
              "                background-size: auto;\n",
              "            }\n",
              "        </style>\n",
              "      \n",
              "      <progress value='146' max='146' style='width:300px; height:20px; vertical-align: middle;'></progress>\n",
              "      [146/146 00:20, Epoch 1/1]\n",
              "    </div>\n",
              "    <table border=\"1\" class=\"dataframe\">\n",
              "  <thead>\n",
              "    <tr style=\"text-align: left;\">\n",
              "      <th>Step</th>\n",
              "      <th>Training Loss</th>\n",
              "    </tr>\n",
              "  </thead>\n",
              "  <tbody>\n",
              "    <tr>\n",
              "      <td>100</td>\n",
              "      <td>5.372000</td>\n",
              "    </tr>\n",
              "  </tbody>\n",
              "</table><p>"
            ],
            "text/plain": [
              "<IPython.core.display.HTML object>"
            ]
          },
          "metadata": {
            "tags": []
          }
        },
        {
          "output_type": "execute_result",
          "data": {
            "text/plain": [
              "TrainOutput(global_step=146, training_loss=5.050605773925781, metrics={'train_runtime': 20.9417, 'train_samples_per_second': 6.972, 'total_flos': 156106288005120.0, 'epoch': 1.0, 'train_mem_cpu_alloc_delta': 226774, 'train_mem_gpu_alloc_delta': 1728903680, 'train_mem_cpu_peaked_delta': 220574, 'train_mem_gpu_peaked_delta': 1046828032})"
            ]
          },
          "metadata": {
            "tags": []
          },
          "execution_count": 28
        }
      ]
    },
    {
      "cell_type": "markdown",
      "metadata": {
        "id": "V3C-4SfOPssY"
      },
      "source": [
        "Evaluate after fine-tuning"
      ]
    },
    {
      "cell_type": "code",
      "metadata": {
        "id": "_-QyUtCRH9DO",
        "colab": {
          "base_uri": "https://localhost:8080/",
          "height": 278
        },
        "outputId": "cc1ea758-7edf-45e0-f851-349942228e44"
      },
      "source": [
        "trainer.evaluate() "
      ],
      "execution_count": null,
      "outputs": [
        {
          "output_type": "display_data",
          "data": {
            "text/html": [
              "\n",
              "    <div>\n",
              "        <style>\n",
              "            /* Turns off some styling */\n",
              "            progress {\n",
              "                /* gets rid of default border in Firefox and Opera. */\n",
              "                border: none;\n",
              "                /* Needs to be in here for Safari polyfill so background images work as expected. */\n",
              "                background-size: auto;\n",
              "            }\n",
              "        </style>\n",
              "      \n",
              "      <progress value='34' max='17' style='width:300px; height:20px; vertical-align: middle;'></progress>\n",
              "      [17/17 00:27]\n",
              "    </div>\n",
              "    "
            ],
            "text/plain": [
              "<IPython.core.display.HTML object>"
            ]
          },
          "metadata": {
            "tags": []
          }
        },
        {
          "output_type": "execute_result",
          "data": {
            "text/plain": [
              "{'epoch': 1.0,\n",
              " 'eval_gen_len': 19.0462,\n",
              " 'eval_loss': 4.124953746795654,\n",
              " 'eval_mem_cpu_alloc_delta': 106175,\n",
              " 'eval_mem_cpu_peaked_delta': 1883472,\n",
              " 'eval_mem_gpu_alloc_delta': 0,\n",
              " 'eval_mem_gpu_peaked_delta': 204004864,\n",
              " 'eval_rouge1': 18.3495,\n",
              " 'eval_rouge2': 5.4592,\n",
              " 'eval_rougeL': 15.3273,\n",
              " 'eval_rougeLsum': 17.1301,\n",
              " 'eval_runtime': 3.4246,\n",
              " 'eval_samples_per_second': 18.98}"
            ]
          },
          "metadata": {
            "tags": []
          },
          "execution_count": 29
        }
      ]
    },
    {
      "cell_type": "markdown",
      "metadata": {
        "id": "-gSLVnGL9bol"
      },
      "source": [
        "## Evaluation\r\n",
        "\r\n",
        "---"
      ]
    },
    {
      "cell_type": "markdown",
      "metadata": {
        "id": "hDwj24cfILS6"
      },
      "source": [
        "**Generate summaries from the fine-tuned model and compare them with those generated from the original, pre-trained one**"
      ]
    },
    {
      "cell_type": "code",
      "metadata": {
        "id": "NV64-XdA_rOM"
      },
      "source": [
        "def generate_summary(test_samples, model):\r\n",
        "    inputs = tokenizer(test_samples[\"document\"], \r\n",
        "                    padding=\"max_length\", \r\n",
        "                    truncation=True, \r\n",
        "                    max_length=encoder_max_length, \r\n",
        "                    return_tensors=\"pt\")\r\n",
        "    input_ids = inputs.input_ids.to(model.device)\r\n",
        "    attention_mask = inputs.attention_mask.to(model.device)\r\n",
        "    outputs = model.generate(input_ids, attention_mask=attention_mask)\r\n",
        "    output_str = tokenizer.batch_decode(outputs, skip_special_tokens=True)\r\n",
        "    return outputs, output_str\r\n",
        "\r\n",
        "model_before_tuning = AutoModelForSeq2SeqLM.from_pretrained(model_name)\r\n",
        "\r\n",
        "test_samples = validation_data_txt.select(range(16))\r\n",
        "\r\n",
        "summaries_before_tuning = generate_summary(test_samples, model_before_tuning)[1]\r\n",
        "summaries_after_tuning = generate_summary(test_samples, model)[1]"
      ],
      "execution_count": null,
      "outputs": []
    },
    {
      "cell_type": "code",
      "metadata": {
        "id": "D7IPtJLjCcmS",
        "colab": {
          "base_uri": "https://localhost:8080/"
        },
        "outputId": "2a562a13-7730-4c0a-f17a-d641ba188d1c"
      },
      "source": [
        "print(tabulate(zip(range(len(summaries_after_tuning)), \r\n",
        "                   summaries_after_tuning, summaries_before_tuning), \r\n",
        "               headers=['Id', 'Summary after', 'Summary before']))\r\n",
        "print('\\nTarget summaries:\\n')\r\n",
        "print(tabulate(list(enumerate(test_samples[\"summary\"])),\r\n",
        "               headers=['Id', 'Target summary']))\r\n",
        "print('\\nSource documents:\\n')\r\n",
        "print(tabulate(list(enumerate(test_samples[\"document\"])),\r\n",
        "               headers=['Id', 'Document']))"
      ],
      "execution_count": null,
      "outputs": [
        {
          "output_type": "stream",
          "text": [
            "  Id  Summary after                                                                                       Summary before\n",
            "----  --------------------------------------------------------------------------------------------------  ---------------------------------------------------------------------------------------------------------\n",
            "   0  Utilisez une brosse à poils très doux. Utilisez une brosse à poils très doux. Utilisez              Le frotter délicatement sur le cuir est indispensable pour le nettoyer. Cela peut prendre plusieurs jours\n",
            "   1  Prenez un équeuteur. Retirez l'ustensile de la fraise.                                              Pour gagner du temps, un équeuteur est un bon moyen de faire des économies\n",
            "   2  Utilisez votre eau de Cologne. Utilisez votre parfum. Utilisez votre parfum. Utilisez votre parfum  L’odeur de votre corps n'est pas désagréable à l'application, mais\n",
            "   3  Sois accueillante et détendue. Dis-lui ce que tu peux faire pour être une meilleure                 Sois sérieuse et détendue lorsque tu t'approches d'elle pour lui parler.\n",
            "   4  Utilisez de l'eau glacée. Utilisez un seau de 20 litres. Utilisez un us                             Si vous êtes un athlète, envisagez un seau de 20 litres rempli d'eau\n",
            "   5  Gardez le téléphone à l'écart. Adoptez l'habitude de dire des                                       Votre taux d'ocytocine augmente chaque fois que vous entendez des compliments.\n",
            "   6  Préparez un mélange composé d'une portion de décolorant pour cheveux.                               Le site de Tf1 vous aidera à déterminer si vous avez les cheveux blonds\n",
            "   7  Faites appel à un médecin. Faites-lui prescrire une écharpe. Faites-lui prescrire                   Un médecin généraliste peut vous prescrire une écharpe pour soigner votre bras cassé. Celle-ci\n",
            "   8  Prenez conscience de vos pensées. Continuez à prendre conscience de qui vous êtes réellement.       Pour garder une trace de vos pensées au quotidien, commencez un journal et écrivez ce qui\n",
            "   9  Vous êtes maintenant déconnecté de votre compte Twitter.                                            Vous êtes déconnecté de Twitter depuis le 23 mars.\n",
            "  10  Sortez de votre zone de confort. Sortez de votre zone de confort.                                   Apprendre l'art n'est pas une mince affaire pour les artistes. Il faut\n",
            "  11  Faites une liste de toutes les raisons qui vous poussent à arrêter de fumer. Faites-                Arrêter de fumer, brûler les cendriers et les briquets, déménager déménager...\n",
            "  12  Votre médecin généraliste pourrait vous recommander la prise d'anti-inflammatoires.                 Votre médecin généraliste peut vous prescrire des traitements pour les douleurs dans le bas du dos.\n",
            "  13  Choisissez des fleurs robustes. Choisissez des fleurs plus résistantes.                             A l'occasion d'un bal ou d'une fête, optez pour des\n",
            "  14  Présentez les résultats souhaités. Présentez les résultats souhaités.                               Ce document de communication doit permettre au lecteur de s’assurer que la procédure est bien\n",
            "  15  Utilisez un marteau pour frapper l'extracteur. Utilisez un tournevis ou une perce                   Les vis à tête plate et cassée sont disponibles en diverses tailles et couleurs. Pour les\n",
            "\n",
            "Target summaries:\n",
            "\n",
            "  Id  Target summary\n",
            "----  --------------------------------------------------------------------------------------------------------------------------------------------------------------------------------------------------------------------------------------------------------------------------------------------------------------------------------------------------------------------------------------------------------------------------------------------------------------------------------------------------------------------------------------------------------------------------------------------------------------------------------------------------\n",
            "   0  Identifiez le cuir non fini. Éliminez la saleté avec du savon pour sellerie. Utilisez une brosse à poils doux au besoin. Essuyez la mousse restante. Laissez l’article sécher à l’air libre. Traitez le cuir.\n",
            "   1  Achetez un équeuteur. Choisissez vos fraises. Tenez l'ustensile avec l'autre main. Placez les bords en métal de l'équeuteur contre la queue de la fraise. Ils doivent être en haut de la fraise, à l'endroit où la fraise passe du vert au rouge. Pincez chaque côté de l'équeuteur et tournez. Jetez la queue et rincez les fraises avant de servir.\n",
            "   2  Appliquez le parfum à vos points de pulsation. Songez à appliquer votre eau de Cologne sur votre poitrine. N’oubliez pas le cou. N’appliquez pas votre parfum sur les endroits où vous transpirez excessivement. Choisissez un ou deux endroits.\n",
            "   3  Exprime tes sentiments. Demande-lui si tu l'as offensée. Aie une conversation agréable avec elle.\n",
            "   4  Appliquez de la glace. Faites chauffer le muscle. Continuez de bouger. Faites-vous masser. Investissez dans un rouleau en mousse. Prenez des analgésiques. Sachez à quel moment il est normal d'avoir des courbattures et à quel moment cela n'est pas normal.\n",
            "   5  Écoutez attentivement. Faites des compliments et des encouragements. Cultivez des interactions positives sur Internet. Mangez en compagnie d'autres personnes.\n",
            "   6  Choisissez la couleur de teinte que vous voulez pour vos cheveux. Couvrez votre peau, votre comptoir et vos vêtements. Mélangez le décolorant pour cheveux et la crème oxydante 20 volumes. Passez une fine couche de décolorant sur vos cheveux. Passez plus de décolorant et patientez encore 30 minutes. Lavez le décolorant avec du shampoing et de l'eau fraiche.\n",
            "   7  Faites-vous soigner en cas de fracture ou de luxation. Si la fracture est ouverte, rendez-vous immédiatement aux urgences. N’essayez pas de réduire une fracture.\n",
            "   8  Faites attention à vos pensées. Tenez un journal. Prenez conscience de vos perceptions. Reconnaissez vos sentiments.\n",
            "   9  Cliquez sur votre avatar Twitter, en haut à droite de votre page Twitter. Cliquez sur « Déconnexion ».\n",
            "  10  Suivez votre intuition. Exercez-vous dans différents styles et disciplines. Trouvez l'inspiration partout dans votre vie. Montrez votre travail pour avoir des retours et des critiques. Acceptez les critiques constructives.\n",
            "  11  Sachez précisément pourquoi vous souhaitez arrêter de fumer. Cessez de fumer du jour au lendemain. Préparez-vous à subir les symptômes qui accompagnent une diminution de consommation de nicotine. Demandez de l'aide. Apprenez à connaitre les facteurs qui déclenchent chez vous l'envie de fumer. Téléchargez et installez une application faite pour aider ceux qui souhaitent arrêter de fumer . Envisagez d'utiliser des cigarettes électroniques. Envisagez de demander l'aide d'un professionnel de la santé. Prenez des doses de Bupropion. Prenez des doses de Chantix. Essayez une des thérapies de remplacement de la nicotine (TRN).\n",
            "  12  Prenez rendez-vous avec votre médecin. Consultez un spécialiste à propos de votre dos. Comprenez les différents types de traitement disponibles. Consultez un spécialiste de la médecine chinoise traditionnelle.\n",
            "  13  Choisissez les couleurs. Sélectionnez les fleurs principales. Choisissez les fleurs décoratives.\n",
            "  14  Produisez les éléments nécessaires. Veillez à couvrir les points suivants concernant la procédure elle-même. Rédigez votre POP d’une manière concise et claire. Demandez au personnel concerné de vous préciser les façons d’exécuter la tâche en question en cas de besoin. Insérez des diagrammes et des illustrations pour diviser votre texte lorsqu’il est particulièrement dense. Veillez à inscrire une marque de modification sur chaque page.\n",
            "  15  Procurez-vous un extracteur de vis. Percez un trou dans la vis. Frappez l'extracteur avec un marteau. Tournez l'extracteur dans le sens antihoraire pour retirer la vis. Prenez la tige de la vis avec une pince en guise d'alternative.\n",
            "\n",
            "Source documents:\n",
            "\n",
            "  Id  Document\n",
            "----  ------------------------------------------------------------------------------------------------------------------------------------------------------------------------------------------------------------------------------------------------------------------------------------------------------------------------------------------------------------------------------------------------------------------------------------------------------------------------------------------------------------------------------------------------------------------------------------------------------------------------------------------------------------------------------------------------------------------------------------------------------------------------------------------------------------------------------------------------------------------------------------------------------------------------------------------------------------------------------------------------------------------------------------------------------------------------------------------------------------------------------------------------------------------------------------------------------------------------------------------------------------------------------------------------------------------------------------------------------------------------------------------------------------------------------------------------------------------------------------------------------------------------------------------------------------------------------------------------------------------------------------------------------------------------------------------------------------------------------------------------------------------------------------------------------------------------------------------------------------------------------------------------------------------------------------------------------------------------------------------------------------------------------------------------------------------------------------------------------------------------------------------------------------------------------------------------------------------------------------------------------------------------------------------------------------------------------------------------------------------------------------------------------------------------------------------------------------------------------------------------------------------------------------------------------------------------------------------------------------------------------------------------------------------------------------------------------------------------------------------------------------------------------------------------------------------------------------------------------------------------------------------------------------------------------------------------------------------------------------------------------------------------------------------------------------------------------------------------------------------------------------------------------------------------------------------------------------------------------------------------------------------------------------------------------------------------------------------------------------------------------------------------------------------------------------------------------------------------------------------------------------------------------------------------------------------------------------------------------------------------------------------------------------------------------------------------------------------------------------------------------------------------------------------------------------------------------------------------------------------------------------------------------------------------------------------------------------------------------------------------------------------------------------------------------------------------------------------------------------------------------------------------------------------------------------------------------------------------------------------------------------------------------------------------------------------------------------------------------------------------------------------------------------------------------------------------------------------------------------------------------------------------------------------------------------------------------------------------------------------------------------------------------------------------------------------------------------------------------------------------------------------------------------------------------------------------------------------------------------------------------------------------------------------------------------------------------------------------------------------------------------------------------------------------------------------------------------------------------------------------------------------------------------------------------------------------------------------------------------------------------------------------------------------------------------------------------------------------------------------------------------------------------------------------------------------------------------------------------------------------------------------------------------------------------------------------------------------------------------------------------------------------------------------------------------------------------------------------------------------------------------------------------------------------------------------------------------------------------------------------------------------------------------------------------------------------------------------------------------------------------------------------------------------------------------------------------------------------------------------------------------------------------------------------------------------------------------------------------------------------------------------------------------------------------------------------------------------------------------------------------------------------------------------------------------------------------------------------------------------------------------------------------------------------------------------------------------------------------------------------------------------------------------------------------------------------------------------------------------------------------------------------------------------------------------------------------------------------------------------------------------------------------------------------------------------------------------------------------------------------------------------------------------------------------------------------------------------------------------------------------------------------------------------------------------------------------------------------------------------------------------------------------------------------------------------------------------------------------------------------------------------------------------------------------------------------------------------------------------------------------------------------------------------------------------------------------------------------------------------------------------------------------------------------------------------------------------------------------------------------------------------------------------------------------------------------------------------------------------------------------------------------------------------------------------------------------------------------------------------------------------------------------------------------------------------------------------------------------------------------------------------------------------------------------------------------------------------------------------------------------------------------------------------------------------------------------------------------------------------------------------------------------------------------------------------------------------------------------------------------------------------------------------------------------------------------------------------------------------------------------------------------------------------------------------------------------------------------------------------------------------------------------------------------------------------------------------------------------------------------------------------------------------------------------------------------------------------------------------------------------------\n",
            "   0  Les articles faits de cette matière ont un aspect rugueux. Le plus souvent, ce genre de cuir sert à fabriquer des objets conçus pour résister à l’usure, comme les chaussures de chantier, les gants de baseball ou les selles pour les chevaux . Versez-en un peu sur un chiffon propre et humide. Faites-le mousser généreusement sur le cuir, puis rincez-le avec de l’eau. Évitez, comme toujours, de saturer le cuir d’eau .  Si vous voyez que le cuir s’imbibe d’eau, faites une pause pour le laisser sécher et éviter ainsi de l’abimer . Si l’article est très sale ou s’il présente des fissures, un chiffon sera peut-être insuffisant pour le nettoyer. Veillez à utiliser une brosse à poils très doux, en nylon par exemple, pour ne pas endommager la surface du cuir .  Pour prévenir tout dommage accidentel, testez la brosse sur un endroit caché du cuir avant de l’utiliser . Humidifiez légèrement un chiffon propre non pelucheux. Essorez-le pour retirer l’excès d’humidité, puis essuyez toute trace de savon ou de saleté. Soyez méticuleux ! Les résidus de savon endommagent la surface du cuir en séchant . Le cuir non fini prend l’eau plus facilement que le cuir fini. C’est pourquoi vous devez le laisser sécher pendant une nuit ou au moins 8 heures . Mettez sur l’article sec un produit d'entretien, comme de l’huile de vison. À l'aide d'un chiffon propre, frottez avec une généreuse dose l’huile, en particulier aux endroits qui paraissent usés ou sur les zones fissurées. À la fin, votre objet sera prêt à l’emploi .\n",
            "   1  Vous pouvez en trouver en ligne, dans des magasins de cuisine ou dans certaines grandes surfaces. Si vous avez des fraisiers chez vous ou que vous cuisinez souvent des fraises, acheter un équeuteur à 5 € peut être un bon investissement et un bon moyen de gagner du temps. Prenez une fraise et tenez-la entre votre index et votre pouce avec votre main non dominante. La queue doit être vers l'autre main. Les bords de l'équeuteur doivent être ouverts et s'ouvrir facilement avec une légère pression. Vous devez pouvoir le fermer et l'ouvrir sans effort. Insérez l'équeuteur dans la fraise à environ un demi-centimètre. Retirez l'ustensile de la fraise, la queue va s'enlever.\n",
            "   2  Il s’agit des zones de votre corps qui dégagent le plus de chaleur. La chaleur permettra au parfum de se diffuser tout au long de la journée. Si vous vaporisez votre parfum seulement sur vos vêtements, il pourrait ne pas être détectable très longtemps.  L’intérieur de vos poignets est un bon endroit pour appliquer du parfum. Derrière les oreilles est également un endroit où beaucoup d’hommes appliquent leur eau de Cologne. La poitrine est un très bon endroit où appliquer votre eau de Cologne, puisque cela parfumera votre chemise et enveloppera d’une douce odeur quiconque vous pourriez serrer dans vos bras. Si vous êtes sûr que votre partenaire pourrait se rapprocher de votre cou à un moment de la soirée, veillez à appliquer la bonne quantité de parfum sur cette zone. Le parfum appliqué dans votre cou se mélangera à votre odeur naturelle, ce qui créera une fragrance unique et très personnelle. Si vous avez tendance à beaucoup transpirer, n’appliquez pas de parfum aux endroits où vous transpirez pour masquer les odeurs corporelles. Les odeurs de transpiration se mélangent mal au parfum, veillez alors à ne pas appliquer votre eau de Cologne aux mauvais endroits. Vous n’avez pas à appliquer votre parfum sur chaque point de pulsation. En fait, en faisant cela, l’odeur serait probablement trop forte, pour vous comme pour les autres. Choisissez quelques points, et soyez subtile !\n",
            "   3  Même si elle te blesse vraiment, elle pourrait se dire qu'elle est juste en train de plaisanter ou jouer avec toi. Il est important de lui dire comment ses actions te font du mal. Assure-toi qu'elle sache que tu es sérieuse et ne plaisante pas.   Sois accueillante et détendue lorsque tu t'approches d'elle pour lui parler. Tu pourrais lui dire quelque chose comme ceci : « J'aimerais vraiment qu'on puisse parler pendant quelques minutes.  » Dis-lui comment et pourquoi ses agissements te font mal. Dis-lui ceci : « J'ai vraiment mal quand tu... Ça me blesse parce que xxx .  » Les grandes sœurs se mettent très vite en colère contre leurs petites sœurs, alors demande à la tienne si tu lui as fait quelque chose qui serait à l'origine de son comportement. Ensuite, essaie de changer.   Dis-lui ceci : « Je veux vraiment améliorer notre relation. T'ai-je contrariée ou mise en colère  ?  » Dès qu'elle te donnera sa réponse, demande-lui ce que tu peux faire pour être une meilleure sœur. Dis ceci : « Que puis-je faire pour être une meilleure petite sœur  ? J'ai vraiment envie qu'on arrête de nous disputer autant .  » Même si les conversations sérieuses sont nécessaires pour résoudre des conflits, renforcer vos liens en ayant des conversations plus agréables et désinvoltes est également important. Complimente ses chaussures, dis-lui que tu as aimé les affiches qu'elle a accrochées dans sa chambre, pose-lui des questions sur le garçon qu'elle aime bien à l'école, etc. Aie des conversations agréables avec ta sœur pour renforcer vos relations.   N'oublie pas de lui faire savoir que tu aimes passer du temps avec elle et que tu aimerais le faire plus souvent. Les grandes sœurs aiment habituellement donner des conseils. Si tu lui demandes des conseils sur des sujets comme la mode, l'amour ou la musique, elle sera ravie d'en parler avec toi.\n",
            "   4  Il a été démontré que l'eau glacée après des exercices physiques intenses permet de réduire les courbattures plus que n'importe quels autres traitements . Cela permet de réduire l'inflammation musculaire et d'éviter que les courbattures ne s'installent dans vos muscles. Si vous êtes un sportif professionnel ou si vous faites beaucoup de sport, vous pourriez prendre un bain de glace après vos exercices pour réduire les courbattures. Si cela n'est pas possible, essayez les techniques suivantes.  Prenez une douche ou un bain froid. Plus c'est froid et mieux c'est. Les athlètes professionnels font généralement appel à de l'eau glacée, mais si vous ne la supportez pas, vous pouvez utiliser l'eau du robinet sans y ajouter d'eau chaude. Cela ne va pas fonctionner aussi bien que l'eau glacée, mais c'est tout de même mieux que l'eau chaude ou tiède. Si vous êtes un athlète, envisagez d'investir dans un seau de 20 litres. Si vous ressentez des courbattures dans les bras (par exemple après un entrainement de tennis), un seau de 20 litres rempli d'eau glacée vous permettra d'y tremper tout le bras. Cet ustensile sera aussi utile pour les pieds. Lorsque vous appliquez de la glace sur un muscle ou un groupe de muscle (plutôt que sur le corps en entier), assurez-vous d'enrouler la poche de glace dans une sorte de protection avant de l'appliquer. Cela vous permettra d'éviter que le froid n'abime votre peau. Essayez de mettre de la glace pilée dans une poche en plastique avant de l'enrouler dans une serviette ou la mettre dans un gant de toilette pour l'appliquer sur le muscle endolori . Utilisez du film plastique pour maintenir la glace sur la partie du corps désirée. Si vous devez bouger, par exemple pour cuisiner ou pour faire le ménage, tout en voulant maintenir la glace en place, utilisez du film plastique pour la garder sur le muscle tout en vous déplaçant. Maintenez la glace sur le muscle pendant 10 à 20 minutes. Même si vous devez toujours commencer par appliquer de la glace, vous pourriez essayer d'appliquer de la chaleur sur les courbattures quelques heures plus tard pour vous aider à stimuler le flux sanguin et à garder le muscle souple au lieu de trop rigide . Appliquez de la chaleur pendant environ 20 minutes.  Prenez une douche ou un bain chaud. L'eau permettra de soulager les muscles que vous y trempez. Vous pouvez aussi soulager les courbattures en ajoutant du sel d'Epsom dans votre bain. Le sel d'Epsom est constitué de magnésium qui est absorbé par la peau et fait office de myorelaxant naturel. Ajoutez-en entre deux et quatre grosses c. à s. dans votre bain et remuez l'eau pour faire dissoudre le sel. Profitez de votre bain. Vous devriez ressentir un certain soulagement après avoir pris votre bain . Si vous avez des courbattures dans le cou, prenez du riz cru, remplissez-en une chaussette et faites un nœud. Passez au microonde pendant une minute et demie et appliquez-le sur votre cou. Vous pouvez vous en servir plusieurs fois. Pour les courbattures isolées, vous pouvez appliquer une compresse chauffante directement sur la peau et la porter sous vos vêtements pendant plusieurs heures. Vous en trouverez dans la plupart des pharmacies . Même s'il peut être tentant de se détendre pendant que vous vous remettez, des études ont montré qu'une activité légère qui met en marche le muscle endolori permet de réduire le temps nécessaire pour faire disparaitre la courbatture. Il est important de donner à vos muscles du temps pour guérir, c'est pourquoi vous devez vous assurer de ne pas trop en faire .  Les exercices permettent de guérir les courbattures en augmentant la quantité de sang qui afflue dans le muscle endolori, ce qui permet d'en éliminer plus rapidement les toxines et d'éviter que les muscles ne deviennent trop rigides. Réfléchissez à l'intensité des exercices à l'origine de vos courbattures et faites une version plus légère de ces exercices le jour suivant (l'intensité doit être similaire à celle de vos échauffements) . Par exemple, si vous avez des courbattures après avoir couru 8 km, faites une promenade sur 1 ou 2 km. Lorsque vous faites des exercices jusqu'à en être épuisé, cela arrache de petites fibres dans vos muscles. L'inflammation est la réponse naturelle du corps à ces dégâts au niveau des fibres musculaires. Le massage permet de réduire la quantité de cytokines que le corps produit, une substance qui joue un rôle clé dans le processus de l'inflammation . Les massages ont aussi l'air d'augmenter la quantité de mitochondries dans les muscles, ce qui permet d'augmenter la capacité du muscle à extraire de l'oxygène .  Le massage permet aussi de débarrasser les muscles de l'acide lactique, de la lymphe et d'autres toxines stagnantes. Recherchez un kinésithérapeute et laissez-le vous masser. Les massages qu'il prodigue vont vous permettre de vous détendre et de soigner vos muscles. Massez-vous vous-même les muscles. Selon le point où se trouve la courbatture, vous pouvez essayer de vous masser vous-même. Utilisez votre pouce, les articulations des doigts et vos paumes pour travailler le tissu musculaire en profondeur. Vous pouvez aussi utiliser une balle de tennis pour appuyer sur les muscles et soulager la pression au niveau de vos mains. Si vous massez un muscle courbatturé, ne vous concentrez pas sur le milieu du muscle. Concentrez-vous plutôt sur les connexions qui se trouvent à chaque extrémité. Cela aidera le muscle à se détendre plus rapidement . Si vous avez des courbattures au niveau du poignet, massez-vous l'avant-bras. Cet objet très pratique vous permet de vous donner un massage en profondeur avant et après vos exercices physiques, ce qui permet de détendre les muscles et d'éviter les courbattures tout en traitant les muscles et les articulations déjà endoloris. C'est un ustensile très utile pour les courbattures dans les jambes et les cuisses, mais vous pouvez aussi l'utiliser pour le dos, le torse et les fesses. Appuyez le rouleau sur le muscle courbatturé et frottez-le de haut en bas. Cela permet de soulager la tension et le stress.  Connue sous le nom de « myofascial release », cette méthode de massage était auparavant utilisée par les athlètes professionnels et les thérapeutes, mais elle s'est maintenant démocratisé chez toutes les personnes qui font du sport ou du fitness . Vous pouvez acheter un rouleau en mousse dans la plupart des magasins en ligne. Vous trouverez sur Internet de nombreux conseils pour savoir comment utiliser un rouleau en mousse afin de soulager vos muscles courbatturés. Si vous ne voulez pas dépenser la somme requise pour acheter un rouleau en mousse, vous pouvez aussi faire rouler une balle de tennis en appuyant dessus sur le muscle endolori. Si vous voulez soulager immédiatement les muscles, essayez de prendre du paracétamol ou un anti-inflammatoire non stéroïdien (aussi connu sous le nom d'AINS) comme l'ibuprofène, le naproxène ou l'aspirine .  Si vous avez moins de 18 ans ou si vous vous occupez d'un enfant de moins de 18 ans, n'utilisez pas d'aspirine. L'aspirine chez les enfants de moins de 18 ans peut provoquer un trouble appelé syndrome de Reye qui entraine des dégâts cérébraux importants . Essayez d'éviter de prendre des AINS régulièrement. Les AINS peuvent réduire la capacité de vos muscles à se réparer naturellement si vous en prenez trop souvent. Il vaudrait mieux que vous trouviez des façons plus naturelles de traiter les douleurs musculaires si vous le pouvez . Il est généralement normal de ressentir des courbattures après des exercices physiques intenses ou après avoir fait fonctionner des muscles qui ne fonctionnent pas souvent, mais il existe plusieurs signes que vous devez observer, car ils pourraient indiquer un problème plus grave.  Les courbattures normales après des exercices physiques interviennent généralement 24 heures après ces exercices, surtout si vous avez changé vos exercices, si vous en avez augmenté l'intensité ou si vous avez fait fonctionner des muscles qui n'ont pas l'habitude de fonctionner. Ce genre de courbatture atteint son maximum d'intensité le deuxième jour avant de diminuer petit à petit . Faites attention aux douleurs qui vous lancent et qui apparaissent après vos exercices physiques, car cela peut vous indiquer une déchirure. Surveillez aussi l'apparition de douleurs dans les articulations, car elles peuvent signaler des dégâts au niveau des ligaments ou du ménisque, mais aussi un cas d'arthrose . Appelez votre médecin si vous ressentez des douleurs musculaires qui apparaissent soudainement, qui ne diminuent pas après que vous prenez un analgésique ou qui ne disparaissent pas après quelques jours .\n",
            "   5  Établissez un contact visuel pendant vos conversations et accordez toute votre attention à votre interlocuteur. Gardez le téléphone à l'écart, positionnez votre corps vers votre interlocuteur et utilisez des signes non verbaux, tels que des hochements de tête, pour lui montrer que vous l'écoutez . La production d'ocytocine est immédiatement stimulée lorsque nous entendons des choses positives à notre sujet. En fait, tout sentiment lié à l'amour et à l'admiration peut augmenter le taux de cette hormone dans le corps. D'autre part, les gens ont tendance à échanger des sentiments positifs avec ceux qui ont une opinion favorable d'eux .   Adoptez l'habitude de dire des choses positives sur les autres chaque fois que l'un de ces compliments vous vient à l'esprit. Non seulement leur niveau d'ocytocine augmentera, mais ils se sentiront également plus à l'aise à parler affectueusement avec vous. De plus en plus de personnes utilisent les réseaux sociaux pour interagir avec les autres et, si l'équilibre entre les interactions virtuelles et réelles est important, vous pouvez également augmenter votre taux d'ocytocine en échangeant des compliments sur Internet .  Par exemple, la prochaine fois que vous irez sur Facebook, assurez-vous d'aimer au moins 10 messages et de faire des commentaires positifs et aimables dans les publications de vos amis. Partager un repas avec quelqu'un est un moyen sûr de créer un lien et l'expérience peut également vous calmer et vous donner l'occasion de discuter. L'idéal est d'inviter un être cher à déjeuner ou à diner avec vous et de lui proposer de payer la note. Donner et recevoir est une pratique qui augmente également la concentration d'ocytocine dans l'organisme .\n",
            "   6  Ce choix vous permettra de déterminer si vous devez ou non décolorer en premier. Si vous préférez une teinte plus foncée que la vôtre, vous n'aurez pas besoin de décolorer vos cheveux et pouvez opter directement pour la teinture. Dans le cas où vous optez pour une teinte plus claire, sachez qu'il vous faudra d'abord décolorer vos cheveux.  Si vous avez les cheveux clairs et que vous voulez les teindre pour obtenir une teinte plus foncée, allez à la 3e méthode du présent article. Dans le cas où vos cheveux sont blonds et que vous voulez les teindre en une couleur attrayante comme le bleu ou le violet, il serait judicieux de les tonifier en premier. La 2e méthode du présent article renseigne amplement à ce sujet. Prenez une vieille chemise qui ne vous est plus utile, puis couvrez vos épaules à l'aide d'une ancienne serviette. Posez du papier journal sur votre comptoir. Si vous le souhaitez, vous pouvez également mettre une paire de gants de teintures en plastique. Quoi qu'il en soit, le décolorant pour cheveux sera au contact de votre cuir chevelu, ce qui veut dire que l'utilisation des gants n'est pas « forcément » nécessaire. Préparez un mélange composé d'une portion de décolorant pour cheveux et de deux portions de la crème oxydante 20 volumes. Achetez un sachet de décolorant pour cheveux et la crème oxydante 20 volumes. Mesurez respectivement une portion et deux portions, puis mélangez le tout dans un bol non métallique à l'aide d'une cuillère non métallique également .  Vous devez préparer suffisamment de décolorant pour saturer votre chevelure. Certains kits de décolorants sont livrés avec une petite cuillère. Servez-vous de celle-ci pour mesurer les portions de crème oxydante et de décolorant pour cheveux à utiliser. Appliquez une fine couche de décolorant sur votre chevelure et patientez ensuite 15 minutes. Si vous portez des gants, sachez que vous pouvez mettre le décolorant dans vos mains en toute quiétude. Sinon, utilisez simplement une brosse à teinter. Ne vous faites pas de soucis pour ce qui est d'être méticuleux à ce niveau. Appliquez simplement une couche légère et uniforme de décolorant puis patientez 15 minutes. L'objectif de ce traitement est de réussir à couvrir le plus de cheveux, et ce, le plus rapidement possible .  L'application de cette première couche de décolorant vous donnera la certitude que vos cheveux se sont éclaircis de manière uniforme. Recouvrez vos cheveux à l'aide d'un bonnet de douche en plastique afin de protéger vos alentours. Si vous avez les cheveux clairs, vous serez peut-être tenu d'attendre seulement 5 à 10 minutes. Dès que vous remarquez que vos cheveux commencent à s'éclaircir, vous pourrez alors appliquer la deuxième couche de décolorant. Évitez de rincer le décolorant. Retirez simplement le bonnet de douche (si vous l'avez mis plus tôt) et passez une épaisse et bonne couche de décolorant. Mettez-en assez, de sorte que vous ne puissiez pas voir une seule mèche de cheveux sortir du décolorant. Dès que cela est fait, patientez jusqu'à 30 minutes pour que le produit puisse agir .  Couvrez à nouveau vos cheveux à l'aide d'un bonnet de douche en plastique pendant que le décolorant fait son effet. Si au début vous avez des cheveux blonds, il pourrait ne pas être nécessaire que vous attendiez pendant toutes les 30 minutes. Si le niveau de clarté que présentent vos cheveux avant ce délai vous convient, alors c'est parfait ! Rincez d'abord le décolorant à l'eau froide et utilisez ensuite un peu de shampoing. À ce stade, vous n'avez pas encore teint vos cheveux, ce qui veut dire que vous pouvez utiliser tout type de shampoing que vous voulez. Toutefois, un shampoing doux et hydratant serait le choix le plus indiqué, parce qu'il rendra vos cheveux attrayants et doux . Il est préférable d'utiliser un shampoing violet ou bleu après avoir décoloré vos cheveux. Cela permettra d'atténuer toutes les teintes jaunâtres, orangées ou cuivrées qui restent dans vos cheveux.\n",
            "   7  Une écharpe improvisée est très bien pour une blessure minime, mais elle ne saurait convenir pour des cas plus sérieux, comme une fracture ou une luxation. Le recours au médecin est indispensable, il examinera votre problème, demandera éventuellement une radiographie et vous proposera un traitement adapté. Il se peut que votre médecin vous impose le port d’une écharpe (médicale, celle-là !), comme il pourra demander la pose d’un plâtre ou une intervention chirurgicale. Une écharpe de fortune ne saurait convenir longtemps pour une fracture (ou une luxation) non soignée au préalable. Vous aurez forcément mal et de toute façon, vous ne ferez pas l’économie d’une visite chez un médecin.  Un bras cassé se caractérise par  :  une douleur intense une sensibilité marquée un œdème une perte de mobilité du bras une différence d'aspect avec l'autre bras   Même pour un profane, le diagnostic d’une luxation de l’épaule est assez facile à poser grâce aux symptômes suivants  :  une douleur dans le bras, l'épaule ou la clavicule une déformation (une « bosse » sur ou près de l'épaule) un œdème des ecchymoses Une fracture ouverte est facile à diagnostiquer, car la douleur est intense, mais surtout la plaie saigne et vous voyez apparaitre un bout d'os, d'où le nom de fracture « ouverte ». Inutile de vous dire que ce sont des fractures très douloureuses qui nécessitent une prise en charge professionnelle. Sachez aussi que ce qui a causé cette fracture ouverte a pu aussi entrainer d’autres problèmes . C’est pour toutes ces raisons qu’il est essentiel d’être pris en charge par un professionnel compétent qui prendra tout en considération. N'essayez pas de réduire une fracture vous-même : c'est le travail d'un professionnel de santé. Il peut arriver que vous ayez à le faire dans certaines conditions qu'il serait trop long d'énumérer ici. Disons que si vous êtes certain de ne pas pouvoir être pris en charge rapidement et si vous pensez que les choses ne vont pas aller en s'arrangeant, vous pouvez tenter de remettre votre main en place et de l'atteler. Une fracture est une blessure majeure qui requiert l’intervention d’un spécialiste. Il est cependant certains cas où une fracture se doit d’être réduite, c’est lorsque le traumatisme empêche le sang de correctement irriguer le membre situé en aval de la fracture. Le membre devient bleu ou pâlit singulièrement, vous n’avez plus aucune sensation, le froid envahit le membre : vous risquez alors une nécrose. La réduction d'une fracture consiste à remettre les deux parties fracturées dans leur prolongement naturel. C’est uniquement dans ces cas où vous risquez de perdre votre membre que vous êtes autorisé, vous ou un autre, à réduire la fracture. Il est toujours bon d’avoir suivi des cours de secourisme durant lesquels il y a toujours une formation sur la conduite à tenir en cas de fracture d’un membre, mais aussi sur l'élaboration d'une écharpe provisoire.\n",
            "   8  Celles-ci font partie intégrante de votre personnalité. Elles guident souvent vos ressentis et votre comportement ainsi que la façon dont vous percevez chaque situation. Prenez conscience de vos pensées et admettez leur contenu. S'agit-il de pensées négatives ? Avez-vous tendance à vous dévaluer ou avez-vous tendance à penser que les choses vont systématiquement mal se passer ? Sur quels aspects de votre vie êtes-vous particulièrement dur avec vous-même ? Posez-vous ces questions concernant chaque aspect de votre vie. Vous devez vous assurer de prendre conscience de vos pensées chaque jour et au cours de différentes activités. Pour vous aider à garder une trace de vos pensées au quotidien, commencez un journal et écrivez ce qui s'est passé dans votre journée, ce qui vous pose problème dans la vie, vos objectifs et vos rêves. Êtes-vous plein d'espoir ou plutôt pessimiste ? Vous sentez-vous dans une impasse ou capable de tout ? Continuez à analyser vos pensées pour prendre conscience de qui vous êtes réellement. Parfois, notre façon de percevoir une situation nous pousse à tirer des conclusions hâtives et à nous tromper sur ce qui s'est réellement passé ou sur ce que nous avons réellement vu. Par exemple, si vous avez eu l'impression que votre amie était fâchée contre vous après le déjeuner, vous n'allez pas comprendre et penser que vous avez fait quelque chose de mal. Si vous améliorez la façon dont vous percevez son humeur, cela peut vous aider à analyser pourquoi vous avez tout de suite imaginé qu'elle était fâchée contre vous. Lorsque vous vous retrouvez dans ce type de situation, prenez le temps d'analyser vos actions et votre idée de ce qui s'est passé. Écrivez ce que vous avez vu, entendu ou ressenti et qui vous a poussé à analyser la situation de cette façon. Demandez-vous s'il pourrait y avoir d'autres explications à la mauvaise humeur de votre amie ou s'il existe des facteurs extérieurs à vous et dont vous n'avez pas connaissance. Ce que vous ressentez peut également vous aider à comprendre qui vous êtes et pourquoi vous réagissez de telle ou telle façon dans une situation précise ou avec certaines personnes. Analysez vos émotions en prenant conscience de vos réactions face à certains sujets de conversation, certaines tonalités, expressions faciales et langages corporels. Identifiez ce que vous ressentez et demandez-vous pourquoi vous avez réagi de cette façon. À quoi cela fait-il écho ? Qu'est-ce qui a réveillé chez vous ces émotions ?  Vous pouvez également utiliser des indices physiques pour comprendre ce que vous ressentez. Par exemple, si vous remarquez que vous respirez plus lourdement ou plus vite, c'est peut-être que vous êtes stressé, en colère ou apeuré. Si vous ne parvenez pas à identifier immédiatement ce que vous ressentez, continuez à noter vos réactions et vos pensées dans certaines situations. Vous aurez peut-être besoin de temps et d'un peu de recul pour comprendre ce que vous ressentez vis-à-vis d'une situation en particulier. Vous pouvez également demander à une personne de confiance ou à un membre de votre famille de vous aider à comprendre ce que vous ressentez exactement. Il peut être difficile pour vous de prendre du recul pour savoir exactement ce que vous ressentez ou ce que cela dit de vous.\n",
            "   9  Vous êtes maintenant déconnecté de votre compte Twitter.\n",
            "  10  Si une idée vous vient en tête et ne s'en va pas, il faut la suivre. Les grands artistes ne se demandent pas si une œuvre se vendra, si elle suit les tendances artistiques actuelles ou combien de temps il faudra pour la réaliser. Ils plongent plutôt dans leur passion et se font confiance. Si vous voulez développer un style unique et singulier, vous devez suivre votre instinct. Il peut être difficile de travailler sur un projet qui vous semble étrange, nouveau et expérimental. N'oubliez pas que si vous n'êtes pas vous-même passionné par votre projet, votre public ne le sera pas non plus. Ce n'est pas pour rien que les peintres débutants passent du temps à sculpter et vice versa. Toutes les disciplines artistiques sont liées et partagent un vocabulaire et des compétences similaires (couleur, ombres, composition, etc.). En explorant d'autres disciplines, vous vous ouvrirez à d'autres influences.  Sortez de votre zone de confort. C'est souvent dans ces moments que l'on se découvre et fait les plus grands progrès. Cela inclut les autres formes d'art, comme l'écriture et la musique. L'expression artistique, que ce soit avec un pinceau ou un violon, permet de sortir des idées de votre tête afin de les faire partager aux autres. Le moyen que vous utilisez pour cela importe peu . Beaucoup de grands artistes sont aussi de grands lecteurs qui puisent l'inspiration dans la littérature. Ils n'ont pas non plus honte de leur passé quel qu'il soit, et ils l'utilisent comme motivation et inspiration. Les artistes disent rarement « non » à quoi que ce soit. Ils gardent leur esprit ouvert à tout, comme une éponge qui absorbe des influences pour créer ensuite quelque chose d'unique. Pour la plupart des artistes, l'art est un moyen de s'exprimer et de communiquer avec les autres. Vous pouvez très bien garder vos idées pour vous, car la manière dont vous partagez votre travail est votre choix personnel. Vous pourriez montrer vos œuvres dans des galeries et les mettre en vente. Il est aussi possible d'être publié dans des magazines ou des publications artistiques. Il peut être aussi plus facile de montrer votre travail sur internet et de le vendre en ligne. Vous pouvez aussi simplement encadrer vos œuvres et les afficher chez vous afin que votre famille et vos proches puissent en profiter.  Demandez des critiques honnêtes et essayez de les écouter humblement. Les retours de la part de votre public vous aideront à trouver les points que vous pourriez améliorer. Questionnez votre public sur ce que vos œuvres dégagent selon lui. Demandez-vous ensuite si cela correspond aux idées que vous essayez de transmettre. Avez-vous atteint votre but avec une pièce ? Pourriez-vous communiquer plus efficacement le but de l'œuvre ? Êtes-vous, au contraire, content de l'ambigüité et des opinions différentes qu'elle provoque ? Elles sont là pour vous aider à vous améliorer dans votre travail, que ce soit sur les pièces que vous êtes en train de réaliser ou celles que vous ferez dans le futur. Une personne qui fait une critique constructive pointera à la fois les points positifs et négatifs de votre travail. Elle vous fera aussi des suggestions et vous donnera des conseils pour corriger vos défauts. Même si ce n'est pas toujours agréable à entendre, la critique est quelque chose avec lequel il faudra être à l'aise en tant qu'artiste. Apprenez à identifier les retours qui sont bons à prendre et qui vous permettront de progresser.\n",
            "  11  Faites une liste de toutes les raisons qui vous poussent à abandonner le tabagisme. Cela vous renforcera dans votre démarche. Dès que vous êtes tenté de fumer, référez-vous à cette liste pour retrouver la motivation.  Vous pouvez considérer que la cigarette altère votre santé. Elle peut avoir un effet négatif sur vos capacités respiratoires. Par exemple, vous pouvez avoir du mal à courir durant un match de football parce que vos poumons sont encrassés par la cigarette. Si le tabagisme diminue votre énergie globale et que vous souhaitez vous préserver d'un vieillissement prématuré pour pouvoir voir vos petits-enfants grandir, vous avez déjà là de bonnes raisons pour vous débarrasser de la cigarette. Si vous remarquez que l'abus de cigarette affecte votre apparence et notamment votre peau, mais aussi votre style de vie et vos relations avec les autres, réagissez. En vous débarrassant de la cigarette, vous retrouverez votre énergie et le niveau d'activité que vous aviez auparavant . Jetez toutes vos cigarettes. Lavez vos draps et vos vêtements pour débarrasser votre environnement de toute odeur de tabac. Débarrassez-vous des cendriers et des briquets qui trainent dans votre habitation. Prenez envers vous-même l'engagement de ne plus fumer une seule cigarette.  Écrivez toutes les résolutions que vous prenez et remémorez-les-vous de temps en temps en les relisant. Relisez également fréquemment la liste des raisons qui vous ont poussé à arrêter de fumer. Si vous ne vous sentez pas capable de cesser de fumer du jour au lendemain, prenez la résolution de le faire graduellement en vous fixant des objectifs intermédiaires. Une bonne façon de progresser consiste à diminuer jour après jour (ou semaine après semaine) le nombre de cigarettes que vous consommez dans une journée. Sachez cependant que certaines personnes ne peuvent arrêter la cigarette que si elles l'abandonnent du jour au lendemain. Soyez honnête avec vous-même et décidez de la méthode qui est la plus susceptible de fonctionner avec vous. Les cigarettes diffusent très efficacement la nicotine dans tout votre corps, ce qui fait que lorsqu'on arrête la cigarette, on peut ressentir rapidement un manque qui s'accompagne de nombreux symptômes. Vous pouvez subir des maux de tête, de l'anxiété, du stress, un état dépressif, un manque de concentration et un très fort regain d'appétit (phénomène compensatoire) qui peut entrainer une importante prise de poids.  Préparez-vous à quelques échecs et à l'idée qu'il vous faudra persévérer avant d'être vraiment débarrassé de la cigarette. Des millions de personnes utilisent des produits contenant de la nicotine pour compenser celle qui était apportée par la cigarette et seulement 5 % des fumeurs parviennent à abandonner la cigarette du premier coup (sans rechute ). Essayez d'éviter tout ce qui peut vous pousser à fumer, mais si vous faites une rechute, faites en sorte de vous concentrer à nouveau sur vos objectifs le plus tôt possible. Apprenez de vos erreurs et de vos faiblesses et servez-vous de ces expériences pour vous raffermir dans votre démarche. Si vous avez rechuté en fumant durant toute une journée, ne vous en voulez pas trop. Soyez lucide et constatez vos faiblesses. Souvenez-vous que l'arrêt de la cigarette est un processus long et que vous avez un plan à suivre malgré quelques écarts. Votre famille et vos amis peuvent vous supporter dans ce combat. S'ils savent que vous tentez d'arrêter de fumer, ils éviteront au moins de vous proposer une cigarette et d'enfumer les lieux dans lesquels vous passez du temps. De plus, ils vous encourageront dans votre démarche et sauront vous dissuader de fumer lorsque vous serez sur le point de céder à la tentation. Vous êtes peut-être tenté par une cigarette lorsque vous buvez un café ou quand vous avez besoin de réfléchir. Identifiez les circonstances et les lieux qui créent chez vous la tentation de fumer et mettez en place des plans qui vous permettent d'y résister. Si possible, évitez ces circonstances et ces lieux.  Préparez des réponses à donner à quelqu'un qui vous propose une cigarette. Par exemple, vous pourriez dire : « non merci, mais je prendrais bien un autre thé » ou encore « non, car j'essaye d'arrêter de fumer ». Contrôlez le stress qui vous pousse souvent à fumer. Apprenez à respirer profondément et faites en sorte de dormir suffisamment pour l'atténuer. Il en existe de nombreuses pour iPhone ou pour les téléphones portables fonctionnant sous Android. Elles permettent de tracer les humeurs et les comportements de la personne qui tente d'arrêter de fumer et facilitent notamment l'identification des facteurs qui déclenchent l'envie de fumer. Elles permettent aussi d'enregistrer les progrès en fonction des objectifs fixés et peuvent donner des alertes face à des situations susceptibles de créer l'envie de fumer. Si vous êtes intéressé par ce genre d'applications, utilisez votre moteur de recherche favori pour en trouver une qui vous convient . De nombreuses études récentes laissent penser que leur usage augmente nettement les chances de parvenir à abandonner la cigarette classique. Par contre, quelques études tendent à montrer qu'elles peuvent maintenir le phénomène d'accoutumance à la nicotine chez certains fumeurs en leur délivrant une trop grande quantité de cette substance . Une thérapie comportementale combinée avec une prise de médicament peut considérablement augmenter vos chances de réussite dans votre démarche d'abandon de la cigarette. Si vous avez tenté d'arrêter la cigarette sans grand succès, pensez à parler de votre problème à un médecin qui saura vous proposer un médicament . Des professionnels de la santé peuvent aussi vous accompagner dans votre combat. Certaines thérapies cognitives et comportementales peuvent vous permettre de modifier vos pensées et vos attitudes vis-à-vis du tabac. Ce médicament ne contient pas de nicotine, mais il atténue les effets de manque chez quelqu'un qui tente d'arrêter de fumer. Le Bupropion augmente de 69 % les chances de réussir à se débarrasser de la cigarette.  En général, on commence par prendre du Bupropion, selon un dosage d'une à deux tablettes de 150 mg par jour, une ou deux semaines avant de se lancer concrètement dans sa démarche d'arrêt de la cigarette. Une sècheresse de la bouche, des troubles du sommeil, de la nervosité et de l'irritabilité, de la fatigue, des maux de tête et des problèmes de digestion sont les principaux effets secondaires de ce médicament. Ce médicament inhibe les récepteurs de la nicotine dans le cerveau, ce qui diminue la sensation de plaisir que l'on peut habituellement avoir lorsqu'on fume. Il réduit également les effets de manque liés à la baisse du taux de nicotine dans le sang. Il est recommandé de commencer à prendre du Chantix une semaine avant d'arrêter de fumer. Ce médicament, qui peut doubler les chances de réussir à arrêter de fumer, doit être pris pendant les repas sur une douzaine de semaines .  La dose est en général augmentée tout au long de la période d'arrêt de la cigarette. Par exemple, une prise par jour d'une pilule de 0,5 mg peut être prescrite pour les 3 premiers jours, deux prises par jour d'une pilule de 0,5 mg pour les jours suivants de la première semaine, puis deux prises par jour d'une pilule de 1 mg jusqu'à la fin du traitement. Des maux de tête, de la nausée, des vomissements, des troubles du sommeil, de mauvais rêves et des changements brusques d'humeur sont les principaux effets secondaires de ce médicament. Elles sont prescrites sous forme de timbres antitabagiques, de gommes à mâcher, de pastilles, de comprimés sublinguaux, de sprays nasaux ou de divers produits à inhaler qui délivrent de la nicotine. Elles réduisent le phénomène de manque chez la personne qui est privée de la nicotine contenue dans les cigarettes et elles sont généralement accessibles sans prescription. Les « TRN » augmentent de 60 % les chances de réussir à arrêter de fumer. Parmi les effets secondaires des « TRN », il y a les mauvais rêves, l'insomnie, les irritations cutanées à cause des timbres antitabagiques, l'irritation des muqueuses de la bouche et de la gorge ainsi que des problèmes respiratoires à cause des produits inhalés, du hoquet à cause des pastilles, des douleurs au niveau des muscles de la mâchoire à cause des gommes à mâcher et des problèmes de nez qui coule à cause des sprays nasaux.\n",
            "  12  Si vous développez des douleurs dans le dos qui ne disparaissent pas après plusieurs jours, prenez rendez-vous avec votre médecin généraliste. Il va examiner votre dos et vous poser des questions à propos de vos antécédents familiaux, votre régime alimentaire et votre style de vie, et vous pourriez même passer une radiographie ou des analyses sanguines pour écarter la polyarthrite rhumatoïde ou une infection de la colonne vertébrale. Cependant, votre médecin généraliste n'est pas un spécialiste du dos, c'est pourquoi il pourrait vous recommander un médecin plus spécialisé.  Il existe d'autres types de professionnels de la santé qui peuvent vous aider avec le diagnostic et le traitement des douleurs dans le dos comme les ostéopathes, les chiropraticiens, les kinésithérapeutes et les masseurs. Avant tout traitement à l'acupression, votre médecin généraliste pourrait vous recommander la prise d'anti-inflammatoires comme l'ibuprofène, le naproxène ou l'aspirine pour soulager les douleurs dans votre dos. Les douleurs mécaniques dans le bas du dos ne sont pas considérées comme un trouble grave, bien qu'elles puissent être fortes et handicapantes. Parmi les causes typiques, on retrouve les tensions articulatoires, les irritations des nerfs de la colonne vertébrale, les tensions musculaires et les dégénérations des disques. Cependant, il vous faudra peut-être consulter un spécialiste comme un orthopédiste, un neurologiste ou un rhumatologue pour écarter des causes plus graves de douleurs dans le dos comme une infection (ostéomyélite), un cancer, l'ostéoporose, une fracture, une hernie discale, une maladie des reins ou une polyarthrite rhumatoïde. Les experts peuvent utiliser des radiographies, des scanners des os, des IRM, des scanners et des échographies pour diagnostiquer la cause des douleurs dans le dos. Assurez-vous que le médecin va vous expliquer clairement le diagnostic, surtout la cause (si cela est possible) et qu'il vous propose différentes options de traitement pour le problème. L'acupression n'est appropriée que pour les douleurs mécaniques dans le dos et ne sera pas utile pour des problèmes plus graves comme le cancer qui va demander une chimiothérapie, une radiothérapie ou une chirurgie. Les douleurs mécaniques dans le dos peuvent être très graves, mais elles ne s'accompagnent pas de fièvre élevée, de perte de poids rapide, de problèmes de vessie ou d'intestin ou de perte du fonctionnement des jambes, car ce sont des symptômes aggravants. Si vous n'avez pas le temps ou l'envie d'apprendre les points et les techniques d'acupression, ou si vous ne vous sentez pas suffisamment à l'aise pour vous traiter vous-même ou pour demander à un ami de le faire, vous pouvez faire une recherche sur Internet pour trouver des spécialistes de la médecine chinoise traditionnelle (qui ne sera pas forcément chinois) ou des professionnels qui ont reçu une formation appropriée. Cela va vous coûter plus cher bien sûr, mais vous serez entre de bonnes mains.  De nombreux acuponcteurs pratiquent aussi l'acupression. Le nombre de traitements d'acupression nécessaires pour être efficaces contre les douleurs dans le dos (ou d'autres troubles) n'est pas fermement établi, mais en commençant trois fois par semaine pendant deux semaines, vous pourrez avoir une idée des progrès que vous pouvez obtenir.\n",
            "  13  Veillez à ce qu'elles s'associent entre elles.  Sélectionnez des teintes en accord avec la robe ou le costume. S'il s'agit d'un bal ou d'une fête de fin d'année, inspirez-vous des couleurs de votre école ou de votre entreprise. Si nécessaire, aidez-vous d'un cercle chromatique. Il s'agit d'une représentation du spectre visible des couleurs sous forme d'un cercle. Il permet d'associer plus facilement les couleurs entre elles. Pour cela, prenez sur le cercle deux teintes diamétralement opposées : orange et bleu, jaune et violet... Achetez ou cueillez des fleurs proches de l'éclosion et gardez-les dans un vase rempli d'eau. Selon leur taille, choisissez trois à cinq fleurs. Privilégiez les fleurs robustes, qui resteront belles et fraiches jusqu'à la fin de la soirée. Les fleurs délicates, telles que les tulipes, ne sont pas conseillées. Parmi les fleurs les plus adaptées, on peut citer :   les roses les marguerites les lis les orchidées les orchidées Cymbidium (variété d'orchidées d'intérieur résistante) Elles garnissent le bouquet et mettent en valeur l'accessoire dans son ensemble. Voici quelques exemples :   la gypsophile (plante couvre-sol à petites fleurs blanches) les fougères (diverses variétés, dont certaines très décoratives) les feuilles d'eucalyptus\n",
            "  14  D’une manière générale et indépendamment de la teneur de la procédure elle-même, une POP comprend 4 éléments.   La page de titre. Sur cette page sont inscrits le titre de la procédure, le numéro d’identification de la POP, la date de publication ou de la révision, le nom de l’agence, de la division ou de la branche qui aura à appliquer la POP et les signatures de ceux qui ont élaboré et approuvé la POP. Vous pouvez présenter ces informations comme vous voulez, à condition que votre présentation soit claire et lisible.  Le sommaire. En règle générale, un sommaire est utile pour des documents assez longs. Son rôle est de faciliter la consultation de votre procédure et de donner un aperçu sur son contenu.  L’assurance et le contrôle de la qualité. Une procédure n’est correcte que si elle est contrôlable. Incluez les outils et les détails nécessaires pour permettre au lecteur de s’assurer qu’il a obtenu les résultats souhaités. Vous aurez peut-être à joindre d’autres documents, par exemple des spécimens d’évaluation des performances.  Les références. N’oubliez pas d’inclure la liste des références importantes, y compris celles que vous avez citées dans votre procédure. Si vous avez fait référence à d’autres procédures, assurez-vous d’indiquer les informations nécessaires en annexe. Vérifiez si votre organisation ne dispose pas d’un protocole différent de celui que vous avez utilisé. S’il existe d’autres procédures auxquelles vous pouvez vous référer, ne tenez pas compte de la structure proposée ici et adoptez plutôt ce qui existe déjà. Le champ d’application et l’étendue de la procédure. En d’autres termes, décrivez l’objet de la procédure, ses limites et la façon de la mettre en œuvre. Incluez les normes pertinentes, les exigences réglementaires, les rôles et les responsabilités ainsi que les éléments d’entrée et de sortie.  La méthodologie et les procédures. Il s’agit du corps de votre sujet. Inscrivez la liste de toutes les étapes avec le matériel et les détails nécessaires. Traitez les séquences de la procédure et les facteurs de décision. Développez des « analyses d’hypothèses » et les interactions possibles ou les questions de sécurité en rapport avec l’objet de votre procédure.  La clarification de la terminologie. Explicitez les acronymes, les abréviations et toutes les expressions dont on ne se sert pas couramment.  Les avertissements en rapport avec la santé et la sécurité. Réservez une section pour ces éléments qui doivent également être mentionnés au niveau des étapes correspondantes. Réservez le temps nécessaire pour élaborer cette section d’une manière appropriée.  Le matériel et les fournitures. Établissez une liste du matériel nécessaire, à quel moment l’employer, où le trouver, les normes du matériel, etc.  Les précautions et les interventions. Il s’agit essentiellement d’une section réservée au dépannage. Précisez les dysfonctionnements possibles et les manières d’y remédier ainsi que les facteurs qui peuvent affecter la qualité du produit final.  Traitez chaque question dans une section distincte, habituellement repérée par des nombres ou des lettres. Cette technique facilite la consultation et vous permet d’avoir une POP concise et clairement présentée. Cette section ne peut en aucun cas être exhaustive, car il ne s’agit que de la partie visible de l’iceberg. Votre organisation peut vous indiquer d’autres questions à couvrir. Probablement, votre public ne lira pas votre document pour se divertir. Donc, soyez concis et clair, autrement vos lecteurs auront du mal à garder leur concentration pour lire complètement votre POP. D’une manière générale, employez des phrases aussi courtes que possible.   Voici un mauvais exemple : « Assurez-vous d’enlever toute la poussière des alvéoles d’aération avant de commencer à les utiliser. »  Voici un bon exemple : « Dépoussiérez les alvéoles d’aération avant emploi. » D’une manière générale, n’utilisez pas la deuxième personne, car il s’agit de phrases à l’impératif. Rédigez à la voix active et commencez vos phrases par des verbes d’action. La dernière chose que vous voulez faire serait d’écrire une POP totalement incorrecte, car vous mettrez en danger la sécurité de votre équipe, son efficacité et vous lui ferez perdre son temps. De plus, vos collègues seront vexés, puisque vous aurez l’air de ne pas traiter la question avec le sérieux voulu. Posez des questions s’il le faut ! Vous voulez bien faire les choses, n’est-ce pas ? Bien sûr, lorsque vous ignorez quelque chose, posez des questions à vos collègues pour couvrir l’ensemble des rôles et des responsabilités. Un membre de l’équipe peut être réticent à suivre les normes de la procédure ou un autre peut n’être concerné que par une partie de l’action. Facilitez la lecture et la compréhension des étapes complexes en ajoutant un diagramme ou un croquis. Cela facilite la lecture et permet de faire une pause avant d’essayer de comprendre l’ensemble de la question. Ainsi, votre travail aura l’air plus complet et mieux rédigé. Évitez de surcharger votre POP par des diagrammes. Insérez-les seulement quand c’est nécessaire ou lorsque vous cherchez à contourner une difficulté de langage. Probablement, votre POP fait partie d’un ensemble de procédures et votre organisation gère une base de données contenant un catalogue et un système de référence des documents. Étant donné que votre POP fait partie de ce système, vous aurez besoin de lui affecter un genre de code pour en faciliter l’identification. Et c’est là que la marque de modification en question devient utile. Vous devez affecter à chaque page un titre ou un numéro d’identification (ID #), un indice de révision, une date, un numéro de page (page 66 de 666). Dans la majorité des présentations actuellement en usage, ces informations sont placées au coin supérieur droit de la page. En fonction du choix de votre organisation, vous pouvez ne pas avoir besoin d’indiquer ces informations en note de bas de page ou le contraire.\n",
            "  15  Ces outils sont conçus pour vous aider à retirer les vis cassées. Ils sont disponibles dans les quincailleries à des prix relativement bas et rendront le processus beaucoup plus simple. Les extracteurs de vis conviennent mieux aux boulons à tête foirée ou cassée Choisissez un foret plus petit que la vis. Percez un trou au milieu. Si cela ne fonctionne pas, essayez d'utiliser une plus petite mèche d'un diamètre de 1,5 mm. Travaillez de façon lente et douce, car vous n'aimeriez pas casser le foret dans la tête de la vis . Poussez l'outil dans le trou que vous avez fait. Appuyez dessus autant que possible, puis utilisez le marteau pour frapper l'extracteur jusqu'à ce qu'il entre complètement dans le trou . Tout en appuyant sur l'outil, servez-vous d'un tournevis ou d'une perceuse pour le tourner dans le sens contraire des aiguilles d'une montre. Le filetage de l'extracteur s'agrippera à la vis, ce qui vous permettra de la retirer . Si cela ne fonctionne pas, essayez de frapper l'extracteur plus fort ou appliquez un lubrifiant tel que du Liquid Wrench sur la vis. Laissez le produit agir pendant trente minutes avant d'essayer de retirer la vis. Pour retirer une vis sans tête, vous pouvez simplement saisir l'extrémité de la tige avec une pince. Tournez la pince pour desserrer la vis du matériau, puis tirez pour la retirer .\n"
          ],
          "name": "stdout"
        }
      ]
    },
    {
      "cell_type": "markdown",
      "metadata": {
        "id": "HQucZ9285yVN"
      },
      "source": [
        "### Examples"
      ]
    },
    {
      "cell_type": "markdown",
      "metadata": {
        "id": "xsNWRUA0D251"
      },
      "source": [
        "It appears that for both languages, the model, after a short fine-tuning, has adapted the imperative mode of the target summaries."
      ]
    },
    {
      "cell_type": "markdown",
      "metadata": {
        "id": "yWtwO3e54zR5"
      },
      "source": [
        "#### English"
      ]
    },
    {
      "cell_type": "markdown",
      "metadata": {
        "id": "uXpACNSFpwwd"
      },
      "source": [
        "~~~\r\n",
        "  Id  Summary after                                                                                                                                      Summary before\r\n",
        "----  -------------------------------------------------------------------------------------------------------------------------------------------------  ----------------------------------------------------------------------------------------------------------------------\r\n",
        "   0  Change your network’s name. Determine how many people would use the guest network.                                                                 If you’re using your home’s “guest” network to connect to your wireless network, you may have the option to change it.\r\n",
        "   1  Be the first person to arrive at the site at the time of the event. Make a checklist for your crew.                                                As the world gears up for an event, we take a look at some of the tips you need to make.\r\n",
        "   2  Eat fermented dairy products. Eat non-dairy fermented foods. Take a probiotic supplement.                                                          Here is a guide to the best ways to restore your gut flora.\r\n",
        "   3  Consider what you need to bring. Bring clothes. Take a few music.                                                                                  If you are looking for a way to get away from home, what do you bring?\r\n",
        "   4  Buy a bra that fits right. Check the bra band. Check your bra band is parallel to the ground or lower.                                             A bra that doesn't fit right will look \"off\" under your clothes.\r\n",
        "   5  Get your feelings out of the way. Write a letter for your friend or partner. Talk about what you like about the person.                            If you're breaking up with a partner or friend, it's best to get your feelings out of the way.\r\n",
        "   6  Place the child’s diaper on the child's waist. Insert the diaper into the diaper. Close the pin.                                                   It’s almost time for you to fix a new type of diaper pin.\r\n",
        "   7  Use a dry bar of soap to fill in your nail holes.                                                                                                  Do you use soap to fill in your nail holes?\r\n",
        "   8  Measure the width at the bottom of the shower door. Cut the rail at the appropriate length. Place the bottom track along the base of the opening.  If you want to build a shower on the back of the door, you need to be careful.\r\n",
        "   9  Choose a paint that is suitable for metal. Apply a self-etching primer. Spray the primer onto the surface of the brass.                            If you’re a fan of brass, it’s important to know what to do if you paint the metal.\r\n",
        "  10  Wash your skin with warm water. Do not touch your eyes, mouth or genitals. Rinse your blisters in a bath.                                          If you've come into contact with poison ivy, you might want to wash your skin.\r\n",
        "  11  Wear your hair. Look for a fairy-like look.                                                                                                        If you are especially fair, apply a rosy blush to your cheeks and lipstick to look for a fairy look, what do you do?\r\n",
        "  12  Be a permanent resident in the UK. Show that you have enough income to provide support for your parents.                                           If you are legally staying in the UK on a semi-permanent basis, you can likely bring your parents over.\r\n",
        "  13  Be aware of the dangers of filling balloons.                                                                                                       If you are making your own way of filling balloons, you might want to think twice before using the process.\r\n",
        "  14  Be aware of the dangers of alcohol and substance abuse. Be aware of mental health issues.                                                          If you are a college student, you might be thinking carefully about your college years.\r\n",
        "  15  Pass the papers to a substitute. Mail the papers by first-class mail. Send a copy of all court papers by substitution.                             When you serve court papers by substitution, you need to do it to the respondent.\r\n",
        "\r\n",
        "Target summaries:\r\n",
        "\r\n",
        "  Id  Target summary\r\n",
        "----  --------------------------------------------------------------------------------------------------------------------------------------------------------------------------------------------------------------------------------------------------------------------------------\r\n",
        "   0  Click on Guest Access. Allow Guest Access. Identify a guest network name. Define a guest password. Define Total Guests Allowed. Allow SSID Broadcast. Save your settings.\r\n",
        "   1  Set everything up. Delegate. Be flexible. Keep everyone updated. Do your thing. For marketing events, give a takeaway. Congratulate yourself after the event. Clean up and get out! Take care of returns, payments, and thank all parties.\r\n",
        "   2  Consume fermented dairy products. Add non-dairy fermented foods to your meals 1 to 2 times per day. Take a probiotic supplement.\r\n",
        "   3  Prepare a list of things to bring. Consider the weekend's activities. Pack to suit the weather. Keep possible emergencies in mind. Pack lightly.\r\n",
        "   4  Make sure your bra is the right size. Choose styles that provide adequate support for large breasts. Check online if you're having trouble finding a bra in your size.\r\n",
        "   5  Write a letter to yourself first if it's a bad goodbye. Focus on the good times. Talk about what you like about the other person. Apologize and forgive the other person. End with a kind sentiment if you can.\r\n",
        "   6  Fold the diaper up and over until the diaper's top center is at the child’s waistline. Flare out and position both sides of the back portion of the diaper a little (if this diaper is not a folded/elasticated one). Secure the diaper in place with diaper-pins or Velcro.\r\n",
        "   7  Rub a bar of soap over the holes to fill them without tools.\r\n",
        "   8  Cut the tracks to the appropriate size, if necessary. Measure and mark where the track will go. Drill the holes you marked. Install the bottom threshold track. Mount the wall tracks. Install the door swinging door. Measure and cut the top track. Seal any gaps using caulk.\r\n",
        "   9  Choose a spray paint in your desired color. Apply a coat of primer. Apply several thin coats of paint. Apply a protective clear coat.\r\n",
        "  10  Wash your skin. Avoid touching the rash. Soak in an astringent bath. Soak in a bath. Use cool compresses.\r\n",
        "  11  Create fairy hair. Brighten your complexion. Use make-up to create a natural, fairy look. Dress like fairy.\r\n",
        "  12  Have permanent status or citizenship. Ensure your parents need long-term care. Save enough money to support your parents for 5 years.\r\n",
        "  13  Observe safety precautions while filling balloons.\r\n",
        "  14  Avoid alcohol and substance abuse. Stay alert. Take care of your mental health.\r\n",
        "  15  Know who else you can give the papers to. Instruct the substitute. Mail another copy. Fill out a Proof of Service form.\r\n",
        "\r\n",
        "Source documents:\r\n",
        "\r\n",
        "  Id  Document\r\n",
        "----  ---------------------------------------------------------------------------------------------------------------------------------------------------------------------------------------------------------------------------------------------------------------------------------------------------------------------------------------------------------------------------------------------------------------------------------------------------------------------------------------------------------------------------------------------------------------------------------------------------------------------------------------------------------------------------------------------------------------------------------------------------------------------------------------------------------------------------------------------------------------------------------------------------------------------------------------------------------------------------------------------------------------------------------------------------------------------------------------------------------------------------------------------------------------------------------------------------------------------------------------------------------------------------------------------------------------------------------------------------------------------------------------------------------------------------------------------------------------------------------------------------------------------------------------------------------------------------------------------------------------------------------------------------------------------------------------------------------------------------------------------------------------------------------------------------------------------------------------------------------------------------------------------------------------------------------------------------------------------------------------------------------------------------------------------------------------------------------------------------------------------------------------------------------------------------------------------------------------------------------------------------------------------------------------------------------------------------------------------------------------------------------------------------------------------------------------------------------------------------------------------------------------------------------------------------------------------------------------------------------------------------------------------------------------------------------------------------------------------------------------------------------------------------------------------------------------------------------------------------------------------------------------------------------------------------------------------------------------------------------------------------------------------------------------------------------------------------------------------------------------------------------------------------------------------------------------------------------------------------------------------------------------------------------------------------------------------------------------------------------------------------------------------------------------------------------------------------------------------------------------------------------------------------------------------------------------------------------------------------------------------------------------------------------------------------------------------------------------------------------------------------------------------------------------------------------------------------------------------------------------------------------------------------------------------------------------------------------------------------------------------------------------------------------------------------------------------------------------------------------------------------------------------------------------------------------------------------------------------------------------------------------------------------------------------------------------------------------------------------------------------------------------------------------------------------------------------------------------------------------------------------------------------------------------------------------------------------------------------------------------------------------------------------------------------------------------------------------------------------------------------------------------------------------------------------------------------------------------------------------------------------------------------------------------------------------------------------------------------------------------------------------------------------------------------------------------------------------------------------------------------------------------------------------------------------------------------------------------------------------------------------------------------------------------------------------------------------------------------------------------------------------------------------------------------------------------------------------------------------------------------------------------------------------------------------------------------------------------------------------------------------------------------------------------------------------------------------------------------------------------------------------------------------------------------------------------------------------------------------------------------------------------------------------------------------------------------------------------------------------------------------------------------------------------------------------\r\n",
        "   0  There is no need to change any of your basic network or wireless settings. Choose \"Yes\" from the options. Usually “guest” is just appended on the end of your current network’s name. Some routers may allow you to change this name. Just make sure it’s not the same name as your current network. Since you’re technically creating a new network, you have to define a corresponding network password.  It is a good idea not to use the same password of your home network. You may have the option to define how many you would allow to use the guest network at any given time.   Fewer people using your network would mean better quality of connection for everyone on the network. Remember, your actual bandwidth won’t increase and everyone would just share. You may opt to have this guess network broadcasted or hidden.\r\n",
        "   1  Be the first to arrive at the site to oversee the preparations. Make sure everyone files in accordingly and start making phone calls if not. Assist those who need assisting, direct those who need directed, and get out of the way when you need to. No injuries until after the event, please.  You'll feel a little calmer if you make a checklist. Have a portion for your crew, a portion for hired out crews, a portion for decorations and basic set-up, and a portion for equipment. When all is checked off, that's when you have time to breathe. Do not be afraid to delegate. The main stressor when it comes to an event is time. To save it, all hands need to be on deck -- or different decks. If someone isn't being as useful as they could be, give them something better to do. It's your job. It's not you being bossy or overstepping your boundaries; it's you doing what you're supposed to do.  When you delegate, be firm but polite. Say, \"Juan, I need you over here right now to help out with the caterers. Thank you.\" Your crew needs to jive together as much as the event does. Keep everything moving swimmingly by being the leader that you need to be. This means making sure that things are kept to schedule and assisting or having backup plans if it falls behind -- and being okay with it. If you start stressing out, you'll lose your head. Nothing good will come of that. So when that speech runs ten minutes over and the speaker is ignoring your blatant distress signals or your attempt at feigning a stroke to create a diversion, relax. You'll just adjust the appetizer and no one will notice. Event intact. Things happen. They do. They have a bad habit of happening. There's no way you can predict everything, and the sooner you accept this the better. A calm, collected event manager can do wonders for any event; a strung-out, tense one cannot. So relax and go with the flow -- it'll all be over soon! Check that guest numbers and needs are still correct on the day of the event and advise the service team of any changes at the earliest possible opportunity You should be the first set of eyes that notices if anything goes wrong.  Consult with your clients to see how they are feeling; they may be excited, nervous, worried, bored or mentally drained or have some issue on their plate that in some cases you may soothe with understanding, some kind words and practical assistance. It is wise to use this time to rejuvenate the enthusiasm in guests and the team where appropriate. Trust and respect your service team to look after themselves -- if you've given them a good base, they should be fine. Offer assistance if needed, but they should be experienced enough not to need any help at all. Here are a few things to keep in mind:   Act as a concierge or receptionist at the beginning, meeting and greeting each guest (if appropriate) as they come. Hand over the reins to the MC when the event starts. The management role will be more active problem solving and ensuring all the back of housework such as food preparation and service runs to plan. Keep an eye on the guests and keep contact with the MC often and discreetly in case they want (or need) to change plans. Keep a respectful distance from the key guests - after all, the event is all about them - but be easily accessible by checking at appropriate moments how they feel the event is going, as well as any problems, requests or suggestions they may have. You want all your guests to remember how awesome of a time they had. Actually, you probably want more than that. A visit to a website, future donations, word of mouth buzz, whatever. To ensure that your event is the legend it deserves to be, give a takeaway. Whether it's a picture, a flyer, or a pen, having something to remind your guests of the event is a good way to make sure you stay in their minds. Most events tend to run themselves when they start, but all the hard work is the preparation that no-one sees. So pat yourself on the back because you deserve it! Okay, back to tearing it down. The job's not over yet!  After the event, arrange a time to meet and thank your client. It is always recommended to offer an appropriate and thoughtful gift to remember their time with you, as it is these small touches that make the experience richer and may make them recommend your services in future. If you gave a gift during the event, such as in a gift registry with the other guests, then a thoughtful after present such as flowers, a framed photograph of your favourite moment at their event (such as cutting the ribbon, or the climax of the show, or the award ceremony, or the wedding kiss, or blowing out the candles on a cake, etc), or some other gift may be appropriate. Just like mom said, \"Leave it in the same condition you found it in,\" the same goes for your venue. Everything needs to be just like it was before you got there -- this is one business where you don't want to burn any bridges. So let your crews know it's time to tear down and don't let them leave until all is taken care of. And you need to pitch in too!  This is nice, sure, but it also prevents you from being billed any more than you should be. Many places will tack on extra cleaning fees if they find any opportunity to do so. So make it as spic and span as possible to avoid the hidden costs. You may need to arrange returning hired or borrowed equipment and later on consulting with the client about their experience. Even if unpaid after the event, thank them for the opportunity to have such a great experience to run an event with them. Can you get a business card of theirs?  Thank your crew, too! Make sure all parties are paid (and all parties have paid up), file receipts, and get everyone taken care of. You should be one of the last ones out the door -- and make sure it's locked behind you.\r\n",
        "   2  Fermented dairy products contain both probiotics and prebiotics. Eat 1 serving of fermented dairy products per day. Fermented dairy products include plain yogurt, cottage cheese, kefir, whey, buttermilk, leben, and crème fraîche.  Look for yogurt products with the label “active cultures” on it. Choose natural yogurts over sweetened yogurts. Instead, sweeten your yogurt naturally with fruit like bananas, peaches, blueberries, and strawberries. Probiotics are microorganisms that stimulate the growth of gut flora. Prebiotics are the fibers that feed probiotics. Non-dairy fermented foods, or pickled foods, are a great alternative to fermented dairy products if you are lactose intolerant. Like fermented dairy products, pickled foods contain probiotics. Eating pickled foods consistently will help you restore your gut flora. Non-dairy fermented foods include sauerkraut, kimchi, corn relish, miso, tempeh, natto, fermented tofu, and pickled vegetables like cucumbers, beets, cabbage, and radish. Taking a probiotic supplement is another great way to restore your gut flora. Take the supplement per the instructions on the bottle. If you are already eating fermented foods to restore your gut flora, it is safe to take a probiotic supplement as well. However, you can take a supplement in place of eating fermented foods, if you do not like fermented food.  Contact your doctor if you are unsure how often you should take the supplement, or if you are taking other medications. If you are taking an antibiotic, a probiotic supplement may help restore your gut flora.  Probiotic supplements are formulated to treat many different conditions. If you have IBS, for instance, you might try using VSL#3. Talk to your doctor or your pharmacist about the ideal product for your specific symptoms.\r\n",
        "   3  A to-bring list of items can vary widely depending on the type of weekend trip you're planning. Certain things, like an extra set of clothes, are recommended across the board, while other things can be brought or left depending on the type of place you're going to. Here is a list of things to consider bringing:   Clothes. For a weekend trip, a fresh set of clothing should be considered necessary. You will want to feel fresh on the second and third day of being away from home, and in the case that your first set of clothes gets wet or dirty, you'll want something to fall back on. The same applies to socks and underwear. Bring heavier clothing, like a jacket, based on the forecasted weather.   Toiletries. Toothpaste and a toothbrush should be deemed essential for your trip. If the place you're going has running water, a small vial of shampoo and conditioner should be brought along as well to ensure you're feeling fresh throughout the trip.  Trip entertainment. The journey to and from your location should be just as enjoyable as when you get there. This can be helped by taking along some entertainment. If you're driving, bring a few of your favourite CDs to cycle through. A good book is also recommended, particularly if you're going somewhere relaxing like a lake.  Trip-applicable items. A weekend vacation is often built around a certain activity. Your to-bring list should mention the specific things you'll need to perform that activity. If you're fishing, for example, you will need a rod and a bait box, among other things. Depending on where you're going, items like some mild first aid should be considered as well. A weekend trip is relatively easy to outline. It's not a large amount of time, and it's usually focused on one specific activity. Try to gauge what you will need. Can you think of any activities you'll most likely be doing? What are you hoping to do over the weekend? Running through the vacation in your mind's eye will give you a stronger idea what you should be bringing along with you.  For example, if you're going to a lake in the Summer, useful items such as bug spray and lighter fluid are recommended. Imagine the possible scenarios that relate to the environment in question, and speculate as to the things you would need. If there are activities you may do but aren't sure about (like swimming, for example) it's best to bring them along anyway. A weekend trip isn't going to require much baggage to begin with, and you might feel left out if you decide not to bring something. Your packing should be arranged with respects to the weekend's activity and the environment it's taking place in. Because your trip will only encompass a couple of days, it's prudent to check the weather forecast for those days and plan accordingly. If there's going to be rain, the clothes you bring should reflect that. A poncho and umbrella will be sorely missed if you neglect to check the weather beforehand. In the case of sun, bringing sunglasses and sunscreen will be helpful. Cold weather demands you bring heavier clothing, like a winter parka, along for the ride. If you're somehow unsure, prepare for the worst just in case.  Even if your weekend trip will be spent mostly indoors, bringing an umbrella can make a major difference in the case of rain. Download an app like Weatherbug for on-the-go weather forecasts. Under the best circumstances, you won't need to use everything you bring with you on a weekend trip. In case something bad happens however, you don't want to be far from home and wishing you had brought something. This is especially true if you're going to be camping or otherwise hiking somewhere where help isn't immediately available.  Carry a small bit of first-aid along with your toiletries. This includes some band-aids, aloe vera and headache relievers. These will take up a negligible amount of space, and you'll be glad you brought them if it comes time to use them. A set of extra socks will come in handy, especially if the weather is forecasted to be rainy. Nothing spoils a good weekend faster than wet feet. Even if you're only going to be gone for a weekend, an extra set of underwear is never a bad idea. For a weekend trip, you're more likely to overpack than underpack. Unless you're going camping, you won't need much to hold you over for a weekend and carrying too much stuff around will sap some of the enjoyment of travel to begin with. If you can, see how much you can minimize the amount of stuff you bring, and try to stuff it all into a backpack. You don't want to skimp out on things you might miss, but optional luxuries like a hair dryer can probably be done without over a 48 hour period. For a weekend trip, try to limit yourself to a single backpack forth of clothing and items. This will force you to prioritize what you need over the things you can do without. One change of top is usually all you'll need for a weekend.\r\n",
        "   4  A bra that doesn't fit right will look \"off\" under your clothes. You may be spilling out of the cups or have a band that is too tight and looks lumpy, which may draw attention to your chest. A bra that provides proper support and fits correctly will help you feel comfortable and may improve your confidence.  Check that your bra straps don't dig into your shoulders. Your straps should not be working hard to support your breasts. You may need a smaller band size or a bra with wider straps. You can also buy padding that slips under your straps if your bra fits right but your straps still hurt. Make sure the bra band (the strap that runs across your back) is parallel to the ground or lower. The bra band should provide most of the support, and the lower it is on your back, the more support it can provide.  The cups should be smooth against your chest. If your breasts are spilling out the top or sides or it feels like your bra is cutting into your breasts, try a larger cup or a bra with a bigger cup design.  You should be able to fit a finger under the front of your bra band. If it's too tight, you need a larger band size.  A professional fitting can be extremely beneficial in helping you find a bra that fits correctly. An employee at a lingerie store or department store can measure you for the right band and cup size. The wrong bra can make your breasts look saggy but, even worse, can cause you significant pain. There are many different bra types on the market, and you'll need to find out which ones work for your body.  Try a multi-cup bra. The cups on these bras are made up of two or more pieces of fabric and they provide a ton of support. They will center your breast tissue, which will slenderize your silhouette.  Try a long-line bra, which can relieve stress on your shoulders and back. The band on this bra is extended down to your waist, which distributes the weight of your breasts more evenly over your body. It can also act as shape wear, giving you a smooth line under your clothes.  Try a minimizer bra, especially if you like button-up shirts. Minimizer bras minimize your breasts' projection, or how far they stick out. If you find your breasts cause gaps between the buttons in your shirts, a minimizer will push them back. Be aware that this can also create cleavage, which you may want to avoid if you're trying to deflect attention from your breasts. If you find that the stores in your area don't have bras that accommodate women with larger breasts, there are plenty of great online retailers that offer attractive bras that will give you the support you need. Keep in mind that if you are above a DD cup, sizing will vary among different companies. Check the sizing on the website to make sure you choose the right bra.\r\n",
        "   5  That is, if you're breaking up with a partner or letting go of a toxic friend, it's best to get your own feelings out of the way first. Take time to write a healing letter and list all your complaints and hurt feelings. Use this letter to vent everything, and then you can move on to writing a letter for your friend or partner. The first letter tends to be emotionally charged. You may want to blame the other person for everything or hurl insults. But getting it out of the way is good because then you can move on to a calmer, more rational letter. Spend at least part of the letter talking about what you like about the person and your relationship together. In most relationships, there are good times as well as bad, and no matter why you're saying goodbye, you can still end on a good note by taking time to think about what was good. You could write about good memories, like how you met or when you fell in love. Even though you're saying goodbye to the person, you can still note what you liked about the person in the past. You don't need to trash the person to move on, and if you really feel the need to, then maybe that's a letter you should keep to yourself instead. For example, you could say, \"I love your kind spirit, your willingness to go on adventures, and your compassion for everyone you met. You made me want to be a better person, and for that, I will always be grateful.\" If you're breaking up, you both likely played some part in how ended. Don't hold back. Apologize for any part you played in what happened, and if you can, offer forgiveness to the other person. That way, you don't part with bad blood between you. For example, you might write, \"I'm sorry for how things have ended between us, and I apologize for my part in that. I don't hold any grudges against you, and I hope you won't hold any against me.\" If this person was special to you, you can make note of that at the end. Discuss how you'll still think about the person in the future, for instance, and how you'll remember the good times fondly, despite the fact that you need to go your separate ways. For instance, you might say, \"I'm sorry that we have to go our separate ways, but I think we just don't work together anymore. No matter what, you will always hold a special place in my heart.\"\r\n",
        "   6  Hold the diaper firmly as you move it around and place it properly. Lay the dry diaper temporarily on the child’s waist so that you can obtain the new pins or get ready to fix the new diaper up again. The amount of diaper you flare back out at the bottom will depend on the child’s weight and width of their waistline. Only flare out and work with one side of the child's diaper at a time. You can repeat this for the other side later. Grab any two pins that aren't in use yet and secure the diaper, reversing the pin's removal from the preparatory steps above. Insert the pin into the diaper and close the pin. Do not push each pin through all the layers of the inner diaper, so you don't risk sticking yourself and your baby. Be sure to insert the end of the pins  away  from the child’s navel/belly button. Snap the diaper pins closed from both sides. Diaper pins are created with an open section in the pin-head. Push the pin around and into the head of the pin’s opening, and push inwards so the pin-head is covering this end of the pin.\r\n",
        "   7  Rub a dry bar of soap over your nail holes, back and forth. Stop once the holes look filled in. Run a dry cloth or rag over the surface of the holes to wipe excess soap pieces away.  Avoid using a wet or damp rag, which can melt or dissolve the soap. Opt for a white soap if you have white walls. You can use this method for either drywall or plaster walls.\r\n",
        "   8  Measure the width at the bottom of the shower opening. Transfer that measurement to the bottom shower door track and mark with your marking pen. If the track fits to size, move forward with installation. If it's too long, you'll need to cut it to the appropriate length. Using a hacksaw, carefully cut the rail at the mark you made. Be sure the rail is held firmly as you cut to avoid damage to the rail or the saw. Use a file to remove the burrs from all metal pieces you cut. Before you go attaching the tracks on forever, you need to place them temporarily and mark where they need to go. Place the bottom track along the base of the shower opening with the higher lip of the track facing outward. Make sure the track sits flat along the surface. There should be about 1⁄8 inch (0.3 cm) of play at each end.  Temporarily tack the bottom track into place with masking tape, then mark the position with your marking pen along the inner and outer edges. Do not remove the bottom track yet. The wall tracks should be pre-cut to size from the factory. Slide the wall tracks into position with the bottom track. Make sure the wall tracks fit the bottom track exactly. Use your level to check for plumb. Holding each track firmly, use your marking pen to mark the mounting hole locations on each wall then set the wall tracks aside. With a nail or a center punch, tap a small dimple into the marks you made for the holes in the wall tracks to use as a pilot hole. This prevents your drill bit from “skating” and damaging the surface. Drill your mounting holes using the proper bit for the surface of your shower. If you are drilling into tile, put a small piece of masking tape over each spot to be drilled. This will help prevent chipping. Also, drill deep enough so the plastic screw anchors will fit properly. Anchors won't be needed on fiberglass. Run a bead of caulk, about the thickness of a bead of toothpaste, along the bottom mounting surface. Center the bead between the two lines you marked when you measured and run it the full length of the gap as well. Then, firmly set the bottom track into place over the bead of caulk.  Make sure the underside of the track makes contact with the caulking. If not, run a separate bead along the center of the underside of the track. Hold the track in place for a minute or two, taping it down to hold it in place if necessary. It should be try in five minutes at the most, then you can move forward knowing that it's secure. Line them up with the mounting holes and make sure they fit properly over the ends of the bottom track. If you've measured correctly and marked correctly, they should snap right into place. If your kit included them, place the rubber bumpers that come with most door kits over the screws and secure the tracks to the wall by using your screwdriver to turn the screws into place. Do not completely tighten the screws at this point, hand tight is sufficient. Swinging doors will need to be installed differently, according to the kit that you've purchased, so it's important to read the instructions that come with it and follow the directions accordingly. The door needs to be installed so it pivots outward, but for some kits that'll be on the left side and for some that'll be on the right side, and the mechanism works differently, depending. With some, the door will just snap into place, while screws will be used for other kits. In most swinging door kits, a strip of rubber will be slid into the wall track opposite the pivot point, held with screws in some cases. If you had to cut the threshold track, you'll likely also have to cut the top track, since it'll be roughly the same length. Make sure the track fits snugly, connecting between the two wall tracks, and is properly aligned between them. It should just snap right on top. Many door kits will have corner brackets that are attached with screws to hold the top rail securely. Defer to the instructions of your specific kit, if necessary. Finally, run a bead of bathtub caulk along all the points at which the tracks come in contact with the walls. Do this to both inside and outside surfaces to create a neat, watertight seal. Let the caulk dry thoroughly and wait at least 24 hours before running water in the shower to test your work. It should be dry in a few minutes, but it's a good idea to wait and let things settle before you try it out.\r\n",
        "   9  Pick a paint that is suitable for metal, such as an enamel paint, an acrylic- or oil-based product, or another hard-drying paint. Most paints that are suitable for metal will be spray paints, but some may come in liquid (roll-on) form. Avoid latex paints for brass, as these don’t adhere as well to metal and aren't as durable. They may be usable if you have selected a high quality primer. The best primer for brass is a self-etching primer, also known as a bonding primer. This is a mixture of acid and zinc, and it will adhere better to the brass than any other type of paint or primer. Shake the primer well and hold it six to eight inches (15 to 20 cm) from the surface of the metal. Spray in a sweeping motion, going from side to side, and apply a thin, even coat of primer onto the surface.  Let the primer dry for about 24 hours, or according to the manufacturer’s instructions. Wear all proper safety equipment when using spray paint, including gloves, safety glasses, and a mask. Even after scrubbing with steel wool, brass still doesn’t have a great surface for painting, which is why self-etching primer is important. Once the primer has had time to dry, apply the paint in the same way. Shake the can, use a sweeping side to side motion, and hold the can six to eight inches (15 to 20 cm) from the surface to apply a thin, even coat.  Let each coat dry completely according to the manufacturer’s instructions (usually an hour or two) before applying a second or third coat.  Depending on the effect you're trying to achieve, you may need anywhere between two and five coats of paint. If your paint came in a liquid form, use a brush or roller to apply thin, even coats. Once the paint has had time to fully dry—usually about 24 hours—you can apply a clear top coat to finish the piece. This will help seal the piece, protect the paint, and make the finish shiny. Look for clear coats or enamel coats that are safe for metal.  Shake the can and hold it six to eight inches (15 to 20 cm) from the surface. Spray the coat in a back and forth motion to apply an even coat on the metal. Set the piece aside to dry according to the manufacturer’s instructions. These coats tend to dry quickly, sometimes in as little as 30 minutes.\r\n",
        "  10  As soon as you realize that you've accidentally come into contact with poison ivy, wash your skin very thoroughly. Use lots of warm, soapy water. If you can, wash within the first 30 minutes of touching the poison ivy. If you're still outdoors, find a stream or creek. Place the affected area in the running water for at least 10 minutes.  You should also wash underneath your fingernails. If you're washing up at home, wash all of your clothes and shoes or boots as well. A poison ivy rash can easily spread by simply scratching or touching. If you've come into contact with poison ivy or have a rash, do not touch anywhere around your eyes, mouth, or genitals. All parts of a poison ivy plant (even dead plants) contain an oily allergen called urushiol. This causes a rash or blisters if it comes into contact with your skin or you breathe it in. If you do get a rash around your eyes, mouth or genitals, you should see your doctor immediately. If you have blisters from the poison ivy, never break them open since this increases your risk of infection and scarring. Instead, soak your blisters in a bath with a solution of Burow's solution. You can buy a product containing this solution of aluminum sulfate and aluminum acetate at a drugstore or pharmacy. Soak the blisters for 20 minutes at least two or three times a day. Soaking in Burow's solution acts as an astringent which can reduce the size of the blisters and help dry them out. Fill a sock or nylon knee-high with steel-cut oatmeal. Tie the filled sock onto the tap of your bathtub. Run a cool bath so that the water runs through the oatmeal and into the tub. Soak in the oatmeal bath as long and as often as you like.  Studies have shown that oatmeal is great for soothing your rash and relieving itchiness. The less you scratch your rash, the sooner it will dry up.  You can also purchase an oatmeal bath product that you simply mix into your tub. Soak a clean cotton towel in cold water and squeeze out the extra water. Place the cold cloth over the rash for as long as it stays cool. When it warms up, simply run the cloth under cold water and wring it out again. You can do this as often as you like.  To make an astringent compress that dries out the rash, brew a pot of tea. Soak a clean towel in the cooled tea and apply it to your rash. When your body temperature is higher, your rash may seem itchier. Applying a cool compress can make the rash less itchy and soothe your skin.\r\n",
        "  11  Keep your hair natural and whimsical. Messy bohemian styles best capture the fairy look.  If you have long hair, wear it down or in braids. For those who prefer shorter hair, consider a pixie cut or a messy bob. Fairy-like details include piece-y (not perfectly even) bangs and tousled hair. Adorn your hair with ribbons and flowers. Antique pins and barrettes also make for a nice fairy look. Even out your complexion with a light-weight tinted moisturizer. If you are especially fair, apply a rosy blush to your cheeks. Apply a shimmering powder to your cheekbones. Use a highlighter pencil under your brow bone. Fairy beauty is fresh, glowy and wide-eyed.  Wear lip-gloss or a sheer lipstick. Look for products with shimmer. Avoid matte lipsticks, as these are too heavy.  Good color choices include pink, red and wine. Widen your eyes with mascara and light eye-shadow. Choose a good mascara and use only one coat to avoid heavy, spidery lashes. Look for light, shimmering shadows. Mocha, silver and moss-green are some good color options. Fairy fashion is feminine and ethereal, old-fashioned and romantic.  Wear long skirts and flowy dresses. Look for gossamer fabrics and filigree detailing. Err on the side of demure. In summer, you can show your arms, shoulders and perhaps some décolleté, but avoid hems that are too high (think thigh-high) and plunging necklines. For your winter wardrobe, check out the winter fashions of 19th-century Russia. The long coats, muffs and round hats capture the romantic fairy look. Accessorize with headbands and jewelry. Again, antique designs, beads, ribbons and flowers create a romantic and whimsical fairy look. Fairies are often barefoot, but this is not practical. Flat shoes, sandals and Mary Janes are excellent choices. Low-heeled shoes are acceptable, but exceedingly high, stiletto heels are not compatible with the free and easy fairy look.\r\n",
        "  12  For your parents to come over, you must be a permanent resident in the U.K. That means that you need to have citizenship, permanent leave to remain, permanent residency, refugee status, or humanitarian protection. Basically, if you are legally staying in the UK on a semi-permanent basis, you can likely bring your parents over. The main way you can bring over your parents is if they need assistance with daily care tasks, including household tasks, personal hygiene tasks, and/or medical tasks. Your parents must need this care because of illness, disability, or age.  Also, they must not be able to get this care where they are living right now, which includes not having any relatives there who can provide that support. Exceptions may be made if care is not affordable. Both parents must apply at the same time if they are both still alive and still married. In other words, if one parent could depend on the other for care, the UK government won't allow just the one parent who needs care to apply. Both parents must need care. In other words, you'll need to show you have sufficient income to provide continuing support for your relatives. You must not use public funds to provide this support.  Generally, you must prove you can at least meet the threshold of making 18,600 pounds per year, which is the amount where you are not dependent on the state for things like a housing credit or tax credits.  It can help to have money saved. If you need to, try creating a budget to help you put some money back.\r\n",
        "  13  Use caution when performing the pouring and cutting required in filling party balloons. Adults should supervise or perform parts of this process for children.  Use scissors carefully when cutting balloons. You can also avoid spills of the filling by laying down newspaper or another covering over your work area. Take care if you have a latex allergy, in which case you should opt for balloons made of Mylar or another material instead of the common latex. Adults should handle balloons for infants and toddlers, as balloons and balloon pieces are a choking hazard.\r\n",
        "  14  The percentage of alcohol and substance abuse is at its highest during college years. While a legal drink or two might be okay, know when you need to stop. Never take any substance and drive. No matter what situation you are in -- be it a party or walking around campus -- be alert to your surroundings. Watch for suspicious individuals or actions.  When walking around campus, always take well-walked routes and avoid walking around alone at night. Check out your campus safety's website. Often, campuses have emergency phones (they are often blue) scattered around campus for use. Almost half of college students reported feelings of depression or anxiety while in college. Check out your college campus resources for mental health.  Often, campuses offer free or cheap mental health care. Talk to a trusted person (advisor, professor, resident advisor) if you are feeling down. They can help point you to helpful resources.\r\n",
        "  15  If the server has done all in his or her power to serve the papers directly to the respondent and has been unable to do so, your server can hand those papers over to a party that can legally accept them on the respondent's behalf. A competent adult, age 18 or older, who lives at home with the respondent can usually accept the papers. Similarly, an adult who appears to be in charge at the respondent's workplace or an adult who seems to be in charge where the person receives mail can usually accept the papers, as well. When passing the court papers to a substitute, your server must leave that substitute with specific instructions regarding what the papers are and what needs to be done with them.  Make sure that the substitute knows that he or she is receiving court papers for a specific individual. The respondent must be named, and the substitute must be told to deliver the papers to the respondent. Get the substitute's name when you leave the papers. If the substitute refuses to provide a name, write down a thorough physical description of the substitute. When you serve papers by substitution, you must also mail another copy of all court papers by first-class mail. Address the package to the respondent.  You need to send the papers to the same address the server left the papers at. Afterward, the server must fill out the \"Proof of Service\" form as usual. In addition to this form, a \"Proof of Mailing (Substituted Service)\" form must also be filled out by the server.  Get both forms from the server after he or she fills them out. File them both together at the courthouse on or before your court date. Provide a postal receipt with your forms indicating that you sent a second copy of the papers through the mail.\r\n",
        "\r\n",
        "\r\n",
        "~~~"
      ]
    },
    {
      "cell_type": "markdown",
      "metadata": {
        "id": "gl6LzgMK4bRt"
      },
      "source": [
        "#### French"
      ]
    },
    {
      "cell_type": "markdown",
      "metadata": {
        "id": "YHcsM-dzp9H-"
      },
      "source": [
        "~~~\r\n",
        "  Id  Summary after                                                                                                  Summary before\r\n",
        "----  -------------------------------------------------------------------------------------------------------------  ---------------------------------------------------------------------------------------------------\r\n",
        "   0  Sachez que le harcèlement n'a pas de rapport avec vous. Sachez que vous ne                                     Le harcèlement est une des causes principales de la dépression chez les adolescents. Cependant, il\r\n",
        "   1  Apprenez à développer les compétences de base nécessaires au sport. Apprenez à jouer avec la balle             Apprendre à maîtriser la balle avant de la lancer et la retourner est indispensable pour devenir un\r\n",
        "   2  Créez un groupe d'amis. Jouez avec vous. Jouez avec vous.                                                      Alors que vous êtes en train de baiser, un groupe d'amis est en préparation\r\n",
        "   3  Essayez de faire rire quelqu'un. Essayez de faire rire quelqu'un. Essayez                                      Tester son sérieux en conversation. C'est le genre de méthode qui marche pour\r\n",
        "   4  Submergez le crâne dans un grand container rempli d'eau. Enr                                                   Les animaux dont le crâne est utilisé en préservation sont des carnivores. Ils possèdent une\r\n",
        "   5  Mixez les ingrédients. Ajoutez le sel et le poivre. Ajoutez le petit-lait                                      C'est parti pour un tour de magie. Avec cette recette, vous allez faire\r\n",
        "   6  Trouvez une clé de sol. Trouvez une clé de sol. Trouvez une clé de sol                                         Les notes se notent en fonction de la position du morceau, selon le système de notation\r\n",
        "   7  Parlez d'un ami commun. Parlez de vos expériences. Parlez de vos expériences.                                  Apprendre à parler de vous, de votre famille, de vos amis... C'est\r\n",
        "   8  Créez un disque. Choisissez le type de média que vous voulez créer. Choisissez le type                         Vous n'avez pas besoin de tous les 4 disques durs vierges et vous pouvez utiliser\r\n",
        "   9  Donnez beaucoup d'attention aux miaulements de votre chat. Donnez-lui de                                       Les miaulements de votre félin peuvent être variés. Ils expriment souvent un besoin\r\n",
        "  10  Évitez de voir la méduse sur le rivage. Évitez de toucher la méd                                               Les sauveteurs en mer sont formés pour venir au secours des baigneurs dans des situations\r\n",
        "  11  Choisissez un moment précis pour lire. Faites des pauses.                                                      Vous n'avez pas besoin de toujours lire au même endroit et vous pouvez le faire\r\n",
        "  12  Utilisez une présentation informelle. Utilisez des mots simples. Utilisez des exemples. Utilisez des exemples  Pour renforcer votre CV et votre crédibilité, optez pour une présentation informelle. Rédigez une\r\n",
        "  13  Faites des recherches. Faites de la publicité. Faites de la publicité. Faites de la                            Pour pouvoir réaliser un documentaire, il est conseillé de solliciter l'aide d'un\r\n",
        "  14  Apprenez à vous connaitre. Apprenez à vous connaitre. Apprenez à vous connaitre. Apprenez à                    Vous avez toujours voulu être un homme de caractère, mais vous avez toujours voulu être un\r\n",
        "  15  Mélangez le lait et la vanille. Ajoutez le mélange. Ajoutez le pouding à la                                    Vous pouvez remplacer l'extrait de vanille par de l'extrait d'amandes pour\r\n",
        "\r\n",
        "Target summaries:\r\n",
        "\r\n",
        "  Id  Target summary\r\n",
        "----  ------------------------------------------------------------------------------------------------------------------------------------------------------------------------------------------------------------------------------------------------------------------------------------------------------------------------------------------------------------------------------------------------------------------------------------------------------------------------------------------------------------------------------------------------------------------------------------------------------------------------------------------------\r\n",
        "   0  Comprenez pourquoi le harcèlement se produit. Restez maitre de la situation. Signalez la situation à un adulte de confiance. Changez de point de vue. Obtenez le soutien dont vous avez besoin. Soyez actif.\r\n",
        "   1  Développez les compétences de base. Apprenez les responsabilités liées à votre position. Entraînez-vous beaucoup. Restez en bonne santé. Hydratez-vous bien pendant les entraînements. Écoutez votre entraîneur. Communiquez sur le terrain. Continuez malgré la douleur.\r\n",
        "   2  Réunissez en groupe vos amis. Asseyez-vous en formant un cercle. Faites tourner la bouteille ! Embrassez la personne pointée par la bouteille. Passez au joueur suivant et faites tourner encore. Amusez-vous !\r\n",
        "   3  Posez des questions. Répétez ce que vous allez dire. Pensez à des situations similaires.\r\n",
        "   4  Faites-le tremper dans de l'eau oxygénée. Replacez les dents dans leurs alvéoles. Utilisez du coton sur les dents de carnivores. Séchez le crâne. Préservez avec du polyuréthane.\r\n",
        "   5  Mixez les épices. Assaisonnez la farine. Mélangez l'œuf et le petit-lait.\r\n",
        "   6  Regardez une portée. Apprenez les notes des lignes. Apprenez les notes des interlignes. Dépassez la portée. Lisez l'armure. Déterminez la mesure. Distinguez chaque mesure. Apprenez les figures de notes.\r\n",
        "   7  Mentionnez un ami commun. Parlez d'une expérience partagée. Posez une question intéressante. Mentionnez un centre d'intérêt commun. Posez une question personnelle.\r\n",
        "   8  Utilisez l'outil fourni par le fabricant de votre ordinateur. Téléchargez un fichier ISO de Windows 7. Copiez le contenu du DVD d'installation sur votre disque dur. Téléchargez le Kit d'Installation Automatisée Windows. Téléchargez et installez NTLite. Cliquez sur le bouton Ajouter. Doublecliquez sur la version de Windows 7. Sélectionnez Drivers dans le menu. Téléchargez tous les pilotes « manquants ». Cliquez sur le bouton Ajouter. Sélectionnez Post-installation. Automatisez l'installation (facultatif). Cliquez sur Appliquer. Cochez la case Créer l'ISO. Cliquez sur Processus. Faites un clic droit sur le fichier ISO.\r\n",
        "   9  Identifiez ses miaulements. Interprétez les miaulements. Observez le langage corporel du chat.\r\n",
        "  10  Ne touchez pas aux méduses qui ont échoué sur le rivage. Nagez à proximité d'un sauveteur . Éloignez une méduse. Sortez immédiatement de l'eau si vous voyez ou soupçonnez la présence d'une méduse.\r\n",
        "  11  Fixez-vous une période de lecture. Emportez votre livre avec vous. Lisez tous les jours. Prenez des notes. Ne remettez pas au lendemain. Faites-vous aider. Trouvez-vous un pote de lecture. Appréciez vos lectures !\r\n",
        "  12  Choisissez le ton de la conversation. Présentez-vous. Apportez une dimension personnelle. Soyez bref.\r\n",
        "  13  Recrutez une équipe si nécessaire. Pensez aux affinités. Apprenez les techniques de base de réalisation. Équipez-vous. Planifiez, organisez et exposez les grandes lignes de votre tournage.\r\n",
        "  14  Écrivez votre histoire. Analysez votre histoire. Décidez de ce que signifie votre analyse. N'oubliez pas que cela prend du temps.\r\n",
        "  15  Mélangez le pouding, le lait et la vanille.\r\n",
        "\r\n",
        "Source documents:\r\n",
        "\r\n",
        "  Id  Document\r\n",
        "----  -----------------------------------------------------------------------------------------------------------------------------------------------------------------------------------------------------------------------------------------------------------------------------------------------------------------------------------------------------------------------------------------------------------------------------------------------------------------------------------------------------------------------------------------------------------------------------------------------------------------------------------------------------------------------------------------------------------------------------------------------------------------------------------------------------------------------------------------------------------------------------------------------------------------------------------------------------------------------------------------------------------------------------------------------------------------------------------------------------------------------------------------------------------------------------------------------------------------------------------------------------------------------------------------------------------------------------------------------------------------------------------------------------------------------------------------------------------------------------------------------------------------------------------------------------------------------------------------------------------------------------------------------------------------------------------------------------------------------------------------------------------------------------------------------------------------------------------------------------------------------------------------------------------------------------------------------------------------------------------------------------------------------------------------------------------------------------------------------------------------------------------------------------------------------------------------------------------------------------------------------------------------------------------------------------------------------------------------------------------------------------------------------------------------------------------------------------------------------------------------------------------------------------------------------------------------------------------------------------------------------------------------------------------------------------------------------------------------------------------------------------------------------------------------------------------------------------------------------------------------------------------------------------------------------------------------------------------------------------------------------------------------------------------------------------------------------------------------------------------------------------------------------------------------------------------------------------------------------------------------------------------------------------------------------------------------------------------------------------------------------------------------------------------------------------------------------------------------------------------------------------------------------------------------------------------------------------------------------------------------------------------------------------------------------------------------------------------------------------------------------------------------------------------------------------------------------------------------------------------------------------------------------------------------------------------------------------------------------------------------------------------------------------------------------------------------------------------------------------------------------------------------------------------------------------------------------------------------------------------------------------------------------------------------------------------------------------------------------------------------------------------------------------------------------------------------------------------------------------------------------------------------------------------------------------------------------------------------------------------------------------------------------------------------------------------------------------------------------------------------------------------------------------------------------------------------------------------------------------------------------------------------------------------------------------------------------------------------------------------------------------------------------------------------------------------------------------------------------------------------------------------------------------------------------------------------------------------------------------------------------------------------------------------------------------------------------------------------------------------------------------------------------------------------------------------------------------------------------------------------------------------------------------------------------------------------------------------------------------------------------------------------------------------------------------------------------------------------------------------------------------------------------------------------------------------------------------------------------------------------------------------------------------------------------------------------------------------------------------------------------------------------------------------------------------------------------------------------------------------------------------------------------------------------------------------------------------------------------------------------------------------------------------------------------------------------------------------------------------------------------------------------------------------------------------------------------------------------------------------------------------------------------------------------------------------------------------------------------------------------------------------------------------------------------------------------------------------------------------------------------------------------------------------------------------------------------------------------------------------------------------------------------------------------------------------------------------------------------------------------------------------------------------------------------------------------------------------------------------------------------------------------------------------------------------------------------------------------------------------------------------------------------------------------------------------------------------------------------------------------------------------------------------------------------------------------------------------------------------------------------------------------------------------------------------------------------------------------------------------------------------------------------------------------------------------------------------------------------------------------\r\n",
        "   0  Les adolescents qui harcèlent les autres le font en général parce qu'ils ont des problèmes dans leur propre vie. Malheureusement, ils ont des difficultés à gérer leurs propres problèmes, c'est pourquoi ils projettent leur tristesse sur vous. Cependant, il est important de savoir que le harcèlement n'a pas de rapport avec vous. Vous avez de belles qualités, quoi que cette personne puisse vous dire. Elle vous harcèle probablement à cause d'une des raisons suivantes  :   le désir de se sentir puissant la jalousie le besoin de prouver aux autres qu'elle est forte le besoin de se sentir fort la recherche d'un exutoire à sa douleur intérieure une réponse au harcèlement qu'elle subit elle-même La chose la plus simple est de vous éloigner de la personne qui vous harcèle. Vous pouvez aussi rester où vous êtes et l'ignorer. Autrement, vous pouvez prendre votre défense en lui disant calmement que vous n'êtes pas intéressé par ce qu'il dit. La chose la plus importante à ce moment-là est de garder votre sang-froid. Vous ne voulez pas avoir une réaction trop émotionnelle et prendre le risque d'y répondre de manière agressive.  En répondant à la personne qui vous harcèle avec humour, vous deviendrez souvent une cible moins intéressante. Les réponses amusantes font souvent perdre leur intérêt aux personnes qui harcèlent les autres, ce qui signifie qu'il ne viendra plus vous embêter. Assurez-vous de rester en sécurité. Ce n'est pas parce que vous répondez sans être agressif que vous devez vous mettre dans une situation où vous n'êtes pas en sécurité. S'il vous blesse physiquement, vous pouvez vous protéger pour vous échapper d'une situation où vous prenez un risque pour votre sécurité . Si cette personne n'est pas confrontée à ses actes, elle va devenir de plus en plus agressive envers vous. Il est très important d'en parler à un adulte de confiance pour éviter que la situation dégénère .  Soyez implacable pour que cette personne arrête de vous harceler. Signalez chaque incident jusqu'à ce qu'il s'arrête. N'ayez jamais honte de demander de l'aide. Vous n'êtes probablement pas la seule personne que cet individu harcèle, mais vous pouvez aider à mettre fin à son comportement. La plupart du temps, les adultes peuvent trouver des solutions au problème sans dire à cette personne que vous les avez informés de son comportement. Certaines solutions pourraient impliquer que vous changiez de classe ou que vous changiez de place en classe. La personne qui vous harcèle pourrait aussi recevoir des punitions. Si vous êtes le témoin du harcèlement de quelqu'un d'autre, vous devez aussi le signaler. Personne ne mérite de se faire harceler. Souvenez-vous que la personne qui vous harcèle est simplement quelqu'un de malheureux qui essaye de vous faire tomber aussi bas qu'elle . Lorsque vous pensez à partir de son point de vue, le harcèlement perd un peu de son pouvoir. Souvenez-vous que vous ne devez pas le laisser contrôler vos émotions.  Dressez une liste de toutes les choses positives chez vous. Vous pouvez y inclure toutes les bonnes choses qui se passent dans votre vie. Chaque fois que vous avez le cafard, vous pouvez relire votre liste. Essayez de ne pas faire empirer la situation en ressassant l'incident et en le repassant en permanence dans votre tête. À la place, concentrez-vous sur les choses positives qui se sont produites pendant votre journée. Assurez-vous de discuter de vos expériences. Même si vous ne voulez pas ressasser le harcèlement toute la journée, il est important de trouver une occasion d'exprimer ce que vous ressentez. Vous pouvez discuter avec un parent, un membre de votre famille, un professeur, un conseiller, un prêtre ou un ami. Vous allez probablement vous sentir mieux en en discutant .  Donnez-vous le temps de guérir. Le harcèlement est une expérience plutôt traumatisante. Il va être utile d'en parler, mais il va vous falloir un peu de temps avant de pouvoir vous sentir de nouveau normal. Vous pouvez demander de l'aide à un professionnel si vous remarquez que vous avez du mal à gérer vos sentiments de colère, vos blessures ou toute autre émotion négatifs. Le bénévolat est une excellente façon de faire disparaitre un sentiment d'impuissance qui pourrait apparaitre lorsque vous êtes la victime de harcèlements . Vous pourriez aider d'autres adolescents ou des enfants plus jeunes qui ont été victimes de harcèlement ou vous pourriez participer à une campagne contre le harcèlement dans votre école. Ce que vous choisissez n'a pas d'importance, cependant il est important de retrouver un sens de contrôle en devenant plus actif.\r\n",
        "   1  Si vous voulez être un bon joueur dans votre équipe, vous devez tout d'abord travailler à devenir un bon sportif en général, en passant du temps à développer les compétences de base nécessaires au sport que vous pratiquez. Si vous voulez devenir un bon joueur de basketball, vous devez passer du temps à dribbler, à développer vos compétences en matière de défense et de passes efficaces. Si vous voulez devenir un bon joueur de football, vous devez apprendre à contrôler le ballon, à tirer correctement et à vous déplacer sur le terrain.  Il est très amusant de sortir et d'aller jouer au sport qui vous plaît, mais il est important de vous entraîner. Au lieu de simplement jouer avec la balle, entraînez-vous à dribbler ou répétez des mouvements de défense que votre entraîneur vous a appris. Vous aurez plus de chances de vous démarquer des autres et de devenir un bon joueur si vous travaillez les compétences moins amusantes nécessaires à votre sport. Le sport en équipe présuppose que chacun tient une position particulière. À la différence du tennis ou du golf, vous devez remplir une fonction lorsque vous jouez en équipe. Tous les joueurs lors d'une partie de football ne marquent pas des buts, tous les joueurs de basketball ne mettent pas des paniers. Un bon joueur connaît les responsabilités liées à sa position et a appris à remplir son rôle le mieux possible.  Apprenez la position que vous devez tenir sur le terrain et quelles actions vous devez faire. Si vous jouez en défense, apprenez à choisir un adversaire et à le marquer. Si vous êtes en possession du ballon, apprenez les meilleures façons de faire suivre l'action. Lorsque vous apprenez à jouer à un sport au début, il est normal de vouloir occuper une position plus glorieuse, par exemple attaquant ou libéro. Cependant, une bonne équipe est faite de joueurs qui tiennent les positions les mieux adaptées à leurs compétences. Si vous êtes un bon défenseur, ne gaspillez pas votre énergie en étant jaloux des attaquants. Donnez-vous à fond dans votre rôle et entraînez-vous pour améliorer vos compétences. Il est très important de vous entraîner dur et de donner tout ce que vous avez si vous voulez devenir un bon joueur en équipe. Entraînez-vous sans relâche pour améliorer vos compétences et vos connaissances du sport que vous pratiquez, afin de vous préparer, ainsi que votre équipe, au succès.  Arrivez à l'heure lors des entraînements et préparez-vous à travailler. Préparez votre équipement et beaucoup d'eau pour rester hydraté. Échauffez-vous et préparez-vous à l'entraînement. Vous devez comprendre que l'entraînement est très important. Certains sportifs sont très doués, mais ils se comportent comme s'ils préfèreraient être à la maison devant la console de jeu plutôt qu'avec leurs coéquipiers. Vous pouvez être meilleur que cela. Faites de votre mieux pendant l'entraînement. Si vous ne voulez pas trop forcer alors que vous êtes censé lever des haltères, courir des tours de terrain ou faire des exercices, vous allez être plus lent, plus faible et moins doué que vos adversaires. Développez ces qualités lors de vos entraînements. Même si vous êtes un bon sportif, vous ne pouvez pas être un bon joueur si vous passez votre temps à vous remettre de blessures ou à rester assis sur le banc de touche. Vous devez prendre le plus grand soin de votre corps et restez en bonne santé pour faire face à vos adversaires et donner à votre équipe toutes les chances de victoire.  Échauffez-vous avant l'entraînement et reposez-vous après, à chaque fois. Ne courez jamais sur le terrain sans avoir fait des étirements et des échauffements, pour préparer votre corps à l'effort physique. Les bons joueurs doivent aussi prendre quelques minutes pour s'étirer après l'entraînement, pour éviter les crampes et les irritations. Reposez-vous suffisamment entre vos entraînements. Si vous devez retourner à l'entraînement demain, vous ne devez pas vous coucher au petit matin parce que vous avez passé la nuit à jouer à la X-Box ou à chatter en ligne. Dormez suffisamment, au moins 8 heures par nuit et laissez suffisamment de temps à votre corps pour se remettre et pour se reposer avant de le remettre au travail le lendemain. Une étude sur les joueurs de la NFL a démontré qu'environ 98% d'entre eux étaient déshydratés après les entraînements, ce qui peut conduire à des pertes de performances de 25%. Les boissons énergétiques et l'eau sont des éléments importants qui vous aident à rester hydraté et à conserver les électrolytes dans votre corps, ce qui vous donne ensuite suffisamment d'énergie pour être au top de vos performances et pour rester en bonne santé. Avant l'entraînement, buvez environ un demi-litre d'eau et essayez de boire environ 250 ml d'eau toutes les 15 minutes pendant votre entraînement. Buvez lentement pour éviter de déranger votre estomac pendant ces séances d'efforts physiques intenses. Les bons joueurs doivent être faciles à entraîner, ce qui signifie que vous devez savoir recevoir les critiques et appliquer les nouvelles techniques qui vous sont données pour pouvoir vous améliorer sur le terrain. Le travail des entraîneurs n'est pas de dire aux joueurs qu'ils font du bon travail et que tout le monde deviendra joueurs professionnels. Les entraîneurs sont là pour faire de vous un meilleur athlète et pour vous amener vers la victoire. Parfois, cela signifie que vous devrez entendre des suggestions ou des critiques.  Les mauvais joueurs se referment et sont frustrés lorsqu'ils reçoivent des critiques, alors que les bons joueurs vont écouter et en tirer des leçons. Si votre entraîneur vous rappelle à l'ordre parce que vous ne descendez pas assez pendant que vous faites des pompes, cela peut vous mettre de mauvaise humeur ou vous pouvez répondre Oui coach ! et transpirer un peu plus. Ne vous disputez jamais avec votre entraîneur, surtout en face des autres joueurs. Si vous n'êtes pas d'accord avec la stratégie ou avec quelque chose que votre entraîneur vous a dit pendant l'entraînement, demandez-lui de le rencontrer en privé et parlez-en avec lui. Les bons joueurs ne remettent jamais en question l'autorité de leur entraîneur en face du reste de l'équipe. Les équipes sportives doivent être organisées et coordonnées pour pouvoir gagner. Les équipes silencieuses perdent et les équipes bavardes augmentent leurs chances de gagner. Vous devez vous entraîner à parler plus que les autres équipes. Il est important de parler avec vos coéquipiers, mais évitez d'insulter vos adversaires. À moins que cela devienne nécessaire pour motiver vos coéquipiers. Faites-le, mais faites-le gentiment. Il n'est pas toujours amusant de s'entraîner et le sport que vous pratiquez peut être vraiment fatigant. Mais les bons joueurs (et les excellents joueurs) apprennent à oublier la douleur pendant leurs entraînements et à la combattre. Lorsque vous êtes fatigué à la fin d'une partie et que le ballon se retrouve entre vous et le but, vous pouvez courir après en tirant la langue ou vous pouvez rassembler vos dernières forces et vous lancer dans un sprint. Les bons joueurs courent très vite Trouvez des façons de rester motivé et alerte pendant la partie afin de conserver toute votre énergie et tout votre enthousiasme tout le long de la partie. Passez de la musique forte qui vous donne envie de courir, mettez-vous dans l'ambiance en regardant un film sportif ou faites des exercices de groupes qui vous plaisent.\r\n",
        "   2  Lorsque le moment est venu de jouer au jeu de la bouteille, la première chose dont vous aurez besoin sera d'autres personnes (à moins que vous vouliez jouer tout seul, ce qui serait une scène assez triste). Pour commencer, créez un groupe d'amis volontaires. Plus nombreux vous êtes, plus vous vous amuserez ! Essayez de constituer un groupe composé de personnes des deux sexes afin qu'il puisse avoir un éventail de plusieurs combinaisons de personnes potentielles qui pourront s'embrasser. Prenez soin de faire savoir à vos amis de quoi il s'agit avant de commencer le jeu. Un baiser est une chose qui est d'habitude réservée à des personnes qui s'aiment réellement, donc le fait d'obliger des personnes qui ne veulent pas s'embrasser à le faire peut être vraiment embarrassant pour chacune des personnes impliquées. N'obligez personne à jouer avec vous contre son gré. Quand tout le monde est prêt (et se porte volontaire) pour jouer, disposez-vous en cercle de manière à ce que chacun ait la face tournée vers l'intérieur du cercle. D'habitude, on le fait sur le sol, cependant rien n'empêche que vous le fassiez également debout ou assis autour d'une table. Peu importe comment vous faites pour disposer votre groupe en cercle, mais il est généralement préférable de choisir un endroit dont la surface est dure, solide, comme un endroit ayant un plancher en bois. Ceci garantit que la bouteille que vous utiliserez pourra bien tourner sans érafler ou endommager le plancher. Quand vous êtes tous prêts à jouer, choisissez une personne pour commencer le jeu. Cette personne saisira une bouteille (ou, en réalité, tout objet similaire pouvant être tournoyé, comme un bic, un verre, une clé, etc.) et la fera tournoyer fortement au milieu du cercle de joueurs. Après que la bouteille ait commencé à tournoyer, personne ne doit la toucher jusqu'à ce qu'elle s'arrête complètement. Si vous hésitez quant au moyen de choisir celui ou celle qui doit faire tourner la bouteille le premier ou la première, vous pourrez choisir de laisser d'abord jouer les joueurs les plus âgés ou les plus jeunes ou bien vous pouvez demander à quelqu'un d'imaginer un nombre par hasard et commencer le jeu par celui qui imaginera par la suite un nombre qui est plus proche de celui de ce dernier. Lorsque la bouteille s'arrête, son cou (le bout ouvert) doit surement pointer une personne faisant partie du cercle. La personne qui a fait tournoyer la bouteille doit embrasser cette dernière !  Si vous n'utilisez pas une bouteille, alors désignez un des bouts de l'objet, qui sera considéré comme le bout qui servira à pointer les personnes. Par exemple, si vous utilisez un bic, vous pouvez décider d'utiliser le bout qui sert à écrire en tant que sa « pointe ». Si vous faites tourner la bouteille et qu'elle s'arrête sur vous, faites-la tournoyer à nouveau. C'est aussi simple que cela ! Après qu'une personne ait fait tourner la bouteille et ait donné un baiser à la personne pointée à la fin par la bouteille, la personne qui est assise à côté de lui ou d'elle dans le cercle fait tournoyer la bouteille et donne un baiser à celui ou celle que la bouteille pointe à la fin de son action. Opérez les tournoiements dans un sens unique, soit dans le sens de déplacement d'une montre ou dans le sens contraire.  Notez que parfois la bouteille s'arrêtera de tourner en pointant l'espace entre deux personnes, dans ce cas, vous devez décider que celui qui a fait tournoyer la bouteille embrasse la personne la plus proche du champ de pointage de la bouteille. Également, la bouteille peut pointer une personne que vous n'avez pas envie d'embrasser en raison de vos préférences sentimentales (par exemple, si vous êtes attiré(e) par des garçons et que le pointage tombe sur une fille). Dans ce cas, vous pouvez choisir d'embrasser la personne du sexe approprié qui est installée le plus proche du champ de pointage de la bouteille. Félicitations ! Vous avez appris comment jouer au jeu de la bouteille. Ce jeu amusant et facile est plus intéressant lorsqu'il se joue dans une attitude joviale de la part de tous les joueurs. Ne laissez pas tourner les choses dans une ambiance trop romantique ou sexuelle, c'est juste un jeu, mais il peut devenir très vite assez embarrassant s'il est trop pris au sérieux. Toutefois, si vous ressentez une étincelle significative avec une personne après le jeu, il n'y a aucune raison qui vous empêcherait de chercher à la connaitre « après » le jeu ! Le jeu de la bouteille est très approprié pour déclencher de nouvelles amitiés que vous n'auriez pas pu avoir en temps normal.\r\n",
        "   3  Si vous essayez de garder votre sérieux pendant que vous discutez avec quelqu'un, engagez-vous encore plus dans la conversation. Vous pouvez y arriver par exemple en posant des questions. C'est une excellente façon de diriger la conversation vers un sujet qui ne vous fait pas rire .  Par exemple, si la personne avec laquelle vous discutez parle de son travail, mais si elle glisse vers un sujet que vous trouvez drôle, vous pouvez essayer de lui poser des questions qui vont la rediriger vers le sujet de son emploi. Vous pourriez dire par exemple : « pourrais-tu m'en dire plus à propos de ton parcours professionnel ? » ou bien « comment t'es-tu lancé dans ce domaine ? » Si vous avez du mal à garder votre sérieux pendant que vous racontez une blague ou que vous jouez à un jeu, entrainez-vous en avance. Répétez la blague autant de fois que nécessaire jusqu'à ce que vous puissiez la raconter en gardant votre sérieux. Vous pouvez aussi vous entrainer à répéter les choses dont vous allez parler pour vous distraire pendant le jeu et garder votre sérieux.  Si vous essayez de penser à autre chose pendant un jeu, discutez d'un sujet qui n'a aucun rapport. Par exemple, si vous jouez au poker, ne discutez pas d'autres parties de poker auxquelles vous avez participé. Parlez plutôt de ce qu'il se passe au travail ou d'un incident qui s'est produit pendant que vous étiez au supermarché. Les gens avec lesquels vous discutez vont se sentir écoutés si vous étayez ce qu'ils disent avec des expériences personnelles similaires. En réfléchissant à votre passé, vous allez oublier le présent et vous allez mieux arriver à contrôler votre visage. Par exemple, si quelqu'un vous raconte une histoire embarrassante qui a l'air de lui faire un peu de mal, vous pouvez aussi partager une histoire embarrassante. Cela va vous empêcher de rire et aider l'autre personne à se sentir mieux dans la conversation.\r\n",
        "   4  Submergez le crâne dans un grand container rempli d'eau. Incluez seulement 300 à 450 ml de peroxyde d'hydrogène à 35 % pour environ 5 l d'eau .  N'utilisez pas d'eau de javel, car cela risque d'endommager les os et les dents. Cela va blanchir le crâne. Les crânes sont naturellement d'une couleur blanche crème à jaunâtre. Laissez le crâne dans l'eau pendant au moins 24 heures. Si vous avez utilisé une méthode à base d'eau pour nettoyer le crâne, les dents vont tomber des mâchoires de la bête. Gardez les dents et remettez-les en place à l'aide d'une petite quantité de colle forte . La plupart des animaux dont le crâne est utilisé en préservation sont des carnivores. Ils possèdent donc une paire de canines. Ces canines ont tendance à être beaucoup plus petites que les alvéoles auxquelles elles sont fixées. Utilisez des boules de coton trempées dans de la colle. Enroulez la dent dans un peu de coton et insérez le tout dans l'alvéole. Laissez le crâne 24 heures à l'extérieur pour le sécher au soleil et laisser la colle prendre. Le crâne ne contiendra plus aucune matière organique. Vous n'aurez donc plus à vous inquiéter des animaux ou des insectes. Vaporisez plusieurs couches de polyuréthane sur le crâne. Laissez chaque couche sécher avant d'appliquer la suivante. Cela va laisser une finition lisse et brillante.\r\n",
        "   5  Broyez tous les assaisonnements dans un mixeur jusqu'à ce que les particules fassent toutes la même taille. Les ingrédients à moudre sont le sel de cèleri, le sel à l'ail et le sel nature ainsi que les herbes séchées, le poivre noir et blanc moulu, la moutarde en poudre et le paprika. Mixez-les jusqu'à obtention d'une poudre homogène.  Pour obtenir une saveur plus authentique, ajoutez également une cuillère à café de sel aux herbes par kilogramme de poulet. Si vous ne trouvez pas d'origan ou de thym, essayez de la marjolaine et de la sauge. Versez-la dans un cul-de-poule et ajoutez les épices moulues. Mélangez les ingrédients avec un fouet jusqu'à ce que la poudre soit homogène. Mettez le cul-de-poule de côté pour le moment. Vous allez y mettre les morceaux de viande. Le récipient doit être suffisamment grand pour accommoder au moins un blanc ou une cuisse de poulet. Battez-les ensemble dans un récipient à part. Ne les ajoutez pas à la farine assaisonnée. Cassez l'œuf dans un grand cul-de-poule et ajoutez le petit-lait ou le yaourt. Fouettez les deux ingrédients jusqu'à ce que le mélange soit homogène et qu'il ne reste plus de trace de jaune d'œuf. Assurez-vous que le récipient est suffisamment grand et profond pour que vous puissiez immerger complètement tous les morceaux de poulet.\r\n",
        "   6  Il s'agit de cinq lignes horizontales superposées fermées aux deux extrémités. À gauche, vous trouverez une clé (de sol pour une partition de guitare), deux numéros superposés, par exemple 44{\\displaystyle {\\frac {4}{4}}} et parfois une série de bémols ou de dièses. Toutes ces indications sur la portée donnent les informations relatives au rythme et à la tonalité du morceau.   Un morceau pour guitare peut également se noter sous forme de tablature, système de notation musicale particulier fait pour la guitare. Une tablature ressemble à une portée traditionnelle, mais comprend six lignes au lieu de cinq, aucune clé et souvent le mot « tab » écrit sur la gauche. Les partitions pour guitare se notent toujours en clé de sol, ce qui signifie que le symbole tout à fait à gauche de la portée est une clé de sol (un G ancien très stylisé) formant une boucle autour de la deuxième ligne à partir du bas . Chaque ligne de la portée correspond à une note, comme un mi, un sol, etc. Lorsque vous voyez une figure de note sur la partition, vous devez jouer la note à laquelle sa position correspond, mais pour cela, vous devez savoir de laquelle il s'agit. En allant de bas en haut, les notes qui correspondent aux lignes de la portée sont mi, sol, si, ré et fa. Les espaces entre les lignes de la portée correspondent également à des notes. La portée comprend ainsi neuf notes de base (sans compter celles altérées par des dièses ou des bémols, que nous aborderons plus tard). En allant de bas en haut, les notes qui correspondent aux interlignes sont fa, la, do et mi. En prenant l'ensemble des lignes et des interlignes, la portée entière avec toutes les notes correspond au schéma ci-dessous :   fa mi ré do si la sol fa mi Des traits supplémentaires au-delà de la portée principale permettent d'étendre la gamme de notes que l'on peut écrire. Si vous voyez une figure de note avec un petit trait horizontal au-dessus ou au-dessous de la portée, il s'agit d'une note plus aigüe ou plus grave que celles qui se trouvent sur les lignes et les interlignes de base.  Chacun de ces petits traits permet d'ajouter deux notes, une avec la tête de note à hauteur du trait et une en dessous, mais pour le moment, apprenez simplement les bases. Elle vous permettra de déterminer la tonalité du morceau. L'armure est un ensemble d'altérations qui se trouve entre la clé et le chiffrage de mesure au début de la partition. Elle comprend une série de dièses (♯), de bémols (♭) qui se suivent sur la portée. Pour connaitre les tonalités qui correspondent aux différentes armures, vous devez simplement les mémoriser. Cependant, même si vous ne connaissez pas la tonalité, l'armure peut vous donner des informations très utiles.  En fonction de la ligne ou de l'interligne où se trouve une altération, vous devez ajuster la hauteur de la note correspondante dans toute la partition. Par exemple, s'il y a un dièse à sur la ligne du fa et un dans l'interligne du do, vous devez jouer des fa et des do dièses dans tout le morceau. Cela ajustera automatiquement la tonalité. Elle vous aidera à connaitre la cadence rythmique du morceau. Le chiffrage de mesure qui se trouve au début de la partition indique le nombre de temps par mesure. Le plus commun est 44{\\displaystyle {\\frac {4}{4}}}, ce qui signifie que chaque mesure comprend quatre noires. Autrement dit, vous devez compter « 1, 2, 3, 4, 1, 2, 3, 4, », etc. pour garder le rythme. D'autres chiffrages donnent d'autres nombres de temps par mesure. Par exemple, 34{\\displaystyle {\\frac {3}{4}}} indique que chaque mesure comprend trois noires (« 1, 2, 3, 1, 2, 3, », etc.). Les mesures individuelles dans la partition sont séparées par des barres verticales qui coupent la portée. Il y a souvent des numéros au-dessus de chaque portée pour indiquer les numéros de mesures afin qu'un orchestre puisse s'y retrouver facilement. La position d'une note sur la portée détermine sa hauteur. Sa forme (appelée figure de note) indique sa durée. Dans une mesure à quatre temps dont l'unité de temps est la noire (unité la plus commune), une ronde dure une mesure (quatre temps), une blanche dure la moitié d'une mesure (deux temps), la noire dure un quart de mesure (un temps) et ainsi de suite jusqu'à la triple croche. Les figures de notes les plus communes sont les suivantes.    La ronde : O   La blanche : une forme de ronde avec une hampe verticale (ou une forme de noire avec une tête de note blanche)  La noire : ♩  Les silences : un intervalle où il ne faut pas jouer de note, représenté par une pause (un petit trait horizontal gras placé au centre de la mesure) lorsque le silence vaut la durée d'une ronde ou d'une blanche et par un soupir (un petit trait vertical ondulé) lorsque le silence vaut la durée d'une noire\r\n",
        "   7  Parler d'un ami commun vous aidera à créer un lien personnel avec cette fille, même si vous ne la connaissez pas bien. Elle se sentira plus à l'aise, car vous ne serez plus un parfait inconnu. Avoir un ami commun vous donnera également un sujet de conversation tout désigné.  Essayez de dire quelque chose comme « J'ai entendu dire que tu as une amie de Carine. Comment est-ce que vous vous êtes rencontrées ? » Ou alors « Tu connais Dan ? On se connait depuis des années ! Il est hilarant, n'est-ce pas ? » Parler d'une expérience commune (qu'il s'agisse de faire du bénévolat ou de grandir dans une ferme) vous aidera à créer une connexion personnelle entre vous deux et à établir le début d'un lien.   Si vous réalisez que vous avez tous deux grandi dans une ferme, vous pourriez dire quelque chose comme « Ce n’est pas vrai ! Moi aussi ! Le pire c'était l'été, quand mon père me réveillait à 5 heures du matin pour que je l'aide dans les champs ! C'était comment pour toi ? » Si vous avez tous les deux faits du bénévolat, vous pourriez dire quelque chose comme « J'ai trouvé que c'était une expérience très enrichissante. Qu'est-ce qui t'a poussé à t'impliquer dans ce projet ? » Poser une question inhabituelle et stimulante à la fille permettra de briser la glace et sera l'occasion pour elle de dire ce qu'elle pense. Elle aura ainsi une chance de s'exprimer et vous ferez bonne impression pour avoir posé une question si intéressante. Gagnant-gagnant !  Essayez quelque chose comme « Si tu pouvais être un animal, quel genre d'animal serais-tu ? » Ou quelque chose comme « Quels sont les 5 endroits que tu veux visiter avant de mourir ? » Ou peut-être « Est-ce que tu oserais faire un saut en parachute ? » Découvrir que vous avez un centre d'intérêt est de l'or en matière de conversation. Cela vous aidera à établir un lien avec la fille. Quel que soit ce centre d'intérêt : la lecture, la course à pied, l'aviron, l'escalade, l'important est de partager quelque chose.  Si vous découvrez que vous aimez tous les deux la course à pied, vous pourriez lui demander quels sont ses itinéraires préférés ou si elle a déjà pensé à s'entrainer pour un marathon. Si vous aimez tous les deux la lecture, demandez-lui quel est son auteur préféré ou ce qu'elle a pensé d'une adaptation cinématographique récente d'un roman très connu. Si c'est un centre d'intérêt très original, demandez-lui comment elle est arrivée à s'y intéresser et comparez vos histoires. Si les choses se passent bien et que vous deux semblez bien vous entendre, il est peut-être temps de devenir un petit peu plus personnel. Souvenez-vous que le but est de montrer qu'elle vous intéresse et que voulez la connaitre, pas la mettre mal à l'aise. Ne posez pas de question qui vous mettraient vous-même mal à l'aise.   Restez positif ! Ne lui demandez pas quelle est sa plus grande peur ou son secret le plus lourd, posez-lui des questions sur ses rêves d'avenir, ses projets pour dans dix ans. Restez-en aux questions auxquelles elle veut bien répondre et restez léger. Essayez de lui poser des questions sur sa famille, essayez quelque chose de simple et de non invasif « Tu as des frères et sœurs ? » Si vous voulez savoir si elle est célibataire, demandez-lui simplement « Tu as quelqu'un dans ta vie en ce moment ? »\r\n",
        "   8  Créez un disque en utilisant l'outil fourni par le fabricant de votre ordinateur. Les principaux fabricants d'ordinateurs, comme HP, Dell ou Acer incluent avec Windows des programmes qui permettent de créer des disques de réparation. Si vous avez monté votre propre machine ou si le fabricant n'a pas inclus ce genre d'outils, passez à l'étape suivante pour créer votre propre outil.   HP/Compaq  Prenez 4 DVD-/+R vierges. Vous ne pouvez pas utiliser de DVD-RW. Il est possible que vous n'ayez pas besoin de tous les 4 et vous pouvez également utiliser une clé USB ayant au moins 16 Go d'espace libre. Cliquez sur le bouton Démarrer et tapez « recovery manager ». Sélectionnez « Recovery Manager » dans la liste qui s'affiche. Cliquez « Recovery Media Creation » dans le menu de la fenêtre Recovery Manager. Choisissez le type de média que vous voulez créer. Il peut s'agir d'un DVD ou d'une clé USB. Une fois que vous l'aurez choisi, l'outil vous montrera combien de DVD seront nécessaires ou quelle quantité de mémoire vous devrez libérer sur votre clé USB. Suivez les instructions pour créer les disques. Si vous gravez les disques de réparation, une fenêtre s'affichera chaque fois que vous devrez insérer un disque vierge. Pensez à étiqueter les disques que vous créez pour savoir dans quel ordre les utiliser.    Dell  Lancez « Dell DataSafe Local Backup » dans le dossier « Dell Data » dans la section Tous les programmes du menu Démarrer. Cliquez sur « Backup » et sélectionnez « Create Recovery Media ». Sélectionnez le type de média que vous voulez utiliser. Vous pouvez choisir entre des DVD vierges ou une clé USB. Après avoir choisi, une fenêtre vous dira combien de disques seront nécessaires ou quelle quantité de mémoire devra être libérée sur votre clé USB. Si vous utilisez des disques, vous aurez besoin de DVD+/-R et non RW ou DL. Suivez les instructions pour créer vos disques ou votre lecteur USB. Étiquetez chaque disque créé pour savoir dans quel ordre les utiliser.    Acer/Gateway  Cliquez sur « Acer » dans le menu Démarrer et sélectionnez « Acer eRecovery Management ». Cliquez sur « Backup » et sélectionnez « Create Factory Default Disc ». Insérez votre premier DVD+/-R vierge. Vous aurez besoin de 2 disques vierges. Vous ne pouvez pas utiliser de DVD+/-RW ou DL. Suivez les instructions pour créer les disques de réparation. Étiquetez-les pour savoir dans quel ordre les utiliser. Téléchargez un fichier ISO de Windows 7 ou insérez un disque d'installation de Windows 7. Pour créer votre propre disque d'installation avec tous les pilotes dont vous avez besoin pour votre ordinateur, il vous faudra soit un fichier ISO soit un disque d'installation de Windows 7. Vous pouvez télécharger le fichier ISO de Windows 7 ici. Vous aurez besoin de votre clé de produit pour lancer le téléchargement. Rendez-vous dans la première étape pour plus d'informations. Copiez le contenu du DVD d'installation ou du fichier ISO sur votre disque dur. Vous pouvez créer un nouveau dossier sur votre bureau et glisser-déposer tous les fichiers du disque ou de l'ISO à l'intérieur. Pour ouvrir un fichier ISO, vous aurez besoin de 7-Zip (7-zip.org) ou de WinRAR (rarlab.com) qui sont tous les 2 gratuits. Une fois installé, faites un clic droit sur le fichier ISO et sélectionnez Extraire . Téléchargez et installez le Kit d'Installation Automatisée Windows. Ce programme est nécessaire pour créer votre propre disque d'installation de Windows. Vous pouvez le télécharger gratuitement ici. Le fichier fait environ 1,7 Go et son téléchargement peut prendre un certain temps. Ce programme a été conçu par la communauté d'utilisateurs de Windows pour créer plus facilement un disque d'installation. Vous pouvez le télécharger gratuitement sur nliteos.com et garder tous les paramètres d'installation par défaut . Cliquez sur le bouton Ajouter dans NTLite et sélectionnez le dossier dans lequel vous avez copié les fichiers de Windows. Votre version de Windows 7 est visible dans l'onglet Source. Doublecliquez sur la version de Windows 7 dans l'onglet Source. Convertissez le fichier en image si on vous le demande. Cette opération prend un certain temps. NTLite vous permet d'intégrer des pilotes dans votre installation pour ne pas avoir à les réinstaller après la réparation. Dans le côté droit de la fenêtre, vous verrez une liste de tous les pilotes qui seront automatiquement intégrés. Voyez lesquels sont marqués « manquants ». Téléchargez tous les pilotes « manquants » de votre ordinateur sur le site web du fabricant. Si vous avez la version prémium, vous pouvez simplement les importer depuis votre ordinateur en cliquant sur Importer. Si vous utilisez la version gratuite, il vous faudra télécharger les fichiers sur le site web du fabricant et les installer manuellement.  Rendez-vous sur la page d'assistance de votre ordinateur et cherchez son numéro de modèle. Si vous avez monté vous-même votre machine, vous devrez consulter la page d'assistance pour chacun des composants. Téléchargez tous les pilotes manquants depuis la section Drivers ou Téléchargements. Les fichiers sont au format INF ou EXE. Placez tous les fichiers téléchargés dans un même dossier. Cliquez sur le bouton Ajouter dans la section Drivers. Sélectionnez Dossier pour plusieurs pilotes puis cliquez sur le dossier qui contient tous les pilotes que vous voulez ajouter à votre installation. Tous les fichiers au format INF seront ajoutés. Sélectionnez Post-installation puis Ajouter pour ajouter tous les pilotes au format EXE. Ils se lanceront automatiquement une fois les paramètres de Windows complétés. Si vous le voulez, vous pouvez utiliser NTLite pour automatiser tout le processus d'installation de Windows. Cela vous permet de lancer l'opération et de laisser l'installation personnalisée faire le reste. Cette option est facultative et si vous ne l'autorisez pas, votre installation de Windows se fera normalement.  Allez dans Unattented et sélectionnez Activer. Sélectionnez chaque élément dans la liste et utilisez la liste déroulante à droite pour sélectionner l'option désirée. Cliquez sur Créer un compte local pour créer automatiquement des comptes. Si vous avez la version prémium de NTLite, vous pouvez l'utiliser pour créer automatiquement de nouvelles partitions sur disque. Cliquez sur Appliquer dans le menu de gauche. Quand vous serez satisfait de tous vos réglages, cette section vous permet de finaliser la création de la nouvelle image de réparation. Il vous sera demandé de saisir le nom du nouveau fichier ISO. L'image disque que vous pourrez graver à la fin du processus sera automatiquement créée. La création du nouveau fichier image comprenant tous les pilotes va commencer. L'opération dure environ 20 minutes. Faites un clic droit sur le fichier ISO et sélectionnez Graver l'image disque. Assurez-vous qu'il y ait un DVD vierge dans votre graveur. Windows va graver le fichier ISO dans le DVD et créer votre disque de réparation personnalisé.\r\n",
        "   9  Pour ce que nous savons de nos jours, les chats peuvent s'exprimer avec 16 types de miaulements. Pour améliorer votre communication, vous devez prêter beaucoup d'attention aux sonorités que votre ami félin produit.  Un miaulement court exprime normalement que vous êtes le (la) bienvenu. Des miaulements répétitifs montrent de l'excitation. Un miaulement ayant un ton moyen est généralement une demande, le plus souvent liée à la nourriture. Un miaulement profond signale surement du mécontentement. Un miaulement aigu peut indiquer de la douleur ou du mécontentement. Un miaulement long mrrrrowww exprime un besoin . Par nature, les chatons commencent à miauler dans la vie pour attirer l'attention de leur mère. Ils font cela en réalisant que vous ne répondez pas à d'autres signaux. Les miaulements expriment souvent un besoin ou un désir, mais ils peuvent également communiquer bien d'autres choses.  La plupart du temps, le miaulement de votre matou est une demande. Il vous dit par exemple qu'il veut de l'eau, de la nourriture, de l'affection ou la possibilité de changer de pièce, d'endroit. Un miaulement peut aussi être un signal de détresse. Les chats vont miauler quand ils sont stressés, quand ils ont trop chaud, quand ils se sentent seuls, quand ils souffrent, ou encore, quand ils sont de mauvaise humeur. En grandissant, ils vont s'exprimer de manière plus fréquente. Parfois, un miaulement peut simplement être le signe qu'il vous souhaite la bienvenue . Les chats communiquent principalement avec le langage corporel. Ils ont un système de communication très élaboré composé de signaux qu'ils expriment grâce à leur jolie queue !  Si votre matou vous regarde dans les yeux tout en faisant un lent et long battement des paupières, il vous montre de l'affection. Vous pouvez comparer cela à un bisou. Si votre ami s'approche de vous avec la queue levée, c'est une forme de vous montrer qu'il est heureux de vous voir et de vous souhaiter la bienvenue. Ceci peut être comparé à une solide poignée de mains . Lorsque le pelage de votre chat est dressé, il exprime un sentiment d'insécurité, de la peur ou encore du mécontentement. Si vous voyez que la queue de votre ami est entre ses jambes et basse, il montre qu'il est anxieux et mal à l'aise. S'il remue la queue, il exprime qu'il n'est pas content du tout. Plus la queue se déplace rapidement, plus votre chat est de mauvaise humeur .\r\n",
        "  10  Une méduse, même morte, reste toxique et son poison peut toujours provoquer une piqure. Certaines espèces ont des tentacules très longs, comme les méduses portugaises dont les membres peuvent être de près de dix mètres de long. Il est donc préférable de rester à l'écart des méduses échouées .  Il existe toutes sortes de méduses et elles peuvent ressembler à des sacs en plastique ou à d'autres débris quand elles sont échouées sur une plage. Il est préférable de ne pas y toucher, si vous ne savez pas au juste s'il s'agit d'une méduse ou non. Prévenez un sauveteur ou un responsable de la plage si vous avez remarqué une méduse sur le rivage, afin que la créature soit enlevée en toute sécurité par une personne qui sait comment la manipuler. Les sauveteurs en mer sont formés pour venir au secours des baigneurs dans des situations diverses, y compris les attaques de méduses. Ils sont aussi en mesure de vous prévenir quand ils ont remarqué la présence de méduses. Vous pouvez perturber et faire déguerpir quelques méduses ou d'autres créatures qui peuvent vous piquer, si vous remuez le courant en marchant dans des eaux peu profondes . Vous pouvez souvent voir la méduse dans l'eau. Elle peut ressembler à un sac en plastique ou à un ballon qui flotte à la surface de l'eau et peut se présenter en grappes . Retournez calmement sur le rivage pour éviter une piqure si vous voyez une méduse dans l'eau.  Prévenez un sauveteur ou un responsable de la plage quand vous avez remarqué une méduse dans l'eau, afin que les autres baigneurs soient prévenus aussi.\r\n",
        "  11  Ce qu'il y a de bien avec la lecture est évidemment de pouvoir le faire quasiment n'importe quand et n'importe où. Mais le fait de choisir un moment précis de la journée pour le faire peut vous aider, si ce que vous lisez ne vous enthousiasme pas vraiment. Mettez en route une sonnerie de réveil ou créez-vous une sonnerie de rappel sur le téléphone pour vous signaler votre temps de lecture et la fin de la période, cherchez votre livre et allez-y.   Prévoyez des périodes de temps assez gérables. Prévoyez de petites pauses pour vous lever et vous étirer environ toutes les vingt minutes si vous lisez d'une traite une heure ou plus. Variez votre menu. Vous n'avez pas besoin de toujours lire au même endroit. Vous pouvez le faire dehors, si le temps s'y prête. Vous pouvez aussi vous rendre dans une bibliothèque ou un café près de chez vous pour changer, si vous en avez assez de lire chez vous. Vous pouvez toujours trouver une occasion de lire. Vous pourriez être coincé dans la salle d'attente du dentiste pendant une demi-heure ou arriver vingt minutes en avance à un cours de natation. Vous pouvez tirer parti de ces périodes d'attente si vous avez emporté votre livre et avancer un peu dans votre lecture.  Les livres électroniques vous facilitent encore la tâche, étant donné que vous pouvez lire votre ouvrage directement sur votre téléphone mobile. Le meilleur moyen d'aller au bout de votre liste de lectures est de lire un peu chaque jour, indépendamment de la nature de votre planning. Cela va non seulement vous aider à avancer dans votre liste, mais cela vous évitera aussi de perdre le fil de ce que vous étiez en train de lire et vous épargner une relecture fastidieuse. Il est probable qu'on vous interrogera sur vos lectures ou qu'on vous demandera de faire un devoir sur table à ce sujet, si vous devez aller au bout d'une liste de lectures. Le fait de prendre des notes vous aidera à vous souvenir de ce que vous avez lu. Vous n'avez sans doute pas besoin de faire des notes détaillées, mais plutôt vous procurer quelques informations de base comme le nom des personnages principaux et leurs caractéristiques, un résumé du sujet de l'histoire pour chaque chapitre . Votre emploi du temps risque d'être rapidement chargé et quasiment impossible à suivre si vous manquez l'un de vos délais. Si vous êtes à la traine, annulez d'autres activités si c'est nécessaire et rattrapez votre retard le plus vite possible. Vous vous en féliciterez à la fin du mois d'aout (ou de septembre, si vous entrez en fac). Ne cherchez pas à deviner le sens de mots que vous ne comprenez pas. Vérifiez-les dans un dictionnaire ! Recherchez autour de vous des personnes qui ont déjà lu ce livre, si vous avez du mal à comprendre l'intrigue de l'histoire ou lisez une analyse de lecture de l'œuvre dans une bibliothèque ou en ligne.  Le fait de lire un résumé ou une analyse de livre peut vous aider, mais cela ne devrait pas remplacer la lecture de cet ouvrage. Rencontrez celui ou celle qui est d'accord pour commenter le livre et comparer ses notes aux vôtres, si la personne lit le même livre que vous. Envisagez de regarder ensemble le film le plus récent qui s'est inspiré de ce livre quand vous avez tous deux fini de le lire, si vous pouvez en trouver un. Vous pouvez ensuite voir ensemble en quoi le film diffère du livre et quelle est votre version préférée. Vous pouvez aussi disserter sur les détails de l'épreuve que vous venez de passer. Il peut être difficile d'être enthousiaste au sujet de l'obligation de lire de façon compulsive, mais vous ne devriez pas oublier que la plupart des livres figurant sur votre liste ont été choisis parce qu'ils sont vraiment bons. Ignorez le fait que vous êtes obligé de lire tous les livres de votre liste et essayez d'apprécier cette expérience. Vous pourriez être agréablement surpris par le côté amusant et intéressant de ce devoir de vacances.\r\n",
        "  12  Il apportera un peu de vie au texte. En ce qui concerne le format, une présentation informelle est semblable à une description professionnelle, la différence majeure étant le niveau de langue. Dans un contexte non formel, faites ressortir votre personnalité à l’aide d’humour, de traits d’esprit et de mots évocateurs . Contrairement à une écriture formelle, vous pouvez employer des contractions, des points d’exclamation et d’autres éléments non formels. Toutefois, assurez-vous que votre grammaire est correcte et évitez d’employer de l’argot et de gros mots. Comme pour une description formelle, expliquez qui vous êtes et donnez des informations clés sur vous-même. S’il y a des consignes, respectez-les. Vérifiez également si vous devez écrire à la première ou à la troisième personne. Si vous pouvez faire ce que vous voulez, choisissez ce qui vous semble le plus naturel. En général, il est préférable d’employer la première personne sur les réseaux sociaux . Vous pouvez écrire quelque chose comme : « Marion Dubois est coach de vie depuis plus de 10 ans. Sa passion est d’aider ses clients à vivre leur vie le mieux possible. Pendant son temps libre, elle aime faire des câlins à ses chats et faire de la randonnée avec son époux, Simon. » Parlez de loisirs, de centres d’intérêt ou d’autres éléments qui permettront aux lecteurs de mieux vous connaitre. Vous pouvez parler de vos animaux de compagnie, de votre famille, d’un talent particulier ou d’une expérience en rapport avec le but de votre présentation . Si vous rédigez une présentation pour un article de cuisine que vous avez écrit, vous pouvez écrire quelque chose comme : « Ma passion pour la cuisine remonte à mon enfance, lorsque ma grand-mère m’apprenait ses vieilles recettes de famille. Je me suis rendu compte que la nourriture était intimement liée à la famille, à l’histoire et à la tradition. » En général, respectez une limite de cent à deux-cents mots. Vous ne rédigez pas une dissertation ou une autobiographie. Tâchez de rester concis(e). Dans la plupart des cas, un paragraphe court composé de trois à cinq phrases et comprenant cent à deux-cents mots en tout est suffisant pour fournir les informations clés . Si vous ne savez pas quelle longueur est appropriée, cherchez des consignes ou des exemples de présentations que d’autres personnes ont écrites pour vous servir de modèles. Par exemple, si vous avez écrit un article qui sera publié dans une revue et que vous devez vous présenter, cherchez des présentations d’autres auteurs.\r\n",
        "  13  Il est tout à fait possible pour une personne de faire des recherches, planifier, filmer et modifier un documentaire seule, surtout si l'étendue du documentaire est relativement resserrée ou intimiste. Cependant, beaucoup de personnes trouveront cette approche trop difficile ou penseront que c'est de l'amateurisme. Pensez à recruter une aide expérimentée pour votre documentaire, surtout si vous vous attaquez à un sujet ambitieux ou si vous voulez que votre film ait l'air abouti et professionnel. Pour obtenir de l'aide, vous pouvez recruter des amis et des connaissances qualifiées qui feront de la publicité pour votre projet en distribuant des prospectus ou en postant des messages en ligne ou bien contacter une agence. Voici quelques types de professionnels qu'il faut penser à recruter :  des caméramans des régisseurs éclairagistes des scénaristes des chercheurs des monteurs des acteurs (pour les séquences écrites) des techniciens audios des consultants techniques Lorsque vous recrutez votre équipe, cherchez des gens qui partagent les mêmes valeurs lorsqu'il s'agit de la problématique de votre documentaire. Pensez aussi à engager une jeune équipe inspirée et au fait du marché et du public que vous visez.  Discutez toujours avec votre cadreur et les autres créatifs qui sont impliqués dans votre documentaire. Cela vous aidera à en faire le fruit d'un effort collectif partageant la même vision. Travailler dans un environnement collaboratif signifie que votre équipe trouvera souvent de nouvelles idées en contribuant au projet sous des angles que vous pourriez avoir négligés. Les réalisateurs de documentaires sérieux doivent au moins comprendre comment leurs films sont produits, mis en scène, tournés et montés, même s'ils ne peuvent pas tout faire eux-mêmes. Si vous n'êtes pas familiarisé avec les procédés techniques qui se cachent derrière la réalisation, vous trouverez surement que cela vaut la peine d'étudier la réalisation avant de tourner votre documentaire. Beaucoup d'universités dispensent des cours de réalisation, mais vous pouvez aussi acquérir de l'expérience pratique en travaillant sur des tournages et en passant devant ou derrière la caméra. Même si la plupart des réalisateurs ont suivi un cursus cinématographique, les connaissances pratiques peuvent supplanter des connaissances filmiques classiques. Par exemple, le comédien Louis C.K qui a réalisé des films et pour la télévision a acquis une expérience de réalisateur très tôt en travaillant au sein d'une chaine publique locale . Essayez d'utiliser le meilleur matériel possible. Empruntez l'équipement que vous ne pouvez pas vous payer et utilisez vos contacts pour avoir accès à du matériel. Vous ne devez pas forcément exactement savoir de quoi votre documentaire aura l'air avant de commencer à le tourner. Vous découvrirez probablement certaines choses qui changeront vos plans et vous offriront de nouvelles pistes d'investigation pendant que vous filmerez. Cependant, vous devriez vraiment avoir un plan avant de commencer le tournage. Avoir un plan vous laissera du temps pour programmer les interviews, gérer les conflits d'emploi du temps, etc. Votre plan doit inclure ce qui suit.   Les personnes que vous voulez interviewer. Prenez contact avec ces personnes le plus tôt possible pour programmer des entretiens. Les évènements particuliers que vous voulez enregistrer. Prévoyez de vous rendre et de revenir de ces évènements, d'acheter des billets si nécessaire et d'obtenir l'autorisation de filmer auprès des organisateurs des évènements. Les textes, images, dessins, musiques ou autres documents que vous voulez utiliser. Obtenez la permission de les utiliser auprès des créateurs avant de les ajouter à votre documentaire. Les reconstitutions que vous voulez filmer. Cherchez les acteurs, les accessoires et les lieux de tournage longtemps à l'avance.\r\n",
        "  14  En écrivant l'histoire de votre vie, vous en apprendrez beaucoup sur qui vous êtes et sur la façon dont vous appréhendez les défis, les joies, les opportunités et les difficultés qui jalonnent votre route. En écrivant votre histoire personnelle, vous aurez un aperçu de ce que vous avez appris au cours des expériences que vous avez traversées et comment ces expériences vous ont affectées. De cette façon, vous pourrez analyser comment vos expériences ont fait de vous celui que vous êtes et comment elles ont défini vos valeurs, votre comportement, vos croyances, vos défauts, vos idées préconçues, vos réactions et la façon dont vous interagissez avec votre environnement. Une fois que vous aurez écrit l'histoire de votre vie, analysez-vous en vous posant certaines questions.  Quels sont les thèmes récurrents de votre histoire ? Êtes-vous toujours celui que l'on sauve ou celui qui sauve les autres ? Votre thème dominant est-il l'impuissance ou au contraire le pouvoir ? Votre histoire est-elle une histoire d'amour, une comédie, un drame ou autre chose ? Si vous deviez donner un titre à votre histoire, quel serait-il ? Divisez votre histoire en chapitres. Pourquoi les chapitres sont-ils définis de la sorte ? Qu'est-ce qui a changé ? Qu'avez-vous appris ? Quels sont les titres de ces chapitres ? Avez-vous utilisé un qualificatif particulier pour vous définir ? L'avez-vous fait pour d'autres personnes ? Que signifient pour vous ces qualificatifs et que disent-ils de votre vision de vous-même, des autres et du reste du monde ? Quels types de mots utilisez-vous pour vous décrire, pour décrire les autres, pour décrire le reste du monde ? Que disent ces mots de votre histoire et de la façon dont vous l'avez vécue ? Une fois que vous aurez écrit votre histoire, vous devez décider de ce que cela signifie. Ce qui est intéressant dans le fait d'écrire votre propre histoire, ce que l'on appelle la thérapie narrative, c'est que cela vous montre que ce que vous pensez est important ou crucial dans votre existence. Cela met en lumière les moments de votre vie qui vous semblent importants ou qui valent la peine d'être notés. Cela montre également la façon dont vous vous percevez et dont vous percevez la trajectoire que votre vie a empruntée. Par exemple, si vous écrivez votre vie comme un drame, c'est peut-être que votre histoire vous semble dramatique et intense. Si vous l'avez écrite comme une comédie, c'est peut-être qu'elle vous parait drôle et gaie. Si vous l'avez écrite comme une histoire d'amour, vous êtes peut-être un incorrigible romantique qui vit peut-être le grand amour ou qui espère le vivre un jour. Même lorsque vous avez suivi toutes ces étapes, vous devez prendre conscience que cela prendra du temps. Il est important de comprendre que si vous vous connaissez déjà mieux ou si vous vous êtes bien analysé, vous devrez continuer à faire cela tout au long de votre vie. Votre personnalité et vos croyances peuvent changer avec le temps.\r\n",
        "  15  Dans un saladier de taille moyenne, versez le mélange pour pouding, puis ajoutez le lait et la vanille. Fouettez les ingrédients jusqu'à ce qu'ils soient bien mélangés et que le mélange commence à épaissir.  Vous pouvez remplacer l'extrait de vanille par de l'extrait d'amandes pour obtenir une saveur plus sophistiquée.  Vous pouvez aussi remplacer le pouding à la vanille par tout autre arôme, comme chocolat, caramel, cheese-cake, etc.\r\n",
        "\r\n",
        "\r\n",
        "~~~"
      ]
    }
  ]
}